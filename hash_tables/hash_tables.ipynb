{
 "cells": [
  {
   "cell_type": "code",
   "execution_count": 1,
   "id": "5acb4fe5",
   "metadata": {
    "slideshow": {
     "slide_type": "skip"
    }
   },
   "outputs": [],
   "source": [
    "import time\n",
    "import pandas as pd\n",
    "import numpy as np\n",
    "import matplotlib.pyplot as plt\n",
    "%matplotlib inline  "
   ]
  },
  {
   "cell_type": "markdown",
   "id": "a41bb501",
   "metadata": {
    "slideshow": {
     "slide_type": "slide"
    }
   },
   "source": [
    "# CMP 3002 \n",
    "## Hash Tables"
   ]
  },
  {
   "cell_type": "markdown",
   "id": "d23f2a16",
   "metadata": {
    "slideshow": {
     "slide_type": "slide"
    }
   },
   "source": [
    "## Review"
   ]
  },
  {
   "cell_type": "markdown",
   "id": "fcda918e",
   "metadata": {
    "slideshow": {
     "slide_type": "subslide"
    }
   },
   "source": [
    "## Binary Search Trees (BST)\n",
    "\n",
    "![](./binary_search_tree.drawio.png)\n",
    "\n",
    "- Special form of a binary tree. \n",
    "- The value of each node must be greater than (or equal to) any values in the left subtree\n",
    "- The value of each node must be less than (or equal to) any values in the right subtree\n"
   ]
  },
  {
   "cell_type": "markdown",
   "id": "978e0e6f",
   "metadata": {
    "slideshow": {
     "slide_type": "subslide"
    }
   },
   "source": [
    "## Search in a BST\n",
    "\n",
    "Binary search tress support the following operations:\n",
    "- search \n",
    "- insertion \n",
    "- deletion\n",
    "\n",
    "Following the main property of BST, for each node we visit while search:\n",
    "\n",
    "- return the node is the target is equal to the value of the node\n",
    "- continue searching in the left subtree if the target value is less than the value of the node\n",
    "- continue searching in the more subtree if the target value is more than the value of the node\n",
    "- return false if there are no children"
   ]
  },
  {
   "cell_type": "code",
   "execution_count": 4,
   "id": "2e21fcbc",
   "metadata": {
    "slideshow": {
     "slide_type": "subslide"
    }
   },
   "outputs": [],
   "source": [
    "class Node:\n",
    "    def __init__(self, val=0, left=None, right=None):\n",
    "        self.val = x\n",
    "        self.left = None\n",
    "        self.right = None\n",
    "\n",
    "def search_BST(root, val):\n",
    "    if root is None or val == root.val:\n",
    "        node = root\n",
    "    elif val < root.val:\n",
    "        node = search_BST(root.left, val)\n",
    "    else:\n",
    "        node = search_BST(root.right, val)\n",
    "    return node        "
   ]
  },
  {
   "cell_type": "markdown",
   "id": "410a53c9",
   "metadata": {
    "slideshow": {
     "slide_type": "subslide"
    }
   },
   "source": [
    "## Insertion in a BST\n",
    "\n",
    "- The goal is to minimize the number of changes.\n",
    "- To do so, we find a leaf position for the target node\n",
    "- Insert it as a leaf\n",
    "\n",
    "**Note:** Insertion starts with a search\n",
    "\n",
    "\n",
    "1. Search the tree until we reach an external node\n",
    "2. Add the node as its left or right child (depending on whether is lower or greater than the leaf's value)\n",
    "\n",
    "**Note:** This way we maintain the property of the BST\n",
    "\n",
    "\n"
   ]
  },
  {
   "cell_type": "code",
   "execution_count": 6,
   "id": "1b082390",
   "metadata": {
    "slideshow": {
     "slide_type": "subslide"
    }
   },
   "outputs": [],
   "source": [
    "def insert_BST(root, val):\n",
    "    if not root:\n",
    "        return Node(val)\n",
    "        \n",
    "    if val > root.val:            \n",
    "        root.right = insert_BST(root.right, val)\n",
    "    else:    \n",
    "        root.left = insert_BST(root.left, val)\n",
    "    return root"
   ]
  },
  {
   "cell_type": "markdown",
   "id": "4800a9ff",
   "metadata": {
    "slideshow": {
     "slide_type": "subslide"
    }
   },
   "source": [
    "## Deletion in a BST\n",
    "\n",
    "- Deletion requires search and insertion. \n",
    "- The goal is to replace the target node with a proper child\n",
    "- Three cases to consider:\n",
    "    1. Target node has no child, so we simply remove the node\n",
    "    2. Target node has 1 child. We use the child to replace the target\n",
    "    3. Target node has 2 children, replace the node with its in-order successor or predecessor node\n",
    "\n",
    "\n"
   ]
  },
  {
   "cell_type": "markdown",
   "id": "a14fe056",
   "metadata": {
    "slideshow": {
     "slide_type": "subslide"
    }
   },
   "source": [
    "## Deletion in a BST - Implementation\n",
    "\n",
    "How to get the successor?\n",
    "- Go to the right once, and then as many as possible to the left\n",
    "\n",
    "How to get the predecessor?\n",
    "- Go to the left once, and then as many as possible to the right\n"
   ]
  },
  {
   "cell_type": "code",
   "execution_count": 7,
   "id": "a7d2fbab",
   "metadata": {
    "slideshow": {
     "slide_type": "subslide"
    }
   },
   "outputs": [],
   "source": [
    "def successor(self, root):\n",
    "    root = root.right\n",
    "    while root.left:\n",
    "        root = root.left\n",
    "    return root.val\n",
    "\n",
    "def predecessor(self, root):\n",
    "    root = root.left\n",
    "    while root.right:\n",
    "        root = root.right\n",
    "    return root.val"
   ]
  },
  {
   "cell_type": "code",
   "execution_count": 8,
   "id": "5cbfe317",
   "metadata": {
    "slideshow": {
     "slide_type": "subslide"
    }
   },
   "outputs": [],
   "source": [
    "def delete_BST(root, val):\n",
    "    if not root:\n",
    "        return None\n",
    "\n",
    "    # right subtree\n",
    "    if val > root.val:\n",
    "        root.right = delete_BST(root.right, val)\n",
    "        \n",
    "    # left subtree\n",
    "    elif val < root.val:\n",
    "        root.left = delete_BST(root.left, val)\n",
    "        \n",
    "    # current node\n",
    "    else:\n",
    "        # case 1\n",
    "        if not (root.left or root.right):\n",
    "            root = None\n",
    "        # has a right child (case 2 or 3)\n",
    "        elif root.right:\n",
    "            root.val = successor(root)\n",
    "            root.right = delete_BST(root.right, root.val)\n",
    "        # has no right child and has a left child (case 2)  \n",
    "        else:\n",
    "            root.val = predecessor(root)\n",
    "            root.left = delete_BST(root.left, root.val)\n",
    "\n",
    "    return root"
   ]
  },
  {
   "cell_type": "markdown",
   "id": "70ec9211",
   "metadata": {
    "slideshow": {
     "slide_type": "subslide"
    }
   },
   "source": [
    "## Height-Balanced BST\n",
    "\n",
    "- BST that automatically keeps its height small in the face of arbitrary item insertions and deletions\n",
    "- The height of a balanced BST with N nodes is always $log(N)$\n",
    "- The height of the two subtrees of every node never differs by more than 1"
   ]
  },
  {
   "cell_type": "markdown",
   "id": "48c6bd2c",
   "metadata": {
    "slideshow": {
     "slide_type": "subslide"
    }
   },
   "source": [
    "### Exercise:\n",
    "\n",
    "- Validate that a BST is height balanced"
   ]
  },
  {
   "cell_type": "code",
   "execution_count": 2,
   "id": "6f571abc",
   "metadata": {
    "slideshow": {
     "slide_type": "subslide"
    }
   },
   "outputs": [],
   "source": [
    "def height_BST(root):    \n",
    "    if not root:\n",
    "        return -1\n",
    "    return max(height_BST(root.left), height_BST(root.right)) + 1\n",
    "\n",
    "\n",
    "def validate_BST(root):\n",
    "    \n",
    "    if not root:\n",
    "        return True\n",
    "    \n",
    "    return abs(height_BST(root.left) - height_BST(root.right) <= 1) \\\n",
    "            and validate_BST(root.left) and validate_BST(root.right)\n",
    "    "
   ]
  },
  {
   "cell_type": "markdown",
   "id": "542f7898",
   "metadata": {
    "slideshow": {
     "slide_type": "slide"
    }
   },
   "source": [
    "## Hash Table\n",
    "\n",
    "- Data structure that organizes data using hash functions to support fast insertion and search\n",
    "\n",
    "- Two kinds of hash tables:\n",
    "    - hash set\n",
    "    - hash map\n",
    "\n",
    "- Hash set is an implementation to avoid storing repeated values\n",
    "- Hash map allows us to store key-value (k,v) pairs\n",
    "    - Can't have duplicate keys\n"
   ]
  },
  {
   "cell_type": "markdown",
   "id": "2dacec3d",
   "metadata": {
    "slideshow": {
     "slide_type": "subslide"
    }
   },
   "source": [
    "### Hash tables\n",
    "\n",
    "- Use a hash funciton to map keys to buckets\n",
    "- When we insert a new key, the hash function decides which bucket they key should be assigned \n",
    "- When we search for a key, the hash table will use the same hash function to find the bucket\n",
    "\n",
    "By hashing the indexing, we can do the mapping between the index and the location in memory where we can read the value quickly.\n"
   ]
  },
  {
   "cell_type": "markdown",
   "id": "b3c994d6",
   "metadata": {
    "slideshow": {
     "slide_type": "slide"
    }
   },
   "source": [
    "### Hash functions\n",
    "\n",
    "- Function that can be used to map data of any size to a fixed-size values\n",
    "- A hash function is usually a one-way function (it can't be inverted)\n",
    "- Used to index hash tables \n",
    "- Cryptographic applications\n",
    "\n"
   ]
  },
  {
   "cell_type": "markdown",
   "id": "eac7b9c9",
   "metadata": {
    "slideshow": {
     "slide_type": "subslide"
    }
   },
   "source": [
    "### Hash functions\n",
    "\n",
    "- The hash function is the most important componen of a hash tacle\n",
    "- Example: $F(x) = x % 5$\n",
    "- We need to pick a function with a wide range to avoid collisions \n",
    "- The function should assign the key to the bucket in a uniform manner\n",
    "- Ideally a one-one mapping between the key and the bucket\n",
    "- Hash functions are usually not perfect and there is a tradeoff between the number of buckets and the capacity of a bucket\n"
   ]
  },
  {
   "cell_type": "markdown",
   "id": "1178b35d",
   "metadata": {
    "slideshow": {
     "slide_type": "subslide"
    }
   },
   "source": [
    "### Hash functions - collisions\n",
    "\n",
    "- Collisions are inevitable\n",
    "- We need an algorithm to solve the following questions:\n",
    "\n",
    "    - how do we organize values in the same bucket?\n",
    "    - what happens if the bucket has too many keys assigned?\n",
    "    - how do we search a target value in a bucket?"
   ]
  },
  {
   "cell_type": "markdown",
   "id": "7d1dacda",
   "metadata": {
    "slideshow": {
     "slide_type": "subslide"
    }
   },
   "source": [
    "## Complexity Analysis\n",
    "\n",
    "Assuming $N$ keys in total:\n",
    "\n",
    "- Space complexity is $O(N)$\n",
    "- Search $O(1)$, depends on the design of the table. In the worst case this can be $O(N)$\n"
   ]
  },
  {
   "cell_type": "markdown",
   "id": "a5cfcde2",
   "metadata": {
    "slideshow": {
     "slide_type": "slide"
    }
   },
   "source": [
    "### Exercise 1\n",
    "\n",
    "Design a HashSet without using any built-in hash table libraries.\n",
    "\n",
    "Implement HashSet class:\n",
    "\n",
    "- void add(key) Inserts the value key into the HashSet.\n",
    "- bool contains(key) Returns whether the value key exists in the HashSet or not.\n",
    "- void remove(key) Removes the value key in the HashSet. If key does not exist in the HashSet, do nothing.\n",
    " "
   ]
  },
  {
   "cell_type": "markdown",
   "id": "fdf1527c",
   "metadata": {
    "slideshow": {
     "slide_type": "slide"
    }
   },
   "source": [
    "### Exercise 2\n",
    "\n",
    "Design a HashMap without using any built-in hash table libraries.\n",
    "\n",
    "Implement the HashMap class:\n",
    "\n",
    "- HashMap() initializes the object with an empty map.\n",
    "- void put(int key, int value) inserts a (key, value) pair into the HashMap. If the key already exists in the map, update the corresponding value.\n",
    "- int get(int key) returns the value to which the specified key is mapped, or -1 if this map contains no mapping for the key.\n",
    "- void remove(key) removes the key and its corresponding value if the map contains the mapping for the key."
   ]
  },
  {
   "cell_type": "code",
   "execution_count": null,
   "id": "555d0314",
   "metadata": {},
   "outputs": [],
   "source": [
    "\n"
   ]
  }
 ],
 "metadata": {
  "celltoolbar": "Slideshow",
  "kernelspec": {
   "display_name": "Python 3",
   "language": "python",
   "name": "python3"
  },
  "language_info": {
   "codemirror_mode": {
    "name": "ipython",
    "version": 3
   },
   "file_extension": ".py",
   "mimetype": "text/x-python",
   "name": "python",
   "nbconvert_exporter": "python",
   "pygments_lexer": "ipython3",
   "version": "3.8.8"
  }
 },
 "nbformat": 4,
 "nbformat_minor": 5
}
