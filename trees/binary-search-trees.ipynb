{
 "cells": [
  {
   "cell_type": "code",
   "execution_count": 1,
   "id": "5acb4fe5",
   "metadata": {
    "slideshow": {
     "slide_type": "skip"
    }
   },
   "outputs": [],
   "source": [
    "import time\n",
    "import pandas as pd\n",
    "import numpy as np\n",
    "import matplotlib.pyplot as plt\n",
    "%matplotlib inline  "
   ]
  },
  {
   "cell_type": "markdown",
   "id": "a41bb501",
   "metadata": {
    "slideshow": {
     "slide_type": "slide"
    }
   },
   "source": [
    "# CMP 3002 \n",
    "## Binary Search Trees (BST)"
   ]
  },
  {
   "cell_type": "markdown",
   "id": "d23f2a16",
   "metadata": {
    "slideshow": {
     "slide_type": "slide"
    }
   },
   "source": [
    "## Review"
   ]
  },
  {
   "cell_type": "markdown",
   "id": "10644076",
   "metadata": {
    "slideshow": {
     "slide_type": "subslide"
    }
   },
   "source": [
    "## Tree Traversal\n",
    "\n",
    "- Pre-order\n",
    "- In-order\n",
    "- Post-order\n"
   ]
  },
  {
   "cell_type": "markdown",
   "id": "94d41844",
   "metadata": {
    "slideshow": {
     "slide_type": "subslide"
    }
   },
   "source": [
    "### Pre-order Traversal\n",
    "\n",
    "- Visit the root first\n",
    "- Then traverse the left subtree\n",
    "- Finally, traverse the right subtree\n",
    "\n",
    "![](./binary_tree.png)\n",
    "\n",
    "Result:\n",
    "\n",
    "[A, B, C, D, E, F, G, H, I]"
   ]
  },
  {
   "cell_type": "markdown",
   "id": "076fd693",
   "metadata": {
    "slideshow": {
     "slide_type": "subslide"
    }
   },
   "source": [
    "### In-order Traversal\n",
    "\n",
    "- Traverse the left subtree first\n",
    "- Then visit the root\n",
    "- Finally, traverse the right subtree\n",
    "\n",
    "![](./binary_tree.png)\n",
    "\n",
    "Result:\n",
    "\n",
    "[C, B, D, A, F, E, H, G, I]\n",
    "\n",
    "\n",
    "\n"
   ]
  },
  {
   "cell_type": "markdown",
   "id": "a5144831",
   "metadata": {
    "slideshow": {
     "slide_type": "subslide"
    }
   },
   "source": [
    "### Post-order Traversal\n",
    "\n",
    "- Traverse the left subtree first\n",
    "- Then traverse the right subtree\n",
    "- Finally, visit the root\n",
    "\n",
    "![](./binary_tree.png)\n",
    "\n",
    "Result:\n",
    "\n",
    "[C, D, B, F, H, I, G, E, A]\n",
    "\n",
    "\n",
    "\n"
   ]
  },
  {
   "cell_type": "markdown",
   "id": "80041dc7",
   "metadata": {
    "slideshow": {
     "slide_type": "subslide"
    }
   },
   "source": [
    "## Trees and recursion\n",
    "\n",
    "- Recursion is a property of trees\n",
    "- A tree can be recursevely defined as node that has a value and references to its children\n",
    "- A children can be the head of a subtree itself"
   ]
  },
  {
   "cell_type": "markdown",
   "id": "e0309dfc",
   "metadata": {
    "slideshow": {
     "slide_type": "subslide"
    }
   },
   "source": [
    "### Top-down approach\n",
    "\n",
    "- Visit the node first\n",
    "- Execute some operations and obtains values\n",
    "- Pass these values to its children in the recursive call\n",
    "- Similar to preorder traversal\n"
   ]
  },
  {
   "cell_type": "markdown",
   "id": "5cb5155c",
   "metadata": {
    "slideshow": {
     "slide_type": "subslide"
    }
   },
   "source": [
    "### Bottom-down approach\n",
    "\n",
    "- Visit the node first\n",
    "- Call the recursive function\n",
    "- Calculate the answer based on the returned values from the recursions"
   ]
  },
  {
   "cell_type": "markdown",
   "id": "c2149fe1",
   "metadata": {
    "slideshow": {
     "slide_type": "subslide"
    }
   },
   "source": [
    "## Git branches and pull requests\n",
    "\n",
    "https://guides.github.com/introduction/flow/\n"
   ]
  },
  {
   "cell_type": "markdown",
   "id": "bf7375f6",
   "metadata": {
    "slideshow": {
     "slide_type": "subslide"
    }
   },
   "source": [
    "### Commands\n",
    "\n",
    "```\n",
    "# Clone repo\n",
    "git clone repo\n",
    "\n",
    "# Create and checkout a branch for a new feature\n",
    "git checkout -b some-feature\n",
    "\n",
    "# Edit some code\n",
    "# Commit the changes\n",
    "git commit -a -m \"Add first draft of some feature\"\n",
    "\n",
    "\n",
    "# Push code to server\n",
    "git push origin some-branch\n",
    "\n",
    "# Create a pull requests in github.com\n",
    "```"
   ]
  },
  {
   "cell_type": "markdown",
   "id": "31b1d2e7",
   "metadata": {
    "slideshow": {
     "slide_type": "slide"
    }
   },
   "source": [
    "## Binary Search Trees (BST)"
   ]
  },
  {
   "cell_type": "markdown",
   "id": "8957df18",
   "metadata": {
    "slideshow": {
     "slide_type": "subslide"
    }
   },
   "source": [
    "## Binary Search Trees (BST)\n",
    "\n",
    "![](./binary_search_tree.drawio.png)\n",
    "\n",
    "- Special form of a binary tree. \n",
    "- The value of each node must be greater than (or equal to) any values in the left subtree\n",
    "- The value of each node must be less than (or equal to) any values in the right subtree\n"
   ]
  },
  {
   "cell_type": "markdown",
   "id": "fe612f5a",
   "metadata": {
    "slideshow": {
     "slide_type": "subslide"
    }
   },
   "source": [
    "### Validation of a BST\n",
    "\n",
    "How do we use the properties of a BST to valida that a binary tree is a BST or not?\n",
    "\n",
    "- Recursion\n",
    "- Note that inorder traversal in BST would result in ascending order\n"
   ]
  },
  {
   "cell_type": "markdown",
   "id": "9a46ea43",
   "metadata": {
    "slideshow": {
     "slide_type": "slide"
    }
   },
   "source": [
    "### Exercises:\n",
    "\n",
    "**Instructions:**\n",
    "\n",
    "- Groups of 3 people\n",
    "- Use a single repo to work on the HW\n",
    "- Each person gets an exercise and creates a branch to work on it\n",
    "- Once done, create a pull request to merge the solution\n",
    "- The other students should provide feedback as a code review"
   ]
  },
  {
   "cell_type": "markdown",
   "id": "a6d7b289",
   "metadata": {
    "slideshow": {
     "slide_type": "subslide"
    }
   },
   "source": [
    "### Exercises\n",
    "\n",
    "1. Write a program that validates that a tree is a BST"
   ]
  },
  {
   "cell_type": "markdown",
   "id": "053a6f8d",
   "metadata": {
    "slideshow": {
     "slide_type": "subslide"
    }
   },
   "source": [
    "### Exercises\n",
    "\n",
    "2. Given two arrays that represent the `preorder` and `inorder` traversal of a binary tree, construct the tree and return the root. \n",
    "\n",
    "Example:\n",
    "\n",
    "```\n",
    "preorder = ['a', 'b', 'c', 'd', 'e', 'f', 'g', 'h', 'i']\n",
    "inorder = ['c', 'b', 'd', 'a', 'f', 'e', 'h', 'g', 'i']\n",
    "```\n"
   ]
  },
  {
   "cell_type": "markdown",
   "id": "a53a8537",
   "metadata": {
    "slideshow": {
     "slide_type": "subslide"
    }
   },
   "source": [
    "### Exercises\n",
    "\n",
    "3. Given the root of a tree and two nodes of the same tree, return the least common ancestor (LCA) of these two nodes.\n",
    "\n",
    "Example:\n",
    "\n",
    "```\n",
    "nodes = f,g\n",
    "return e\n",
    "```\n",
    "\n",
    "![](./binary_tree.png)"
   ]
  }
 ],
 "metadata": {
  "celltoolbar": "Slideshow",
  "kernelspec": {
   "display_name": "Python 3",
   "language": "python",
   "name": "python3"
  },
  "language_info": {
   "codemirror_mode": {
    "name": "ipython",
    "version": 3
   },
   "file_extension": ".py",
   "mimetype": "text/x-python",
   "name": "python",
   "nbconvert_exporter": "python",
   "pygments_lexer": "ipython3",
   "version": "3.8.8"
  }
 },
 "nbformat": 4,
 "nbformat_minor": 5
}
