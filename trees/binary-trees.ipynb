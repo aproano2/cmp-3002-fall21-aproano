{
 "cells": [
  {
   "cell_type": "code",
   "execution_count": 1,
   "id": "5acb4fe5",
   "metadata": {
    "slideshow": {
     "slide_type": "skip"
    }
   },
   "outputs": [],
   "source": [
    "import time\n",
    "import pandas as pd\n",
    "import numpy as np\n",
    "import matplotlib.pyplot as plt\n",
    "%matplotlib inline  "
   ]
  },
  {
   "cell_type": "markdown",
   "id": "a41bb501",
   "metadata": {
    "slideshow": {
     "slide_type": "slide"
    }
   },
   "source": [
    "# CMP 3002 \n",
    "## Binary Trees"
   ]
  },
  {
   "cell_type": "markdown",
   "id": "d23f2a16",
   "metadata": {
    "slideshow": {
     "slide_type": "slide"
    }
   },
   "source": [
    "## Review"
   ]
  },
  {
   "cell_type": "markdown",
   "id": "2910416f",
   "metadata": {
    "slideshow": {
     "slide_type": "subslide"
    }
   },
   "source": [
    "## Trees \n",
    "\n",
    "- A tree is an abstract model of a hierarchical structure\n",
    "- Consists of nodes with a parent-child relation\n",
    "- Applications:\n",
    "    - Organization charts\n",
    "    - File systems\n",
    "    - Programming environments\n",
    "    \n",
    "![](./execution_tree.png)"
   ]
  },
  {
   "cell_type": "markdown",
   "id": "4e56b4fa",
   "metadata": {
    "slideshow": {
     "slide_type": "subslide"
    }
   },
   "source": [
    "## Binary Tree\n",
    "\n",
    "- One of the most typical tree structures\n",
    "- Each node has at most two children\n",
    "\n",
    "![](./binary_tree.png)"
   ]
  },
  {
   "cell_type": "code",
   "execution_count": 2,
   "id": "a1eb4dc0",
   "metadata": {
    "slideshow": {
     "slide_type": "subslide"
    }
   },
   "outputs": [],
   "source": [
    "class TreeNode:\n",
    "    def __init__(self, val=0, left=None, right=None):\n",
    "        self.val = val\n",
    "        self.left = left\n",
    "        self.right = right"
   ]
  },
  {
   "cell_type": "markdown",
   "id": "10644076",
   "metadata": {
    "slideshow": {
     "slide_type": "subslide"
    }
   },
   "source": [
    "## Tree Traversal\n",
    "\n",
    "- Pre-order\n",
    "- In-order\n",
    "- Post-order\n"
   ]
  },
  {
   "cell_type": "markdown",
   "id": "94d41844",
   "metadata": {
    "slideshow": {
     "slide_type": "subslide"
    }
   },
   "source": [
    "### Pre-order Traversal\n",
    "\n",
    "- Visit the root first\n",
    "- Then traverse the left subtree\n",
    "- Finally, traverse the right subtree\n",
    "\n",
    "![](./binary_tree.png)\n",
    "\n",
    "Result:\n",
    "\n",
    "[A, B, C, D, E, F, G, H, I]"
   ]
  },
  {
   "cell_type": "code",
   "execution_count": 3,
   "id": "0827a941",
   "metadata": {
    "slideshow": {
     "slide_type": "subslide"
    }
   },
   "outputs": [],
   "source": [
    "c = TreeNode('c')\n",
    "d = TreeNode('d')\n",
    "b = TreeNode('b', left=c, right=d)\n",
    "\n",
    "h = TreeNode('h')\n",
    "i = TreeNode('i')\n",
    "g = TreeNode('g', left=h, right=i)\n",
    "\n",
    "f = TreeNode('f')\n",
    "e = TreeNode('e', left=f, right=g)\n",
    "\n",
    "a = TreeNode('a', left=b, right=e)"
   ]
  },
  {
   "cell_type": "code",
   "execution_count": 4,
   "id": "50f8ce0f",
   "metadata": {
    "slideshow": {
     "slide_type": "subslide"
    }
   },
   "outputs": [],
   "source": [
    "# Implementation using stacks\n",
    "def preorderTraversal(root):\n",
    "\n",
    "    if root is None:\n",
    "        return []\n",
    "    stack = [root]\n",
    "    out = []\n",
    "\n",
    "    while stack:\n",
    "        node = stack.pop()\n",
    "        if node:\n",
    "            out.append(node.val)\n",
    "            for child in [node.right, node.left]:\n",
    "                if child:\n",
    "                    stack.append(child)\n",
    "    return out"
   ]
  },
  {
   "cell_type": "code",
   "execution_count": 5,
   "id": "e62237d9",
   "metadata": {
    "slideshow": {
     "slide_type": "subslide"
    }
   },
   "outputs": [
    {
     "data": {
      "text/plain": [
       "['a', 'b', 'c', 'd', 'e', 'f', 'g', 'h', 'i']"
      ]
     },
     "execution_count": 5,
     "metadata": {},
     "output_type": "execute_result"
    }
   ],
   "source": [
    "preorderTraversal(a)"
   ]
  },
  {
   "cell_type": "code",
   "execution_count": 6,
   "id": "959912ef",
   "metadata": {
    "slideshow": {
     "slide_type": "subslide"
    }
   },
   "outputs": [],
   "source": [
    "# Implementation using recursion\n",
    "def preorderTraversalrec(root):\n",
    "\n",
    "    if root is None:\n",
    "        return []\n",
    "    \n",
    "    out = [root.val]\n",
    "    out += preorderTraversalrec(root.left)\n",
    "    out += preorderTraversalrec(root.right)\n",
    "\n",
    "    return out"
   ]
  },
  {
   "cell_type": "code",
   "execution_count": 7,
   "id": "b2784bd3",
   "metadata": {
    "slideshow": {
     "slide_type": "subslide"
    }
   },
   "outputs": [
    {
     "data": {
      "text/plain": [
       "['a', 'b', 'c', 'd', 'e', 'f', 'g', 'h', 'i']"
      ]
     },
     "execution_count": 7,
     "metadata": {},
     "output_type": "execute_result"
    }
   ],
   "source": [
    "preorderTraversalrec(a)"
   ]
  },
  {
   "cell_type": "markdown",
   "id": "076fd693",
   "metadata": {
    "slideshow": {
     "slide_type": "slide"
    }
   },
   "source": [
    "### In-order Traversal\n",
    "\n",
    "- Traverse the left subtree first\n",
    "- Then visit the root\n",
    "- Finally, traverse the right subtree\n",
    "\n",
    "![](./binary_tree.png)\n",
    "\n",
    "Result:\n",
    "\n",
    "[C, B, D, A, F, E, H, G, I]\n",
    "\n",
    "\n",
    "\n"
   ]
  },
  {
   "cell_type": "code",
   "execution_count": 8,
   "id": "0e45d396",
   "metadata": {
    "slideshow": {
     "slide_type": "subslide"
    }
   },
   "outputs": [],
   "source": [
    "# Implementation using recursion\n",
    "def inorderTraversalrec(root):\n",
    "\n",
    "    if root is None:\n",
    "        return []\n",
    "    \n",
    "    out = inorderTraversalrec(root.left)\n",
    "    out += [root.val]\n",
    "    out += inorderTraversalrec(root.right)\n",
    "\n",
    "    return out"
   ]
  },
  {
   "cell_type": "code",
   "execution_count": 9,
   "id": "6b24e306",
   "metadata": {
    "slideshow": {
     "slide_type": "subslide"
    }
   },
   "outputs": [
    {
     "data": {
      "text/plain": [
       "['c', 'b', 'd', 'a', 'f', 'e', 'h', 'g', 'i']"
      ]
     },
     "execution_count": 9,
     "metadata": {},
     "output_type": "execute_result"
    }
   ],
   "source": [
    "inorderTraversalrec(a)"
   ]
  },
  {
   "cell_type": "code",
   "execution_count": 10,
   "id": "3de9913e",
   "metadata": {
    "slideshow": {
     "slide_type": "subslide"
    }
   },
   "outputs": [],
   "source": [
    "# Implementation using stacks\n",
    "def inorderTraversal(root):\n",
    "\n",
    "    if root is None:\n",
    "        return []\n",
    "    \n",
    "    node = root\n",
    "    stack = []\n",
    "    out = []\n",
    "\n",
    "    while node or stack:\n",
    "        while node:\n",
    "            stack.append(node)\n",
    "            node = node.left            \n",
    "        node = stack.pop()\n",
    "        out.append(node.val)\n",
    "        node = node.right          \n",
    "    return out"
   ]
  },
  {
   "cell_type": "code",
   "execution_count": 11,
   "id": "20e511fc",
   "metadata": {
    "slideshow": {
     "slide_type": "subslide"
    }
   },
   "outputs": [
    {
     "data": {
      "text/plain": [
       "['c', 'b', 'd', 'a', 'f', 'e', 'h', 'g', 'i']"
      ]
     },
     "execution_count": 11,
     "metadata": {},
     "output_type": "execute_result"
    }
   ],
   "source": [
    "inorderTraversal(a)"
   ]
  },
  {
   "cell_type": "markdown",
   "id": "a5144831",
   "metadata": {
    "slideshow": {
     "slide_type": "slide"
    }
   },
   "source": [
    "### Post-order Traversal\n",
    "\n",
    "- Traverse the left subtree first\n",
    "- Then traverse the right subtree\n",
    "- Finally, visit the root\n",
    "\n",
    "![](./binary_tree.png)\n",
    "\n",
    "Result:\n",
    "\n",
    "[C, D, B, F, H, I, G, E, A]\n",
    "\n",
    "\n",
    "\n"
   ]
  },
  {
   "cell_type": "code",
   "execution_count": 12,
   "id": "2b6e2343",
   "metadata": {
    "slideshow": {
     "slide_type": "subslide"
    }
   },
   "outputs": [],
   "source": [
    "# Implementation using recursion\n",
    "def postorderTraversalrec(root):\n",
    "\n",
    "    if root is None:\n",
    "        return []\n",
    "    \n",
    "    out = postorderTraversalrec(root.left)\n",
    "    out += postorderTraversalrec(root.right)\n",
    "    out += [root.val]\n",
    "\n",
    "    return out"
   ]
  },
  {
   "cell_type": "code",
   "execution_count": 13,
   "id": "4b84759a",
   "metadata": {
    "slideshow": {
     "slide_type": "subslide"
    }
   },
   "outputs": [
    {
     "data": {
      "text/plain": [
       "['c', 'd', 'b', 'f', 'h', 'i', 'g', 'e', 'a']"
      ]
     },
     "execution_count": 13,
     "metadata": {},
     "output_type": "execute_result"
    }
   ],
   "source": [
    "postorderTraversalrec(a)"
   ]
  },
  {
   "cell_type": "code",
   "execution_count": 14,
   "id": "08fa7d6c",
   "metadata": {
    "slideshow": {
     "slide_type": "subslide"
    }
   },
   "outputs": [],
   "source": [
    "# Implementation using stacks\n",
    "def postorderTraversal(root):\n",
    "\n",
    "    if root is None:\n",
    "        return []\n",
    "\n",
    "    stack = []\n",
    "    node = root \n",
    "    out = []\n",
    "\n",
    "    while True:            \n",
    "        while node:\n",
    "            if node.right:\n",
    "                stack.append(node.right)\n",
    "            stack.append(node)\n",
    "            node = node.left\n",
    "\n",
    "        node = stack.pop()\n",
    "\n",
    "        if node.right and stack and node.right == stack[-1]:\n",
    "            r = stack.pop()\n",
    "            stack.append(node)\n",
    "            node = r\n",
    "        else:\n",
    "            out.append(node.val)\n",
    "            node = None\n",
    "\n",
    "        if not stack:\n",
    "            break\n",
    "    return out"
   ]
  },
  {
   "cell_type": "code",
   "execution_count": 15,
   "id": "53059f29",
   "metadata": {
    "slideshow": {
     "slide_type": "subslide"
    }
   },
   "outputs": [
    {
     "data": {
      "text/plain": [
       "['c', 'd', 'b', 'f', 'h', 'i', 'g', 'e', 'a']"
      ]
     },
     "execution_count": 15,
     "metadata": {},
     "output_type": "execute_result"
    }
   ],
   "source": [
    "postorderTraversal(a)"
   ]
  },
  {
   "cell_type": "markdown",
   "id": "80041dc7",
   "metadata": {
    "slideshow": {
     "slide_type": "slide"
    }
   },
   "source": [
    "## Trees and recursion\n",
    "\n",
    "- Recursion is a property of trees\n",
    "- A tree can be recursevely defined as node that has a value and references to its children\n",
    "- A children can be the head of a subtree itself"
   ]
  },
  {
   "cell_type": "markdown",
   "id": "e0309dfc",
   "metadata": {
    "slideshow": {
     "slide_type": "subslide"
    }
   },
   "source": [
    "### Top-down approach\n",
    "\n",
    "- Visit the node first\n",
    "- Execute some operations and obtains values\n",
    "- Pass these values to its children in the recursive call\n",
    "- Similar to preorder traversal\n"
   ]
  },
  {
   "cell_type": "code",
   "execution_count": 20,
   "id": "0f556bbe",
   "metadata": {
    "slideshow": {
     "slide_type": "subslide"
    }
   },
   "outputs": [],
   "source": [
    "def max_depth_rec(root, depth):\n",
    "    global answer\n",
    "    if not root:\n",
    "        return\n",
    "    if (not root.left) and (not root.right):\n",
    "        answer = max(answer, depth)\n",
    "    max_depth_rec(root.left, depth + 1)\n",
    "    max_depth_rec(root.right, depth + 1)\n"
   ]
  },
  {
   "cell_type": "code",
   "execution_count": 22,
   "id": "76243607",
   "metadata": {
    "slideshow": {
     "slide_type": "subslide"
    }
   },
   "outputs": [
    {
     "name": "stdout",
     "output_type": "stream",
     "text": [
      "4\n"
     ]
    }
   ],
   "source": [
    "answer = 0\n",
    "max_depth_rec(a, 1)\n",
    "print(answer)"
   ]
  },
  {
   "cell_type": "markdown",
   "id": "5cb5155c",
   "metadata": {
    "slideshow": {
     "slide_type": "subslide"
    }
   },
   "source": [
    "### Bottom-down approach\n",
    "\n",
    "- Visit the node first\n",
    "- Call the recursive function\n",
    "- Calculate the answer based on the returned values from the recursions"
   ]
  },
  {
   "cell_type": "code",
   "execution_count": 26,
   "id": "69cd9417",
   "metadata": {
    "slideshow": {
     "slide_type": "subslide"
    }
   },
   "outputs": [],
   "source": [
    "def max_depth_rec(root):\n",
    "    if not root:\n",
    "        return 0\n",
    "    depth_left = max_depth_rec(root.left) + 1\n",
    "    depth_right = max_depth_rec(root.right) + 1\n",
    "    \n",
    "    return max(depth_left, depth_right)"
   ]
  },
  {
   "cell_type": "code",
   "execution_count": 27,
   "id": "4705f924",
   "metadata": {
    "slideshow": {
     "slide_type": "subslide"
    }
   },
   "outputs": [
    {
     "data": {
      "text/plain": [
       "4"
      ]
     },
     "execution_count": 27,
     "metadata": {},
     "output_type": "execute_result"
    }
   ],
   "source": [
    "max_depth_rec(a)"
   ]
  },
  {
   "cell_type": "markdown",
   "id": "c2149fe1",
   "metadata": {
    "slideshow": {
     "slide_type": "slide"
    }
   },
   "source": [
    "## Git branches and pull requests\n",
    "\n",
    "https://guides.github.com/introduction/flow/\n"
   ]
  },
  {
   "cell_type": "markdown",
   "id": "bf7375f6",
   "metadata": {
    "slideshow": {
     "slide_type": "subslide"
    }
   },
   "source": [
    "### Commands\n",
    "\n",
    "```\n",
    "# Clone repo\n",
    "git clone repo\n",
    "\n",
    "# Create and checkout a branch for a new feature\n",
    "git checkout -b some-feature\n",
    "\n",
    "# Edit some code\n",
    "# Commit the changes\n",
    "git commit -a -m \"Add first draft of some feature\"\n",
    "\n",
    "\n",
    "# Push code to server\n",
    "git push origin some-branch\n",
    "\n",
    "# Create a pull requests in github.com\n",
    "```"
   ]
  },
  {
   "cell_type": "markdown",
   "id": "053a6f8d",
   "metadata": {
    "slideshow": {
     "slide_type": "slide"
    }
   },
   "source": [
    "### Exercises\n",
    "\n",
    "1. Given two arrays that represent the `preorder` and `inorder` traversal of a binary tree, construct the tree and return the root. \n",
    "\n",
    "Example:\n",
    "\n",
    "```\n",
    "preorder = ['a', 'b', 'c', 'd', 'e', 'f', 'g', 'h', 'i']\n",
    "inorder = ['c', 'b', 'd', 'a', 'f', 'e', 'h', 'g', 'i']\n",
    "```\n"
   ]
  },
  {
   "cell_type": "markdown",
   "id": "a53a8537",
   "metadata": {
    "slideshow": {
     "slide_type": "slide"
    }
   },
   "source": [
    "### Exercises\n",
    "\n",
    "2. Given the root of a tree and two nodes of the same tree, return the least common ancestor (LCA) of these two nodes.\n",
    "\n",
    "Example:\n",
    "\n",
    "```\n",
    "nodes = f,g\n",
    "return e\n",
    "```\n",
    "\n",
    "![](./binary_tree.png)"
   ]
  }
 ],
 "metadata": {
  "celltoolbar": "Slideshow",
  "kernelspec": {
   "display_name": "Python 3",
   "language": "python",
   "name": "python3"
  },
  "language_info": {
   "codemirror_mode": {
    "name": "ipython",
    "version": 3
   },
   "file_extension": ".py",
   "mimetype": "text/x-python",
   "name": "python",
   "nbconvert_exporter": "python",
   "pygments_lexer": "ipython3",
   "version": "3.8.8"
  }
 },
 "nbformat": 4,
 "nbformat_minor": 5
}
