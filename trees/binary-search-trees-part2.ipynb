{
 "cells": [
  {
   "cell_type": "code",
   "execution_count": 1,
   "id": "5acb4fe5",
   "metadata": {
    "slideshow": {
     "slide_type": "skip"
    }
   },
   "outputs": [],
   "source": [
    "import time\n",
    "import pandas as pd\n",
    "import numpy as np\n",
    "import matplotlib.pyplot as plt\n",
    "%matplotlib inline  "
   ]
  },
  {
   "cell_type": "markdown",
   "id": "a41bb501",
   "metadata": {
    "slideshow": {
     "slide_type": "slide"
    }
   },
   "source": [
    "# CMP 3002 \n",
    "## Binary Search Trees (BST)"
   ]
  },
  {
   "cell_type": "markdown",
   "id": "d23f2a16",
   "metadata": {
    "slideshow": {
     "slide_type": "slide"
    }
   },
   "source": [
    "## Review"
   ]
  },
  {
   "cell_type": "markdown",
   "id": "fcda918e",
   "metadata": {
    "slideshow": {
     "slide_type": "subslide"
    }
   },
   "source": [
    "## Binary Search Trees (BST)\n",
    "\n",
    "![](./binary_search_tree.drawio.png)\n",
    "\n",
    "- Special form of a binary tree. \n",
    "- The value of each node must be greater than (or equal to) any values in the left subtree\n",
    "- The value of each node must be less than (or equal to) any values in the right subtree\n"
   ]
  },
  {
   "cell_type": "markdown",
   "id": "bd966188",
   "metadata": {
    "slideshow": {
     "slide_type": "subslide"
    }
   },
   "source": [
    "### Validation of a BST\n",
    "\n",
    "How do we use the properties of a BST to valida that a binary tree is a BST or not?\n",
    "\n",
    "- Recursion\n",
    "- Note that inorder traversal in BST would result in ascending order\n"
   ]
  },
  {
   "cell_type": "markdown",
   "id": "cbe71209",
   "metadata": {
    "slideshow": {
     "slide_type": "subslide"
    }
   },
   "source": [
    "### Exercises\n",
    "\n",
    "1. Write a program that validates that a tree is a BST\n",
    "\n",
    "```\n",
    "class Node:\n",
    "    def __init__(self, val=0, left=None, right=None):\n",
    "        self.val = x\n",
    "        self.left = None\n",
    "        self.right = None\n",
    "\n",
    "\n",
    "def valid_BST(root, low=-math.inf, high=math.inf):\n",
    "\n",
    "    if not root:\n",
    "        return True\n",
    "    if root.val <= low or root.val >= high:\n",
    "        return False\n",
    "\n",
    "    return (valid_BST(root.right, root.val, high) and\n",
    "           valid_BST(root.left, low, root.val))\n",
    "\n",
    "```"
   ]
  },
  {
   "cell_type": "markdown",
   "id": "978e0e6f",
   "metadata": {
    "slideshow": {
     "slide_type": "slide"
    }
   },
   "source": [
    "## Search in a BST\n",
    "\n",
    "Binary search tress support the following operations:\n",
    "- search \n",
    "- insertion \n",
    "- deletion\n",
    "\n",
    "Following the main property of BST, for each node we visit while search:\n",
    "\n",
    "- return the node is the target is equal to the value of the node\n",
    "- continue searching in the left subtree if the target value is less than the value of the node\n",
    "- continue searching in the more subtree if the target value is more than the value of the node\n",
    "- return false if there are no children"
   ]
  },
  {
   "cell_type": "markdown",
   "id": "69d4153e",
   "metadata": {
    "slideshow": {
     "slide_type": "subslide"
    }
   },
   "source": [
    "## Search in a BST - Example\n",
    "\n",
    "![](./binary_search_tree.drawio.png)\n",
    "\n",
    "Input:\n",
    "- target = 7\n",
    "\n",
    "Operations:\n",
    "\n",
    "1. Visit the root.\n",
    "    - value is 4 (7 > 4)\n",
    "    - continue to the right subtree\n",
    "    \n",
    "2. Visit node 6\n",
    "    - value is 6 (7 > 6)\n",
    "    - continue to the right subtree\n",
    "3. Visit node 8\n",
    "    - value is 8 (7 < 8)\n",
    "    - continue to the left subtree\n",
    "4. Visit node 7\n",
    "    - value is 7 (7 == 7)\n",
    "    - return True\n"
   ]
  },
  {
   "cell_type": "markdown",
   "id": "f8b43303",
   "metadata": {
    "slideshow": {
     "slide_type": "subslide"
    }
   },
   "source": [
    "## Search in a BST - Complexity\n",
    "\n",
    "- Assuming the tree is well balanced - that is, the left subtree has the same number of nodes as the right subtree\n",
    "- The height of the tree is $log(N),$ for $N$ being the total number of nodes\n",
    "- Complexity is the height of the tree since that's the total number of nodes we traverse to find a node in the worse case.\n",
    "- Complexity is $O(log(N))$\n"
   ]
  },
  {
   "cell_type": "code",
   "execution_count": 4,
   "id": "2e21fcbc",
   "metadata": {
    "slideshow": {
     "slide_type": "subslide"
    }
   },
   "outputs": [],
   "source": [
    "class Node:\n",
    "    def __init__(self, val=0, left=None, right=None):\n",
    "        self.val = x\n",
    "        self.left = None\n",
    "        self.right = None\n",
    "\n",
    "def search_BST(root, val):\n",
    "    if root is None or val == root.val:\n",
    "        node = root\n",
    "    elif val < root.val:\n",
    "        node = search_BST(root.left, val)\n",
    "    else:\n",
    "        node = search_BST(root.right, val)\n",
    "    return node        "
   ]
  },
  {
   "cell_type": "markdown",
   "id": "5517d564",
   "metadata": {
    "slideshow": {
     "slide_type": "subslide"
    }
   },
   "source": [
    "### How do we implement iteratively?"
   ]
  },
  {
   "cell_type": "code",
   "execution_count": 5,
   "id": "9c5435c6",
   "metadata": {
    "slideshow": {
     "slide_type": "subslide"
    }
   },
   "outputs": [],
   "source": [
    "def search_BST(root, val):\n",
    "    node = root\n",
    "    while node and node.val != target:\n",
    "        if target < node.val:\n",
    "            node = node.left\n",
    "        else:\n",
    "            node = node.right\n",
    "    return node"
   ]
  },
  {
   "cell_type": "markdown",
   "id": "410a53c9",
   "metadata": {
    "slideshow": {
     "slide_type": "slide"
    }
   },
   "source": [
    "## Insertion in a BST\n",
    "\n",
    "- The goal is to minimize the number of changes.\n",
    "- To do so, we find a leaf position for the target node\n",
    "- Insert it as a leaf\n",
    "\n",
    "**Note:** Insertion starts with a search\n",
    "\n",
    "\n",
    "1. Search the tree until we reach an external node\n",
    "2. Add the node as its left or right child (depending on whether is lower or greater than the leaf's value)\n",
    "\n",
    "**Note:** This way we maintain the property of the BST\n",
    "\n",
    "\n"
   ]
  },
  {
   "cell_type": "markdown",
   "id": "65cc919c",
   "metadata": {
    "slideshow": {
     "slide_type": "subslide"
    }
   },
   "source": [
    "### Insertion in a BST - Example\n",
    "\n",
    "![](./binary_search_tree.drawio.png)\n",
    "\n",
    "**Target: 3.5**"
   ]
  },
  {
   "cell_type": "markdown",
   "id": "8c42cc24",
   "metadata": {
    "slideshow": {
     "slide_type": "subslide"
    }
   },
   "source": [
    "### Insertion in a BST - Example\n",
    "\n",
    "![](./bst_insert.png)\n",
    "\n",
    "**Target: 3.5**"
   ]
  },
  {
   "cell_type": "code",
   "execution_count": 6,
   "id": "4789ef63",
   "metadata": {
    "slideshow": {
     "slide_type": "subslide"
    }
   },
   "outputs": [],
   "source": [
    "def insert_BST(root, val):\n",
    "    if not root:\n",
    "        return Node(val)\n",
    "        \n",
    "    if val > root.val:            \n",
    "        root.right = insert_BST(root.right, val)\n",
    "    else:    \n",
    "        root.left = insert_BST(root.left, val)\n",
    "    return root"
   ]
  },
  {
   "cell_type": "markdown",
   "id": "393e7b5a",
   "metadata": {
    "slideshow": {
     "slide_type": "slide"
    }
   },
   "source": [
    "## Deletion in a BST\n",
    "\n",
    "- Deletion requires search and insertion. \n",
    "- The goal is to replace the target node with a proper child\n",
    "- Three cases to consider:\n",
    "    1. Target node has no child, so we simply remove the node\n",
    "    2. Target node has 1 child. We use the child to replace the target\n",
    "    3. Target node has 2 children, replace the node with its in-order successor or predecessor node\n",
    "\n",
    "\n"
   ]
  },
  {
   "cell_type": "markdown",
   "id": "86da0f63",
   "metadata": {
    "slideshow": {
     "slide_type": "subslide"
    }
   },
   "source": [
    "### Deletion in a BST - Example 1\n",
    "\n",
    "![](./bst_insert.png)\n",
    "\n",
    "**Target: 7**\n",
    "\n",
    "![](./bst_delete_1.png)\n",
    "\n"
   ]
  },
  {
   "cell_type": "markdown",
   "id": "ccc968d9",
   "metadata": {
    "slideshow": {
     "slide_type": "subslide"
    }
   },
   "source": [
    "### Deletion in a BST - Example 2\n",
    "\n",
    "![](./bst_insert.png)\n",
    "\n",
    "**Target: 3**\n",
    "\n",
    "![](./bst_delete_2.png)\n",
    "\n"
   ]
  },
  {
   "cell_type": "markdown",
   "id": "02aaa095",
   "metadata": {
    "slideshow": {
     "slide_type": "subslide"
    }
   },
   "source": [
    "### Deletion in a BST - Example 3\n",
    "\n",
    "![](./bst_insert.png)\n",
    "\n",
    "**Target: 6**\n",
    "\n",
    "![](./bst_delete_3.png)\n",
    "\n"
   ]
  },
  {
   "cell_type": "markdown",
   "id": "4b05b9b3",
   "metadata": {
    "slideshow": {
     "slide_type": "subslide"
    }
   },
   "source": [
    "## Deletion in a BST - Implementation\n",
    "\n",
    "How to get the successor?\n",
    "- Go to the right once, and then as many as possible to the left\n",
    "\n",
    "How to get the predecessor?\n",
    "- Go to the left once, and then as many as possible to the right\n"
   ]
  },
  {
   "cell_type": "code",
   "execution_count": 7,
   "id": "77d68ca5",
   "metadata": {
    "slideshow": {
     "slide_type": "subslide"
    }
   },
   "outputs": [],
   "source": [
    "def successor(self, root):\n",
    "    root = root.right\n",
    "    while root.left:\n",
    "        root = root.left\n",
    "    return root.val\n",
    "\n",
    "def predecessor(self, root):\n",
    "    root = root.left\n",
    "    while root.right:\n",
    "        root = root.right\n",
    "    return root.val"
   ]
  },
  {
   "cell_type": "code",
   "execution_count": 8,
   "id": "f96a820e",
   "metadata": {
    "slideshow": {
     "slide_type": "subslide"
    }
   },
   "outputs": [],
   "source": [
    "def delete_BST(root, val):\n",
    "    if not root:\n",
    "        return None\n",
    "\n",
    "    # right subtree\n",
    "    if val > root.val:\n",
    "        root.right = delete_BST(root.right, val)\n",
    "        \n",
    "    # left subtree\n",
    "    elif val < root.val:\n",
    "        root.left = delete_BST(root.left, val)\n",
    "        \n",
    "    # current node\n",
    "    else:\n",
    "        # case 1\n",
    "        if not (root.left or root.right):\n",
    "            root = None\n",
    "        # has a right child (case 2 or 3)\n",
    "        elif root.right:\n",
    "            root.val = successor(root)\n",
    "            root.right = delete_BST(root.right, root.val)\n",
    "        # has no right child and has a left child (case 2)  \n",
    "        else:\n",
    "            root.val = predecessor(root)\n",
    "            root.left = delete_BST(root.left, root.val)\n",
    "\n",
    "    return root"
   ]
  },
  {
   "cell_type": "markdown",
   "id": "91480978",
   "metadata": {
    "slideshow": {
     "slide_type": "slide"
    }
   },
   "source": [
    "## Height-Balanced BST\n",
    "\n",
    "- BST that automatically keeps its height small in the face of arbitrary item insertions and deletions\n",
    "- The height of a balanced BST with N nodes is always $log(N)$\n",
    "- The height of the two subtrees of every node never differs by more than 1"
   ]
  },
  {
   "cell_type": "markdown",
   "id": "7de114c2",
   "metadata": {
    "slideshow": {
     "slide_type": "subslide"
    }
   },
   "source": [
    "### Exercise:\n",
    "\n",
    "- Validate that a BST is height balanced"
   ]
  },
  {
   "cell_type": "markdown",
   "id": "8d6170b6",
   "metadata": {
    "slideshow": {
     "slide_type": "subslide"
    }
   },
   "source": [
    "### Implementations of popular height-balanced BSTs for your reference:\n",
    "\n",
    "- Red-black tree\n",
    "- AVL tree\n",
    "- Splay tree\n",
    "- Treap"
   ]
  }
 ],
 "metadata": {
  "celltoolbar": "Slideshow",
  "kernelspec": {
   "display_name": "Python 3",
   "language": "python",
   "name": "python3"
  },
  "language_info": {
   "codemirror_mode": {
    "name": "ipython",
    "version": 3
   },
   "file_extension": ".py",
   "mimetype": "text/x-python",
   "name": "python",
   "nbconvert_exporter": "python",
   "pygments_lexer": "ipython3",
   "version": "3.8.8"
  }
 },
 "nbformat": 4,
 "nbformat_minor": 5
}
