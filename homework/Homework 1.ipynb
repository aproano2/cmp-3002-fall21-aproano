{
 "cells": [
  {
   "cell_type": "markdown",
   "id": "8d0a8bef",
   "metadata": {},
   "source": [
    "# Homework 1"
   ]
  },
  {
   "cell_type": "markdown",
   "id": "35509289",
   "metadata": {},
   "source": [
    "##  1. Sort the following functions in decreasing order of asymptotic complexity ($O(f(n))$):\n",
    "\n",
    "- $f_1(n) = n^\\sqrt{n}$\n",
    "- $f_2(n) = 2^n$\n",
    "- $f_3(n) = {n\\choose 2}$\n",
    "- $f_4(n) = \\sum_{i=2}^n (i-1)$"
   ]
  },
  {
   "cell_type": "code",
   "execution_count": null,
   "id": "1b78325c",
   "metadata": {},
   "outputs": [],
   "source": []
  },
  {
   "cell_type": "markdown",
   "id": "6079fb21",
   "metadata": {},
   "source": [
    "## 2. Implement in Python the insertion sort procedure to sort into non-increasing instead of non-decreasing order \n",
    "\n",
    "1. Use the `time` function to measure the execution time for the best and worst inputs of size between 10 and 1,000 (use steps of 10)\n",
    "2. Plot the best and worst execution times measured in (2.1) as a function of $n$\n",
    "3. Use the `random` function to generate randomly sorted inputs to calculate the execution time. For each $n$ run the program for 100 different inputs. Do for $n = 100,200, \\dots, 1000$.\n",
    "4. Plot the mean, median, and standard deviation as a function of $n$ for the values obtained in 2.3\n"
   ]
  },
  {
   "cell_type": "code",
   "execution_count": null,
   "id": "b9153817",
   "metadata": {},
   "outputs": [],
   "source": []
  },
  {
   "cell_type": "markdown",
   "id": "a3746feb",
   "metadata": {},
   "source": [
    "## 3.  CLRS 2.1-4\n",
    "pg. 22"
   ]
  },
  {
   "cell_type": "code",
   "execution_count": null,
   "id": "ae614e13",
   "metadata": {},
   "outputs": [],
   "source": []
  },
  {
   "cell_type": "markdown",
   "id": "fd9ddcc1",
   "metadata": {},
   "source": [
    "## 4.  CLRS 3.1-1\n",
    "pg. 52"
   ]
  },
  {
   "cell_type": "code",
   "execution_count": null,
   "id": "b85ac24d",
   "metadata": {},
   "outputs": [],
   "source": []
  },
  {
   "cell_type": "markdown",
   "id": "4a070079",
   "metadata": {},
   "source": [
    "## 5. CLRS 3.1-2\n",
    "pg. 52"
   ]
  },
  {
   "cell_type": "code",
   "execution_count": null,
   "id": "1d174f3e",
   "metadata": {},
   "outputs": [],
   "source": []
  },
  {
   "cell_type": "markdown",
   "id": "7fe796ed",
   "metadata": {},
   "source": [
    "## 6. CLRS 3.1-6\n",
    "pg. 53"
   ]
  },
  {
   "cell_type": "code",
   "execution_count": null,
   "id": "f6b43ca8",
   "metadata": {},
   "outputs": [],
   "source": []
  },
  {
   "cell_type": "markdown",
   "id": "2d3a36bc",
   "metadata": {},
   "source": [
    "## 7. CLRS 3-4 (a,b,e,g)\n",
    "pg. 62"
   ]
  },
  {
   "cell_type": "code",
   "execution_count": null,
   "id": "2dd13f65",
   "metadata": {},
   "outputs": [],
   "source": []
  }
 ],
 "metadata": {
  "kernelspec": {
   "display_name": "Python 3",
   "language": "python",
   "name": "python3"
  },
  "language_info": {
   "codemirror_mode": {
    "name": "ipython",
    "version": 3
   },
   "file_extension": ".py",
   "mimetype": "text/x-python",
   "name": "python",
   "nbconvert_exporter": "python",
   "pygments_lexer": "ipython3",
   "version": "3.8.8"
  }
 },
 "nbformat": 4,
 "nbformat_minor": 5
}
