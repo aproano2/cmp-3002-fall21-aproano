{
 "cells": [
  {
   "cell_type": "markdown",
   "id": "8d0a8bef",
   "metadata": {},
   "source": [
    "# Homework 3"
   ]
  },
  {
   "cell_type": "markdown",
   "id": "35509289",
   "metadata": {},
   "source": [
    "## 1. [10 pts] Given a list of list of dimension m x n (2-D matrix) representing a map of '1's (land) and '0's (water), write a Python function that returns the number of islands and takes the matrix as input. \n",
    "\n",
    "- An island is surrounded by water and is formed by connecting adjacent lands horizontally or vertically.\\\n",
    "- Assume all four edges of the matrix are all surrounded by water.\n",
    "- Write an implementation for BFS and one for DFS\n",
    "\n",
    "\n",
    "Example:\n",
    "\n",
    "```\n",
    "Input: map = [\n",
    "  [\"1\",\"1\",\"0\",\"0\",\"0\"],\n",
    "  [\"1\",\"1\",\"0\",\"0\",\"0\"],\n",
    "  [\"0\",\"0\",\"1\",\"0\",\"0\"],\n",
    "  [\"0\",\"0\",\"0\",\"1\",\"1\"]\n",
    "]\n",
    "Output: 3\n",
    "```\n"
   ]
  },
  {
   "cell_type": "code",
   "execution_count": null,
   "id": "f3bc25de",
   "metadata": {},
   "outputs": [],
   "source": []
  },
  {
   "cell_type": "markdown",
   "id": "c244ed40",
   "metadata": {},
   "source": [
    "## 2. [5 pts] A perfect square is an integer that is the square of an integer; in other words, it is the product of some integer with itself. For example, 1, 4, 9, and 16 are perfect squares, and 2 and 5 are not perfect squares\n",
    "\n",
    "Use BFS and write a Python function that gets a number `n` as input and return the least number of perfect square numbers that sum to `n`\n",
    "\n",
    "Example 1:\n",
    "\n",
    "```\n",
    "Input: n = 12\n",
    "Output: 3\n",
    "Explanation: 12 = 4 + 4 + 4.\n",
    "```\n",
    "\n",
    "Example 2:\n",
    "```\n",
    "Input: n = 13\n",
    "Output: 2\n",
    "Explanation: 13 = 4 + 9.\n",
    "```\n",
    "\n",
    "\n",
    "**Hint 1:**\n",
    "\n",
    "You can build a graph (n-ary tree) using the input as the root, and the children the difference between the input and the perfect squares less or equal to the input. Each of the children can become the root of a subtree built using the same idea. For example, the graph below reflects the first level of the tree for `n=17`. \n",
    "\n",
    "![](./hint1.png)\n",
    "\n",
    "\n",
    "Once the graph is defined, you can run BFS"
   ]
  },
  {
   "cell_type": "code",
   "execution_count": null,
   "id": "94bce7f8",
   "metadata": {},
   "outputs": [],
   "source": []
  }
 ],
 "metadata": {
  "kernelspec": {
   "display_name": "Python 3",
   "language": "python",
   "name": "python3"
  },
  "language_info": {
   "codemirror_mode": {
    "name": "ipython",
    "version": 3
   },
   "file_extension": ".py",
   "mimetype": "text/x-python",
   "name": "python",
   "nbconvert_exporter": "python",
   "pygments_lexer": "ipython3",
   "version": "3.8.8"
  }
 },
 "nbformat": 4,
 "nbformat_minor": 5
}
