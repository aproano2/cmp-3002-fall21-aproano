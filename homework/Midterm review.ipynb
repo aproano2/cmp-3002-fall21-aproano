{
 "cells": [
  {
   "cell_type": "markdown",
   "id": "8d0a8bef",
   "metadata": {},
   "source": [
    "# Midterm review"
   ]
  },
  {
   "cell_type": "markdown",
   "id": "4dcbc927",
   "metadata": {},
   "source": [
    "## HW 1 Solutions "
   ]
  },
  {
   "cell_type": "markdown",
   "id": "35509289",
   "metadata": {},
   "source": [
    "####  1. Sort the following functions in decreasing order of asymptotic complexity ($O(f(n))$):\n",
    "\n",
    "- $f_1(n) = n^\\sqrt{n}$\n",
    "- $f_2(n) = 2^n$\n",
    "- $f_3(n) = {n\\choose 2}$\n",
    "- $f_4(n) = \\sum_{i=2}^n (i-1)$"
   ]
  },
  {
   "cell_type": "markdown",
   "id": "d91e0e49",
   "metadata": {},
   "source": [
    "$f_4 = f_3 \\leq f_2 \\leq f_1$"
   ]
  },
  {
   "cell_type": "markdown",
   "id": "6079fb21",
   "metadata": {},
   "source": [
    "#### 2. Implement in Python the insertion sort procedure to sort into non-increasing instead of non-decreasing order \n",
    "\n",
    "1. Use the `time` function to measure the execution time for the best and worst inputs of size between 10 and 1,000 (use steps of 10)\n",
    "2. Plot the best and worst execution times measured in (2.1) as a function of $n$\n",
    "3. Use the `random` function to generate randomly sorted inputs to calculate the execution time. For each $n$ run the program for 100 different inputs. Do for $n = 100,200, \\dots, 1000$.\n",
    "4. Plot the mean, median, and standard deviation as a function of $n$ for the values obtained in 2.3\n"
   ]
  },
  {
   "cell_type": "markdown",
   "id": "e19d150e",
   "metadata": {},
   "source": [
    "$A = [a_1, a_2, \\dots, n_n]$"
   ]
  },
  {
   "cell_type": "markdown",
   "id": "f7c8bed1",
   "metadata": {},
   "source": [
    "$A' = [a'_1, \\dots, a'_n]$\n",
    "\n",
    "$a'_1 \\geq a'_2 \\geq \\dots \\geq a'_n$"
   ]
  },
  {
   "cell_type": "code",
   "execution_count": 9,
   "id": "affb4fe3",
   "metadata": {},
   "outputs": [],
   "source": [
    "def insertion_sort_dec(array):\n",
    "    \"\"\"\n",
    "    Implementation of insertion sort\n",
    "    \"\"\"\n",
    "    for i in range(1, len(array)):        \n",
    "        key = array[i]\n",
    "        j = i-1\n",
    "        while (j >= 0) and (key > array[j]):\n",
    "            array[j+1] = array[j]\n",
    "            j -= 1\n",
    "        array[j+1] = key"
   ]
  },
  {
   "cell_type": "markdown",
   "id": "a3746feb",
   "metadata": {},
   "source": [
    "#### 3.  CLRS 2.1-4\n",
    "#### Consider the problem of adding two $n$-bit binary integers, stored in two $n$-element arrays A and B. The sum of the two integers should be stored in binary form in an $(n + 1)$-element array C. State the problem formally and write pseudocode for adding the two integers."
   ]
  },
  {
   "cell_type": "markdown",
   "id": "4c4ea6e3",
   "metadata": {},
   "source": [
    "**Input:** $n$-element arrays $A$ and $B$ containing the binary digits that represent numbers $a$ and $b$\n",
    "\n",
    "**Output:** $(n + 1)$-element array $C$ representing the binary digits of a + b."
   ]
  },
  {
   "cell_type": "code",
   "execution_count": 7,
   "id": "257b203c",
   "metadata": {},
   "outputs": [],
   "source": [
    "def sum_binary(A,B):\n",
    "    carry = 0\n",
    "    n = len(A)\n",
    "    i = n - 1\n",
    "    C = [None] * (n+1)\n",
    "    while i >= 0:\n",
    "        sum_dig = A[i] + B[i] + carry\n",
    "        C[i+1] = sum_dig % 2\n",
    "        if sum_dig >= 2:\n",
    "            carry = 1\n",
    "        else:\n",
    "            carry = 0\n",
    "        i -= 1\n",
    "    C[0] = carry\n",
    "    return C"
   ]
  },
  {
   "cell_type": "code",
   "execution_count": 8,
   "id": "171c1980",
   "metadata": {},
   "outputs": [
    {
     "data": {
      "text/plain": [
       "[1, 1, 1, 0, 0]"
      ]
     },
     "execution_count": 8,
     "metadata": {},
     "output_type": "execute_result"
    }
   ],
   "source": [
    "A = [1,1,0,1]\n",
    "B = [1,1,1,1]\n",
    "sum_binary(A,B)"
   ]
  },
  {
   "cell_type": "markdown",
   "id": "fd9ddcc1",
   "metadata": {},
   "source": [
    "#### 4.  CLRS 3.1-1\n",
    "\n",
    "#### Let $f(n)$ and $g(n)$ be asymptotically non-negative functions. Using the basic definition of $\\Theta$-notation, prove that $max(f(n),g(n)) = \\Theta(f(n)+g(n))$"
   ]
  },
  {
   "cell_type": "markdown",
   "id": "d9847874",
   "metadata": {},
   "source": [
    "Since the funcitons are asymptotically non-negative, let's assume that we found $n_0$ so that both functions are non-negative. So for $n \\geq n_0$ we have:\n",
    "\n",
    "$f(n) \\leq max(f(n), g(n))$\n",
    "\n",
    "$g(n) \\leq max(f(n), g(n))$\n",
    "\n",
    "$\\frac{1}{2} (f(n) + g(n)) \\leq max(f(n), g(n))$\n",
    "\n",
    "$max(f(n), g(n)) \\leq (f(n) + g(n))$\n"
   ]
  },
  {
   "cell_type": "markdown",
   "id": "cd11cb64",
   "metadata": {},
   "source": [
    "Combining the inequalities:\n",
    "\n",
    "$0 \\leq \\frac{1}{2} (f(n) + g(n)) \\leq max(f(n), g(n)) \\leq (f(n) + g(n))$\n",
    "\n",
    "So, for $c_1 = \\frac{1}{2}$  and $c_2 = 1$ we get:\n",
    "\n",
    "$max(f(n),g(n)) = \\Theta(f(n)+g(n))$"
   ]
  },
  {
   "cell_type": "markdown",
   "id": "4a070079",
   "metadata": {},
   "source": [
    "#### 5. CLRS 3.1-2\n",
    "#### Show that for any real constants $a$ and $b$, where $b>0$,\n",
    "#### $(n+a)^b = \\Theta(n^b)$"
   ]
  },
  {
   "cell_type": "markdown",
   "id": "ae0a3e21",
   "metadata": {},
   "source": [
    "Usando el teorema binomial:\n",
    "    \n",
    "$(n+a)^b = \\sum_{k=0}^{b} {b\\choose k} n^{b-k}a^k$"
   ]
  },
  {
   "cell_type": "markdown",
   "id": "f969bcd1",
   "metadata": {},
   "source": [
    "Also, the following statement is true for $x\\geq 1$ :\n",
    "    \n",
    "$\\sum_{k=0}^b c_k x^k \\leq x^b \\sum_{k=0}^b c_k $"
   ]
  },
  {
   "cell_type": "markdown",
   "id": "88464e03",
   "metadata": {},
   "source": [
    "Then:\n",
    "    \n",
    "${b\\choose 0} n^b \\leq \\sum_{k=0}^{b} {b\\choose k} n^{b-k}a^k \\leq n^b  \\sum_{k=0}^{b} {b\\choose k}$ \n",
    "\n",
    "\n",
    "$(n+a)^b = \\Theta(n^b)$"
   ]
  },
  {
   "cell_type": "markdown",
   "id": "7fe796ed",
   "metadata": {},
   "source": [
    "#### 6. CLRS 3.1-6\n",
    "#### Prove that the running time of an algorithm is $\\Theta(g(n))$ if and only if its worst-case running time is $O(g(n))$ and its best-case running time is $\\Omega(g(n))$"
   ]
  },
  {
   "cell_type": "markdown",
   "id": "465937b9",
   "metadata": {},
   "source": [
    "For the best case, there exists a $n_0$ and $c_1$ so that for $n > n_1$:\n",
    "\n",
    "$0 \\leq c_1 g(n) \\leq T_1(n)$\n",
    "\n",
    "for the worst case, there exists a $n_1$ and $c_2$ so that for $n > n_2$\n",
    "\n",
    "$0 \\leq T_2(n) \\leq c_2 g(n)$"
   ]
  },
  {
   "cell_type": "markdown",
   "id": "324d7726",
   "metadata": {},
   "source": [
    "Then for $n > max(n_1, n_2)$\n",
    "\n",
    "$0 \\leq c_1 g(n) \\leq T_1(n) \\leq T_2(n) \\leq c_2 g(n)$\n",
    "\n",
    "since the execution time is between $T_1$ and $T_2,$ the execution time is $\\Theta(g(n))$"
   ]
  },
  {
   "cell_type": "markdown",
   "id": "2d3a36bc",
   "metadata": {},
   "source": [
    "#### 7. CLRS 3-4 (a,b,e,g)\n",
    "#### Let f(n) and g(n) be asymptotically positive functions. Prove or disprove each of the following conjectures."
   ]
  },
  {
   "cell_type": "markdown",
   "id": "2aa6623d",
   "metadata": {},
   "source": [
    "#### a. $f(n) = O(g(n))$ implies $g(n) = O(f(n))$ \n",
    "\n",
    "False, $f(n) = n$ and $g(n) = n^2$"
   ]
  },
  {
   "cell_type": "markdown",
   "id": "3efce741",
   "metadata": {},
   "source": [
    "#### b. $f(n) + g(n) = \\Theta(min(f(n), g(n)))$ "
   ]
  },
  {
   "cell_type": "markdown",
   "id": "a72bb1f7",
   "metadata": {},
   "source": [
    "False, $f(n) = n^2$ and $g(n) = n$"
   ]
  },
  {
   "cell_type": "markdown",
   "id": "8dee8c74",
   "metadata": {},
   "source": [
    "#### e. $f(n) = O((f(n))^2)$\n",
    "\n",
    "True\n",
    "\n",
    "$0 \\leq f(n) \\leq c(f(n))^2 $\n",
    "\n",
    "Always true for $f(n) \\geq 1$"
   ]
  },
  {
   "cell_type": "markdown",
   "id": "228f67f4",
   "metadata": {},
   "source": [
    "#### g. $f(n) = \\Theta(f(n/2))$\n",
    "\n",
    "False, $f(n) = 2^n$"
   ]
  },
  {
   "cell_type": "markdown",
   "id": "29cd67d1",
   "metadata": {},
   "source": [
    "## HW 2 Solutions "
   ]
  },
  {
   "cell_type": "markdown",
   "id": "90db5743",
   "metadata": {},
   "source": [
    "#### 1. Given the following implementation of the class PriorityQueue, implement the methods:¶\n",
    "- `insert(v,k)` - add an element $v$ with priority $k$. Complexity $O(n)$\n",
    "- `deleteMin()` - remove the element with the lowest $k$ (highest priority). Complexity $O(1)$\n",
    "- `decreaseKey(v,k)` - decrease the value of $k$ (increase priority). Complexity $O(n)$\n",
    "\n",
    "**Show complexity analysis for each implementation**"
   ]
  },
  {
   "cell_type": "code",
   "execution_count": 15,
   "id": "86355b1a",
   "metadata": {},
   "outputs": [],
   "source": [
    "# We can use the same implementation we used for Arrays\n",
    "import ctypes\n",
    "class PriorityQueue(object):\n",
    "    \"\"\"\n",
    "    Implementation of the queue data structure\n",
    "    \"\"\"\n",
    "\n",
    "    def __init__(self, n):\n",
    "        self.item_count = 0\n",
    "        self.n = n\n",
    "        self.queue = self._create_queue(self.n)        \n",
    "    \n",
    "    def _create_queue(self, n):\n",
    "        \"\"\"\n",
    "        Creates a new stack of capacity n\n",
    "        \"\"\"\n",
    "        return (n * ctypes.py_object)()\n",
    "    \n",
    "    def enqueue(self, item):\n",
    "        \"\"\"\n",
    "        Add new item to the queue\n",
    "        \"\"\"\n",
    "        if self.item_count == self.n:\n",
    "            raise ValueError(\"no more capacity\")\n",
    "        self.queue[self.item_count] = item\n",
    "        \n",
    "        self.item_count += 1\n",
    "    \n",
    "    def dequeue(self):\n",
    "        \"\"\"\n",
    "        Remove item with lowest key\n",
    "        \"\"\"\n",
    "        self.queue.sort(key=lambda x:x[0])\n",
    "        x = self.queue.pop(0)\n",
    "        self.item_count -= 1\n",
    "        return x[1]\n",
    "    \n",
    "    def decreaseKey(self,v,k):\n",
    "        \"\"\"\n",
    "        Change key value of v\n",
    "        \"\"\"\n",
    "        ind = 0\n",
    "        while ind < len(self.queue):\n",
    "            if self.queue[ind][1] == v:\n",
    "                break\n",
    "            else:\n",
    "                ind += 1\n",
    "        if ind == len(self.queue):\n",
    "            raise ValueError(\"Value not found\")\n",
    "        self.queue[ind][0] = k"
   ]
  },
  {
   "cell_type": "markdown",
   "id": "bf867750",
   "metadata": {},
   "source": [
    "#### 2. You are given two non-negative integers in the form of two non-empty linked lists. The digits are stored in reverse order, and each nodes contains a single digit. Add the two numbers and return the sum as a linked list.\n",
    "\n",
    "For example:\n",
    "\n",
    "**Input:** \n",
    "- $L_1$ = 1 -> 4 -> 5\n",
    "- $L_2$ = 4 -> 3 -> 2\n",
    "\n",
    "**Output:**\n",
    "- $L_3$ = 5 -> 7 -> 7\n",
    "\n",
    "Note that, the problem is equivalent to adding: 541 + 234  =  775"
   ]
  },
  {
   "cell_type": "code",
   "execution_count": null,
   "id": "06fe6062",
   "metadata": {},
   "outputs": [],
   "source": [
    "5->4->1\n",
    "2->3->4\n",
    "----\n",
    "7->7->5\n",
    "\n",
    "\n",
    "1234\n",
    "9456\n",
    "\n"
   ]
  },
  {
   "cell_type": "code",
   "execution_count": 11,
   "id": "eadf27b3",
   "metadata": {},
   "outputs": [],
   "source": [
    "def addTwoNumbers(l1, l2):\n",
    "\n",
    "    carry = 0\n",
    "    total = 0\n",
    "    prev = None\n",
    "\n",
    "    while (l1 is None) and (l2 is None):\n",
    "\n",
    "        if not l1:\n",
    "            total = l2.val\n",
    "            l2 = l2.next\n",
    "        elif not l2:\n",
    "            total = l1.val\n",
    "            l1 = l1.next\n",
    "        else:\n",
    "            total = l1.val + l2.val\n",
    "            l1, l2 = l1.next, l2.next\n",
    "\n",
    "        total += carry\n",
    "        if total >= 10:\n",
    "            carry = 1\n",
    "            total -= 10\n",
    "        else:\n",
    "            carry = 0\n",
    "        curr = ListNode(total)\n",
    "        if prev:\n",
    "            prev.next = curr\n",
    "        else:\n",
    "            head = curr\n",
    "        prev = curr\n",
    "    \n",
    "    if carry > 0:\n",
    "        curr = ListNode(carry)\n",
    "        prev.next = curr\n",
    "        \n",
    "\n",
    "    return head"
   ]
  },
  {
   "cell_type": "markdown",
   "id": "ded3433b",
   "metadata": {},
   "source": [
    "#### 3. Given a linked list, detect if the list has a cycle. If a cycle is detected, return the position of the node (with respect to the head) where the cycle starts.\n",
    "\n",
    "For example:\n",
    "\n",
    "![](./cycle.png)\n",
    "\n",
    "**Input:**\n",
    "- Jan -> Feb -> March -> Dec\n",
    "\n",
    "**Output:**\n",
    "- 2"
   ]
  },
  {
   "cell_type": "code",
   "execution_count": null,
   "id": "c8b80580",
   "metadata": {},
   "outputs": [],
   "source": [
    "nodes = {'jan':0, 'feb':1, ..}"
   ]
  },
  {
   "cell_type": "code",
   "execution_count": 10,
   "id": "95e744dc",
   "metadata": {},
   "outputs": [],
   "source": [
    "def hasCycle(head):\n",
    "\n",
    "    if not head:\n",
    "        return False\n",
    "\n",
    "    slow = head\n",
    "    fast = head.next\n",
    "\n",
    "    while slow != fast:\n",
    "        if (not fast) or (not fast.next):\n",
    "            return False\n",
    "        slow = slow.next\n",
    "        fast = fast.next.next\n",
    "    \n",
    "    return get_index(head,slow)\n",
    "\n",
    "def get_index(head, node):\n",
    "    \n",
    "    if not node:\n",
    "        return -1\n",
    "    c = 0\n",
    "    while node is not head:\n",
    "        head = head.next\n",
    "        c +=1\n",
    "        \n",
    "    return c"
   ]
  },
  {
   "cell_type": "markdown",
   "id": "97544a49",
   "metadata": {},
   "source": [
    "#### 4.  CLRS 10.1-5\n",
    "#### Whereas a stack allows insertion and deletion of elements at only one end, and a queue allows insertion at one end and deletion at the other end, a deque (doubleended queue) allows insertion and deletion at both ends. Write four $O(1)$-time procedures to insert elements into and delete elements from both ends of a deque implemented by an array. "
   ]
  },
  {
   "cell_type": "code",
   "execution_count": 13,
   "id": "585247e1",
   "metadata": {},
   "outputs": [],
   "source": [
    "import ctypes\n",
    "class Deque(object):\n",
    "    \"\"\"\n",
    "    Implementation of the deque data structure\n",
    "    \"\"\"\n",
    "\n",
    "    def __init__(self, n):\n",
    "        self.length = n\n",
    "        self.item_count = n\n",
    "        self.head = 0\n",
    "        self.tail = 1\n",
    "        self.deque = self._create_deque(self.n)        \n",
    "    \n",
    "    def _create_deque(self, n):\n",
    "        \"\"\"\n",
    "        Creates a new stack of capacity n\n",
    "        \"\"\"\n",
    "        return (n * ctypes.py_object)()\n",
    "\n",
    "    def head_enqueue(self, x):\n",
    "        if self.is_full():\n",
    "            raise ValueError(\"no more capacity\")\n",
    "        else:\n",
    "            if self.head == 0:\n",
    "                self.head = self.length\n",
    "            else:\n",
    "                self.head = self.head - 1\n",
    "            self.deque[self.head] = x\n",
    "\n",
    "    def tail_enqueue(self, x):\n",
    "        if self.is_full():\n",
    "            raise ValueError(\"no more capacity\")\n",
    "        else:\n",
    "            self.deque[self.tail] = x \n",
    "            if self.tail == self.length:\n",
    "                self.tail = 0\n",
    "            else:\n",
    "                self.tail = self.tail + 1      "
   ]
  },
  {
   "cell_type": "code",
   "execution_count": 12,
   "id": "8069c3c4",
   "metadata": {},
   "outputs": [],
   "source": [
    "    def head_dequeue(self):\n",
    "        if self.is_empty():\n",
    "            raise ValueError(\"queue is empty\")\n",
    "        else:\n",
    "            x = self.deque[self.head]\n",
    "            if self.head == self.length:\n",
    "                self.head = 0\n",
    "            else:\n",
    "                self.head = self.head + 1\n",
    "        return x\n",
    "\n",
    "    def tail_dequeue(self, x):\n",
    "        if self.is_empty():\n",
    "            raise ValueError(\"queue is empty\")\n",
    "        else:\n",
    "            if self.tail == 0:\n",
    "                self.tail = self.length\n",
    "            else:\n",
    "                self.tail = self.tail - 1\n",
    "        return self.deque[self.tail]"
   ]
  },
  {
   "cell_type": "markdown",
   "id": "9cddffbc",
   "metadata": {},
   "source": [
    "#### 5.  CLRS 10.1-6\n",
    "\n",
    "#### Show how to implement a queue using two stacks. Analyze the running time of the queue operations."
   ]
  },
  {
   "cell_type": "code",
   "execution_count": 14,
   "id": "51714ef2",
   "metadata": {},
   "outputs": [],
   "source": [
    "class Deque():\n",
    "    \n",
    "    def __init__(self, n):\n",
    "        self.stackA = Stack(n)\n",
    "        self.stackB = Stack(n)\n",
    "    \n",
    "    def enqueue(self,item):\n",
    "        self.stackA.push(item)\n",
    "        \n",
    "    def dequeue(self):\n",
    "        if self.stackB.empty():\n",
    "            while self.stackA.size():\n",
    "                self.stackB.push(self.stackA.pop())\n",
    "        return self.stackB.pop()"
   ]
  },
  {
   "cell_type": "markdown",
   "id": "8e7eb598",
   "metadata": {},
   "source": [
    "#### 6.  CLRS 10.1-7\n",
    "\n",
    "#### Show how to implement a stack using two queues. Analyze the running time of the stack operations."
   ]
  },
  {
   "cell_type": "code",
   "execution_count": 16,
   "id": "49368fd0",
   "metadata": {},
   "outputs": [],
   "source": [
    "class Deque():\n",
    "    \n",
    "    def __init__(self, n):\n",
    "        self.queue = [Queue(n), Queue[n]]\n",
    "        self.active = 0\n",
    "        \n",
    "    def enqueue(self,item):\n",
    "        self.queue[self.active].enqueue(item)\n",
    "        \n",
    "    def dequeue(self):\n",
    "        inactive = (self.active + 1) % 2\n",
    "        inactive_queue = self.queue[inactive]\n",
    "        active_queue = self.queue[self.active]\n",
    "        inactive_queue.queue[0:active_queue.item_count - 1] = active_queue.queue[1:active_queue.item_count]\n",
    "        x = active_queue.pop(0)\n",
    "        self.active = (self.active + 1) % 2\n",
    "        return x\n",
    "        "
   ]
  },
  {
   "cell_type": "markdown",
   "id": "9152365e",
   "metadata": {},
   "source": [
    "## Review"
   ]
  },
  {
   "cell_type": "markdown",
   "id": "60785194",
   "metadata": {},
   "source": [
    "## Model of computation\n",
    "\n",
    "- Specifies the operations you can do in an algorithm\n",
    "- How much these operations cost (time, memory, etc). We look how much each operation costs and add them up to get the total cost of the algorithm\n",
    "- Can be thought as styles of programming (ex: object oriented programming)\n",
    "\n",
    "### We cover RAM and pointer manchine. \n",
    "How do we define the latter using the former?"
   ]
  },
  {
   "cell_type": "markdown",
   "id": "aa7d71f3",
   "metadata": {},
   "source": [
    "## Asymptotic notation\n",
    "\n",
    "### $\\Theta-notation$\n",
    "\n",
    "> $\\Theta(g(n)) = \\{f(n) : \\exists c_1, c_2, n_0 > 0, \\text{such that } 0 \\leq c_1g(n) \\leq f(n) \\leq c_2g(n), \\forall n \\geq n_0 \\}$\n",
    "\n",
    "### $O-notation$\n",
    "\n",
    "> $O(g(n)) = \\{f(n) : \\exists c, n_0 > 0 \\text{ such that } 0 \\leq f(n) \\leq cg(n), \\forall n \\geq n_0 \\}$\n",
    "\n",
    "### $\\Omega-notation$\n",
    "\n",
    "> $\\Omega(g(n)) = \\{f(n) : \\exists c, n_0 > 0 \\text{ such that } 0 \\leq cg(n) \\leq f(n), \\forall n \\geq n_0 \\}$\n",
    "\n"
   ]
  },
  {
   "cell_type": "markdown",
   "id": "84bd3fb2",
   "metadata": {},
   "source": [
    "## Arrays\n",
    "\n",
    "```\n",
    "An array is a collection of items. \n",
    "```"
   ]
  },
  {
   "cell_type": "code",
   "execution_count": 19,
   "id": "fad6f91a",
   "metadata": {},
   "outputs": [],
   "source": [
    "import ctypes\n",
    "\n",
    "class Array(object):\n",
    "    \"\"\"\n",
    "    Implementation of the array data structure\n",
    "    \"\"\"\n",
    "\n",
    "    def __init__(self, n):\n",
    "        self.item_count = 0\n",
    "        self.n = n\n",
    "        self.array = self._create_array(self.n)        \n",
    "    \n",
    "    def _create_array(self, n):\n",
    "        \"\"\"\n",
    "        Creates a new array of capacity n\n",
    "        \"\"\"\n",
    "        return (n * ctypes.py_object)()"
   ]
  },
  {
   "cell_type": "markdown",
   "id": "ef3b7822",
   "metadata": {},
   "source": [
    "#### Exercise: Given a string represented as an array, how do we determine if this string is a palindrome? \n",
    "\n",
    "#### Ex: The string \"kayak\" is represented as [\"k\",\"a\",\"y\",\"a\",\"k\"]"
   ]
  },
  {
   "cell_type": "code",
   "execution_count": null,
   "id": "06641d61",
   "metadata": {},
   "outputs": [],
   "source": [
    "d = ['a', 'b', 'c']\n",
    "d1 = ['c', 'b', 'a']"
   ]
  },
  {
   "cell_type": "code",
   "execution_count": 18,
   "id": "7eb3c8d2",
   "metadata": {},
   "outputs": [],
   "source": [
    "def is_palindrome(A):\n",
    "    \n",
    "    i = 0\n",
    "    j = len(A) - 1\n",
    "    while i<j:\n",
    "        if A[i] == A[j]:\n",
    "            i += 1\n",
    "            j -= 1\n",
    "        else:\n",
    "            return False\n",
    "    return True"
   ]
  },
  {
   "cell_type": "markdown",
   "id": "67ced24c",
   "metadata": {},
   "source": [
    "#### Complexity?"
   ]
  },
  {
   "cell_type": "markdown",
   "id": "a6c79c7b",
   "metadata": {},
   "source": [
    "## Singly Linked Lists"
   ]
  },
  {
   "cell_type": "code",
   "execution_count": 20,
   "id": "0df5a168",
   "metadata": {},
   "outputs": [],
   "source": [
    "class Node:\n",
    "    \"\"\"\n",
    "    Implementation of a node\n",
    "    \"\"\"\n",
    "    def __init__(self, val=None):\n",
    "        self.val = val\n",
    "        self.next = None\n",
    "    \n",
    "    def set_next_node(self, next):\n",
    "        self.next = next\n",
    "        \n",
    "class Singly_linked_list:\n",
    "    \"\"\"\n",
    "    Implementation of a singly linked list\n",
    "    \"\"\"\n",
    "    def __init__(self, head_node=None):\n",
    "        self.head = head\n",
    "        \n",
    "    def list_traversed(self):\n",
    "        node = self.head\n",
    "        while node:\n",
    "            print(node.val)\n",
    "            node = node.next"
   ]
  },
  {
   "cell_type": "markdown",
   "id": "5f3869d3",
   "metadata": {},
   "source": [
    "### Exercise: Reverse a singly linked list "
   ]
  },
  {
   "cell_type": "code",
   "execution_count": null,
   "id": "0a74aa8e",
   "metadata": {},
   "outputs": [],
   "source": [
    "a -> b -> c\n",
    "nil <- a <- b <- c"
   ]
  },
  {
   "cell_type": "code",
   "execution_count": null,
   "id": "31b95e70",
   "metadata": {},
   "outputs": [],
   "source": [
    "def reverse_ll(head):\n",
    "    prev = None\n",
    "    while head:\n",
    "        next = head.next\n",
    "        head.next = prev\n",
    "        prev = head\n",
    "        head = next"
   ]
  },
  {
   "cell_type": "markdown",
   "id": "bedb6015",
   "metadata": {},
   "source": [
    "## Doubly linked list"
   ]
  },
  {
   "cell_type": "code",
   "execution_count": 22,
   "id": "67565366",
   "metadata": {},
   "outputs": [],
   "source": [
    "class Node:\n",
    "    \"\"\"\n",
    "    Implementation of a node\n",
    "    \"\"\"\n",
    "    def __init__(self, val=None):\n",
    "        self.val = val\n",
    "        self.next = None\n",
    "        self.prev = None\n",
    "        \n",
    "class Doubly_linked_list:\n",
    "    \"\"\"\n",
    "    Implementation of a singly linked list\n",
    "    \"\"\"\n",
    "    def __init__(self, head=None):\n",
    "        self.head = head"
   ]
  },
  {
   "cell_type": "markdown",
   "id": "cb9baf19",
   "metadata": {},
   "source": [
    "### Exercise: Reverse a doubly linked list "
   ]
  },
  {
   "cell_type": "code",
   "execution_count": 21,
   "id": "6db7b281",
   "metadata": {},
   "outputs": [],
   "source": [
    "def reverse_dll(head):\n",
    "    while head:\n",
    "        head.next, head.prev = head.prev, head.next\n",
    "        head = head.prev\n",
    "        "
   ]
  },
  {
   "cell_type": "markdown",
   "id": "c6eb7758",
   "metadata": {},
   "source": [
    "## Stacks"
   ]
  },
  {
   "cell_type": "markdown",
   "id": "818db59d",
   "metadata": {},
   "source": [
    "Stacks and queues are linear data structures\n",
    "- Stacks follow the principle Last In First Out (LIFO)\n",
    "- The last element inserted inside the stack is removed first\n",
    "- Example: pile of plates on top of another"
   ]
  },
  {
   "cell_type": "code",
   "execution_count": 25,
   "id": "06f7b90d",
   "metadata": {},
   "outputs": [],
   "source": [
    "import ctypes\n",
    "class Stack(object):\n",
    "    \"\"\"\n",
    "    Implementation of the stack data structure\n",
    "    \"\"\"\n",
    "\n",
    "    def __init__(self, n):\n",
    "        self.item_count = 0\n",
    "        self.n = n\n",
    "        self.stack = self._create_stack(self.n)        \n",
    "    \n",
    "    def _create_stack(self, n):\n",
    "        \"\"\"\n",
    "        Creates a new stack of capacity n\n",
    "        \"\"\"\n",
    "        return (n * ctypes.py_object)()"
   ]
  },
  {
   "cell_type": "markdown",
   "id": "1da389fa",
   "metadata": {},
   "source": [
    "## Queues \n",
    "- Linear data structures\n",
    "- Double ended structure\n",
    "- First-in, first-out (FIFO) list "
   ]
  },
  {
   "cell_type": "code",
   "execution_count": 27,
   "id": "047e2363",
   "metadata": {},
   "outputs": [],
   "source": [
    "# We can use the same implementation we used for Arrays\n",
    "import ctypes\n",
    "class Queue(object):\n",
    "    \"\"\"\n",
    "    Implementation of the queue data structure\n",
    "    \"\"\"\n",
    "\n",
    "    def __init__(self, n):\n",
    "        self.item_count = 0\n",
    "        self.n = n\n",
    "        self.queue = self._create_queue(self.n)        \n",
    "    \n",
    "    def _create_queue(self, n):\n",
    "        \"\"\"\n",
    "        Creates a new stack of capacity n\n",
    "        \"\"\"\n",
    "        return (n * ctypes.py_object)()"
   ]
  },
  {
   "cell_type": "markdown",
   "id": "6e474dac",
   "metadata": {},
   "source": [
    "## Recursion\n",
    "\n",
    "- It is a technique to solve problems by using a function that calls itself as a subroutine\n",
    "- Each time time a recursive function calls itself, it reduces the given problem into subproblems\n",
    "- The recursion continues until it reaches a point where the subproblem can be solved without further recursion\n",
    "\n",
    "### Parts of a recursive function\n",
    "\n",
    "- **Base case:** the terminating condition that does not call the function itself\n",
    "- **Recurrence relation:** Set of rules that reduce all other cases towards the base case\n",
    "\n",
    "Note: The function can be called itself in multiple cases.\n",
    "\n",
    "\n",
    "## Divide and Conquer\n",
    "\n",
    "1. **Divide** the problem $S$ into a set of subproblems: $\\{S_1, S_2, ... S_n\\}$ for $n \\geq 2$\n",
    "\n",
    "2. **Conquer** Solve each subproblem recursively. \n",
    "\n",
    "3. **Combine** Combine the results of each subproblem."
   ]
  },
  {
   "cell_type": "markdown",
   "id": "c0195701",
   "metadata": {},
   "source": [
    "### Example -  Quick Sort\n",
    "\n",
    "\n",
    "```\n",
    "L1 = [5, 9, 7, 2, 3, 10, 0, 4, 1, 8, 6, 11]\n",
    "\n",
    "## 1st:\n",
    "\n",
    "L11 = [5, 2, 3, 0, 4, 1]\n",
    "pivot = [6]\n",
    "L12 = [9, 7, 10, 8, 11]\n",
    "\n",
    "## 2nd:\n",
    "\n",
    "\n",
    "[2, 0, 1]\n",
    "[3]\n",
    "L11 = [5, 4]\n",
    "---\n",
    "pivot = [6]\n",
    "---\n",
    "[7, 6]\n",
    "[8]\n",
    "L12 = [9, 10, 11]\n",
    "\n",
    "\n",
    "\n",
    "## 3rd:\n",
    "\n",
    "...\n",
    "```"
   ]
  },
  {
   "cell_type": "markdown",
   "id": "b8fe7d35",
   "metadata": {},
   "source": [
    "## Trees \n",
    "\n",
    "- A tree is an abstract model of a hierarchical structure\n",
    "- Consists of nodes with a parent-child relation\n",
    "- Applications:\n",
    "    - Organization charts\n",
    "    - File systems\n",
    "    - Programming environments"
   ]
  },
  {
   "cell_type": "markdown",
   "id": "43a68270",
   "metadata": {},
   "source": [
    "## Binary Tree\n",
    "\n",
    "- One of the most typical tree structures\n",
    "- Each node has at most two children\n"
   ]
  },
  {
   "cell_type": "code",
   "execution_count": 30,
   "id": "3ff2590e",
   "metadata": {},
   "outputs": [],
   "source": [
    "class TreeNode:\n",
    "    def __init__(self, val=0, left=None, right=None):\n",
    "        self.val = val\n",
    "        self.left = left\n",
    "        self.right = right"
   ]
  },
  {
   "cell_type": "markdown",
   "id": "4711fe1c",
   "metadata": {},
   "source": [
    "## Tree Traversal\n",
    "\n",
    "- Pre-order\n",
    "- In-order\n",
    "- Post-order"
   ]
  },
  {
   "cell_type": "markdown",
   "id": "6ebfbdfd",
   "metadata": {},
   "source": [
    "## Binary Search Trees (BST)\n",
    "\n",
    "- Special form of a binary tree. \n",
    "- The value of each node must be greater than (or equal to) any values in the left subtree\n",
    "- The value of each node must be less than (or equal to) any values in the right subtree\n"
   ]
  },
  {
   "cell_type": "markdown",
   "id": "0bb8f560",
   "metadata": {},
   "source": [
    "### Exercise: Write a program that validates that a tree is a BST "
   ]
  },
  {
   "cell_type": "code",
   "execution_count": null,
   "id": "dc9c137f",
   "metadata": {},
   "outputs": [],
   "source": [
    "class Node:\n",
    "    def __init__(self, val=0, left=None, right=None):\n",
    "        self.val = x\n",
    "        self.left = None\n",
    "        self.right = None\n",
    "\n",
    "\n",
    "def valid_BST(root, low=-math.inf, high=math.inf):\n",
    "\n",
    "    if not root:\n",
    "        return True\n",
    "    if root.val <= low or root.val >= high:\n",
    "        return False\n",
    "\n",
    "    return (valid_BST(root.right, root.val, high) and\n",
    "           valid_BST(root.left, low, root.val))"
   ]
  }
 ],
 "metadata": {
  "kernelspec": {
   "display_name": "Python 3",
   "language": "python",
   "name": "python3"
  },
  "language_info": {
   "codemirror_mode": {
    "name": "ipython",
    "version": 3
   },
   "file_extension": ".py",
   "mimetype": "text/x-python",
   "name": "python",
   "nbconvert_exporter": "python",
   "pygments_lexer": "ipython3",
   "version": "3.8.8"
  }
 },
 "nbformat": 4,
 "nbformat_minor": 5
}
