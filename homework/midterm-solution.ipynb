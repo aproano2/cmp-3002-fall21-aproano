{
 "cells": [
  {
   "cell_type": "markdown",
   "id": "cae87a99",
   "metadata": {},
   "source": [
    "## Verdadero o falso con argumentos"
   ]
  },
  {
   "cell_type": "markdown",
   "id": "dd24dc62",
   "metadata": {},
   "source": [
    "### 1.  Una función recursiva resuelve un problema resolviendo una parte mas pequeña del mismo problema "
   ]
  },
  {
   "cell_type": "markdown",
   "id": "cf8a5834",
   "metadata": {},
   "source": [
    "Verdadero. Esa es la definición de recursividad."
   ]
  },
  {
   "cell_type": "markdown",
   "id": "691524e4",
   "metadata": {},
   "source": [
    "### 2.  Los modelos computacionales nos ayudan a analizar la complejidad de los algoritmos, ya que nos proveen de las especificaciones de la computadora en la cual estos se ejecutarían idealmente"
   ]
  },
  {
   "cell_type": "markdown",
   "id": "1ec60124",
   "metadata": {},
   "source": [
    "Verdadero. Los modelos de computacionales definen la condiciones básicas del sistema en el cual algoritmos corren. Estos nos ayudan a identificar el numero de procesadores disponibles y la estructura de la memoria que se usa. \n"
   ]
  },
  {
   "cell_type": "markdown",
   "id": "e5f602d1",
   "metadata": {},
   "source": [
    "### 3.  La búsqueda en un árbol binario de búsqueda es siempre mas rápida que la búsqueda lineal en un arreglo"
   ]
  },
  {
   "cell_type": "markdown",
   "id": "f572376d",
   "metadata": {},
   "source": [
    "Falso. Depende de si el árbol es balanceado o no. En el peor caso, la búsqueda en el árbol tiene la misma complejidad que una búsqueda lineal."
   ]
  },
  {
   "cell_type": "markdown",
   "id": "a1fdae73",
   "metadata": {},
   "source": [
    "### 4. Un algoritmo de complejidad O(nlog(n)) es mas rápido que un algoritmo de complejidad O(n) "
   ]
  },
  {
   "cell_type": "markdown",
   "id": "759abebe",
   "metadata": {},
   "source": [
    "Falso. En general `nlog(n)` crece mas rápido que `n`."
   ]
  },
  {
   "cell_type": "markdown",
   "id": "e296f8f9",
   "metadata": {},
   "source": [
    "### 5.  Un algoritmo de complejidad Ω(nlog(n)) es mas rápido que un algoritmo de complejidad Ω(n)"
   ]
  },
  {
   "cell_type": "markdown",
   "id": "9e2b6e1a",
   "metadata": {},
   "source": [
    "Falso. En general `nlog(n)` crece mas rápido que `n`."
   ]
  },
  {
   "cell_type": "markdown",
   "id": "d1446925",
   "metadata": {},
   "source": [
    "## Problemas de programación\n",
    "#### Todo el código debe ser en Python. Si se requiere escribir funciones que hagan búsqueda o ordenamiento (search, sort), programe las funciones usando los conceptos aprendidos en clase. No use las funciones que Python provee para hacer esto. "
   ]
  },
  {
   "cell_type": "markdown",
   "id": "4fb17ce9",
   "metadata": {},
   "source": [
    "### 6. Dada una lista enlazada que represente un número. Por ejemplo, 123 es representado por la lista 1->2->3 si la lista es simple o con doble enlace si es doble. Escriba un programa que haga lo siguiente:\n",
    "\n",
    "1. Reciba dos números A y B como input\n",
    "\n",
    "2. Transforme estos números a listas enlazadas como la definida arriba\n",
    "\n",
    "3. Implemente la resta de los números descritos por esas listas enlazadas. El resultado (A-B) debe ser almacenado en una lista enlazada.\n",
    "\n",
    "4. Imprima el resultado concatenando el valor de los nodos de la lista enlazada resultante\n",
    "\n",
    "Nota: asuma que el número A es mayor que B"
   ]
  },
  {
   "cell_type": "code",
   "execution_count": 8,
   "id": "9bc5dc62",
   "metadata": {},
   "outputs": [],
   "source": [
    "class Node:\n",
    "    \"\"\"\n",
    "    Implementation of a node\n",
    "    \"\"\"\n",
    "    def __init__(self, val=None):\n",
    "        self.val = val\n",
    "        self.next = None\n",
    "    \n",
    "    def set_next_node(self, next):\n",
    "        self.next = next\n",
    "\n",
    "        \n",
    "def reverse_ll(head):\n",
    "    prev = None\n",
    "    while head:\n",
    "        next = head.next\n",
    "        head.next = prev\n",
    "        prev = head\n",
    "        head = next\n",
    "    return prev"
   ]
  },
  {
   "cell_type": "code",
   "execution_count": 4,
   "id": "58e2e5c2",
   "metadata": {},
   "outputs": [],
   "source": [
    "def transform_ll(n):\n",
    "    prev = None\n",
    "    while n > 0:\n",
    "        n1 = n % 10\n",
    "        node = Node(n1)\n",
    "        if prev:\n",
    "            prev.next = node\n",
    "        else:\n",
    "            head = node\n",
    "        prev = node\n",
    "        n = n//10\n",
    "    return head"
   ]
  },
  {
   "cell_type": "code",
   "execution_count": 153,
   "id": "b3906384",
   "metadata": {},
   "outputs": [
    {
     "data": {
      "text/plain": [
       "12"
      ]
     },
     "execution_count": 153,
     "metadata": {},
     "output_type": "execute_result"
    }
   ],
   "source": [
    "123//10"
   ]
  },
  {
   "cell_type": "code",
   "execution_count": null,
   "id": "e0fe80d4",
   "metadata": {},
   "outputs": [],
   "source": [
    "123\n",
    "n1 = 3\n",
    "12\n",
    "n1=2\n",
    "1\n",
    "n1=1"
   ]
  },
  {
   "cell_type": "code",
   "execution_count": null,
   "id": "87e3fa8c",
   "metadata": {},
   "outputs": [],
   "source": [
    "3->2->1"
   ]
  },
  {
   "cell_type": "code",
   "execution_count": 6,
   "id": "4796c500",
   "metadata": {},
   "outputs": [],
   "source": [
    "a = transform_ll(123)"
   ]
  },
  {
   "cell_type": "code",
   "execution_count": 7,
   "id": "f860e6ef",
   "metadata": {},
   "outputs": [
    {
     "name": "stdout",
     "output_type": "stream",
     "text": [
      "3\n",
      "2\n",
      "1\n"
     ]
    }
   ],
   "source": [
    "print(a.val)\n",
    "print(a.next.val)\n",
    "print(a.next.next.val)"
   ]
  },
  {
   "cell_type": "code",
   "execution_count": 20,
   "id": "b7361b3a",
   "metadata": {},
   "outputs": [],
   "source": [
    "def substration(a,b):\n",
    "    sign = 1\n",
    "    if a < b:\n",
    "        a, b = b, a\n",
    "        sign = -1\n",
    "    \n",
    "    al = transform_ll(a)\n",
    "    bl = transform_ll(b)\n",
    "    \n",
    "    prev = None\n",
    "    carry = 0\n",
    "    \n",
    "    while al or bl:        \n",
    "        op1 = al.val\n",
    "        if bl:\n",
    "            op2 = bl.val\n",
    "        else:\n",
    "            op2 = 0        \n",
    "        val = op1 - (op2 + carry)\n",
    "        carry = 0\n",
    "        if val < 0:\n",
    "            val = val + 10\n",
    "            carry = 1\n",
    "        node = Node(val)\n",
    "        if prev:\n",
    "            prev.next = node\n",
    "        else:\n",
    "            head = node\n",
    "        prev = node\n",
    "        al = al.next\n",
    "        if bl:\n",
    "            bl = bl.next   \n",
    "    return reverse_ll(head)\n",
    "    "
   ]
  },
  {
   "cell_type": "code",
   "execution_count": null,
   "id": "3380791d",
   "metadata": {},
   "outputs": [],
   "source": [
    "1234\n",
    " 345\n",
    "   9\n",
    "9->8->8"
   ]
  },
  {
   "cell_type": "code",
   "execution_count": 154,
   "id": "fcf2a2e1",
   "metadata": {},
   "outputs": [],
   "source": [
    "d = substration(1234,345)"
   ]
  },
  {
   "cell_type": "code",
   "execution_count": 155,
   "id": "744e1f96",
   "metadata": {},
   "outputs": [
    {
     "name": "stdout",
     "output_type": "stream",
     "text": [
      "0\n",
      "8\n",
      "8\n",
      "9\n"
     ]
    }
   ],
   "source": [
    "node = d\n",
    "while node:\n",
    "    print(node.val)\n",
    "    node = node.next"
   ]
  },
  {
   "cell_type": "markdown",
   "id": "ad6c65a4",
   "metadata": {},
   "source": [
    "### 7.  Cuando introducimos el concepto de pilas (stacks), usamos como ejemplos una pila de platos. Siguiendo con el ejemplo, una pila de platos con muchos platos se puede caer. Para evitar esto, se puede empezar una nueva pila.\n",
    "\n",
    "Implemente una clase de Python que defina un arreglo de stacks. La idea de tener este arreglo es que cuando un stack alcance su capacidad máxima, un nuevo stack empieza en el mismo arreglo. Las operación pop() debe retornar el mismo valor que lo haría si estuviéramos usando un stack simple. \n",
    "\n",
    "Nota: Debe definir los elementos de la clase: el arreglo de stacks, la capacidad del arreglo (# de stacks en el arreglo), la capacidad de cada stack (# de elementos que puede tener el stack). \n",
    "\n",
    "Hint: Cuando ingrese elementos (push), los elementos van al stack que este activo (el stack que recibe y retira elementos). Debe manejar las condiciones para cambiar el stack activo (cuando un push() deja al stack sin elementos, o cuando un pop() llena el stack)."
   ]
  },
  {
   "cell_type": "code",
   "execution_count": 40,
   "id": "b357ff4f",
   "metadata": {},
   "outputs": [],
   "source": [
    "import ctypes\n",
    "class Stack(object):\n",
    "    \"\"\"\n",
    "    Implementation of the stack data structure\n",
    "    \"\"\"\n",
    "    def __init__(self, n):\n",
    "        self.item_count = 0\n",
    "        self.n = n\n",
    "        self.stack = self._create_stack(self.n)        \n",
    "    \n",
    "    def _create_stack(self, n):\n",
    "        \"\"\"\n",
    "        Creates a new stack of capacity n\n",
    "        \"\"\"\n",
    "        return (n * ctypes.py_object)()\n",
    "    \n",
    "    def push(self, item):\n",
    "        \"\"\"\n",
    "        Add new item to the stack\n",
    "        \"\"\"\n",
    "        if self.item_count == self.n:\n",
    "            raise ValueError(\"no more capacity\")\n",
    "        self.stack[self.item_count] = item\n",
    "        self.item_count += 1\n",
    "        \n",
    "    def pop(self):\n",
    "        \"\"\"\n",
    "        Remove an element from the stack\n",
    "        \"\"\"\n",
    "        if self.empty:\n",
    "            raise ValueError(\"Stack is empty\")\n",
    "        c = self.stack[self.item_count-1]\n",
    "        self.stack[self.item_count] = ctypes.py_object\n",
    "        self.item_count -= 1\n",
    "        return c\n",
    "    \n",
    "    def empty(self):\n",
    "        \"\"\"\n",
    "        Is the stack empty?\n",
    "        \"\"\"\n",
    "        if self.item_count == 0:\n",
    "            return True\n",
    "        return False\n",
    "    \n",
    "\n",
    "class StackArray(object):\n",
    "    \"\"\"\n",
    "    m: number of stacks\n",
    "    n: capacity of each stack\n",
    "    \"\"\"\n",
    "    def __init__(self, m, n):        \n",
    "        self.n = n\n",
    "        self.m = m\n",
    "        self.active = 0\n",
    "        self.stack_array = [Stack(n)] * m\n",
    "        \n",
    "    def push(self, item):\n",
    "        stack = self.stack_array[self.active]\n",
    "        if stack.item_count == self.n:\n",
    "            self.active += 1\n",
    "            if self.active == self.m:\n",
    "                raise ValueError(\"no more capacity\")\n",
    "            stack = self.stack_array[self.active]\n",
    "        stack.push(item)\n",
    "        \n",
    "    def pop(self):\n",
    "        stack = self.stack_array[self.active]\n",
    "        c = stack.pop()\n",
    "        if stack.empty() and self.active > 0:\n",
    "            self.active -= 1\n",
    "        return c\n",
    "        \n",
    "        "
   ]
  },
  {
   "cell_type": "markdown",
   "id": "b3d44802",
   "metadata": {},
   "source": [
    "### 8. Dada una cola con prioridad (PriorityQueue) que contiene elementos (k,v) donde k define la prioridad y v define el valor. Recuerde que los valores con menor k tienen mayor prioridad, es decir si tenemos dos elementos (k1, v1) y (k2, v2), v2 tiene preferencia para salir de la cola antes que v1 si k2< k1. Definimos algunas de las operaciones como siguen:\n",
    "\n",
    "```\n",
    "import ctypes\n",
    "\n",
    "class PriorityQueue(object):\n",
    "\n",
    "\"\"\"\n",
    "\n",
    "Implementation of the queue data structure\n",
    "\n",
    "\"\"\"\n",
    "\n",
    "def __init__(self, n):\n",
    "\n",
    "self.item_count = 0\n",
    "\n",
    "self.n = n\n",
    "\n",
    "self.queue = self._create_queue(self.n)\n",
    "\n",
    "def _create_queue(self, n):\n",
    "\n",
    "\"\"\"\n",
    "\n",
    "Creates a new stack of capacity n\n",
    "\n",
    "\"\"\"\n",
    "\n",
    "return (n * ctypes.py_object)()\n",
    "\n",
    "def dequeue(self):\n",
    "\n",
    "\"\"\"\n",
    "\n",
    "Remove an element from the queue\n",
    "\n",
    "\"\"\"\n",
    "\n",
    "c = self.queue[0]\n",
    "\n",
    "for i in range(1,self.item_count):\n",
    "\n",
    "self.queue[i-1] = self.queue[i]\n",
    "\n",
    "self.queue[self.item_count - 1] = ctypes.py_object\n",
    "\n",
    "self.item_count -= 1\n",
    "\n",
    "return c\n",
    "```\n",
    "\n",
    "### Implemente los métodos enqueue y decreaseKey, tal que ambos métodos tengan complejidad O(log(n)), sin utilizar funciones nativas de Python. Por ejemplo, si necesita hacer una búsqueda, no use la función de Python que implementa esto, programe la función usando for o while loops."
   ]
  },
  {
   "cell_type": "code",
   "execution_count": 141,
   "id": "f076c7cb",
   "metadata": {},
   "outputs": [],
   "source": [
    "def search_new(queue, val, lim_up):\n",
    "    \"\"\"\n",
    "    queue has tuples (k,v)\n",
    "    \"\"\"\n",
    "    low = 0\n",
    "    high = lim_up - 1\n",
    "    mid = 0\n",
    "    \n",
    "    while low <= high:\n",
    "        mid = (high + low) // 2\n",
    "        if queue[mid][0] < val[0]:\n",
    "            low = mid + 1\n",
    "        elif queue[mid][0] > val[0]:\n",
    "            high = mid - 1\n",
    "        else:\n",
    "            if (mid + 1 < lim_up) and queue[mid+1] == val[0]:\n",
    "                low = mid + 1\n",
    "                continue\n",
    "            return mid\n",
    "            \n",
    "    return mid"
   ]
  },
  {
   "cell_type": "code",
   "execution_count": 145,
   "id": "dc44fa0a",
   "metadata": {},
   "outputs": [],
   "source": [
    "import ctypes\n",
    "\n",
    "class PriorityQueue(object):\n",
    "\n",
    "    \"\"\"\n",
    "    Implementation of the queue data structure\n",
    "    \"\"\"\n",
    "\n",
    "    def __init__(self, n):\n",
    "        self.item_count = 0\n",
    "        self.n = n\n",
    "        self.queue = self._create_queue(self.n)\n",
    "        \n",
    "    def show(self):\n",
    "        for i in range(self.item_count):\n",
    "            print(self.queue[i])\n",
    "\n",
    "    def _create_queue(self, n):\n",
    "\n",
    "        \"\"\"\n",
    "        Creates a new stack of capacity n\n",
    "        \"\"\"\n",
    "        return (n * ctypes.py_object)()\n",
    "\n",
    "    def dequeue(self):\n",
    "        \"\"\"\n",
    "        Remove an element from the queue\n",
    "        \"\"\"\n",
    "        c = self.queue[0]\n",
    "        for i in range(1,self.item_count):\n",
    "            self.queue[i-1] = self.queue[i]\n",
    "        self.queue[self.item_count - 1] = ctypes.py_object\n",
    "        self.item_count -= 1\n",
    "        return c\n",
    "    \n",
    "    def enqueue(self, val):\n",
    "        \"\"\"\n",
    "        Add new item to the queue\n",
    "        \"\"\"\n",
    "        if self.item_count == self.n:\n",
    "            raise ValueError(\"no more capacity\")\n",
    "        \n",
    "        if self.item_count:\n",
    "            ind = search_new(self.queue, val, self.item_count)\n",
    "        else:\n",
    "            self.queue[0] = val\n",
    "            self.item_count = 1\n",
    "            return\n",
    "        \n",
    "        if (ind == 0) and (self.item_count) and (val[0] < self.queue[0][0]):\n",
    "            self.queue[1:self.item_count + 1] = self.queue[:self.item_count]\n",
    "            self.queue[0] = val\n",
    "        else:\n",
    "            self.queue[ind+2:self.item_count+1] = self.queue[ind+1:self.item_count]\n",
    "            self.queue[ind+1] = val\n",
    "        self.item_count += 1"
   ]
  },
  {
   "cell_type": "code",
   "execution_count": null,
   "id": "9dd6e2bf",
   "metadata": {},
   "outputs": [],
   "source": [
    "[(1,2),(1,1),(2,3), (3,4)]\n",
    "\n",
    "\n",
    "[1:2->1->5,\n",
    " 2:3,\n",
    " 3:4]\n",
    "\n",
    "\n",
    "(1,5)\n",
    "\n",
    "log(n)+m, m~n"
   ]
  },
  {
   "cell_type": "code",
   "execution_count": 146,
   "id": "3d659ac3",
   "metadata": {},
   "outputs": [],
   "source": [
    "q = PriorityQueue(10)"
   ]
  },
  {
   "cell_type": "code",
   "execution_count": 147,
   "id": "48d6974e",
   "metadata": {},
   "outputs": [],
   "source": [
    "q.enqueue((0,1))\n",
    "q.enqueue((1,2))\n",
    "q.enqueue((1,3))\n",
    "q.enqueue((2,5))\n",
    "q.enqueue((2,6))\n",
    "q.enqueue((1,4))\n"
   ]
  },
  {
   "cell_type": "code",
   "execution_count": 148,
   "id": "eec44cd1",
   "metadata": {},
   "outputs": [
    {
     "name": "stdout",
     "output_type": "stream",
     "text": [
      "(0, 1)\n",
      "(1, 2)\n",
      "(1, 3)\n",
      "(1, 4)\n",
      "(2, 5)\n",
      "(2, 6)\n"
     ]
    }
   ],
   "source": [
    "q.show()"
   ]
  },
  {
   "cell_type": "code",
   "execution_count": 149,
   "id": "13ebaa9c",
   "metadata": {},
   "outputs": [
    {
     "data": {
      "text/plain": [
       "(0, 1)"
      ]
     },
     "execution_count": 149,
     "metadata": {},
     "output_type": "execute_result"
    }
   ],
   "source": [
    "q.dequeue()"
   ]
  },
  {
   "cell_type": "code",
   "execution_count": 150,
   "id": "23afd6cd",
   "metadata": {},
   "outputs": [
    {
     "name": "stdout",
     "output_type": "stream",
     "text": [
      "(1, 2)\n",
      "(1, 3)\n",
      "(1, 4)\n",
      "(2, 5)\n",
      "(2, 6)\n"
     ]
    }
   ],
   "source": [
    "q.show()"
   ]
  },
  {
   "cell_type": "markdown",
   "id": "3591936d",
   "metadata": {},
   "source": [
    "### 9. Tenemos un árbol binario (binary tree), definimos a un nodo X como rojo, si todos los nodos en el recorrido de la raiz al nodo X tienen un valor que es menor o igual a X. Por ejemplo, en el ejemplo de abajo:\n",
    "\n",
    "![](./binary_tree.png)\n",
    "\n",
    "El recorrido hacia el nodo 3 de la izquierda es 3 → 1 → 3, como todos los valores en este recorrido son menores o iguales a 3 (3=3 y 1<3), el nodo es rojo. Similarmente, en el sub-árbol de la derecha, los nodos 4 y 5 también son rojos. Escriba una función en Python que cuente el numero total de nodos rojos. El input de esta función es la raíz del árbol binario.\n",
    "\n",
    " "
   ]
  },
  {
   "cell_type": "code",
   "execution_count": 22,
   "id": "0fee5aa9",
   "metadata": {},
   "outputs": [],
   "source": [
    "class TreeNode:\n",
    "    def __init__(self, val=0, left=None, right=None):\n",
    "        self.val = val\n",
    "        self.left = left\n",
    "        self.right = right"
   ]
  },
  {
   "cell_type": "code",
   "execution_count": 35,
   "id": "7683148e",
   "metadata": {},
   "outputs": [],
   "source": [
    "import math\n",
    "\n",
    "\n",
    "\n",
    "def traverse(node, max_so_far):\n",
    "    global total\n",
    "    if not node:\n",
    "        return\n",
    "    if node.val >= max_so_far:\n",
    "        total += 1\n",
    "        max_so_far = node.val\n",
    "    traverse(node.left, max_so_far)\n",
    "    traverse(node.right, max_so_far)\n",
    "\n",
    "def red_nodes(root):\n",
    "    total = 0\n",
    "    traverse(root, -math.inf)\n",
    "    return total"
   ]
  },
  {
   "cell_type": "code",
   "execution_count": 30,
   "id": "fc98799d",
   "metadata": {},
   "outputs": [],
   "source": [
    "node1 = TreeNode(3)\n",
    "node2 = TreeNode(1, left=node1)\n",
    "node3 = TreeNode(1)\n",
    "node4 = TreeNode(5)\n",
    "node5 = TreeNode(4, left=node3, right=node4)\n",
    "root = TreeNode(3,left=node2, right=node5)"
   ]
  },
  {
   "cell_type": "code",
   "execution_count": 36,
   "id": "19039276",
   "metadata": {},
   "outputs": [
    {
     "data": {
      "text/plain": [
       "4"
      ]
     },
     "execution_count": 36,
     "metadata": {},
     "output_type": "execute_result"
    }
   ],
   "source": [
    "red_nodes(root)"
   ]
  },
  {
   "cell_type": "code",
   "execution_count": null,
   "id": "26309dce",
   "metadata": {},
   "outputs": [],
   "source": []
  }
 ],
 "metadata": {
  "kernelspec": {
   "display_name": "Python 3",
   "language": "python",
   "name": "python3"
  },
  "language_info": {
   "codemirror_mode": {
    "name": "ipython",
    "version": 3
   },
   "file_extension": ".py",
   "mimetype": "text/x-python",
   "name": "python",
   "nbconvert_exporter": "python",
   "pygments_lexer": "ipython3",
   "version": "3.8.8"
  }
 },
 "nbformat": 4,
 "nbformat_minor": 5
}
