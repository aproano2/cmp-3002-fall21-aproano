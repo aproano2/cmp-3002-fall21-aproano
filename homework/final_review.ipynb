{
 "cells": [
  {
   "cell_type": "code",
   "execution_count": 1,
   "id": "f1aad8ed",
   "metadata": {},
   "outputs": [],
   "source": [
    "import pandas as pd"
   ]
  },
  {
   "cell_type": "markdown",
   "id": "e5e63314",
   "metadata": {},
   "source": [
    "## Skip list copy\n",
    "\n",
    "A skip list is a data sctructure similar to a singly linked list. The difference is that each node connects to a forward node with a certain probability. \n",
    "\n",
    "![](./skip_list.png)\n",
    "\n",
    "Given skip list, write a program that makes a deep copy of it"
   ]
  },
  {
   "cell_type": "code",
   "execution_count": 2,
   "id": "bccbe273",
   "metadata": {},
   "outputs": [],
   "source": [
    "class Node():\n",
    "    \n",
    "    def __init__(self, value, next=None, skip=None):\n",
    "        \n",
    "        self.value = value\n",
    "        self.next = next\n",
    "        self.skip = skip  # opcional"
   ]
  },
  {
   "cell_type": "code",
   "execution_count": 3,
   "id": "eaf5b5c8",
   "metadata": {},
   "outputs": [],
   "source": [
    "dec = Node('Dec')\n",
    "march = Node('March', next=dec)\n",
    "feb = Node('Feb', next=march, skip=dec)\n",
    "jan = Node('Jan', next=feb, skip=march)"
   ]
  },
  {
   "cell_type": "code",
   "execution_count": null,
   "id": "c6be38cd",
   "metadata": {},
   "outputs": [],
   "source": []
  },
  {
   "cell_type": "code",
   "execution_count": null,
   "id": "d3c10153",
   "metadata": {},
   "outputs": [],
   "source": []
  },
  {
   "cell_type": "markdown",
   "id": "c5043340",
   "metadata": {},
   "source": [
    "## Detect duplicates\n",
    "\n",
    "Given an array with numbers, determine if this array contains any element that occurs at least twice. Return `true` if that's the case\n",
    "\n",
    "Example 1:\n",
    "```\n",
    "input = [2,1,6,7,9]\n",
    "output false\n",
    "```\n",
    "\n",
    "Example 2:\n",
    "```\n",
    "input = [1,2,4,5,6,2]\n",
    "output true\n",
    "```"
   ]
  },
  {
   "cell_type": "code",
   "execution_count": null,
   "id": "27017b8e",
   "metadata": {},
   "outputs": [],
   "source": []
  },
  {
   "cell_type": "code",
   "execution_count": null,
   "id": "a08e0198",
   "metadata": {},
   "outputs": [],
   "source": []
  },
  {
   "cell_type": "markdown",
   "id": "fd283578",
   "metadata": {},
   "source": [
    "## Pre-order Traversal\n",
    "\n",
    "- Visit the root first\n",
    "- Then traverse the left subtree\n",
    "- Finally, traverse the right subtree\n",
    "\n",
    "![](./binary_tree_1.png)\n",
    "\n",
    "Result:\n",
    "\n",
    "[A, B, C, D, E, F, G, H, I]"
   ]
  },
  {
   "cell_type": "code",
   "execution_count": null,
   "id": "4c429a1a",
   "metadata": {},
   "outputs": [],
   "source": []
  }
 ],
 "metadata": {
  "kernelspec": {
   "display_name": "Python 3",
   "language": "python",
   "name": "python3"
  },
  "language_info": {
   "codemirror_mode": {
    "name": "ipython",
    "version": 3
   },
   "file_extension": ".py",
   "mimetype": "text/x-python",
   "name": "python",
   "nbconvert_exporter": "python",
   "pygments_lexer": "ipython3",
   "version": "3.8.8"
  }
 },
 "nbformat": 4,
 "nbformat_minor": 5
}
