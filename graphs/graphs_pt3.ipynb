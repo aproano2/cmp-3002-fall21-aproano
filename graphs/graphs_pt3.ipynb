{
 "cells": [
  {
   "cell_type": "code",
   "execution_count": 1,
   "id": "5acb4fe5",
   "metadata": {
    "slideshow": {
     "slide_type": "skip"
    }
   },
   "outputs": [],
   "source": [
    "import time\n",
    "import pandas as pd\n",
    "import numpy as np\n",
    "import matplotlib.pyplot as plt\n",
    "%matplotlib inline  "
   ]
  },
  {
   "cell_type": "markdown",
   "id": "a41bb501",
   "metadata": {
    "slideshow": {
     "slide_type": "slide"
    }
   },
   "source": [
    "# CMP 3002 \n",
    "## Graphs"
   ]
  },
  {
   "cell_type": "markdown",
   "id": "d23f2a16",
   "metadata": {
    "slideshow": {
     "slide_type": "slide"
    }
   },
   "source": [
    "## Review"
   ]
  },
  {
   "cell_type": "markdown",
   "id": "657990ce",
   "metadata": {
    "slideshow": {
     "slide_type": "subslide"
    }
   },
   "source": [
    "## Depth-First Search Algorithm (DFS)\n",
    "\n",
    "**Motivation-** Given a graph $G$:\n",
    "- how do we find all of its vertices?\n",
    "- how do we find all paths between two vertices?\n",
    "\n",
    "![](multihop.png)\n",
    "\n",
    "Our graph has 5 vertices: `[A,B,C,D,E]`\n",
    "\n",
    "The paths between `A` and `C` are:\n",
    "- `[A,C]`\n",
    "- `[A,B,C]`\n",
    "- `[A,D,E,C]`"
   ]
  },
  {
   "cell_type": "markdown",
   "id": "15ae0947",
   "metadata": {
    "slideshow": {
     "slide_type": "subslide"
    }
   },
   "source": [
    "## Depth-First Search Algorithm (DFS)\n",
    "\n",
    "In graphs, we use DFS to:\n",
    "- Traverse all vertices\n",
    "- Traverse all paths between any two vertices"
   ]
  },
  {
   "cell_type": "markdown",
   "id": "fb1a2767",
   "metadata": {
    "slideshow": {
     "slide_type": "slide"
    }
   },
   "source": [
    "## Breadth-First Search Algorithm (BFS)\n"
   ]
  },
  {
   "cell_type": "markdown",
   "id": "78027737",
   "metadata": {
    "slideshow": {
     "slide_type": "slide"
    }
   },
   "source": [
    "## Breadth-First Search Algorithm (BFS)\n",
    "\n",
    "Similar goal as DFS, visit all vertices and find the paths\n",
    "\n",
    "**Motivation-** Given a graph $G$:\n",
    "- how do we find all of its vertices?\n",
    "- how do we find all paths between two vertices?\n",
    "\n",
    "![](multihop.png)\n",
    "\n",
    "Our graph has 5 vertices: `[A,B,C,D,E]`\n",
    "\n",
    "The paths between `A` and `C` are:\n",
    "- `[A,C]`\n",
    "- `[A,B,C]`\n",
    "- `[A,D,E,C]`"
   ]
  },
  {
   "cell_type": "markdown",
   "id": "692a983d",
   "metadata": {
    "slideshow": {
     "slide_type": "subslide"
    }
   },
   "source": [
    "## Breadth-First Search Algorithm (BFS)\n",
    "\n",
    "**When do we use BFS instead of DFS?**\n",
    "\n",
    "- We want to find the shortest path between two points. \n",
    "- In this case, DFS will find all the paths and will require to sort them by cost\n",
    "- BFS will stop as soon as we find a path between the source and destination\n",
    "\n",
    "\n",
    "**Motivation-** Given a graph $G$:\n",
    "- how do we find all of its vertices?\n",
    "- how do we find all paths between two vertices?\n",
    "\n",
    "![](multihop.png)\n",
    "\n",
    "In graphs, we use BFS to:\n",
    "- Traverse all vertices\n",
    "- Traverse all paths between any two vertices where **all edges have equal and positive weights**"
   ]
  },
  {
   "cell_type": "markdown",
   "id": "714f3f66",
   "metadata": {
    "slideshow": {
     "slide_type": "slide"
    }
   },
   "source": [
    "## Traverse all vertices\n",
    "\n",
    "- Breath means to traverse layer by layer\n",
    "- What is a layer?\n",
    " * defined based on the distance to the starting point\n",
    " * once we finish a layer, we advance to the next one\n",
    " * what data structure can help us to do this?"
   ]
  },
  {
   "cell_type": "markdown",
   "id": "dd5aa7cc",
   "metadata": {
    "slideshow": {
     "slide_type": "subslide"
    }
   },
   "source": [
    "## Traverse all vertices\n",
    "\n",
    "![](multihop.png)\n",
    "\n",
    "**Layers:**\n",
    "\n",
    "0. `A`\n",
    "1. `D,B,C`\n",
    "2. `E`\n",
    "\n",
    "\n",
    "**Algorithm:**\n",
    "\n",
    "1. `queue = [A]`,  `visited = {}`\n",
    "2. `queue = []`, `visited = {A}`, add `C, B, D` to queue (`queue = [C,B,D]`)\n",
    "3. `queue = [B,D]`, `visited = {A, C}`, add `E,B` to queue (`queue = [B,D,E,B]`)\n",
    "4. `queue = [D,E,B]`, `visited = {A, C, B}`, do nothing \n",
    "5. `queue = [E,B]`, `visited = {A, C, B, D}`, add `E` to queue (`queue = [E,B,E]`)\n",
    "6. `queue = [B, E]`, `visited = {A, C, B, D, E},` do nothing \n",
    "7. `queue = [E]`, `visited = {A, C, B, D, E},` do nothing \n",
    "8. `queue = []`, `visited = {A, C, B, D, E},` do nothing \n",
    "9. `stack` is empty, return `visited`\n",
    "\n",
    "**Complexity:**\n",
    "- Time: $O(V + E)$\n",
    "- Space: $O(V)$\n",
    "\n",
    "If the graph is complete, time complexity is $O(V^2)$"
   ]
  },
  {
   "cell_type": "markdown",
   "id": "ce0632a5",
   "metadata": {
    "slideshow": {
     "slide_type": "slide"
    }
   },
   "source": [
    "## Shortest Path Between Two Vertices (BFS)\n",
    "\n",
    "Find the path with the lowest number of hops (cost) between two vertices\n",
    "\n",
    "![](multihop.png)\n",
    "\n",
    "1. `queue = [[A]]` and `visited = {}`\n",
    "2. `queue = [[A,D], [A,B], [A,C]]` and `visited = {A}`\n",
    "3. `queue = [[A,B], [A,C], [A,D,E]]` and `visited = {A,D}`\n",
    "4. `queue = [[A,C], [A,D,E], [A,D,C]]` and `visited = {A,D,B},`\n",
    "5. `queue = [[A,D,E], [A,D,C]]` and `visited = {A,D,B,C},` we got to `C`\n",
    "\n",
    " return `[A,C]`\n",
    " \n",
    "**Complexity:**\n",
    "- Time: $O(V + E)$\n",
    "- Space: $O(V)$\n",
    "\n",
    "If the graph is complete, time complexity is $O(V^2)$"
   ]
  },
  {
   "cell_type": "markdown",
   "id": "a42e98e8",
   "metadata": {
    "slideshow": {
     "slide_type": "slide"
    }
   },
   "source": [
    "## Traverse all paths between two vertices\n",
    "\n",
    "Given a directed acyclic graph (DAG), find all possible paths from the first vertex to the last one.\n",
    "\n",
    "![](multihop_direct.png)\n",
    "\n",
    "Input: `[[1,3,4],[2],[4],[4],[]]`\n",
    "\n",
    "Output: `[[0,4], [0,3,4], [0, 1, 2, 4]]`\n"
   ]
  },
  {
   "cell_type": "code",
   "execution_count": 10,
   "id": "d4c2a748",
   "metadata": {
    "slideshow": {
     "slide_type": "subslide"
    }
   },
   "outputs": [],
   "source": [
    "def all_paths(graph):\n",
    "    target = len(graph) - 1\n",
    "    results = []\n",
    "    queue = [[0]]\n",
    "    \n",
    "    while queue:\n",
    "        p = queue.pop(0)    \n",
    "        if p[-1] == target:\n",
    "#            return p\n",
    "            results.append(p)        \n",
    "        for n in graph[p[-1]]:\n",
    "            if n not in p:\n",
    "                queue.append(p+[n])\n",
    "    return results\n",
    "            "
   ]
  },
  {
   "cell_type": "code",
   "execution_count": 11,
   "id": "d619f229",
   "metadata": {
    "slideshow": {
     "slide_type": "subslide"
    }
   },
   "outputs": [
    {
     "data": {
      "text/plain": [
       "[[0, 4], [0, 3, 4], [0, 1, 2, 4]]"
      ]
     },
     "execution_count": 11,
     "metadata": {},
     "output_type": "execute_result"
    }
   ],
   "source": [
    "all_paths([[1,3,4],[2],[4],[4],[]])"
   ]
  },
  {
   "cell_type": "code",
   "execution_count": null,
   "id": "0aabe3a5",
   "metadata": {},
   "outputs": [],
   "source": []
  }
 ],
 "metadata": {
  "celltoolbar": "Slideshow",
  "kernelspec": {
   "display_name": "Python 3",
   "language": "python",
   "name": "python3"
  },
  "language_info": {
   "codemirror_mode": {
    "name": "ipython",
    "version": 3
   },
   "file_extension": ".py",
   "mimetype": "text/x-python",
   "name": "python",
   "nbconvert_exporter": "python",
   "pygments_lexer": "ipython3",
   "version": "3.8.8"
  }
 },
 "nbformat": 4,
 "nbformat_minor": 5
}
