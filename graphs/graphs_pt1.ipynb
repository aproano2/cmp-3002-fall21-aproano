{
 "cells": [
  {
   "cell_type": "code",
   "execution_count": 1,
   "id": "5acb4fe5",
   "metadata": {
    "slideshow": {
     "slide_type": "skip"
    }
   },
   "outputs": [],
   "source": [
    "import time\n",
    "import pandas as pd\n",
    "import numpy as np\n",
    "import matplotlib.pyplot as plt\n",
    "%matplotlib inline  "
   ]
  },
  {
   "cell_type": "markdown",
   "id": "a41bb501",
   "metadata": {
    "slideshow": {
     "slide_type": "slide"
    }
   },
   "source": [
    "# CMP 3002 \n",
    "## Graphs"
   ]
  },
  {
   "cell_type": "markdown",
   "id": "1f7b4b69",
   "metadata": {
    "slideshow": {
     "slide_type": "slide"
    }
   },
   "source": [
    "## Housekeeping\n",
    "\n",
    "- Midterm grades\n",
    "- Project"
   ]
  },
  {
   "cell_type": "markdown",
   "id": "d23f2a16",
   "metadata": {
    "slideshow": {
     "slide_type": "slide"
    }
   },
   "source": [
    "## Review"
   ]
  },
  {
   "cell_type": "markdown",
   "id": "2dacec3d",
   "metadata": {
    "slideshow": {
     "slide_type": "subslide"
    }
   },
   "source": [
    "### Hash tables\n",
    "\n",
    "![](./hash_table.png)\n",
    "\n",
    "- Use a hash funciton to map keys to buckets\n",
    "- When we insert a new key, the hash function decides which bucket they key should be assigned \n",
    "- When we search for a key, the hash table will use the same hash function to find the bucket\n",
    "\n",
    "\n"
   ]
  },
  {
   "cell_type": "markdown",
   "id": "b3c994d6",
   "metadata": {
    "slideshow": {
     "slide_type": "subslide"
    }
   },
   "source": [
    "### Hash functions\n",
    "\n",
    "- Function that can be used to map data of any size to a fixed-size values\n",
    "- A hash function is usually a one-way function (it can't be inverted)\n",
    "- Used to index hash tables \n",
    "- Cryptographic applications\n",
    "\n"
   ]
  },
  {
   "cell_type": "markdown",
   "id": "1178b35d",
   "metadata": {
    "slideshow": {
     "slide_type": "subslide"
    }
   },
   "source": [
    "### Hash functions - collisions\n",
    "\n",
    "![](./hash_table.png)\n",
    "\n",
    "- Collisions are inevitable\n",
    "- We need an algorithm to solve the following questions:\n",
    "\n",
    "    - how do we organize values in the same bucket?\n",
    "    - what happens if the bucket has too many keys assigned?\n",
    "    - how do we search a target value in a bucket?"
   ]
  },
  {
   "cell_type": "markdown",
   "id": "7d1dacda",
   "metadata": {
    "slideshow": {
     "slide_type": "subslide"
    }
   },
   "source": [
    "## Complexity Analysis\n",
    "\n",
    "Assuming $N$ keys in total:\n",
    "\n",
    "- Space complexity is $O(N)$\n",
    "- Search $O(1)$, depends on the design of the table. In the worst case this can be $O(N)$\n"
   ]
  },
  {
   "cell_type": "markdown",
   "id": "4dc2528f",
   "metadata": {
    "slideshow": {
     "slide_type": "slide"
    }
   },
   "source": [
    "### Exercises"
   ]
  },
  {
   "cell_type": "markdown",
   "id": "a5cfcde2",
   "metadata": {
    "slideshow": {
     "slide_type": "subslide"
    }
   },
   "source": [
    "### Exercise 1\n",
    "\n",
    "Design a HashSet without using any built-in hash table libraries.\n",
    "\n",
    "Implement HashSet class:\n",
    "\n",
    "- void add(key) Inserts the value key into the HashSet.\n",
    "- bool contains(key) Returns whether the value key exists in the HashSet or not.\n",
    "- void remove(key) Removes the value key in the HashSet. If key does not exist in the HashSet, do nothing.\n",
    " "
   ]
  },
  {
   "cell_type": "code",
   "execution_count": null,
   "id": "ec7a4f37",
   "metadata": {
    "slideshow": {
     "slide_type": "subslide"
    }
   },
   "outputs": [],
   "source": [
    "class Node:\n",
    "    def __init__(self, value, next=None):\n",
    "        self.value = value\n",
    "        self.next = next\n",
    "        \n",
    "class Bucket:\n",
    "    def __init__(self):\n",
    "        self.head = Node(0)\n",
    "\n",
    "    def insert(self, value):\n",
    "        if not self.exists(value):\n",
    "            node = Node(value, self.head.next)\n",
    "            self.head.next = node\n",
    "\n",
    "    def delete(self, value):\n",
    "        prev = self.head\n",
    "        curr = self.head.next\n",
    "        while curr:\n",
    "            if curr.value == value:\n",
    "                prev.next = curr.next\n",
    "                return\n",
    "            prev = curr\n",
    "            curr = curr.next\n",
    "\n",
    "    def exists(self, value):\n",
    "        curr = self.head.next\n",
    "        while curr:\n",
    "            if curr.value == value:\n",
    "                return True\n",
    "            curr = curr.next\n",
    "        return False"
   ]
  },
  {
   "cell_type": "code",
   "execution_count": null,
   "id": "0ee5a99f",
   "metadata": {
    "slideshow": {
     "slide_type": "subslide"
    }
   },
   "outputs": [],
   "source": [
    "class HashSet(object):\n",
    "\n",
    "    def __init__(self):\n",
    "        \"\"\"\n",
    "        Initialize your data structure here.\n",
    "        \"\"\"\n",
    "        self.keyRange = 769\n",
    "        self.bucketArray = [Bucket() for i in range(self.keyRange)]\n",
    "\n",
    "    def _hash(self, key):\n",
    "        return key % self.keyRange\n",
    "\n",
    "    def add(self, key):\n",
    "        bucketIndex = self._hash(key)\n",
    "        self.bucketArray[bucketIndex].insert(key)\n",
    "\n",
    "    def remove(self, key):\n",
    "        bucketIndex = self._hash(key)\n",
    "        self.bucketArray[bucketIndex].delete(key)\n",
    "\n",
    "    def contains(self, key):\n",
    "        bucketIndex = self._hash(key)\n",
    "        return self.bucketArray[bucketIndex].exists(key)"
   ]
  },
  {
   "cell_type": "markdown",
   "id": "fdf1527c",
   "metadata": {
    "slideshow": {
     "slide_type": "subslide"
    }
   },
   "source": [
    "### Exercise 2\n",
    "\n",
    "Design a HashMap without using any built-in hash table libraries.\n",
    "\n",
    "Implement the HashMap class:\n",
    "\n",
    "- HashMap() initializes the object with an empty map.\n",
    "- void put(int key, int value) inserts a (key, value) pair into the HashMap. If the key already exists in the map, update the corresponding value.\n",
    "- int get(int key) returns the value to which the specified key is mapped, or -1 if this map contains no mapping for the key.\n",
    "- void remove(key) removes the key and its corresponding value if the map contains the mapping for the key."
   ]
  },
  {
   "cell_type": "code",
   "execution_count": null,
   "id": "555d0314",
   "metadata": {
    "slideshow": {
     "slide_type": "subslide"
    }
   },
   "outputs": [],
   "source": [
    "class Bucket:\n",
    "    def __init__(self):\n",
    "        self.bucket = []\n",
    "\n",
    "    def get(self, key):\n",
    "        for (k, v) in self.bucket:\n",
    "            if k == key:\n",
    "                return v\n",
    "        return -1\n",
    "\n",
    "    def update(self, key, value):\n",
    "        found = False\n",
    "        for i in range(len(self.bucket)):\n",
    "            kv = self.bucket[i]\n",
    "            if key == kv[0]:\n",
    "                self.bucket[i] = (key, value)\n",
    "                found = True\n",
    "                break\n",
    "\n",
    "        if not found:\n",
    "            self.bucket.append((key, value))\n",
    "\n",
    "    def remove(self, key):\n",
    "        for i in range(len(self.bucket)):\n",
    "            kv = self.bucket[i]\n",
    "            if key == kv[0]:\n",
    "                del self.bucket[i]"
   ]
  },
  {
   "cell_type": "code",
   "execution_count": null,
   "id": "1cd32664",
   "metadata": {
    "slideshow": {
     "slide_type": "subslide"
    }
   },
   "outputs": [],
   "source": [
    "class HashMap(object):\n",
    "\n",
    "    def __init__(self):\n",
    "        \"\"\"\n",
    "        Initialize your data structure here.\n",
    "        \"\"\"\n",
    "        self.n = 2000\n",
    "        self.hash_table = [Bucket() for i in range(self.n)]\n",
    "\n",
    "\n",
    "    def put(self, key, value):\n",
    "        hash_key = key % self.n\n",
    "        self.hash_table[hash_key].update(key, value)\n",
    "\n",
    "\n",
    "    def get(self, key):\n",
    "        hash_key = key % self.n\n",
    "        return self.hash_table[hash_key].get(key)\n",
    "\n",
    "\n",
    "    def remove(self, key):\n",
    "        hash_key = key % self.n\n",
    "        self.hash_table[hash_key].remove(key)"
   ]
  },
  {
   "cell_type": "markdown",
   "id": "88289b4c",
   "metadata": {
    "slideshow": {
     "slide_type": "slide"
    }
   },
   "source": [
    "## Graphs "
   ]
  },
  {
   "cell_type": "markdown",
   "id": "cf12a66e",
   "metadata": {
    "slideshow": {
     "slide_type": "slide"
    }
   },
   "source": [
    "## Graphs\n",
    "\n",
    "Data structure with two components:\n",
    "\n",
    "1. Finite set of vertices (nodes)\n",
    "2. Finite set of edges used to connect two vertices\n",
    "    - Ordered pairs - that is, $(u,v) \\neq (v,u)$ \n",
    "    - Edges might have a weight (cost) associated with it\n",
    "\n",
    "![](graph.png)"
   ]
  },
  {
   "cell_type": "markdown",
   "id": "56f2c034",
   "metadata": {
    "slideshow": {
     "slide_type": "slide"
    }
   },
   "source": [
    "## Types of graphs\n",
    "\n",
    "Several types of graphs, let's consider three:\n",
    "\n",
    "1. Undirected graphs\n",
    "2. Directed graphs\n",
    "3. Weighted graphs\n"
   ]
  },
  {
   "cell_type": "markdown",
   "id": "5cab2ed6",
   "metadata": {
    "slideshow": {
     "slide_type": "subslide"
    }
   },
   "source": [
    "## Undirected graphs \n",
    "\n",
    "Given two vertices $u$ and $v$, the vertices $(u,v)$ do not have a direction. \n",
    "- In this case  $(u,v) = (v,u)$ \n",
    "\n",
    "![](graph.png)"
   ]
  },
  {
   "cell_type": "markdown",
   "id": "ed56e001",
   "metadata": {
    "slideshow": {
     "slide_type": "subslide"
    }
   },
   "source": [
    "## Directed graphs \n",
    "\n",
    "Given two vertices $u$ and $v$, the vertices $(u,v)$ have a direction. \n",
    "- In this case  $(u,v) \\neq (v,u)$ \n",
    "\n",
    "![](directed_graph.png)"
   ]
  },
  {
   "cell_type": "markdown",
   "id": "99def648",
   "metadata": {
    "slideshow": {
     "slide_type": "subslide"
    }
   },
   "source": [
    "## Weighted graphs \n",
    "\n",
    "Given two vertices $u$ and $v$, the vertices $(u,v)$ have a weight or cost. \n",
    "\n",
    "\n",
    "![](weighted_graph.png)"
   ]
  },
  {
   "cell_type": "markdown",
   "id": "c746c83e",
   "metadata": {
    "slideshow": {
     "slide_type": "slide"
    }
   },
   "source": [
    "## Graph representation\n",
    "\n",
    "To programatically represent a graph we can use two techniques:\n",
    "\n",
    "1. Adjacency matrix \n",
    "2. Adjacency list "
   ]
  },
  {
   "cell_type": "markdown",
   "id": "bfc2b638",
   "metadata": {
    "slideshow": {
     "slide_type": "subslide"
    }
   },
   "source": [
    "## Adjacency matrix \n",
    "\n",
    "A matrix can be represented as an array of arrays\n",
    "\n",
    "- Let $A$ be our matrix of size $V \\times V$, for the number of vertices $V$\n",
    "- $A[u][v] = 1$ if there is an edge from $u$ to $v$\n",
    "- For weighted graphs, $A[u][v] = w$ where $w$ is the weight of the edge\n",
    "- $A$ is always symmetric for undirected graphs\n"
   ]
  },
  {
   "cell_type": "markdown",
   "id": "985321da",
   "metadata": {
    "slideshow": {
     "slide_type": "subslide"
    }
   },
   "source": [
    "## Complexity - adjacency matrix \n",
    "\n",
    "- Adding and removing edges takes $O(1)$\n",
    "- Determining if there is an edge between two vertices is $O(1)$\n",
    "- Adding a vertex is $O(V^2)$\n",
    "- Memory is $O(V^2)$\n",
    "\n"
   ]
  },
  {
   "cell_type": "code",
   "execution_count": 9,
   "id": "7df22530",
   "metadata": {},
   "outputs": [],
   "source": [
    "A = []\n",
    "V = 5\n",
    "for i in range(V):\n",
    "    A.append([0]*V)"
   ]
  },
  {
   "cell_type": "code",
   "execution_count": 11,
   "id": "7c9b89f2",
   "metadata": {},
   "outputs": [
    {
     "data": {
      "text/plain": [
       "[0, 0, 0, 0, 0]"
      ]
     },
     "execution_count": 11,
     "metadata": {},
     "output_type": "execute_result"
    }
   ],
   "source": [
    "[0]*V"
   ]
  },
  {
   "cell_type": "code",
   "execution_count": 10,
   "id": "21c22eb0",
   "metadata": {},
   "outputs": [
    {
     "data": {
      "text/plain": [
       "[[0, 0, 0, 0, 0],\n",
       " [0, 0, 0, 0, 0],\n",
       " [0, 0, 0, 0, 0],\n",
       " [0, 0, 0, 0, 0],\n",
       " [0, 0, 0, 0, 0]]"
      ]
     },
     "execution_count": 10,
     "metadata": {},
     "output_type": "execute_result"
    }
   ],
   "source": [
    "A"
   ]
  },
  {
   "cell_type": "code",
   "execution_count": 1,
   "id": "74a0eabf",
   "metadata": {
    "slideshow": {
     "slide_type": "subslide"
    }
   },
   "outputs": [],
   "source": [
    "class Graph:\n",
    "    \n",
    "    def __init__(self,V):\n",
    "        self.A = [[0]*V for i in range(V)]\n",
    "        self.V = V\n",
    "        self.vertices = {}\n",
    "        self.verticeslist =[0]*V\n",
    "\n",
    "    def add_vertex(self,vt,vt_id):\n",
    "        if 0 <= vt and vt <= self.V:\n",
    "            self.vertices[vt_id] = vt\n",
    "            self.verticeslist[vt] = vt_id\n",
    "\n",
    "    def set_edge(self,v0_id, v1_id, cost=1):\n",
    "        v0 = self.vertices[vo_id]\n",
    "        v1 = self.vertices[v1_id]\n",
    "        self.A[vo][vi] = cost\n"
   ]
  },
  {
   "cell_type": "markdown",
   "id": "c778a5d8",
   "metadata": {
    "slideshow": {
     "slide_type": "subslide"
    }
   },
   "source": [
    "## Adjacency list\n",
    "\n",
    "Array of size $V$, each element is an array\n",
    "- Let $A$ be the array\n",
    "- $A[u]$ represent the list of vertices adjacent to $u$\n",
    "- To add weights, each element of $A[u]$ is a tuple $(v,w)$ for vertex $v$ and edge $(u,v)$ of weight $w$\n",
    "\n",
    " "
   ]
  },
  {
   "cell_type": "markdown",
   "id": "8faad2b6",
   "metadata": {
    "slideshow": {
     "slide_type": "subslide"
    }
   },
   "source": [
    "## Complexity - adjacency list\n",
    "\n",
    "- Memory $O(V + |E|)$\n",
    "- Operations in $O(V)$\n"
   ]
  }
 ],
 "metadata": {
  "celltoolbar": "Slideshow",
  "kernelspec": {
   "display_name": "Python 3",
   "language": "python",
   "name": "python3"
  },
  "language_info": {
   "codemirror_mode": {
    "name": "ipython",
    "version": 3
   },
   "file_extension": ".py",
   "mimetype": "text/x-python",
   "name": "python",
   "nbconvert_exporter": "python",
   "pygments_lexer": "ipython3",
   "version": "3.8.8"
  }
 },
 "nbformat": 4,
 "nbformat_minor": 5
}
