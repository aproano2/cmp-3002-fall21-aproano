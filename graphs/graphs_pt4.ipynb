{
 "cells": [
  {
   "cell_type": "code",
   "execution_count": 1,
   "id": "5acb4fe5",
   "metadata": {
    "slideshow": {
     "slide_type": "skip"
    }
   },
   "outputs": [],
   "source": [
    "import time\n",
    "import pandas as pd\n",
    "import numpy as np\n",
    "import matplotlib.pyplot as plt\n",
    "%matplotlib inline  "
   ]
  },
  {
   "cell_type": "markdown",
   "id": "a41bb501",
   "metadata": {
    "slideshow": {
     "slide_type": "slide"
    }
   },
   "source": [
    "# CMP 3002 \n",
    "## Shortest Path"
   ]
  },
  {
   "cell_type": "markdown",
   "id": "2ec9f444",
   "metadata": {
    "slideshow": {
     "slide_type": "slide"
    }
   },
   "source": [
    "## Housekeeping\n",
    "\n",
    "- Final review this Friday\n",
    "- Final exam\n",
    "- Project and last homework\n",
    "- Last class meeting"
   ]
  },
  {
   "cell_type": "markdown",
   "id": "d23f2a16",
   "metadata": {
    "slideshow": {
     "slide_type": "slide"
    }
   },
   "source": [
    "## Review"
   ]
  },
  {
   "cell_type": "markdown",
   "id": "78027737",
   "metadata": {
    "slideshow": {
     "slide_type": "subslide"
    }
   },
   "source": [
    "## Breadth-First Search Algorithm (BFS)\n",
    "\n",
    "Similar goal as DFS, visit all vertices and find the paths\n",
    "\n",
    "**Motivation-** Given a graph $G$:\n",
    "- how do we find all of its vertices?\n",
    "- how do we find all paths between two vertices?\n",
    "\n",
    "![](multihop.png)\n",
    "\n",
    "Our graph has 5 vertices: `[A,B,C,D,E]`\n",
    "\n",
    "The paths between `A` and `C` are:\n",
    "- `[A,C]`\n",
    "- `[A,B,C]`\n",
    "- `[A,D,E,C]`"
   ]
  },
  {
   "cell_type": "markdown",
   "id": "692a983d",
   "metadata": {
    "slideshow": {
     "slide_type": "subslide"
    }
   },
   "source": [
    "## Breadth-First Search Algorithm (BFS)\n",
    "\n",
    "**When do we use BFS instead of DFS?**\n",
    "\n",
    "- We want to find the shortest path between two points. \n",
    "- In this case, DFS will find all the paths and will require to sort them by cost\n",
    "- BFS will stop as soon as we find a path between the source and destination\n",
    "\n",
    "\n",
    "**Motivation-** Given a graph $G$:\n",
    "- how do we find all of its vertices?\n",
    "- how do we find all paths between two vertices?\n",
    "\n",
    "![](multihop.png)\n",
    "\n",
    "In graphs, we use BFS to:\n",
    "- Traverse all vertices\n",
    "- Traverse all paths between any two vertices where **all edges have equal and positive weights**"
   ]
  },
  {
   "cell_type": "markdown",
   "id": "ce0632a5",
   "metadata": {
    "slideshow": {
     "slide_type": "subslide"
    }
   },
   "source": [
    "## Shortest Path Between Two Vertices (BFS)\n",
    "\n",
    "Find the path with the lowest number of hops (cost) between two vertices\n",
    "\n",
    "![](multihop.png)\n",
    "\n",
    "1. `queue = [[A]]` and `visited = {}`\n",
    "2. `queue = [[A,D], [A,B], [A,C]]` and `visited = {A}`\n",
    "3. `queue = [[A,B], [A,C], [A,D,E]]` and `visited = {A,D}`\n",
    "4. `queue = [[A,C], [A,D,E], [A,D,C]]` and `visited = {A,D,B},`\n",
    "5. `queue = [[A,D,E], [A,D,C]]` and `visited = {A,D,B,C},` we got to `C`\n",
    "\n",
    " return `[A,C]`\n",
    " \n",
    "**Complexity:**\n",
    "- Time: $O(V + E)$\n",
    "- Space: $O(V)$\n",
    "\n",
    "If the graph is complete, time complexity is $O(V^2)$"
   ]
  },
  {
   "cell_type": "markdown",
   "id": "bec9bd00",
   "metadata": {
    "slideshow": {
     "slide_type": "slide"
    }
   },
   "source": [
    "## Shortest Path"
   ]
  },
  {
   "cell_type": "markdown",
   "id": "fb36a9f3",
   "metadata": {
    "slideshow": {
     "slide_type": "subslide"
    }
   },
   "source": [
    "## Shortest Path\n",
    "\n",
    "![](multihop_weighted.png)\n",
    "\n",
    "- We saw that we can get the shortest path with BFS when the graph is unweighted\n",
    "- Weighted graphs have more real-life applications\n",
    "- For example: consider the routes to go from home to school"
   ]
  },
  {
   "cell_type": "markdown",
   "id": "3735c05e",
   "metadata": {
    "slideshow": {
     "slide_type": "subslide"
    }
   },
   "source": [
    "## Shortest Path\n",
    "\n",
    "We'll study two algorithms:\n",
    "\n",
    "- **Dijkstra’s algorithm:** used to solve the *single source shortest path* problem in a weighted directed graph with non-negative weights.\n",
    "- **Bellman-Ford algorithm:** used to solve the *single-source shortest path* in a weighted directed graph with any weights."
   ]
  },
  {
   "cell_type": "markdown",
   "id": "bc193a04",
   "metadata": {
    "slideshow": {
     "slide_type": "slide"
    }
   },
   "source": [
    "## Dijkstra's Algorithm\n",
    "\n",
    "It is used to solve the *single source shortest path* problem in a weighted directed graph with non-negative weights\n",
    "\n",
    "- We start with a vertex $A$ and gradually expand outward while updating the **shortest path** to reach other vertices.\n",
    "- It follows a greedy approach. \n",
    "- It selects the minumum weight from the currently reached vertices to find the shortest path to other vertices\n"
   ]
  },
  {
   "cell_type": "markdown",
   "id": "37652468",
   "metadata": {
    "slideshow": {
     "slide_type": "subslide"
    }
   },
   "source": [
    "### Example:\n",
    "\n",
    "![](multihop_weighted.png)\n",
    "\n",
    "Starting point, we'll find shortest paths from $A$ to the other vertices\n",
    "\n",
    "\n",
    "| Target Vertex | Shortest Distance | Previous Vertex |\n",
    "| ------------- | ----------------- | --------------- |\n",
    "| $A$           | 0                 |  -              |\n",
    "| $B$           | $\\infty$          |  -              |\n",
    "| $C$           | $\\infty$          |  -              |\n",
    "| $D$           | $\\infty$          |  -              |\n",
    "| $E$           | $\\infty$          |  -              |\n",
    "\n",
    "\n"
   ]
  },
  {
   "cell_type": "markdown",
   "id": "28f0fa8b",
   "metadata": {
    "slideshow": {
     "slide_type": "subslide"
    }
   },
   "source": [
    "### Example:\n",
    "\n",
    "![](multihop_weighted.png)\n",
    "\n",
    "- Visit $A$\n",
    "\n",
    "\n",
    "| Target Vertex | Shortest Distance | Previous Vertex |\n",
    "| ------------- | ----------------- | --------------- |\n",
    "| $A$           | 0                 |  -              |\n",
    "| $B$           | 2                 |  $A$            |\n",
    "| $C$           | 5                 |  $A$            |\n",
    "| $D$           | 1                 |  $A$            |\n",
    "| $E$           | $\\infty$          |  -              |\n",
    "\n",
    "\n"
   ]
  },
  {
   "cell_type": "markdown",
   "id": "3487a799",
   "metadata": {
    "slideshow": {
     "slide_type": "subslide"
    }
   },
   "source": [
    "### Example:\n",
    "\n",
    "![](multihop_weighted.png)\n",
    "\n",
    "- Visit $D$\n",
    "\n",
    "\n",
    "| Target Vertex | Shortest Distance | Previous Vertex |\n",
    "| ------------- | ----------------- | --------------- |\n",
    "| $A$           | 0                 |  -              |\n",
    "| $B$           | 2                 |  $A$            |\n",
    "| $C$           | 5                 |  $A$            |\n",
    "| $D$           | 1                 |  $A$            |\n",
    "| $E$           | 2                 |  $D$            |\n",
    "\n",
    "\n"
   ]
  },
  {
   "cell_type": "markdown",
   "id": "84216114",
   "metadata": {
    "slideshow": {
     "slide_type": "subslide"
    }
   },
   "source": [
    "### Example:\n",
    "\n",
    "![](multihop_weighted.png)\n",
    "\n",
    "- Visit $C$\n",
    "\n",
    "\n",
    "| Target Vertex | Shortest Distance | Previous Vertex |\n",
    "| ------------- | ----------------- | --------------- |\n",
    "| $A$           | 0                 |  -              |\n",
    "| $B$           | 2                 |  $A$            |\n",
    "| $C$           | 5                 |  $A$            |\n",
    "| $D$           | 1                 |  $A$            |\n",
    "| $E$           | 2                 |  $D$            |\n",
    "\n",
    "\n"
   ]
  },
  {
   "cell_type": "markdown",
   "id": "88b1691c",
   "metadata": {
    "slideshow": {
     "slide_type": "subslide"
    }
   },
   "source": [
    "### Example:\n",
    "\n",
    "![](multihop_weighted.png)\n",
    "\n",
    "- Visit $B$\n",
    "\n",
    "\n",
    "| Target Vertex | Shortest Distance | Previous Vertex |\n",
    "| ------------- | ----------------- | --------------- |\n",
    "| $A$           | 0                 |  -              |\n",
    "| $B$           | 2                 |  $A$            |\n",
    "| $C$           | 4                 |  $B$            |\n",
    "| $D$           | 1                 |  $A$            |\n",
    "| $E$           | 2                 |  $D$            |\n",
    "\n",
    "\n"
   ]
  },
  {
   "cell_type": "markdown",
   "id": "8b3fd6e0",
   "metadata": {
    "slideshow": {
     "slide_type": "subslide"
    }
   },
   "source": [
    "### Example:\n",
    "\n",
    "![](multihop_weighted.png)\n",
    "\n",
    "- Visit $E$\n",
    "\n",
    "\n",
    "| Target Vertex | Shortest Distance | Previous Vertex |\n",
    "| ------------- | ----------------- | --------------- |\n",
    "| $A$           | 0                 |  -              |\n",
    "| $B$           | 2                 |  $A$            |\n",
    "| $C$           | 3                 |  $E$            |\n",
    "| $D$           | 1                 |  $A$            |\n",
    "| $E$           | 2                 |  $D$            |\n",
    "\n",
    "\n"
   ]
  },
  {
   "cell_type": "markdown",
   "id": "af95dcb0",
   "metadata": {
    "slideshow": {
     "slide_type": "subslide"
    }
   },
   "source": [
    "### Example:\n",
    "\n",
    "![](multihop_weighted.png)\n",
    "\n",
    "| Target Vertex | Shortest Distance | Previous Vertex |\n",
    "| ------------- | ----------------- | --------------- |\n",
    "| $A$           | 0                 |  -              |\n",
    "| $B$           | 2                 |  $A$            |\n",
    "| $C$           | 3                 |  $E$            |\n",
    "| $D$           | 1                 |  $A$            |\n",
    "| $E$           | 2                 |  $D$            |\n",
    "\n",
    "**Paths:**\n",
    "- A -> B \n",
    "- A -> D\n",
    "- A -> D -> E\n",
    "- A -> D -> E -> C"
   ]
  },
  {
   "cell_type": "markdown",
   "id": "dcc7202f",
   "metadata": {
    "slideshow": {
     "slide_type": "slide"
    }
   },
   "source": [
    "## Bellman Ford Algorithm"
   ]
  },
  {
   "cell_type": "markdown",
   "id": "7d8c69dd",
   "metadata": {
    "slideshow": {
     "slide_type": "subslide"
    }
   },
   "source": [
    "### Bellman Ford Algorithm\n",
    "\n",
    "**Theorem:** In a graph with $N$ nodes and positive weights, the shortest path between any two nodes contains at most $N-1$ edges. \n",
    "\n",
    "![](multihop_weighted.png)"
   ]
  },
  {
   "cell_type": "markdown",
   "id": "1b5ef432",
   "metadata": {
    "slideshow": {
     "slide_type": "subslide"
    }
   },
   "source": [
    "### Bellman Ford Algorithm\n",
    "\n",
    "- The goal in Bellmand Ford is go analyze all paths of size 0 to $N-1$ in search of the shortest path\n",
    "- We iteratively consider all path sizes \n",
    "- Bellman Ford allows for positive cycles (including edges with negative values)\n"
   ]
  },
  {
   "cell_type": "markdown",
   "id": "5ab97754",
   "metadata": {
    "slideshow": {
     "slide_type": "subslide"
    }
   },
   "source": [
    "## Bellman Ford Algorithm\n",
    "\n",
    "![](./multihop_weighted_2.png)\n",
    "\n",
    "Starting point, we'll find shortest paths from $A$ to the other vertices\n",
    "\n",
    "hops | Node $A$ | Node $B$ | Node $C$ | Node $D$ | Node $E$       \n",
    ":----|:-------- | :------- | :------- | :------- | :------- \n",
    "0    | 0        | $\\infty$ | $\\infty$ | $\\infty$ | $\\infty$ \n",
    "\n"
   ]
  },
  {
   "cell_type": "markdown",
   "id": "791296b6",
   "metadata": {
    "slideshow": {
     "slide_type": "subslide"
    }
   },
   "source": [
    "## Bellman Ford Algorithm\n",
    "\n",
    "![](./multihop_weighted_2.png)\n",
    "\n",
    "\n",
    "hops | Node $A$ | Node $B$ | Node $C$ | Node $D$ | Node $E$       \n",
    ":----|:-------- | :------- | :------- | :------- | :------- \n",
    "0    | 0        | $\\infty$ | $\\infty$ | $\\infty$ | $\\infty$ \n",
    "1    | 0        | 2        | 5        | $\\infty$ | $\\infty$ \n",
    "\n"
   ]
  },
  {
   "cell_type": "markdown",
   "id": "6fcf4f39",
   "metadata": {
    "slideshow": {
     "slide_type": "subslide"
    }
   },
   "source": [
    "## Bellman Ford Algorithm\n",
    "\n",
    "![](./multihop_weighted_2.png)\n",
    "\n",
    "\n",
    "hops | Node $A$ | Node $B$ | Node $C$ | Node $D$ | Node $E$       \n",
    ":----|:-------- | :------- | :------- | :------- | :------- \n",
    "0    | 0        | $\\infty$ | $\\infty$ | $\\infty$ | $\\infty$ \n",
    "1    | 0        | 2        | 5        | $\\infty$ | $\\infty$ \n",
    "2    | 0        | 2        | 5        | 0        | 4 \n"
   ]
  },
  {
   "cell_type": "markdown",
   "id": "5deedfea",
   "metadata": {
    "slideshow": {
     "slide_type": "subslide"
    }
   },
   "source": [
    "## Bellman Ford Algorithm\n",
    "\n",
    "![](./multihop_weighted_2.png)\n",
    "\n",
    "\n",
    "hops | Node $A$ | Node $B$ | Node $C$ | Node $D$ | Node $E$       \n",
    ":----|:-------- | :------- | :------- | :------- | :------- \n",
    "0    | 0        | $\\infty$ | $\\infty$ | $\\infty$ | $\\infty$ \n",
    "1    | 0        | 2        | 5        | $\\infty$ | $\\infty$ \n",
    "2    | 0        | 2        | 5        | 0        | 4 \n",
    "3    | 0        | 2        | 5        | 0        | 1\n",
    "4    | 0        | 2        | 2        | 0        | 1\n",
    "\n"
   ]
  }
 ],
 "metadata": {
  "celltoolbar": "Slideshow",
  "kernelspec": {
   "display_name": "Python 3",
   "language": "python",
   "name": "python3"
  },
  "language_info": {
   "codemirror_mode": {
    "name": "ipython",
    "version": 3
   },
   "file_extension": ".py",
   "mimetype": "text/x-python",
   "name": "python",
   "nbconvert_exporter": "python",
   "pygments_lexer": "ipython3",
   "version": "3.8.8"
  }
 },
 "nbformat": 4,
 "nbformat_minor": 5
}
