{
 "cells": [
  {
   "cell_type": "code",
   "execution_count": 1,
   "id": "5acb4fe5",
   "metadata": {
    "slideshow": {
     "slide_type": "skip"
    }
   },
   "outputs": [],
   "source": [
    "import time\n",
    "import pandas as pd\n",
    "import numpy as np\n",
    "import matplotlib.pyplot as plt\n",
    "%matplotlib inline  "
   ]
  },
  {
   "cell_type": "markdown",
   "id": "a41bb501",
   "metadata": {
    "slideshow": {
     "slide_type": "slide"
    }
   },
   "source": [
    "# CMP 3002 \n",
    "## Graphs"
   ]
  },
  {
   "cell_type": "markdown",
   "id": "1f7b4b69",
   "metadata": {
    "slideshow": {
     "slide_type": "slide"
    }
   },
   "source": [
    "## Housekeeping\n",
    "\n",
    "- Homework\n",
    "- Project"
   ]
  },
  {
   "cell_type": "markdown",
   "id": "d23f2a16",
   "metadata": {
    "slideshow": {
     "slide_type": "slide"
    }
   },
   "source": [
    "## Review"
   ]
  },
  {
   "cell_type": "markdown",
   "id": "cf12a66e",
   "metadata": {
    "slideshow": {
     "slide_type": "subslide"
    }
   },
   "source": [
    "## Graphs\n",
    "\n",
    "Data structure with two components:\n",
    "\n",
    "1. Finite set of vertices (nodes)\n",
    "2. Finite set of edges used to connect two vertices\n",
    "    - Ordered pairs - that is, $(u,v) \\neq (v,u)$ \n",
    "    - Edges might have a weight (cost) associated with it\n",
    "\n",
    "![](graph.png)"
   ]
  },
  {
   "cell_type": "markdown",
   "id": "56f2c034",
   "metadata": {
    "slideshow": {
     "slide_type": "subslide"
    }
   },
   "source": [
    "## Types of graphs\n",
    "\n",
    "Several types of graphs, let's consider three:\n",
    "\n",
    "1. Undirected graphs\n",
    "2. Directed graphs\n",
    "3. Weighted graphs\n"
   ]
  },
  {
   "cell_type": "markdown",
   "id": "c746c83e",
   "metadata": {
    "slideshow": {
     "slide_type": "subslide"
    }
   },
   "source": [
    "## Graph representation\n",
    "\n",
    "To programatically represent a graph we can use two techniques:\n",
    "\n",
    "1. Adjacency matrix \n",
    "2. Adjacency list "
   ]
  },
  {
   "cell_type": "code",
   "execution_count": 1,
   "id": "74a0eabf",
   "metadata": {
    "slideshow": {
     "slide_type": "subslide"
    }
   },
   "outputs": [],
   "source": [
    "class Graph:\n",
    "    \n",
    "    def __init__(self,V):\n",
    "        self.A = [[0]*V for i in range(V)]\n",
    "        self.V = V\n",
    "        self.vertices = {}\n",
    "        self.verticeslist =[0]*V\n",
    "\n",
    "    def add_vertex(self,vt,vt_id):\n",
    "        if 0 <= vt and vt <= self.V:\n",
    "            self.vertices[vt_id] = vt\n",
    "            self.verticeslist[vt] = vt_id\n",
    "\n",
    "    def set_edge(self,v0_id, v1_id, cost=1):\n",
    "        v0 = self.vertices[vo_id]\n",
    "        v1 = self.vertices[v1_id]\n",
    "        self.A[vo][vi] = cost\n"
   ]
  },
  {
   "cell_type": "markdown",
   "id": "1873b472",
   "metadata": {
    "slideshow": {
     "slide_type": "slide"
    }
   },
   "source": [
    "## Depth-First Search Algorithm (DFS)\n"
   ]
  },
  {
   "cell_type": "markdown",
   "id": "657990ce",
   "metadata": {
    "slideshow": {
     "slide_type": "subslide"
    }
   },
   "source": [
    "## Depth-First Search Algorithm (DFS)\n",
    "\n",
    "**Motivation-** Given a graph $G$:\n",
    "- how do we find all of its vertices?\n",
    "- how do we find all paths between two vertices?\n",
    "\n",
    "![](multihop.png)\n",
    "\n",
    "Our graph has 5 vertices: `[A,B,C,D,E]`\n",
    "\n",
    "The paths between `A` and `C` are:\n",
    "- `[A,C]`\n",
    "- `[A,B,C]`\n",
    "- `[A,D,E,C]`"
   ]
  },
  {
   "cell_type": "markdown",
   "id": "15ae0947",
   "metadata": {
    "slideshow": {
     "slide_type": "subslide"
    }
   },
   "source": [
    "## Depth-First Search Algorithm (DFS)\n",
    "\n",
    "In graphs, we use DFS to:\n",
    "- Traverse all vertices\n",
    "- Traverse all paths between any two vertices"
   ]
  },
  {
   "cell_type": "markdown",
   "id": "fe8774e1",
   "metadata": {
    "slideshow": {
     "slide_type": "slide"
    }
   },
   "source": [
    "## Traverse all vertices\n",
    "\n",
    "- Depth means we traverse until we cannot go any longer\n",
    "- Once we find the deepest state, we need to return to the previous state\n",
    " * what data structure can help us to do this?\n"
   ]
  },
  {
   "cell_type": "markdown",
   "id": "5d794b2c",
   "metadata": {},
   "source": [
    "![](multihop.png)"
   ]
  },
  {
   "cell_type": "markdown",
   "id": "d001ed0b",
   "metadata": {
    "slideshow": {
     "slide_type": "subslide"
    }
   },
   "source": [
    "## Traverse all vertices\n",
    "\n",
    "![](multihop.png)\n",
    "\n",
    "1. `stack = [A]`,  `visited = {}`\n",
    "2. `stack = []`, `visited = {A}`, add `C, B, D` to stack (`stack = [C,B,D]`)\n",
    "3. `stack = [C,B]`, `visited = {A, D}`, add `E` to stack (`stack = [C,B,E]`)\n",
    "4. `stack = [C,B]`, `visited = {A, D, E}`, add `C` to stack (`stack = [C,B,C]`)\n",
    "5. `stack = [C,B]`, `visited = {A, D, E, C}`, add `B` to stack (`stack = [C,B,B]`)\n",
    "6. `stack = [C,B]`, `visited = {A, D, E, C, B}.` \n",
    "7. `stack = [C]`, `visited = {A, D, E, C, B}`\n",
    "8. `stack = []`, `visited = {A, D, E, C, B}`\n",
    "9. `stack` is empty, return `visited`\n",
    "\n",
    "**Complexity:**\n",
    "- Time: $O(V + E)$\n",
    "- Space: $O(V)$\n",
    "\n",
    "If the graph is complete, time complexity is $O(V^2)$"
   ]
  },
  {
   "cell_type": "code",
   "execution_count": null,
   "id": "71d1b983",
   "metadata": {},
   "outputs": [],
   "source": [
    "V (V-1) = V^2"
   ]
  },
  {
   "cell_type": "markdown",
   "id": "6dc6770c",
   "metadata": {
    "slideshow": {
     "slide_type": "slide"
    }
   },
   "source": [
    "## Traverse all paths between two vertices\n",
    "\n",
    "![](multihop.png)\n",
    "\n",
    "Find paths A and C\n",
    "\n",
    "1. `stack = [[A]]` and `visited = {}`\n",
    "2. `stack = [[A,C], [A,B], [A,D]]` and `visited = {A}`\n",
    "3. `stack = [[A,C], [A,B], [A,D,E]]` and `visited = {A,D}`\n",
    "4. `stack = [[A,C], [A,B], [A,D,E,C]]` and `visited = {A,D,E},` we got to `C`\n",
    "\n",
    " `paths = {[A,D,E,C]}`\n"
   ]
  },
  {
   "cell_type": "markdown",
   "id": "afac0825",
   "metadata": {
    "slideshow": {
     "slide_type": "slide"
    }
   },
   "source": [
    "## Traverse all paths between two vertices\n",
    "\n",
    "![](multihop.png)\n",
    "\n",
    "5. `stack = [[A,C], [A,B]]` and `visited = {A}`\n",
    "6. `stack = [[A,C], [A,B,C]]` and `visited = {A,B},` we got to `C`\n",
    "\n",
    " `paths = {[A,D,E,C], [A,B,C]}`\n"
   ]
  },
  {
   "cell_type": "markdown",
   "id": "247b935e",
   "metadata": {
    "slideshow": {
     "slide_type": "slide"
    }
   },
   "source": [
    "## Traverse all paths between two vertices\n",
    "\n",
    "![](multihop.png)\n",
    "\n",
    "7. `stack = [[A,C]]` and `visited = {A},` we got to `C`\n",
    "\n",
    " `paths = {[A,D,E,C], [A,B,C], [A,C]}`\n",
    "8. `stack` is empty, terminate and return `paths`"
   ]
  },
  {
   "cell_type": "markdown",
   "id": "14ff7336",
   "metadata": {
    "slideshow": {
     "slide_type": "subslide"
    }
   },
   "source": [
    "## Traverse all paths between two vertices\n",
    "\n",
    "![](multihop.png)\n",
    "\n",
    "**Complexity:**\n",
    "\n",
    "- Time: $O((V-1)!)$\n",
    " * this happens when the graph is complete (each vertex is connected to all other vertices)\n",
    " * the first node does $(V-1),$ all other neighbors do $(V-2),$ then we go to $(V-3),$ and so on\n",
    "- Space: $O(V^3)$\n",
    " * add $(V-1)$ after the first one\n",
    " * after removing the first one from the stack and adding the its paths $(V−1)−1+(V−2)$\n",
    " * $(V−1)−1+(V−2)-1 + (V-3) ... = \\frac{V(V-1)}{2} + 1$ for each path\n",
    " * since we need to add the rest of paths, we need to do this $O(V)$ times more\n",
    " * so total space is $O(V^3)$"
   ]
  },
  {
   "cell_type": "code",
   "execution_count": 7,
   "id": "312b1475",
   "metadata": {},
   "outputs": [],
   "source": [
    "p = [2,3]"
   ]
  },
  {
   "cell_type": "code",
   "execution_count": 8,
   "id": "08c8aba5",
   "metadata": {},
   "outputs": [
    {
     "data": {
      "text/plain": [
       "[2, 3, 2]"
      ]
     },
     "execution_count": 8,
     "metadata": {},
     "output_type": "execute_result"
    }
   ],
   "source": [
    "p + [2]"
   ]
  },
  {
   "cell_type": "code",
   "execution_count": 9,
   "id": "f5bb089a",
   "metadata": {},
   "outputs": [
    {
     "data": {
      "text/plain": [
       "[2, 3]"
      ]
     },
     "execution_count": 9,
     "metadata": {},
     "output_type": "execute_result"
    }
   ],
   "source": [
    "p"
   ]
  },
  {
   "cell_type": "markdown",
   "id": "acb051a5",
   "metadata": {
    "slideshow": {
     "slide_type": "slide"
    }
   },
   "source": [
    "## Traverse all paths between two vertices\n",
    "\n",
    "Given a directed acyclic graph (DAG), find all possible paths from the first vertex to the last one.\n",
    "\n",
    "![](multihop_direct.png)\n",
    "\n",
    "Input: `[[1,3,4],[2],[4],[4],[]]`\n",
    "\n",
    "Output: `[[0,4], [0,3,4], [0, 1, 2, 4]]`\n",
    "\n"
   ]
  },
  {
   "cell_type": "code",
   "execution_count": null,
   "id": "d15a7b38",
   "metadata": {},
   "outputs": [],
   "source": [
    "class Node():\n",
    "    \n",
    "    def __init__(val, neighbors=None):\n",
    "        self.val = val\n",
    "        self.neighbors = neighbors"
   ]
  },
  {
   "cell_type": "code",
   "execution_count": 1,
   "id": "86f8dfa7",
   "metadata": {
    "slideshow": {
     "slide_type": "subslide"
    }
   },
   "outputs": [],
   "source": [
    "def all_paths(graph):\n",
    "\n",
    "    target = len(graph) - 1\n",
    "    results = []\n",
    "\n",
    "    def backtrack(curr, path):\n",
    "        if curr == target:\n",
    "            results.append(list(path))\n",
    "            return\n",
    "        \n",
    "        for next in graph[curr]:\n",
    "            path.append(next)\n",
    "            backtrack(next, path)\n",
    "            path.pop()\n",
    "            \n",
    "    path = [0]\n",
    "    backtrack(0, path)\n",
    "\n",
    "    return results"
   ]
  },
  {
   "cell_type": "code",
   "execution_count": 3,
   "id": "ac09e1b2",
   "metadata": {
    "slideshow": {
     "slide_type": "subslide"
    }
   },
   "outputs": [
    {
     "data": {
      "text/plain": [
       "[[0, 1, 2, 4], [0, 3, 4], [0, 4]]"
      ]
     },
     "execution_count": 3,
     "metadata": {},
     "output_type": "execute_result"
    }
   ],
   "source": [
    "all_paths([[1,3,4],[2],[4],[4],[]])"
   ]
  }
 ],
 "metadata": {
  "celltoolbar": "Slideshow",
  "kernelspec": {
   "display_name": "Python 3",
   "language": "python",
   "name": "python3"
  },
  "language_info": {
   "codemirror_mode": {
    "name": "ipython",
    "version": 3
   },
   "file_extension": ".py",
   "mimetype": "text/x-python",
   "name": "python",
   "nbconvert_exporter": "python",
   "pygments_lexer": "ipython3",
   "version": "3.8.8"
  }
 },
 "nbformat": 4,
 "nbformat_minor": 5
}
