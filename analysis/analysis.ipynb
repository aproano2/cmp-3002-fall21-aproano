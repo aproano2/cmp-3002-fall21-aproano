{
 "cells": [
  {
   "cell_type": "code",
   "execution_count": 96,
   "id": "5acb4fe5",
   "metadata": {
    "slideshow": {
     "slide_type": "skip"
    }
   },
   "outputs": [],
   "source": [
    "import time\n",
    "import pandas as pd\n",
    "import numpy as np\n",
    "import matplotlib.pyplot as plt\n",
    "%matplotlib inline  "
   ]
  },
  {
   "cell_type": "markdown",
   "id": "a41bb501",
   "metadata": {
    "slideshow": {
     "slide_type": "slide"
    }
   },
   "source": [
    "# CMP 3002 \n",
    "## Analyzing algorithms"
   ]
  },
  {
   "cell_type": "markdown",
   "id": "3f16eea7",
   "metadata": {
    "slideshow": {
     "slide_type": "slide"
    }
   },
   "source": [
    "## Review"
   ]
  },
  {
   "cell_type": "markdown",
   "id": "d23f2a16",
   "metadata": {
    "slideshow": {
     "slide_type": "subslide"
    }
   },
   "source": [
    "program -> algorithm\n",
    "\n",
    "language -> pseudocode\n",
    "\n",
    "computer -> model of computation"
   ]
  },
  {
   "cell_type": "markdown",
   "id": "c6e57d3b",
   "metadata": {
    "slideshow": {
     "slide_type": "subslide"
    }
   },
   "source": [
    "### Random access machine (RAM) \n",
    "\n",
    "![plot](./ram.png)\n",
    "\n",
    "It allows us to compare algorithms on a performance basis.\n",
    "\n",
    "Each operation takes 1 time steps (write or read)\n",
    "Needs to know where the words are to access them\n",
    "A word is an x number of bits"
   ]
  },
  {
   "cell_type": "markdown",
   "id": "db7ecc6f",
   "metadata": {
    "slideshow": {
     "slide_type": "subslide"
    }
   },
   "source": [
    "### Pointer machine\n",
    "\n",
    "- Simple version of object oriented programming \n",
    "- Dynamically allocated objects (create and destroy)\n",
    "- Objects have a constant number of fields\n",
    "- Field is either a word or a pointer\n",
    "- Pointer either points to an object or is null (none in Python)\n",
    "- Adding values takes 1 time steps\n",
    "- Following a pointer takes 1 time steps"
   ]
  },
  {
   "cell_type": "markdown",
   "id": "046f483e",
   "metadata": {
    "slideshow": {
     "slide_type": "subslide"
    }
   },
   "source": [
    "### Exercise 2\n",
    "- Write a function that takes calculates the sum of numbers from 1 to *n*, where *n* is the input\n",
    "- Use a loop to do this\n",
    "- Count the number of operations this function takes"
   ]
  },
  {
   "cell_type": "code",
   "execution_count": 39,
   "id": "db1ad2c4",
   "metadata": {
    "slideshow": {
     "slide_type": "subslide"
    }
   },
   "outputs": [
    {
     "name": "stdout",
     "output_type": "stream",
     "text": [
      "55\n"
     ]
    }
   ],
   "source": [
    "n = 10\n",
    "total = 0\n",
    "for i in range(1, n+1):\n",
    "    total += i\n",
    "print(total)"
   ]
  },
  {
   "cell_type": "markdown",
   "id": "6bcfde3d",
   "metadata": {
    "slideshow": {
     "slide_type": "subslide"
    }
   },
   "source": [
    "### Exercise 3\n",
    "- Repeat the exercise using a more efficient way\n",
    "- Count the number of operations this function takes"
   ]
  },
  {
   "cell_type": "code",
   "execution_count": 40,
   "id": "9bf582d9",
   "metadata": {
    "slideshow": {
     "slide_type": "subslide"
    }
   },
   "outputs": [
    {
     "name": "stdout",
     "output_type": "stream",
     "text": [
      "55\n"
     ]
    }
   ],
   "source": [
    "n = 10\n",
    "total = n*(n+1)//2\n",
    "print(total)"
   ]
  },
  {
   "cell_type": "markdown",
   "id": "85bbd123",
   "metadata": {
    "slideshow": {
     "slide_type": "slide"
    }
   },
   "source": [
    "## Time Analysis"
   ]
  },
  {
   "cell_type": "markdown",
   "id": "f0d29ef6",
   "metadata": {
    "slideshow": {
     "slide_type": "subslide"
    }
   },
   "source": [
    "### Loop example"
   ]
  },
  {
   "cell_type": "code",
   "execution_count": 9,
   "id": "2f05c453",
   "metadata": {
    "slideshow": {
     "slide_type": "subslide"
    }
   },
   "outputs": [],
   "source": [
    "def sum_n(n):\n",
    "    start = time.time()\n",
    "    total = 0\n",
    "    for i in range(1,n+1):\n",
    "        total += i\n",
    "    return time.time() - start\n",
    "        "
   ]
  },
  {
   "cell_type": "code",
   "execution_count": 17,
   "id": "7876bbea",
   "metadata": {
    "slideshow": {
     "slide_type": "skip"
    }
   },
   "outputs": [],
   "source": [
    "r = pd.DataFrame()\n",
    "r['n'] = range(1,10000)"
   ]
  },
  {
   "cell_type": "code",
   "execution_count": 33,
   "id": "cbc40cc5",
   "metadata": {
    "slideshow": {
     "slide_type": "skip"
    }
   },
   "outputs": [],
   "source": [
    "r['time_loop'] = [sum_n(x) for x in r['n']]\n",
    "r['time_loop'] = 1000000*r['time_loop']"
   ]
  },
  {
   "cell_type": "code",
   "execution_count": 35,
   "id": "201b1e5b",
   "metadata": {
    "slideshow": {
     "slide_type": "subslide"
    }
   },
   "outputs": [
    {
     "data": {
      "text/plain": [
       "Text(0, 0.5, 'us')"
      ]
     },
     "execution_count": 35,
     "metadata": {},
     "output_type": "execute_result"
    },
    {
     "data": {
      "image/png": "[encoded data removed]",
      "text/plain": [
       "<Figure size 432x288 with 1 Axes>"
      ]
     },
     "metadata": {
      "needs_background": "light"
     },
     "output_type": "display_data"
    }
   ],
   "source": [
    "r.plot(x='n', y='time_loop')\n",
    "plt.grid()\n",
    "plt.ylabel('us')"
   ]
  },
  {
   "cell_type": "markdown",
   "id": "0d09f9ec",
   "metadata": {
    "slideshow": {
     "slide_type": "subslide"
    }
   },
   "source": [
    "### Formula example"
   ]
  },
  {
   "cell_type": "code",
   "execution_count": 11,
   "id": "ab41582d",
   "metadata": {
    "slideshow": {
     "slide_type": "subslide"
    }
   },
   "outputs": [],
   "source": [
    "def sum_n1(n):\n",
    "    start = time.time()\n",
    "    total = n*(n+1)//2\n",
    "    return time.time() - start"
   ]
  },
  {
   "cell_type": "code",
   "execution_count": 36,
   "id": "a618cecb",
   "metadata": {
    "slideshow": {
     "slide_type": "skip"
    }
   },
   "outputs": [],
   "source": [
    "r['time_formula'] = [sum_n1(x) for x in r['n']]\n",
    "r['time_formula'] = 1000000*r['time_formula']"
   ]
  },
  {
   "cell_type": "code",
   "execution_count": 37,
   "id": "a391e266",
   "metadata": {
    "slideshow": {
     "slide_type": "subslide"
    }
   },
   "outputs": [
    {
     "data": {
      "image/png": "[encoded data removed]",
      "text/plain": [
       "<Figure size 432x288 with 1 Axes>"
      ]
     },
     "metadata": {
      "needs_background": "light"
     },
     "output_type": "display_data"
    }
   ],
   "source": [
    "r.plot(x='n', y='time_formula')\n",
    "plt.ylabel('us')\n",
    "plt.grid()"
   ]
  },
  {
   "cell_type": "markdown",
   "id": "1dcbd12d",
   "metadata": {
    "slideshow": {
     "slide_type": "subslide"
    }
   },
   "source": [
    "### How do they compare? "
   ]
  },
  {
   "cell_type": "code",
   "execution_count": 38,
   "id": "35d601d0",
   "metadata": {
    "slideshow": {
     "slide_type": "subslide"
    }
   },
   "outputs": [
    {
     "data": {
      "image/png": "[encoded data removed]",
      "text/plain": [
       "<Figure size 432x288 with 1 Axes>"
      ]
     },
     "metadata": {
      "needs_background": "light"
     },
     "output_type": "display_data"
    }
   ],
   "source": [
    "ax = r.plot(x='n', y='time_formula')\n",
    "r.plot(x='n', y='time_loop', ax=ax)\n",
    "plt.ylabel('us')\n",
    "plt.grid()"
   ]
  },
  {
   "cell_type": "markdown",
   "id": "3d546a4b",
   "metadata": {
    "slideshow": {
     "slide_type": "subslide"
    }
   },
   "source": [
    "### Take aways"
   ]
  },
  {
   "cell_type": "markdown",
   "id": "a5f6ca67",
   "metadata": {
    "slideshow": {
     "slide_type": "subslide"
    }
   },
   "source": [
    "- We care about how the running time (# operations) scales with the size of the input\n",
    "- We want a measure of runtime independent of the hardware, programming language, etc\n",
    "- The performance of the system depends on the algorithm choices and the system hardware"
   ]
  },
  {
   "cell_type": "markdown",
   "id": "7f282703",
   "metadata": {
    "slideshow": {
     "slide_type": "slide"
    }
   },
   "source": [
    "## Insertion sort\n",
    "\n",
    "- Input: A sequence of $n$ numbers $(a_1, a_2, \\dots, a_n)$\n",
    "- Output: A permutation $(a'_1, a'_2, \\dots, a'_n)$ of the input sequence such that $a'_1 \\leq a'_2 \\leq \\dots \\leq a'_n$"
   ]
  },
  {
   "cell_type": "markdown",
   "id": "240eec38",
   "metadata": {
    "slideshow": {
     "slide_type": "subslide"
    }
   },
   "source": [
    "### Example\n",
    "\n",
    "![plot](./insertion_sort_example.png)"
   ]
  },
  {
   "cell_type": "markdown",
   "id": "9dba549a",
   "metadata": {
    "slideshow": {
     "slide_type": "subslide"
    }
   },
   "source": [
    "![plot](./insertion_sort.png)"
   ]
  },
  {
   "cell_type": "markdown",
   "id": "b8588058",
   "metadata": {
    "slideshow": {
     "slide_type": "subslide"
    }
   },
   "source": [
    "### Analysis\n",
    "![plot](insertion_sort_analysis.png)\n"
   ]
  },
  {
   "cell_type": "markdown",
   "id": "bd3ee2d9",
   "metadata": {
    "slideshow": {
     "slide_type": "subslide"
    }
   },
   "source": [
    "### Total time\n",
    "\n",
    "$T(n) = c_1n + c_2(n-1) + c_4(n-1) + c_5 \\sum_{j=2}^n t_j + c_6 \\sum_{j=2}^n (t_j-1) + c_7 \\sum_{j=2}^n (t_j-1) + c_8(n-1)$"
   ]
  },
  {
   "cell_type": "markdown",
   "id": "00e53c6f",
   "metadata": {
    "slideshow": {
     "slide_type": "subslide"
    }
   },
   "source": [
    "**Even for inputs of the same size, the running time might depend on the type of input** "
   ]
  },
  {
   "cell_type": "markdown",
   "id": "932bfd54",
   "metadata": {
    "slideshow": {
     "slide_type": "subslide"
    }
   },
   "source": [
    "### Best case:\n",
    "- The input is sorted, that is $a_1 \\leq a_2 \\leq \\dots \\leq a_n$\n",
    "- $t_j = 1, \\forall j$\n",
    "\n",
    "\n",
    "$T(n) = c_1n + c_2(n-1) + c_4(n-1) + c_5 (n-1) + c_8(n-1)$\n",
    "\n",
    "$T(n) = (c_1 + c_2 + c_4 + c_5 + c_8)n - (c_2 + c_4 + c_5 + c_8)$"
   ]
  },
  {
   "cell_type": "markdown",
   "id": "5ec8294b",
   "metadata": {
    "slideshow": {
     "slide_type": "subslide"
    }
   },
   "source": [
    "Note that:\n",
    "\n",
    "$T(n) = an + b$\n",
    "\n",
    "$a = c_1 + c_2 + c_4 + c_5 + c_8$\n",
    "\n",
    "$b = -(c_2 + c_4 + c_5 + c_8)$\n",
    "\n",
    "So $T(n)$ is a **linear function**"
   ]
  },
  {
   "cell_type": "markdown",
   "id": "66daa5e5",
   "metadata": {
    "slideshow": {
     "slide_type": "subslide"
    }
   },
   "source": [
    "### Worst case:\n",
    "- The input is sorted in reverse, that is $a_1 \\geq a_2 \\geq \\dots \\geq a_n$\n",
    "- $t_j = j, \\forall j$\n",
    "- $\\sum_{j=2}^n j = \\frac{n(n-1)}{2} - 1$\n",
    "- $\\sum_{j=2}^n (j-1) = \\frac{n(n-1)}{2}$\n",
    "\n",
    "\n",
    "$T(n) = c_1n + c_2(n-1) + c_4(n-1) + c_5 (\\frac{n(n-1)}{2} - 1) + c_6 (\\frac{n(n-1)}{2}) + c_7 (\\frac{n(n-1)}{2}) + c_8(n-1)$\n",
    "\n",
    "$T(n) = (\\frac{c_5}{2} + \\frac{c_6}{2} + \\frac{c_7}{2})n^2 + (c_1 + c_2 + c_4 + \\frac{c_5}{2} - \\frac{c_6}{2} - \\frac{c_7}{2} + c_8)n - (c_2 + c_4 + c_5 + c_8)$"
   ]
  },
  {
   "cell_type": "markdown",
   "id": "4f0fa48f",
   "metadata": {
    "slideshow": {
     "slide_type": "subslide"
    }
   },
   "source": [
    "Note that:\n",
    "\n",
    "$T(n) = an^2 + bn + c$\n",
    "\n",
    "$a = \\frac{c_5}{2} + \\frac{c_6}{2} + \\frac{c_7}{2}$\n",
    "\n",
    "$b = c_1 + c_2 + c_4 + \\frac{c_5}{2} - \\frac{c_6}{2} - \\frac{c_7}{2} + c_8$\n",
    "\n",
    "$c = -(c_2 + c_4 + c_5 + c_8)$\n",
    "\n",
    "So $T(n)$ is a **quadratic function**"
   ]
  },
  {
   "cell_type": "markdown",
   "id": "3cb5c63b",
   "metadata": {
    "slideshow": {
     "slide_type": "subslide"
    }
   },
   "source": [
    "### Execution time\n",
    "\n",
    "$(c_1 + c_2 + c_4 + c_5 + c_8)n - (c_2 + c_4 + c_5 + c_8) \\leq T(n) \\leq (\\frac{c_5}{2} + \\frac{c_6}{2} + \\frac{c_7}{2})n^2 + (c_1 + c_2 + c_4 + \\frac{c_5}{2} - \\frac{c_6}{2} - \\frac{c_7}{2} + c_8)n - (c_2 + c_4 + c_5 + c_8)$\n"
   ]
  },
  {
   "cell_type": "markdown",
   "id": "7d2be015",
   "metadata": {
    "slideshow": {
     "slide_type": "slide"
    }
   },
   "source": [
    "## Growth of functions"
   ]
  },
  {
   "cell_type": "markdown",
   "id": "9bbd200a",
   "metadata": {
    "slideshow": {
     "slide_type": "subslide"
    }
   },
   "source": [
    "### Order (rate) of growth:\n",
    "\n",
    "- The constants $c_1, c_2, \\dots$ represent the cost of each statement (based on the RAM model) but they provide much more detail thatn we really need. We can simplify to:\n",
    "\n",
    "> $a_1n + b_1 \\leq T(n) \\leq a_2n^2 + b_2n + c_2$\n",
    "\n",
    "- We are interested in the rate of growth, we'll consider the term that contributes the most (e.g., $a_2 n^2$)\n",
    "\n"
   ]
  },
  {
   "cell_type": "markdown",
   "id": "80f3c377",
   "metadata": {
    "slideshow": {
     "slide_type": "subslide"
    }
   },
   "source": [
    "### Asymptotic notation\n",
    "\n",
    "- Domain is the natural numbers $\\{0, 1, 2, \\dots\\}$\n",
    "- Describe the worst-case of $T(n)$"
   ]
  },
  {
   "cell_type": "markdown",
   "id": "28132233",
   "metadata": {
    "slideshow": {
     "slide_type": "subslide"
    }
   },
   "source": [
    "### $\\Theta-notation$\n",
    "\n",
    "> $\\Theta(g(n)) = \\{f(n) : \\exists c_1, c_2, n_0 > 0, \\text{such that } 0 \\leq c_1g(n) \\leq f(n) \\leq c_2g(n), \\forall n \\geq n_0 \\}$\n",
    "\n",
    "- tight bound\n",
    "- we need two constants that represent an upper bound and a lower bound"
   ]
  },
  {
   "cell_type": "markdown",
   "id": "45f1c707",
   "metadata": {},
   "source": [
    "$f(n) = T(n)$\n",
    "\n",
    "$g(n) = n^2$\n",
    "\n",
    "$lb = c_1 \\times g(n)$\n",
    "\n",
    "$ub = c_2 \\times g(n)$"
   ]
  },
  {
   "cell_type": "markdown",
   "id": "2fdc51fc",
   "metadata": {
    "slideshow": {
     "slide_type": "subslide"
    }
   },
   "source": [
    "### $O-notation$\n",
    "\n",
    "> $O(g(n)) = \\{f(n) : \\exists c, n_0 > 0 \\text{ such that } 0 \\leq f(n) \\leq cg(n), \\forall n \\geq n_0 \\}$\n",
    "\n",
    "- upper bound"
   ]
  },
  {
   "cell_type": "markdown",
   "id": "33554387",
   "metadata": {
    "slideshow": {
     "slide_type": "subslide"
    }
   },
   "source": [
    "### $\\Omega-notation$\n",
    "\n",
    "> $\\Omega(g(n)) = \\{f(n) : \\exists c, n_0 > 0 \\text{ such that } 0 \\leq cg(n) \\leq f(n), \\forall n \\geq n_0 \\}$\n",
    "\n",
    "- lower bound"
   ]
  },
  {
   "cell_type": "markdown",
   "id": "78eda9be",
   "metadata": {
    "slideshow": {
     "slide_type": "slide"
    }
   },
   "source": [
    "## Important functions"
   ]
  },
  {
   "cell_type": "code",
   "execution_count": 75,
   "id": "fbbf0019",
   "metadata": {
    "slideshow": {
     "slide_type": "skip"
    }
   },
   "outputs": [],
   "source": [
    "r = pd.DataFrame()\n",
    "r['n'] = np.arange(1,100,10)\n",
    "r['n1'] = np.arange(1,100,10)"
   ]
  },
  {
   "cell_type": "code",
   "execution_count": 77,
   "id": "d520aa00",
   "metadata": {
    "slideshow": {
     "slide_type": "skip"
    }
   },
   "outputs": [],
   "source": [
    "r['log(n)'] = np.log2(r['n'])\n",
    "r['sqrt(n)'] = np.sqrt(r['n'])\n",
    "r['nlog(n)'] = r['n'] * r['log(n)']\n",
    "r['n^2'] = np.power(r['n'],2)\n",
    "r['n^3'] = np.power(r['n'],3)\n",
    "r['2^n'] = np.power(2*np.ones(r.shape[0]),r['n'])\n"
   ]
  },
  {
   "cell_type": "code",
   "execution_count": 93,
   "id": "a32cc313",
   "metadata": {
    "slideshow": {
     "slide_type": "subslide"
    }
   },
   "outputs": [
    {
     "data": {
      "image/png": "[encoded data removed]",
      "text/plain": [
       "<Figure size 864x432 with 1 Axes>"
      ]
     },
     "metadata": {
      "needs_background": "light"
     },
     "output_type": "display_data"
    }
   ],
   "source": [
    "r.plot(x='n1',logy=True, lw=2, figsize=(12,6))\n",
    "plt.xlabel('n')\n",
    "plt.grid()\n"
   ]
  },
  {
   "cell_type": "code",
   "execution_count": 79,
   "id": "a5514ae1",
   "metadata": {
    "slideshow": {
     "slide_type": "subslide"
    }
   },
   "outputs": [
    {
     "data": {
      "image/png": "[encoded data removed]",
      "text/plain": [
       "<Figure size 864x432 with 1 Axes>"
      ]
     },
     "metadata": {
      "needs_background": "light"
     },
     "output_type": "display_data"
    }
   ],
   "source": [
    "r[['n1','n', 'log(n)', 'sqrt(n)', 'nlog(n)', 'n^2', 'n^3']].plot(x='n1', lw=2, figsize=(12,6))\n",
    "plt.xlabel('n')\n",
    "plt.grid()"
   ]
  },
  {
   "cell_type": "code",
   "execution_count": 82,
   "id": "9ca26279",
   "metadata": {
    "slideshow": {
     "slide_type": "subslide"
    }
   },
   "outputs": [
    {
     "data": {
      "image/png": "[encoded data removed]",
      "text/plain": [
       "<Figure size 864x432 with 1 Axes>"
      ]
     },
     "metadata": {
      "needs_background": "light"
     },
     "output_type": "display_data"
    }
   ],
   "source": [
    "r[['n1','n', 'log(n)', 'sqrt(n)', 'nlog(n)']].plot(x='n1', lw=2, figsize=(12,6))\n",
    "plt.xlabel('n')\n",
    "plt.grid()"
   ]
  },
  {
   "cell_type": "code",
   "execution_count": 84,
   "id": "632a9902",
   "metadata": {
    "slideshow": {
     "slide_type": "subslide"
    }
   },
   "outputs": [
    {
     "data": {
      "image/png": "[encoded data removed]",
      "text/plain": [
       "<Figure size 864x432 with 1 Axes>"
      ]
     },
     "metadata": {
      "needs_background": "light"
     },
     "output_type": "display_data"
    }
   ],
   "source": [
    "r[['n1','n', 'log(n)', 'sqrt(n)']].plot(x='n1', lw=2, figsize=(12,6))\n",
    "plt.xlabel('n')\n",
    "plt.grid()"
   ]
  }
 ],
 "metadata": {
  "celltoolbar": "Slideshow",
  "kernelspec": {
   "display_name": "Python 3",
   "language": "python",
   "name": "python3"
  },
  "language_info": {
   "codemirror_mode": {
    "name": "ipython",
    "version": 3
   },
   "file_extension": ".py",
   "mimetype": "text/x-python",
   "name": "python",
   "nbconvert_exporter": "python",
   "pygments_lexer": "ipython3",
   "version": "3.8.8"
  }
 },
 "nbformat": 4,
 "nbformat_minor": 5
}
