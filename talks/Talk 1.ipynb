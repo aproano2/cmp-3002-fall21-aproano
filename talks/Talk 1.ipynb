{
 "cells": [
  {
   "cell_type": "markdown",
   "id": "71562038",
   "metadata": {
    "slideshow": {
     "slide_type": "slide"
    }
   },
   "source": [
    "# Work-Life Balance"
   ]
  },
  {
   "cell_type": "markdown",
   "id": "2ca52552",
   "metadata": {
    "slideshow": {
     "slide_type": "slide"
    }
   },
   "source": [
    "## What's your motivation to pursue a career in CS?\n",
    "\n",
    "- money?\n",
    "- fame?\n",
    "- technology?\n",
    "- family (or other people)?"
   ]
  },
  {
   "cell_type": "markdown",
   "id": "5faddade",
   "metadata": {
    "slideshow": {
     "slide_type": "slide"
    }
   },
   "source": [
    "## What are the most important things in your life?\n",
    "\n",
    "- studies?\n",
    "- friends?\n",
    "- family?\n",
    "- significant other?\n"
   ]
  },
  {
   "cell_type": "markdown",
   "id": "208f85d0",
   "metadata": {
    "slideshow": {
     "slide_type": "slide"
    }
   },
   "source": [
    "## What makes you happy?\n",
    "\n",
    "- academic success?\n",
    "- financial success?\n",
    "- people?\n",
    "- being alone?"
   ]
  },
  {
   "cell_type": "markdown",
   "id": "bb7bd786",
   "metadata": {
    "slideshow": {
     "slide_type": "slide"
    }
   },
   "source": [
    "## What makes you healthy?\n",
    "\n",
    "- physical activity?\n",
    "- people?\n",
    "- emotional support?\n",
    "- diet?\n",
    "- going to church?\n",
    "- meditate?"
   ]
  },
  {
   "cell_type": "markdown",
   "id": "4043c010",
   "metadata": {
    "slideshow": {
     "slide_type": "slide"
    }
   },
   "source": [
    "## Balance\n",
    "- intelectual\n",
    "- emotional\n",
    "- spiritual\n",
    "- physical"
   ]
  },
  {
   "cell_type": "markdown",
   "id": "73e0ba07",
   "metadata": {
    "slideshow": {
     "slide_type": "slide"
    }
   },
   "source": [
    "## Private and public sector will not solve the issue\n",
    "\n",
    "- Governments are usually slow to take action\n",
    "- Employers address this issue by offering perks: onsite childcare, food, gym, etc.\n",
    "  - These are designed to keep get as much as they can from their employees\n"
   ]
  },
  {
   "cell_type": "markdown",
   "id": "1e86a778",
   "metadata": {
    "slideshow": {
     "slide_type": "subslide"
    }
   },
   "source": [
    "## If you don't design your life, someone else will do it for you\n",
    "\n",
    "- You might not be happy with their idea of balance\n",
    "- Never put the quality of your life in the hands of your employer"
   ]
  },
  {
   "cell_type": "markdown",
   "id": "cc5bfd1a",
   "metadata": {
    "slideshow": {
     "slide_type": "slide"
    }
   },
   "source": [
    "## You are responsible for setting up boundaries\n",
    "- is it okay for  your employer to call you after work hours or on the weekend?\n",
    "- should you go to a team outing while your family is waiting at home?\n",
    "- are you okay working 80 hours/week?"
   ]
  },
  {
   "cell_type": "markdown",
   "id": "01686b47",
   "metadata": {
    "slideshow": {
     "slide_type": "subslide"
    }
   },
   "source": [
    "## You are responsible for setting up boundaries\n",
    "- is it okay for  your employer to call you after work hours or on the weekend?\n",
    "- should you go to a team outing while your family is waiting at home?\n",
    "- are you okay working 80 hours/week?\n",
    "\n",
    "**If the conditions of your work place don't meet your expectations, RUN...**"
   ]
  },
  {
   "cell_type": "markdown",
   "id": "c120ccb9",
   "metadata": {
    "slideshow": {
     "slide_type": "slide"
    }
   },
   "source": [
    "## Recognize the Problem\n",
    "\n",
    "- Is the problem lack of physical activity?\n",
    "- not following the right diet?"
   ]
  },
  {
   "cell_type": "markdown",
   "id": "bb118dd6",
   "metadata": {
    "slideshow": {
     "slide_type": "subslide"
    }
   },
   "source": [
    "## Recognize the Problem\n",
    "\n",
    "- Is the problem lack of physical activity?\n",
    "- not following the right diet?\n",
    "\n",
    "**What areas of your life are you neglecting and why?**"
   ]
  },
  {
   "cell_type": "markdown",
   "id": "46f3e6c6",
   "metadata": {
    "slideshow": {
     "slide_type": "slide"
    }
   },
   "source": [
    "## Don't look at life as a competition of fame and money?\n",
    "- People spend most of their time working to buy things they don't need to impress people they don't like\n",
    "- Job is the mean to achieve a goal\n",
    "\n",
    "**what goal of yours matters?**"
   ]
  },
  {
   "cell_type": "markdown",
   "id": "ef69d9d5",
   "metadata": {
    "slideshow": {
     "slide_type": "slide"
    }
   },
   "source": [
    "## Relationships\n",
    "\n",
    "- Research shows that stable social connections make people **happier, healthier** and **help them live longer**\n",
    "- Loneliness contributes to **sooner brain decline, worse health in mid life** and **sooner death**.\n",
    "- People experiencing chronic pain handle it in a better way if they have warm relationships. Emotional pain magnifies physical pain. "
   ]
  },
  {
   "cell_type": "markdown",
   "id": "89e2b9ae",
   "metadata": {
    "slideshow": {
     "slide_type": "slide"
    }
   },
   "source": [
    "## Time Investments\n",
    "\n",
    "Smallest investments in the right bucket might make a big impact\n",
    "\n",
    "- Spend 10-15 mins/week talking to someone you care about\n",
    "- Reduce screen time with people time\n",
    "- Have a new experience with someone you are close to\n",
    "- Visit a therapist\n",
    "- Meditate\n",
    "- Explore your spirituality\n",
    "- Read more\n",
    "- Journal"
   ]
  },
  {
   "cell_type": "code",
   "execution_count": null,
   "id": "05f9c964",
   "metadata": {},
   "outputs": [],
   "source": []
  }
 ],
 "metadata": {
  "celltoolbar": "Slideshow",
  "kernelspec": {
   "display_name": "Python 3",
   "language": "python",
   "name": "python3"
  },
  "language_info": {
   "codemirror_mode": {
    "name": "ipython",
    "version": 3
   },
   "file_extension": ".py",
   "mimetype": "text/x-python",
   "name": "python",
   "nbconvert_exporter": "python",
   "pygments_lexer": "ipython3",
   "version": "3.8.8"
  }
 },
 "nbformat": 4,
 "nbformat_minor": 5
}
