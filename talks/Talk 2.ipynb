{
 "cells": [
  {
   "cell_type": "markdown",
   "id": "71562038",
   "metadata": {
    "slideshow": {
     "slide_type": "slide"
    }
   },
   "source": [
    "# Career Development"
   ]
  },
  {
   "cell_type": "markdown",
   "id": "2ca52552",
   "metadata": {
    "slideshow": {
     "slide_type": "slide"
    }
   },
   "source": [
    "## Poll\n",
    "\n",
    "Zoom "
   ]
  },
  {
   "cell_type": "markdown",
   "id": "5faddade",
   "metadata": {
    "slideshow": {
     "slide_type": "slide"
    }
   },
   "source": [
    "## What is career development?\n",
    "\n",
    "- Process of self-knowledge, exploration, and decision-making that shapes one's career\n",
    "- Explore personality, skills and interests\n",
    "- Explore occupational options\n",
    "- Use training to get a job (financial resources required)\n",
    "- Identify strenghs and weaknesses (blind spots)\n",
    "- Learn about the industry and how it is evolving\n"
   ]
  },
  {
   "cell_type": "markdown",
   "id": "208f85d0",
   "metadata": {
    "slideshow": {
     "slide_type": "slide"
    }
   },
   "source": [
    "## When should we start?\n",
    "\n",
    "- As soon as we identify the field we want to explore\n",
    "- Interests evolve and with that your career as well\n",
    "- By the end of the semester, you'll have what it's needed to start a career in tech"
   ]
  },
  {
   "cell_type": "markdown",
   "id": "7fd39d74",
   "metadata": {
    "slideshow": {
     "slide_type": "slide"
    }
   },
   "source": [
    "## How do I start?\n",
    "\n",
    "- College\n",
    "- Online classes\n",
    "- Projects\n",
    "- Competitions\n",
    "    - Kaggle\n",
    "    - Capture the flag\n",
    "    - Competitive programming\n",
    "- Study algorithms (interviews)\n",
    "- Learn cloud technologies\n",
    "- Start learning distributed systems\n"
   ]
  },
  {
   "cell_type": "markdown",
   "id": "41707927",
   "metadata": {
    "slideshow": {
     "slide_type": "slide"
    }
   },
   "source": [
    "## I have a job in tech, now what?\n",
    "\n",
    "- In the US, the average tenure is 3 years\n",
    "- Watch for work-life balance\n",
    "- Is your job holding you back?\n",
    "- Follow a breadth over depth strategy (at first)\n",
    "- Make sure you understand the job market (it can help to maximize profit)\n",
    "- Be humble and open to always learn, there is always going to be someone that knows more than you\n",
    "- Establish a good network"
   ]
  },
  {
   "cell_type": "code",
   "execution_count": null,
   "id": "f75fda59",
   "metadata": {},
   "outputs": [],
   "source": []
  }
 ],
 "metadata": {
  "celltoolbar": "Slideshow",
  "kernelspec": {
   "display_name": "Python 3",
   "language": "python",
   "name": "python3"
  },
  "language_info": {
   "codemirror_mode": {
    "name": "ipython",
    "version": 3
   },
   "file_extension": ".py",
   "mimetype": "text/x-python",
   "name": "python",
   "nbconvert_exporter": "python",
   "pygments_lexer": "ipython3",
   "version": "3.8.8"
  }
 },
 "nbformat": 4,
 "nbformat_minor": 5
}
