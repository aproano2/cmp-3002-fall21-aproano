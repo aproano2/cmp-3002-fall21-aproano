{
 "cells": [
  {
   "cell_type": "code",
   "execution_count": 1,
   "id": "5acb4fe5",
   "metadata": {
    "slideshow": {
     "slide_type": "skip"
    }
   },
   "outputs": [],
   "source": [
    "import time\n",
    "import pandas as pd\n",
    "import numpy as np\n",
    "import matplotlib.pyplot as plt\n",
    "%matplotlib inline  "
   ]
  },
  {
   "cell_type": "markdown",
   "id": "a41bb501",
   "metadata": {
    "slideshow": {
     "slide_type": "slide"
    }
   },
   "source": [
    "# CMP 3002 \n",
    "## Analyzing algorithms"
   ]
  },
  {
   "cell_type": "markdown",
   "id": "3f16eea7",
   "metadata": {
    "slideshow": {
     "slide_type": "slide"
    }
   },
   "source": [
    "## Review"
   ]
  },
  {
   "cell_type": "markdown",
   "id": "28132233",
   "metadata": {
    "slideshow": {
     "slide_type": "subslide"
    }
   },
   "source": [
    "### $\\Theta-notation$\n",
    "\n",
    "> $\\Theta(g(n)) = \\{f(n) : \\exists c_1, c_2, n_0 > 0, \\text{such that } 0 \\leq c_1g(n) \\leq f(n) \\leq c_2g(n), \\forall n \\geq n_0 \\}$\n",
    "\n",
    "- tight bound\n",
    "- we need two constants that represent an upper bound and a lower bound"
   ]
  },
  {
   "cell_type": "markdown",
   "id": "2fdc51fc",
   "metadata": {
    "slideshow": {
     "slide_type": "subslide"
    }
   },
   "source": [
    "### $O-notation$\n",
    "\n",
    "> $O(g(n)) = \\{f(n) : \\exists c, n_0 > 0 \\text{ such that } 0 \\leq f(n) \\leq cg(n), \\forall n \\geq n_0 \\}$\n",
    "\n",
    "- upper bound"
   ]
  },
  {
   "cell_type": "markdown",
   "id": "33554387",
   "metadata": {
    "slideshow": {
     "slide_type": "subslide"
    }
   },
   "source": [
    "### $\\Omega-notation$\n",
    "\n",
    "> $\\Omega(g(n)) = \\{f(n) : \\exists c, n_0 > 0 \\text{ such that } 0 \\leq cg(n) \\leq f(n), \\forall n \\geq n_0 \\}$\n",
    "\n",
    "- lower bound"
   ]
  },
  {
   "cell_type": "markdown",
   "id": "e3379615",
   "metadata": {},
   "source": [
    "## Exercises "
   ]
  },
  {
   "cell_type": "markdown",
   "id": "ef9568f4",
   "metadata": {},
   "source": [
    "### Find the asymptotic relationship between $6^n$ and $3^n$\n",
    "- $6^n$ is $O(3^n)$\n",
    "- $6^n$ is $\\Theta(3^n)$\n",
    "- $6^n$ is $\\Omega(3^n)$"
   ]
  },
  {
   "cell_type": "code",
   "execution_count": null,
   "id": "ea0b9a73",
   "metadata": {},
   "outputs": [],
   "source": []
  },
  {
   "cell_type": "markdown",
   "id": "12737ae2",
   "metadata": {},
   "source": [
    "### Find the asymptotic relationship between $3^n$ and $6^n$\n",
    "- $3^n$ is $O(6^n)$\n",
    "- $3^n$ is $\\Theta(6^n)$\n",
    "- $3^n$ is $\\Omega(6^n)$"
   ]
  },
  {
   "cell_type": "code",
   "execution_count": null,
   "id": "949bcfa5",
   "metadata": {},
   "outputs": [],
   "source": []
  },
  {
   "cell_type": "markdown",
   "id": "4e0a3971",
   "metadata": {},
   "source": [
    "### CLRS 3.1-4"
   ]
  },
  {
   "cell_type": "markdown",
   "id": "34f80674",
   "metadata": {},
   "source": [
    "### Is $2^{n+1} = O(2^n)$? "
   ]
  },
  {
   "cell_type": "code",
   "execution_count": null,
   "id": "7168a4b8",
   "metadata": {},
   "outputs": [],
   "source": []
  },
  {
   "cell_type": "markdown",
   "id": "0beab159",
   "metadata": {},
   "source": [
    "### Is $2^{2n} = O(n)$?"
   ]
  },
  {
   "cell_type": "code",
   "execution_count": null,
   "id": "c1c5b845",
   "metadata": {},
   "outputs": [],
   "source": []
  },
  {
   "cell_type": "markdown",
   "id": "9a6db7b1",
   "metadata": {},
   "source": [
    "### Implement insertion sort in Python"
   ]
  },
  {
   "cell_type": "code",
   "execution_count": null,
   "id": "1f887921",
   "metadata": {},
   "outputs": [],
   "source": []
  }
 ],
 "metadata": {
  "celltoolbar": "Slideshow",
  "kernelspec": {
   "display_name": "Python 3",
   "language": "python",
   "name": "python3"
  },
  "language_info": {
   "codemirror_mode": {
    "name": "ipython",
    "version": 3
   },
   "file_extension": ".py",
   "mimetype": "text/x-python",
   "name": "python",
   "nbconvert_exporter": "python",
   "pygments_lexer": "ipython3",
   "version": "3.8.8"
  }
 },
 "nbformat": 4,
 "nbformat_minor": 5
}
