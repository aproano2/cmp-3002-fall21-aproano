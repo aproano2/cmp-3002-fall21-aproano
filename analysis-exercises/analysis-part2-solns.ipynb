{
 "cells": [
  {
   "cell_type": "code",
   "execution_count": 1,
   "id": "5acb4fe5",
   "metadata": {
    "slideshow": {
     "slide_type": "skip"
    }
   },
   "outputs": [],
   "source": [
    "import time\n",
    "import pandas as pd\n",
    "import numpy as np\n",
    "import matplotlib.pyplot as plt\n",
    "%matplotlib inline  "
   ]
  },
  {
   "cell_type": "markdown",
   "id": "a41bb501",
   "metadata": {
    "slideshow": {
     "slide_type": "slide"
    }
   },
   "source": [
    "# CMP 3002 \n",
    "## Analyzing algorithms"
   ]
  },
  {
   "cell_type": "markdown",
   "id": "3f16eea7",
   "metadata": {
    "slideshow": {
     "slide_type": "slide"
    }
   },
   "source": [
    "## Review"
   ]
  },
  {
   "cell_type": "markdown",
   "id": "28132233",
   "metadata": {
    "slideshow": {
     "slide_type": "subslide"
    }
   },
   "source": [
    "### $\\Theta-notation$\n",
    "\n",
    "> $\\Theta(g(n)) = \\{f(n) : \\exists c_1, c_2, n_0 > 0, \\text{such that } 0 \\leq c_1g(n) \\leq f(n) \\leq c_2g(n), \\forall n \\geq n_0 \\}$\n",
    "\n",
    "- tight bound\n",
    "- we need two constants that represent an upper bound and a lower bound"
   ]
  },
  {
   "cell_type": "markdown",
   "id": "2fdc51fc",
   "metadata": {
    "slideshow": {
     "slide_type": "subslide"
    }
   },
   "source": [
    "### $O-notation$\n",
    "\n",
    "> $O(g(n)) = \\{f(n) : \\exists c, n_0 > 0 \\text{ such that } 0 \\leq f(n) \\leq cg(n), \\forall n \\geq n_0 \\}$\n",
    "\n",
    "- upper bound"
   ]
  },
  {
   "cell_type": "markdown",
   "id": "33554387",
   "metadata": {
    "slideshow": {
     "slide_type": "subslide"
    }
   },
   "source": [
    "### $\\Omega-notation$\n",
    "\n",
    "> $\\Omega(g(n)) = \\{f(n) : \\exists c, n_0 > 0 \\text{ such that } 0 \\leq cg(n) \\leq f(n), \\forall n \\geq n_0 \\}$\n",
    "\n",
    "- lower bound"
   ]
  },
  {
   "cell_type": "markdown",
   "id": "4803ef8d",
   "metadata": {
    "slideshow": {
     "slide_type": "slide"
    }
   },
   "source": [
    "## Exercises "
   ]
  },
  {
   "cell_type": "markdown",
   "id": "59d5ec6b",
   "metadata": {
    "slideshow": {
     "slide_type": "slide"
    }
   },
   "source": [
    "### Find the asymptotic relationship between $6^n$ and $3^n$\n",
    "\n",
    "$6^n$ is $O(3^n)$\n",
    "\n",
    "$6^n$ is $\\Theta(3^n)$\n",
    "\n",
    "$6^n$ is $\\Omega(3^n)$"
   ]
  },
  {
   "cell_type": "markdown",
   "id": "e3d57286",
   "metadata": {
    "slideshow": {
     "slide_type": "subslide"
    }
   },
   "source": [
    "$0 \\leq c_1 \\times g(n) \\leq 6^n \\leq c_2 \\times g(n), \\forall n \\geq n_0$"
   ]
  },
  {
   "cell_type": "markdown",
   "id": "79fe84b7",
   "metadata": {
    "slideshow": {
     "slide_type": "subslide"
    }
   },
   "source": [
    "$6^n$ is $O(3^n)$\n",
    "\n",
    "$6^n$ is $\\Omega(3^n)$\n",
    "\n",
    "$6^n$ is $\\Theta(3^n)$\n",
    "\n",
    "$0 \\leq c_1 \\times 3^n \\leq 6^n \\leq c_2 \\times 3^n$"
   ]
  },
  {
   "cell_type": "markdown",
   "id": "4c226d35",
   "metadata": {
    "slideshow": {
     "slide_type": "subslide"
    }
   },
   "source": [
    "$6^n$ is $O(3^n)$?\n",
    "\n",
    "$6^n \\leq c_2 \\times 3^n, \\forall n\\geq n_0$        (1)\n",
    "\n",
    "$6^n = (2\\times3)^n$\n",
    "\n",
    "$6^n = 2^n\\times3^n$\n",
    "\n",
    "$6^n \\leq c_2\\times3^n$ ?\n",
    "\n",
    "Is there a $c_1$ and a $n_0$ so that (1) holds true for $n \\geq n_0$?"
   ]
  },
  {
   "cell_type": "markdown",
   "id": "7c45afa1",
   "metadata": {},
   "source": [
    "$6^n \\leq 4 \\times 3^n$ "
   ]
  },
  {
   "cell_type": "markdown",
   "id": "05ac9a49",
   "metadata": {
    "slideshow": {
     "slide_type": "subslide"
    }
   },
   "source": [
    "$6^n$ is $\\Omega(3^n)$?\n",
    "\n",
    "$0 \\leq c_1 \\times 3^n \\leq 6^n, \\forall n\\geq n_0$        (2)\n",
    "\n",
    "$6^n = (2\\times3)^n$\n",
    "\n",
    "$6^n = 2^n\\times3^n$\n",
    "\n",
    "$6^n \\geq c_1\\times3^n$ ?\n",
    "\n",
    "Is there a $c_1$ and a $n_0$ so that (2) holds true for $n \\geq n_0$?"
   ]
  },
  {
   "cell_type": "markdown",
   "id": "927efb79",
   "metadata": {
    "slideshow": {
     "slide_type": "subslide"
    }
   },
   "source": [
    "$6^n$ is $\\Theta(3^n)$?"
   ]
  },
  {
   "cell_type": "code",
   "execution_count": 20,
   "id": "9039d0b7",
   "metadata": {
    "slideshow": {
     "slide_type": "skip"
    }
   },
   "outputs": [],
   "source": [
    "f = pd.DataFrame()\n",
    "f['n'] = np.arange(0,5,1)\n",
    "f['6^n'] = np.power(6*np.ones(f.shape[0]), f['n'])\n",
    "f['3^n'] = np.power(3*np.ones(f.shape[0]), f['n'])"
   ]
  },
  {
   "cell_type": "code",
   "execution_count": 21,
   "id": "f2c3c4de",
   "metadata": {
    "slideshow": {
     "slide_type": "subslide"
    }
   },
   "outputs": [
    {
     "data": {
      "image/png": "[encoded data removed]",
      "text/plain": [
       "<Figure size 432x288 with 1 Axes>"
      ]
     },
     "metadata": {
      "needs_background": "light"
     },
     "output_type": "display_data"
    }
   ],
   "source": [
    "f.plot(x='n', y=['6^n', '3^n'])#, logy=True)\n",
    "plt.grid()"
   ]
  },
  {
   "cell_type": "markdown",
   "id": "64460652",
   "metadata": {},
   "source": [
    "### Example showing that $c=n^2$ is $\\Theta(n^2)$, $\\Omega(n^2)$ and $O(n^2)$"
   ]
  },
  {
   "cell_type": "code",
   "execution_count": 24,
   "id": "1f9f3a20",
   "metadata": {},
   "outputs": [],
   "source": [
    "f1 = pd.DataFrame()\n",
    "f1['n'] = np.arange(0,20,1)\n",
    "f1['c'] = np.power(f1['n'],2)\n",
    "f1['O'] = 2*np.power(f1['n'],2)\n",
    "f1['Omega'] = 0.5*np.power(f1['n'],2)"
   ]
  },
  {
   "cell_type": "code",
   "execution_count": 25,
   "id": "2940a528",
   "metadata": {},
   "outputs": [
    {
     "data": {
      "image/png": "[encoded data removed]",
      "text/plain": [
       "<Figure size 432x288 with 1 Axes>"
      ]
     },
     "metadata": {
      "needs_background": "light"
     },
     "output_type": "display_data"
    }
   ],
   "source": [
    "# c: complexity of a nested for loop\n",
    "\n",
    "f1.plot(x='n', y=['c', 'O', 'Omega'])\n",
    "plt.grid()"
   ]
  },
  {
   "cell_type": "markdown",
   "id": "f42e07ed",
   "metadata": {},
   "source": [
    "### Example showing that $f(n) = n^2$ is $O(n^3 - 4)$ only when $n_0 = 2$"
   ]
  },
  {
   "cell_type": "code",
   "execution_count": 30,
   "id": "6298ebea",
   "metadata": {},
   "outputs": [],
   "source": [
    "f1 = pd.DataFrame()\n",
    "f1['n'] = np.arange(0,5)\n",
    "f1['f'] = np.power(f1['n'],2)\n",
    "f1['g'] = np.power(f1['n'],3) - 4"
   ]
  },
  {
   "cell_type": "code",
   "execution_count": 31,
   "id": "11abd114",
   "metadata": {},
   "outputs": [
    {
     "data": {
      "text/plain": [
       "(0.0, 16.0)"
      ]
     },
     "execution_count": 31,
     "metadata": {},
     "output_type": "execute_result"
    },
    {
     "data": {
      "image/png": "[encoded data removed]",
      "text/plain": [
       "<Figure size 432x288 with 1 Axes>"
      ]
     },
     "metadata": {
      "needs_background": "light"
     },
     "output_type": "display_data"
    }
   ],
   "source": [
    "f1.plot(x = 'n', y=['f', 'g'])\n",
    "plt.grid()\n",
    "plt.ylim([0,16])"
   ]
  },
  {
   "cell_type": "markdown",
   "id": "fcb68ee4",
   "metadata": {
    "slideshow": {
     "slide_type": "slide"
    }
   },
   "source": [
    "### Find the asymptotic relationship between $3^n$ and $6^n$\n",
    "\n",
    "$3^n$ is $O(6^n)$\n",
    "\n",
    "$3^n$ is $\\Theta(6^n)$\n",
    "\n",
    "$3^n$ is $\\Omega(6^n)$"
   ]
  },
  {
   "cell_type": "code",
   "execution_count": null,
   "id": "b7c9b5fd",
   "metadata": {},
   "outputs": [],
   "source": []
  },
  {
   "cell_type": "markdown",
   "id": "5e002e70",
   "metadata": {
    "slideshow": {
     "slide_type": "slide"
    }
   },
   "source": [
    "### CLRS 3.1-4"
   ]
  },
  {
   "cell_type": "markdown",
   "id": "aa035a04",
   "metadata": {
    "slideshow": {
     "slide_type": "subslide"
    }
   },
   "source": [
    "### Is $2^{n+1} = O(2^n)$? "
   ]
  },
  {
   "cell_type": "markdown",
   "id": "62066f29",
   "metadata": {
    "slideshow": {
     "slide_type": "subslide"
    }
   },
   "source": [
    "$2^{n+1} = 2 \\times 2^n$\n",
    "\n",
    "$c \\geq 2$ and $n_0 = 0$\n",
    "\n",
    "$0 \\leq 2^{n+1} \\leq c \\times 2^n, \\forall n\\geq n_0$\n",
    "\n",
    "Therefore, $2^{n+1} = O(2^n)$"
   ]
  },
  {
   "cell_type": "markdown",
   "id": "ae11b7e4",
   "metadata": {
    "slideshow": {
     "slide_type": "subslide"
    }
   },
   "source": [
    "### Is $2^{2n} = O(2^n)$?"
   ]
  },
  {
   "cell_type": "markdown",
   "id": "b2108201",
   "metadata": {
    "slideshow": {
     "slide_type": "subslide"
    }
   },
   "source": [
    "$2^{2n} = 2^n \\times 2^n$\n",
    "\n",
    "There is not $c$ and $n_0$ such that $0 \\leq 2^{2n} \\leq c \\times 2^n, \\forall n\\geq n_0$"
   ]
  },
  {
   "cell_type": "markdown",
   "id": "8210be83",
   "metadata": {
    "slideshow": {
     "slide_type": "slide"
    }
   },
   "source": [
    "### Implement insertion sort in Python"
   ]
  },
  {
   "cell_type": "code",
   "execution_count": 15,
   "id": "338fc03c",
   "metadata": {
    "slideshow": {
     "slide_type": "subslide"
    }
   },
   "outputs": [],
   "source": [
    "def insertion_sort(array):\n",
    "    \"\"\"\n",
    "    Implementation of insertion sort\n",
    "    \"\"\"\n",
    "    for i in range(1, len(array)):        \n",
    "        key = array[i]\n",
    "        j = i-1\n",
    "        while (j >= 0) and (key < array[j]):\n",
    "            array[j+1] = array[j]\n",
    "            j -= 1\n",
    "        array[j+1] = key"
   ]
  },
  {
   "cell_type": "code",
   "execution_count": 26,
   "id": "17b026dd",
   "metadata": {
    "slideshow": {
     "slide_type": "subslide"
    }
   },
   "outputs": [],
   "source": [
    "?insertion_sort"
   ]
  },
  {
   "cell_type": "code",
   "execution_count": 27,
   "id": "e358c866",
   "metadata": {
    "slideshow": {
     "slide_type": "subslide"
    }
   },
   "outputs": [],
   "source": [
    "array = [1,4,6,8,-1,0,-4]"
   ]
  },
  {
   "cell_type": "code",
   "execution_count": 28,
   "id": "d905cc90",
   "metadata": {
    "slideshow": {
     "slide_type": "subslide"
    }
   },
   "outputs": [],
   "source": [
    "insertion_sort(array)"
   ]
  },
  {
   "cell_type": "code",
   "execution_count": 29,
   "id": "e84c2728",
   "metadata": {
    "slideshow": {
     "slide_type": "subslide"
    }
   },
   "outputs": [
    {
     "data": {
      "text/plain": [
       "[-4, -1, 0, 1, 4, 6, 8]"
      ]
     },
     "execution_count": 29,
     "metadata": {},
     "output_type": "execute_result"
    }
   ],
   "source": [
    "array"
   ]
  },
  {
   "cell_type": "code",
   "execution_count": null,
   "id": "985f25a5",
   "metadata": {},
   "outputs": [],
   "source": []
  }
 ],
 "metadata": {
  "celltoolbar": "Slideshow",
  "kernelspec": {
   "display_name": "Python 3",
   "language": "python",
   "name": "python3"
  },
  "language_info": {
   "codemirror_mode": {
    "name": "ipython",
    "version": 3
   },
   "file_extension": ".py",
   "mimetype": "text/x-python",
   "name": "python",
   "nbconvert_exporter": "python",
   "pygments_lexer": "ipython3",
   "version": "3.8.8"
  }
 },
 "nbformat": 4,
 "nbformat_minor": 5
}
