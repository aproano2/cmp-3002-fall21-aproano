{
 "cells": [
  {
   "cell_type": "code",
   "execution_count": 1,
   "id": "5acb4fe5",
   "metadata": {
    "slideshow": {
     "slide_type": "skip"
    }
   },
   "outputs": [],
   "source": [
    "import time\n",
    "import pandas as pd\n",
    "import numpy as np\n",
    "import matplotlib.pyplot as plt\n",
    "%matplotlib inline  "
   ]
  },
  {
   "cell_type": "markdown",
   "id": "a41bb501",
   "metadata": {
    "slideshow": {
     "slide_type": "slide"
    }
   },
   "source": [
    "# CMP 3002 \n",
    "## Arrays / Linked List"
   ]
  },
  {
   "cell_type": "markdown",
   "id": "d23f2a16",
   "metadata": {
    "slideshow": {
     "slide_type": "slide"
    }
   },
   "source": [
    "## Review"
   ]
  },
  {
   "cell_type": "markdown",
   "id": "c6e57d3b",
   "metadata": {
    "slideshow": {
     "slide_type": "subslide"
    }
   },
   "source": [
    "## Arrays\n",
    "\n",
    "```\n",
    "An array is a collection of items. \n",
    "```\n",
    "- The items could be integers, strings, booleans, pointers, etc. \n",
    "- Items are stored in contiguous memory locations\n",
    "- Each item has an associated index (address, register)\n",
    "- Since they are stored together, going through all the items is straightforward"
   ]
  },
  {
   "cell_type": "markdown",
   "id": "0e6c900c",
   "metadata": {
    "slideshow": {
     "slide_type": "subslide"
    }
   },
   "source": [
    "### Properties\n",
    "\n",
    "- Capacity - the number of elements that we can store\n",
    "- Length - the number of elements currently in the array\n",
    "- Read and write are primitive operations of complexity $O(1)$\n",
    "- More complex operations are based on read and write"
   ]
  },
  {
   "cell_type": "code",
   "execution_count": 2,
   "id": "4ca010c2",
   "metadata": {
    "slideshow": {
     "slide_type": "subslide"
    }
   },
   "outputs": [],
   "source": [
    "import ctypes\n",
    "\n",
    "class Array(object):\n",
    "    \"\"\"\n",
    "    Implementation of the array data structure\n",
    "    \"\"\"\n",
    "\n",
    "    def __init__(self, n, values=None):\n",
    "        self.item_count = 0\n",
    "        self.n = n\n",
    "        self.array = self._create_array(self.n)\n",
    "        if values:\n",
    "            self.initialize_array(values)  \n",
    "            \n",
    "    def _create_array(self, n):\n",
    "        \"\"\"\n",
    "        Creates a new array of capacity n\n",
    "        \"\"\"\n",
    "        return (n * ctypes.py_object)()\n",
    "                \n",
    "        \n",
    "    def __getitem__(self, item_index):\n",
    "        \"\"\"\n",
    "        Return element at item_index\n",
    "        \"\"\"\n",
    "        if (item_index < 0) or (item_index >= self.n):\n",
    "            raise IndexError('index out of range!')\n",
    "        try:\n",
    "            x = self.array[item_index]\n",
    "        except ValueError:\n",
    "            x = None\n",
    "        return x\n",
    "    \n",
    "    def __setitem__(self, item_index, item):\n",
    "        \"\"\"\n",
    "        Set element at item_index\n",
    "        \"\"\"\n",
    "        if (item_index < 0) or (item_index >= self.n):\n",
    "            raise IndexError('index out of range!')\n",
    "        if not self[item_index]:\n",
    "            self.item_count += 1\n",
    "        self.array[item_index] = item\n",
    "    \n",
    "    def initialize_array(self, values):\n",
    "        \"\"\"\n",
    "        Initialize array\n",
    "        \"\"\"\n",
    "        if self.n != len(values):\n",
    "            raise ValueError(\"element count different than capacity\")\n",
    "        for item in values:\n",
    "            self.array[self.item_count] = item\n",
    "            self.item_count += 1\n",
    "            \n",
    "    def list_array(self):\n",
    "        \"\"\"\n",
    "        List elements of the array\n",
    "        \"\"\"\n",
    "        return \", \".join(str(x) if x is not None else '_' for x in self)\n",
    "    \n",
    "    def _append(self, item):\n",
    "        \"\"\"\n",
    "        Add new item to the beginning of the array\n",
    "        \"\"\"\n",
    "        if self.item_count == self.n:\n",
    "            raise ValueError(\"no more capacity\")\n",
    "            \n",
    "        i = self.item_count\n",
    "        while (i > 0):\n",
    "            self.array[i] = self.array[i-1]\n",
    "            i -= 1\n",
    "        self.array[0] = item\n",
    "        self.item_count += 1\n",
    "            "
   ]
  },
  {
   "cell_type": "markdown",
   "id": "ac8d9e44",
   "metadata": {
    "slideshow": {
     "slide_type": "subslide"
    }
   },
   "source": [
    "### Insert\n",
    "\n",
    "`A = [0, 3, 4, _, _]`\n",
    "\n",
    "Element to insert: `x=8`\n",
    "\n",
    "Index: `1`\n",
    "\n",
    "`A = [0, 8, 3, 4, _]`\n"
   ]
  },
  {
   "cell_type": "code",
   "execution_count": 3,
   "id": "01bfb8aa",
   "metadata": {
    "slideshow": {
     "slide_type": "subslide"
    }
   },
   "outputs": [],
   "source": [
    "def insert(array, index, element):\n",
    "    \"\"\"\n",
    "    implementation of insert\n",
    "    \"\"\"\n",
    "    if (index < 0) or (index > array.item_count):\n",
    "        raise IndexError('index out of range!')\n",
    "    x = array.item_count\n",
    "    while x > index:\n",
    "        array.array[x] = array.array[x-1]\n",
    "        x -= 1\n",
    "    array.array[index] = element\n",
    "    array.item_count += 1\n",
    "    "
   ]
  },
  {
   "cell_type": "code",
   "execution_count": 4,
   "id": "892f8fdd",
   "metadata": {
    "slideshow": {
     "slide_type": "subslide"
    }
   },
   "outputs": [],
   "source": [
    "A = Array(10)"
   ]
  },
  {
   "cell_type": "code",
   "execution_count": 5,
   "id": "fe168036",
   "metadata": {
    "slideshow": {
     "slide_type": "subslide"
    }
   },
   "outputs": [
    {
     "data": {
      "text/plain": [
       "'-1, _, _, _, _, _, _, _, _, _'"
      ]
     },
     "execution_count": 5,
     "metadata": {},
     "output_type": "execute_result"
    }
   ],
   "source": [
    "insert(A,0,-1)\n",
    "A.list_array()"
   ]
  },
  {
   "cell_type": "code",
   "execution_count": 6,
   "id": "924cf4cb",
   "metadata": {
    "slideshow": {
     "slide_type": "subslide"
    }
   },
   "outputs": [
    {
     "data": {
      "text/plain": [
       "'2, -1, _, _, _, _, _, _, _, _'"
      ]
     },
     "execution_count": 6,
     "metadata": {},
     "output_type": "execute_result"
    }
   ],
   "source": [
    "# Insert at the beginning\n",
    "insert(A,0,2)\n",
    "A.list_array()"
   ]
  },
  {
   "cell_type": "code",
   "execution_count": 7,
   "id": "7f915fb0",
   "metadata": {
    "slideshow": {
     "slide_type": "subslide"
    }
   },
   "outputs": [
    {
     "data": {
      "text/plain": [
       "'2, -1, 4, _, _, _, _, _, _, _'"
      ]
     },
     "execution_count": 7,
     "metadata": {},
     "output_type": "execute_result"
    }
   ],
   "source": [
    "# Insert at the end\n",
    "insert(A,2,4)\n",
    "A.list_array()"
   ]
  },
  {
   "cell_type": "code",
   "execution_count": 8,
   "id": "75201164",
   "metadata": {
    "slideshow": {
     "slide_type": "subslide"
    }
   },
   "outputs": [
    {
     "data": {
      "text/plain": [
       "'2, 3, -1, 4, _, _, _, _, _, _'"
      ]
     },
     "execution_count": 8,
     "metadata": {},
     "output_type": "execute_result"
    }
   ],
   "source": [
    "# Insert in the middle\n",
    "insert(A,1,3)\n",
    "A.list_array()"
   ]
  },
  {
   "cell_type": "code",
   "execution_count": 9,
   "id": "a79a4688",
   "metadata": {
    "slideshow": {
     "slide_type": "subslide"
    }
   },
   "outputs": [
    {
     "data": {
      "text/plain": [
       "4"
      ]
     },
     "execution_count": 9,
     "metadata": {},
     "output_type": "execute_result"
    }
   ],
   "source": [
    "A.item_count"
   ]
  },
  {
   "cell_type": "markdown",
   "id": "c506302f",
   "metadata": {
    "slideshow": {
     "slide_type": "subslide"
    }
   },
   "source": [
    "### Delete \n",
    "\n",
    "`A = [0, 3, 4, 8, 7]`\n",
    "\n",
    "Index: `2`\n",
    "\n",
    "`A = [0, 3, 8, 7, _]`"
   ]
  },
  {
   "cell_type": "code",
   "execution_count": 10,
   "id": "e06ff872",
   "metadata": {
    "slideshow": {
     "slide_type": "subslide"
    }
   },
   "outputs": [],
   "source": [
    "def delete(array, index):\n",
    "    \"\"\"\n",
    "    implementation of delete\n",
    "    \"\"\"\n",
    "    if (index < 0) or (index >= array.item_count):\n",
    "        raise IndexError('index out of range!')\n",
    "    for x in range(index, array.item_count-1):\n",
    "        array.array[x] = array.array[x+1]\n",
    "    array.array[array.item_count - 1] = None\n",
    "    array.item_count -= 1"
   ]
  },
  {
   "cell_type": "code",
   "execution_count": 11,
   "id": "89cbf899",
   "metadata": {
    "slideshow": {
     "slide_type": "subslide"
    }
   },
   "outputs": [
    {
     "data": {
      "text/plain": [
       "'2, 3, -1, 4, _, _, _, _, _, _'"
      ]
     },
     "execution_count": 11,
     "metadata": {},
     "output_type": "execute_result"
    }
   ],
   "source": [
    "A.list_array()"
   ]
  },
  {
   "cell_type": "code",
   "execution_count": 12,
   "id": "6aed1fe8",
   "metadata": {
    "slideshow": {
     "slide_type": "subslide"
    }
   },
   "outputs": [
    {
     "data": {
      "text/plain": [
       "'2, 3, 4, _, _, _, _, _, _, _'"
      ]
     },
     "execution_count": 12,
     "metadata": {},
     "output_type": "execute_result"
    }
   ],
   "source": [
    "# Delete in the middle\n",
    "delete(A, 2)\n",
    "A.list_array()"
   ]
  },
  {
   "cell_type": "code",
   "execution_count": 13,
   "id": "1d86810d",
   "metadata": {
    "slideshow": {
     "slide_type": "subslide"
    }
   },
   "outputs": [
    {
     "data": {
      "text/plain": [
       "'3, 4, _, _, _, _, _, _, _, _'"
      ]
     },
     "execution_count": 13,
     "metadata": {},
     "output_type": "execute_result"
    }
   ],
   "source": [
    "# Delete at the beginning\n",
    "delete(A, 0)\n",
    "A.list_array()"
   ]
  },
  {
   "cell_type": "code",
   "execution_count": 14,
   "id": "0699bd03",
   "metadata": {
    "slideshow": {
     "slide_type": "subslide"
    }
   },
   "outputs": [
    {
     "data": {
      "text/plain": [
       "'3, _, _, _, _, _, _, _, _, _'"
      ]
     },
     "execution_count": 14,
     "metadata": {},
     "output_type": "execute_result"
    }
   ],
   "source": [
    "# Delete at the end\n",
    "delete(A, 1)\n",
    "A.list_array()"
   ]
  },
  {
   "cell_type": "markdown",
   "id": "e0f1d793",
   "metadata": {
    "slideshow": {
     "slide_type": "slide"
    }
   },
   "source": [
    "### Array Search\n",
    "\n",
    "- Most important operation of all\n",
    "- It comes down to how fast the search occurs\n",
    "- It's important to understand the memory requirement imposed by the data structure\n"
   ]
  },
  {
   "cell_type": "markdown",
   "id": "f20418f5",
   "metadata": {},
   "source": [
    "A = [1, 7, 0, -2, 4]\n",
    "input = valor a buscar\n",
    "output = index\n",
    "\n",
    "O(n)"
   ]
  },
  {
   "cell_type": "markdown",
   "id": "96d0c342",
   "metadata": {
    "slideshow": {
     "slide_type": "subslide"
    }
   },
   "source": [
    "### Linear search\n",
    "- Index not known\n",
    "- Check each element in the Array until we find the element or we reach the end\n",
    "- Complexity is $O(n)$"
   ]
  },
  {
   "cell_type": "code",
   "execution_count": 15,
   "id": "2c54ee4b",
   "metadata": {
    "slideshow": {
     "slide_type": "subslide"
    }
   },
   "outputs": [],
   "source": [
    "def linear_search(array, element):\n",
    "    \"\"\"\n",
    "    Return the index of element\n",
    "    \"\"\"\n",
    "    for i in range(array.item_count):\n",
    "        if array[i] == element:\n",
    "            return i\n",
    "    return None\n",
    "        "
   ]
  },
  {
   "cell_type": "code",
   "execution_count": 16,
   "id": "b6e88ae5",
   "metadata": {
    "slideshow": {
     "slide_type": "subslide"
    }
   },
   "outputs": [],
   "source": [
    "import random\n",
    "R = list(range(25))\n",
    "random.shuffle(R)"
   ]
  },
  {
   "cell_type": "code",
   "execution_count": 17,
   "id": "6f2a46a6",
   "metadata": {
    "slideshow": {
     "slide_type": "subslide"
    }
   },
   "outputs": [],
   "source": [
    "Ar = Array(25, R)"
   ]
  },
  {
   "cell_type": "code",
   "execution_count": 18,
   "id": "60e426cd",
   "metadata": {
    "slideshow": {
     "slide_type": "subslide"
    }
   },
   "outputs": [
    {
     "data": {
      "text/plain": [
       "'6, 18, 17, 8, 12, 15, 9, 5, 1, 10, 2, 11, 24, 16, 19, 21, 7, 0, 13, 4, 20, 23, 22, 3, 14'"
      ]
     },
     "execution_count": 18,
     "metadata": {},
     "output_type": "execute_result"
    }
   ],
   "source": [
    "\n",
    "Ar.list_array()"
   ]
  },
  {
   "cell_type": "code",
   "execution_count": 19,
   "id": "f55066ed",
   "metadata": {
    "slideshow": {
     "slide_type": "subslide"
    }
   },
   "outputs": [
    {
     "data": {
      "text/plain": [
       "14"
      ]
     },
     "execution_count": 19,
     "metadata": {},
     "output_type": "execute_result"
    }
   ],
   "source": [
    "linear_search(Ar,19)"
   ]
  },
  {
   "cell_type": "code",
   "execution_count": 20,
   "id": "46a7c327",
   "metadata": {
    "slideshow": {
     "slide_type": "subslide"
    }
   },
   "outputs": [
    {
     "data": {
      "text/plain": [
       "0"
      ]
     },
     "execution_count": 20,
     "metadata": {},
     "output_type": "execute_result"
    }
   ],
   "source": [
    "linear_search(Ar,6)"
   ]
  },
  {
   "cell_type": "code",
   "execution_count": 21,
   "id": "5ae6668a",
   "metadata": {
    "slideshow": {
     "slide_type": "subslide"
    }
   },
   "outputs": [],
   "source": [
    "linear_search(Ar,34)"
   ]
  },
  {
   "cell_type": "markdown",
   "id": "a98fdc08",
   "metadata": {
    "slideshow": {
     "slide_type": "slide"
    }
   },
   "source": [
    "## Linked Lists"
   ]
  },
  {
   "cell_type": "markdown",
   "id": "419c97dc",
   "metadata": {
    "slideshow": {
     "slide_type": "slide"
    }
   },
   "source": [
    "### Properties\n",
    "\n",
    "- Similar to arrays, linked list is a linear data structure\n",
    "- Each element is a separate object\n",
    "- All objects are linked together by a reference field in each element\n",
    "- Two types: \n",
    "    * Singly linked lists\n",
    "    * Doubly linked lists"
   ]
  },
  {
   "cell_type": "markdown",
   "id": "fb64fd01",
   "metadata": {
    "slideshow": {
     "slide_type": "slide"
    }
   },
   "source": [
    "### Singly linked lists\n",
    "\n",
    "<img src=\"linked_list.png\" alt=\"drawing\" style=\"width:400px;\"/>\n",
    "\n",
    "Each node has two parts:\n",
    "- value\n",
    "- reference field to link to the next node"
   ]
  },
  {
   "cell_type": "code",
   "execution_count": 22,
   "id": "a806ba4b",
   "metadata": {
    "slideshow": {
     "slide_type": "subslide"
    }
   },
   "outputs": [],
   "source": [
    "class Node:\n",
    "    \"\"\"\n",
    "    Implementation of a node\n",
    "    \"\"\"\n",
    "    def __init__(self, val=None):\n",
    "        self.val = val\n",
    "        self.next_node = None\n",
    "    \n",
    "    def set_next_node(self, next_node):\n",
    "        self.next_node = next_node\n",
    "        \n",
    "class Singly_linked_list:\n",
    "    \"\"\"\n",
    "    Implementation of a singly linked list\n",
    "    \"\"\"\n",
    "    def __init__(self, head_node=None):\n",
    "        self.head_node = head_node"
   ]
  },
  {
   "cell_type": "code",
   "execution_count": 23,
   "id": "d4194006",
   "metadata": {
    "slideshow": {
     "slide_type": "subslide"
    }
   },
   "outputs": [],
   "source": [
    "m1 = Node(\"Jan\")\n",
    "m2 = Node(\"Feb\")\n",
    "m3 = Node(\"March\")\n",
    "\n",
    "# link m2 to m3\n",
    "m1.set_next_node(m2)\n",
    "# link m3 to m4\n",
    "m2.set_next_node(m3)\n",
    "\n",
    "list1 = Singly_linked_list(m1)"
   ]
  },
  {
   "cell_type": "markdown",
   "id": "f2dd374c",
   "metadata": {
    "slideshow": {
     "slide_type": "subslide"
    }
   },
   "source": [
    "<img src=\"example_linked_list.png\" alt=\"drawing\" style=\"width:400px;\"/>"
   ]
  },
  {
   "cell_type": "markdown",
   "id": "0142772c",
   "metadata": {
    "slideshow": {
     "slide_type": "slide"
    }
   },
   "source": [
    "### Operations\n",
    "\n",
    "- traverse\n",
    "- insert\n",
    "- delete"
   ]
  },
  {
   "cell_type": "markdown",
   "id": "066565e6",
   "metadata": {
    "slideshow": {
     "slide_type": "slide"
    }
   },
   "source": [
    "### Traverse\n",
    "\n",
    "- Unlike arrays, we can't read a node in singly linked list in $O(1)$\n",
    "- To access an element, we need to traverse from the head to the node one by one\n",
    "- Complexity of getting to a node is $O(n)$, for $n$ being the size of the linked list"
   ]
  },
  {
   "cell_type": "code",
   "execution_count": 24,
   "id": "24a120d0",
   "metadata": {
    "slideshow": {
     "slide_type": "subslide"
    }
   },
   "outputs": [],
   "source": [
    "class Singly_linked_list:\n",
    "    \"\"\"\n",
    "    Implementation of a singly linked list\n",
    "    \"\"\"\n",
    "    def __init__(self, head_node=None):\n",
    "        self.head_node = head_node\n",
    "        \n",
    "    def list_traversed(self):\n",
    "        node = self.head_node\n",
    "        while node:\n",
    "            print(node.val)\n",
    "            node = node.next_node"
   ]
  },
  {
   "cell_type": "code",
   "execution_count": 25,
   "id": "8f5b3993",
   "metadata": {
    "slideshow": {
     "slide_type": "subslide"
    }
   },
   "outputs": [
    {
     "name": "stdout",
     "output_type": "stream",
     "text": [
      "Jan\n",
      "Feb\n",
      "March\n"
     ]
    }
   ],
   "source": [
    "m1 = Node(\"Jan\")\n",
    "m2 = Node(\"Feb\")\n",
    "m3 = Node(\"March\")\n",
    "\n",
    "m1.set_next_node(m2)\n",
    "m2.set_next_node(m3)\n",
    "\n",
    "list1 = Singly_linked_list(m1)\n",
    "\n",
    "list1.list_traversed()"
   ]
  },
  {
   "cell_type": "markdown",
   "id": "ab54332e",
   "metadata": {
    "slideshow": {
     "slide_type": "slide"
    }
   },
   "source": [
    "### Insertion\n",
    "\n",
    "- insert at the beginning\n",
    "- insert at the end\n",
    "- insert after a given node"
   ]
  },
  {
   "cell_type": "markdown",
   "id": "2d46d647",
   "metadata": {
    "slideshow": {
     "slide_type": "slide"
    }
   },
   "source": [
    "### At the beginning\n",
    "\n",
    "<img src=\"insert_head1_linked_list.png\" alt=\"drawing\" style=\"width:400px;\"/>\n",
    "\n",
    "- Simply connect the new node to the head of the list\n",
    "- The new node is the head of the list\n",
    "\n",
    "\n",
    "<img src=\"insert_head2_linked_list.png\" alt=\"drawing\" style=\"width:500px;\"/>\n",
    "\n",
    "- Complexity $O(1)$"
   ]
  },
  {
   "cell_type": "markdown",
   "id": "232aea82",
   "metadata": {
    "slideshow": {
     "slide_type": "slide"
    }
   },
   "source": [
    "### At the end\n",
    "\n",
    "<img src=\"insert_head1_linked_list.png\" alt=\"drawing\" style=\"width:400px;\"/>\n",
    "\n",
    "- Find the tail node\n",
    "- Connect the tail to the new node\n",
    "- The new node is the new tail\n",
    "\n",
    "<img src=\"insert_tail2_linked_list.png\" alt=\"drawing\" style=\"width:500px;\"/>\n",
    "\n",
    "- Complexity $O(n)$"
   ]
  },
  {
   "cell_type": "markdown",
   "id": "91a35ce0",
   "metadata": {
    "slideshow": {
     "slide_type": "slide"
    }
   },
   "source": [
    "### After a given node\n",
    "\n",
    "<img src=\"insert_head1_linked_list.png\" alt=\"drawing\" style=\"width:400px;\"/>\n",
    "\n",
    "- Find the given node\n",
    "- Connect this node to the new node\n",
    "- Connect the new node to the previous next\n",
    "\n",
    "<img src=\"insert_prev2_linked_list.png\" alt=\"drawing\" style=\"width:500px;\"/>\n",
    "\n",
    "- Complexity $O(n)$"
   ]
  },
  {
   "cell_type": "markdown",
   "id": "ca0ed5a0",
   "metadata": {
    "slideshow": {
     "slide_type": "slide"
    }
   },
   "source": [
    "### Exercise\n",
    "\n",
    "Implement insert"
   ]
  },
  {
   "cell_type": "markdown",
   "id": "236e7e35",
   "metadata": {},
   "source": [
    "### Homework hint\n",
    "\n",
    "To do a plot, create a data frame (equivalent to a Excel Spreadsheet)\n"
   ]
  },
  {
   "cell_type": "code",
   "execution_count": 26,
   "id": "b57f8e7f",
   "metadata": {},
   "outputs": [],
   "source": [
    "# Primero calculen el tiempo de ejecucion de la funcion\n",
    "def sum_n(n):\n",
    "    start = 1000000*time.time()\n",
    "    total = 0\n",
    "    for i in range(1,n+1):\n",
    "        total += i\n",
    "    return 1000000*time.time() - start"
   ]
  },
  {
   "cell_type": "code",
   "execution_count": 27,
   "id": "3260c621",
   "metadata": {},
   "outputs": [],
   "source": [
    "# Capturen ese tiempo en una lista\n",
    "tiempo = []\n",
    "for n in range(1,10):\n",
    "    tiempo.append(sum_n(n))"
   ]
  },
  {
   "cell_type": "code",
   "execution_count": 28,
   "id": "e00915a5",
   "metadata": {},
   "outputs": [],
   "source": [
    "# Almacenen esos datos en un dataframe\n",
    "df = pd.DataFrame()\n",
    "df['n'] = range(1,10)\n",
    "df['time'] = tiempo"
   ]
  },
  {
   "cell_type": "code",
   "execution_count": 31,
   "id": "0035bed0",
   "metadata": {},
   "outputs": [
    {
     "data": {
      "image/png": "[encoded data removed]",
      "text/plain": [
       "<Figure size 432x288 with 1 Axes>"
      ]
     },
     "metadata": {
      "needs_background": "light"
     },
     "output_type": "display_data"
    }
   ],
   "source": [
    "# Grafiquen\n",
    "df.plot(x='n', y='time')\n",
    "plt.grid()"
   ]
  },
  {
   "cell_type": "code",
   "execution_count": null,
   "id": "0826d6f6",
   "metadata": {},
   "outputs": [],
   "source": []
  }
 ],
 "metadata": {
  "celltoolbar": "Slideshow",
  "kernelspec": {
   "display_name": "Python 3",
   "language": "python",
   "name": "python3"
  },
  "language_info": {
   "codemirror_mode": {
    "name": "ipython",
    "version": 3
   },
   "file_extension": ".py",
   "mimetype": "text/x-python",
   "name": "python",
   "nbconvert_exporter": "python",
   "pygments_lexer": "ipython3",
   "version": "3.8.8"
  }
 },
 "nbformat": 4,
 "nbformat_minor": 5
}
