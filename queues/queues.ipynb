{
 "cells": [
  {
   "cell_type": "code",
   "execution_count": 1,
   "id": "5acb4fe5",
   "metadata": {
    "slideshow": {
     "slide_type": "skip"
    }
   },
   "outputs": [],
   "source": [
    "import time\n",
    "import pandas as pd\n",
    "import numpy as np\n",
    "import matplotlib.pyplot as plt\n",
    "%matplotlib inline  "
   ]
  },
  {
   "cell_type": "markdown",
   "id": "a41bb501",
   "metadata": {
    "slideshow": {
     "slide_type": "slide"
    }
   },
   "source": [
    "# CMP 3002 \n",
    "## Queues"
   ]
  },
  {
   "cell_type": "markdown",
   "id": "c22ba9cb",
   "metadata": {
    "slideshow": {
     "slide_type": "slide"
    }
   },
   "source": [
    "## Housekeeping\n",
    "\n",
    "- Homework\n",
    "- Quiz"
   ]
  },
  {
   "cell_type": "markdown",
   "id": "d23f2a16",
   "metadata": {
    "slideshow": {
     "slide_type": "slide"
    }
   },
   "source": [
    "## Review"
   ]
  },
  {
   "cell_type": "markdown",
   "id": "486c0a3b",
   "metadata": {
    "slideshow": {
     "slide_type": "subslide"
    }
   },
   "source": [
    "## Stacks \n",
    "\n",
    "Stacks are linear data structures\n",
    "- Stacks follow the principle Last In First Out (LIFO)\n",
    "- The last element inserted inside the stack is removed first\n",
    "- Example: pile of plates on top of another"
   ]
  },
  {
   "cell_type": "markdown",
   "id": "3faf3e87",
   "metadata": {
    "slideshow": {
     "slide_type": "subslide"
    }
   },
   "source": [
    "### Operations\n",
    "\n",
    "- **push(item)** - store an element on the stack\n",
    "- **pop()** - remove an element from the stack\n",
    "- **top()** - get the top data element of the stack, without removing it\n",
    "- **full()** - check if stack is full\n",
    "- **empty()** - check if the stack is empty\n",
    "- **size()** - return the size of the stack\n",
    "\n",
    "All operations take $O(1)$\n"
   ]
  },
  {
   "cell_type": "markdown",
   "id": "9f6e4e69",
   "metadata": {
    "slideshow": {
     "slide_type": "subslide"
    }
   },
   "source": [
    "### Implementation using linked lists"
   ]
  },
  {
   "cell_type": "code",
   "execution_count": 3,
   "id": "5d8d5c9b",
   "metadata": {
    "slideshow": {
     "slide_type": "subslide"
    }
   },
   "outputs": [],
   "source": [
    "# ACKs: Paul Quimbita\n",
    "class Node:\n",
    "    \"\"\"\n",
    "    Implementation of a node\n",
    "    \"\"\"\n",
    "    def __init__(self, val=None):\n",
    "        self.val = val\n",
    "        self.next_node = None\n",
    "    \n",
    "    def set_next_node(self, next_node):\n",
    "        self.next_node = next_node\n",
    "        \n",
    "class Stack(object):\n",
    "    \"\"\"\n",
    "    Implementation of a singly linked list\n",
    "    \"\"\"\n",
    "    def __init__(self, head_node=None):\n",
    "        self.head_node = head_node\n",
    "        self.item_count = 0\n",
    "            \n",
    "    def empty(self):\n",
    "        if self.head_node == None:\n",
    "            return True\n",
    "        else:\n",
    "            return False\n",
    "        \n",
    "    def push(self,data):\n",
    "         \n",
    "        if self.head_node == None:\n",
    "            self.head_node = Node(data)\n",
    "             \n",
    "        else:\n",
    "            new_node = Node(data)\n",
    "            new_node.next_node = self.head_node\n",
    "            self.head_node = new_node\n",
    "        self.item_count += 1\n",
    "        \n",
    "    def pop(self):\n",
    "         \n",
    "        if self.empty():\n",
    "            return None   \n",
    "        else:\n",
    "            node = self.head_node \n",
    "            self.head_node = self.head_node.next_node\n",
    "        self.item_count -= 1\n",
    "        return self.head_node \n",
    "        \n",
    "    def top(self):\n",
    "        \"\"\"\n",
    "        Show the top element of the stack\n",
    "        \"\"\"\n",
    "        return self.head_node.val\n",
    "    \n",
    "    def size(self):\n",
    "        \"\"\"\n",
    "        Return size of the stack\n",
    "        \"\"\"\n",
    "        return self.item_count\n",
    "     "
   ]
  },
  {
   "cell_type": "markdown",
   "id": "784ec892",
   "metadata": {
    "slideshow": {
     "slide_type": "slide"
    }
   },
   "source": [
    "## Queues"
   ]
  },
  {
   "cell_type": "markdown",
   "id": "8d429c9c",
   "metadata": {
    "slideshow": {
     "slide_type": "subslide"
    }
   },
   "source": [
    "- Linear data structures\n",
    "- Double ended structure\n",
    "- First-in, first-out (FIFO) list \n",
    "\n",
    "![plot](./queues.png)"
   ]
  },
  {
   "cell_type": "markdown",
   "id": "d2ac7310",
   "metadata": {
    "slideshow": {
     "slide_type": "subslide"
    }
   },
   "source": [
    "### Applications:\n",
    "\n",
    "- Simulation: lines\n",
    "- Ordered requests: schedulers, device drivers, routers\n",
    "- Searches "
   ]
  },
  {
   "cell_type": "markdown",
   "id": "4a0b047a",
   "metadata": {
    "slideshow": {
     "slide_type": "slide"
    }
   },
   "source": [
    "### Operations:\n",
    "\n",
    "- **enqueue(item)** - add an element to the queue\n",
    "- **dequeue()** - remove an element from the queue\n",
    "- **first()** - show the first element, without removing it\n",
    "- **full()** - check if the queue is full\n",
    "- **empty()** - check if the queue is empty\n",
    "- **size()** - return the size of the queue\n",
    " "
   ]
  },
  {
   "cell_type": "markdown",
   "id": "6772bfd7",
   "metadata": {
    "slideshow": {
     "slide_type": "subslide"
    }
   },
   "source": [
    "### Implementation"
   ]
  },
  {
   "cell_type": "code",
   "execution_count": 13,
   "id": "9ddbff15",
   "metadata": {
    "slideshow": {
     "slide_type": "subslide"
    }
   },
   "outputs": [],
   "source": [
    "# We can use the same implementation we used for Arrays\n",
    "import ctypes\n",
    "class Queue(object):\n",
    "    \"\"\"\n",
    "    Implementation of the queue data structure\n",
    "    \"\"\"\n",
    "\n",
    "    def __init__(self, n):\n",
    "        self.item_count = 0\n",
    "        self.n = n\n",
    "        self.queue = self._create_queue(self.n)        \n",
    "    \n",
    "    def _create_queue(self, n):\n",
    "        \"\"\"\n",
    "        Creates a new stack of capacity n\n",
    "        \"\"\"\n",
    "        return (n * ctypes.py_object)()"
   ]
  },
  {
   "cell_type": "code",
   "execution_count": 8,
   "id": "68aa81e6",
   "metadata": {
    "slideshow": {
     "slide_type": "subslide"
    }
   },
   "outputs": [],
   "source": [
    "# O(1)\n",
    "def enqueue(self, item):\n",
    "    \"\"\"\n",
    "    Add new item to the queue\n",
    "    \"\"\"\n",
    "    if self.item_count == self.n:\n",
    "        raise ValueError(\"no more capacity\")\n",
    "    self.queue[self.item_count] = item\n",
    "    self.item_count += 1"
   ]
  },
  {
   "cell_type": "code",
   "execution_count": 9,
   "id": "cdae8b7e",
   "metadata": {
    "slideshow": {
     "slide_type": "subslide"
    }
   },
   "outputs": [],
   "source": [
    "# O(n)\n",
    "def dequeue(self):\n",
    "    \"\"\"\n",
    "    Remove an element from the queue\n",
    "    \"\"\"\n",
    "    c = self.queue[0]\n",
    "    for i in range(1,self.item_count):\n",
    "        self.queue[i-1] = self.queue[i]\n",
    "    self.queue[self.item_count - 1] = ctypes.py_object\n",
    "    self.item_count -= 1\n",
    "    return c"
   ]
  },
  {
   "cell_type": "code",
   "execution_count": 10,
   "id": "0078ce62",
   "metadata": {
    "slideshow": {
     "slide_type": "subslide"
    }
   },
   "outputs": [],
   "source": [
    "# O(1)\n",
    "def first(self):\n",
    "    \"\"\"\n",
    "    Show the first element of the queue\n",
    "    \"\"\"\n",
    "    return self.queue[0]"
   ]
  },
  {
   "cell_type": "code",
   "execution_count": 7,
   "id": "e394a6ef",
   "metadata": {
    "slideshow": {
     "slide_type": "subslide"
    }
   },
   "outputs": [],
   "source": [
    "# O(1)\n",
    "def full(self):\n",
    "    \"\"\"\n",
    "    Is the queue full?\n",
    "    \"\"\"\n",
    "    if self.item_count == self.n:\n",
    "        return True\n",
    "    return False\n",
    "\n",
    "def empty(self):\n",
    "    \"\"\"\n",
    "    Is the queue empty?\n",
    "    \"\"\"\n",
    "    if self.item_count == 0:\n",
    "        return True\n",
    "    return False\n",
    "\n",
    "def size(self):\n",
    "    \"\"\"\n",
    "    Return size of the stack\n",
    "    \"\"\"\n",
    "    return self.item_count"
   ]
  },
  {
   "cell_type": "code",
   "execution_count": 14,
   "id": "8b58119b",
   "metadata": {},
   "outputs": [],
   "source": [
    "import ctypes\n",
    "class Queue(object):\n",
    "    \"\"\"\n",
    "    Implementation of the queue data structure\n",
    "    \"\"\"\n",
    "\n",
    "    def __init__(self, n):\n",
    "        self.item_count = 0\n",
    "        self.n = n\n",
    "        self.queue = self._create_queue(self.n)        \n",
    "    \n",
    "    def _create_queue(self, n):\n",
    "        \"\"\"\n",
    "        Creates a new stack of capacity n\n",
    "        \"\"\"\n",
    "        return (n * ctypes.py_object)()\n",
    "    \n",
    "    def enqueue(self, item):\n",
    "        \"\"\"\n",
    "        Add new item to the queue\n",
    "        \"\"\"\n",
    "        if self.item_count == self.n:\n",
    "            raise ValueError(\"no more capacity\")\n",
    "        self.queue[self.item_count] = item\n",
    "        self.item_count += 1\n",
    "\n",
    "    # O(n)\n",
    "    def dequeue(self):\n",
    "        \"\"\"\n",
    "        Remove an element from the queue\n",
    "        \"\"\"\n",
    "        c = self.queue[0]\n",
    "        for i in range(1,self.item_count):\n",
    "            self.queue[i-1] = self.queue[i]\n",
    "        self.queue[self.item_count - 1] = ctypes.py_object\n",
    "        self.item_count -= 1\n",
    "        return c\n",
    "    \n",
    "    # O(1)\n",
    "    def first(self):\n",
    "        \"\"\"\n",
    "        Show the first element of the queue\n",
    "        \"\"\"\n",
    "        return self.queue[0]\n",
    "    \n",
    "    # O(1)\n",
    "    def full(self):\n",
    "        \"\"\"\n",
    "        Is the queue full?\n",
    "        \"\"\"\n",
    "        if self.item_count == self.n:\n",
    "            return True\n",
    "        return False\n",
    "\n",
    "    def empty(self):\n",
    "        \"\"\"\n",
    "        Is the queue empty?\n",
    "        \"\"\"\n",
    "        if self.item_count == 0:\n",
    "            return True\n",
    "        return False\n",
    "\n",
    "    def size(self):\n",
    "        \"\"\"\n",
    "        Return size of the stack\n",
    "        \"\"\"\n",
    "        return self.item_count    "
   ]
  },
  {
   "cell_type": "code",
   "execution_count": 23,
   "id": "0c97ffc1",
   "metadata": {
    "slideshow": {
     "slide_type": "subslide"
    }
   },
   "outputs": [],
   "source": [
    "q = Queue(10)\n",
    "q.enqueue(1)\n",
    "q.enqueue(2)\n",
    "q.enqueue(3)"
   ]
  },
  {
   "cell_type": "code",
   "execution_count": 24,
   "id": "d89044e6",
   "metadata": {
    "slideshow": {
     "slide_type": "subslide"
    }
   },
   "outputs": [
    {
     "data": {
      "text/plain": [
       "1"
      ]
     },
     "execution_count": 24,
     "metadata": {},
     "output_type": "execute_result"
    }
   ],
   "source": [
    "q.dequeue()"
   ]
  },
  {
   "cell_type": "code",
   "execution_count": 25,
   "id": "5a7dfc28",
   "metadata": {
    "slideshow": {
     "slide_type": "subslide"
    }
   },
   "outputs": [
    {
     "data": {
      "text/plain": [
       "2"
      ]
     },
     "execution_count": 25,
     "metadata": {},
     "output_type": "execute_result"
    }
   ],
   "source": [
    "q.first()"
   ]
  },
  {
   "cell_type": "code",
   "execution_count": 26,
   "id": "72b51caf",
   "metadata": {
    "slideshow": {
     "slide_type": "subslide"
    }
   },
   "outputs": [
    {
     "data": {
      "text/plain": [
       "2"
      ]
     },
     "execution_count": 26,
     "metadata": {},
     "output_type": "execute_result"
    }
   ],
   "source": [
    "q.size()"
   ]
  },
  {
   "cell_type": "code",
   "execution_count": 27,
   "id": "383a705e",
   "metadata": {
    "slideshow": {
     "slide_type": "subslide"
    }
   },
   "outputs": [
    {
     "data": {
      "text/plain": [
       "2"
      ]
     },
     "execution_count": 27,
     "metadata": {},
     "output_type": "execute_result"
    }
   ],
   "source": [
    "q.dequeue()\n"
   ]
  },
  {
   "cell_type": "code",
   "execution_count": 28,
   "id": "668989fa",
   "metadata": {
    "slideshow": {
     "slide_type": "subslide"
    }
   },
   "outputs": [
    {
     "data": {
      "text/plain": [
       "False"
      ]
     },
     "execution_count": 28,
     "metadata": {},
     "output_type": "execute_result"
    }
   ],
   "source": [
    "q.full()"
   ]
  },
  {
   "cell_type": "code",
   "execution_count": 29,
   "id": "c0c22baf",
   "metadata": {
    "slideshow": {
     "slide_type": "subslide"
    }
   },
   "outputs": [
    {
     "data": {
      "text/plain": [
       "False"
      ]
     },
     "execution_count": 29,
     "metadata": {},
     "output_type": "execute_result"
    }
   ],
   "source": [
    "q.empty()"
   ]
  },
  {
   "cell_type": "code",
   "execution_count": 30,
   "id": "5387c57a",
   "metadata": {
    "slideshow": {
     "slide_type": "subslide"
    }
   },
   "outputs": [
    {
     "data": {
      "text/plain": [
       "1"
      ]
     },
     "execution_count": 30,
     "metadata": {},
     "output_type": "execute_result"
    }
   ],
   "source": [
    "q.size()"
   ]
  },
  {
   "cell_type": "markdown",
   "id": "75fc1d1c",
   "metadata": {
    "slideshow": {
     "slide_type": "slide"
    }
   },
   "source": [
    "## Priority Queues"
   ]
  },
  {
   "cell_type": "markdown",
   "id": "ffb8a9fd",
   "metadata": {
    "slideshow": {
     "slide_type": "subslide"
    }
   },
   "source": [
    "Extension of queues:\n",
    "- Each element is represented as a key-value pair (e.g., $k, v$)\n",
    "- Each element has a priority\n",
    "- Elements with higher priority are dequeued before lower priority ones\n",
    "- Elements with the same priority are dequeued based on which was enqueued first"
   ]
  },
  {
   "cell_type": "markdown",
   "id": "94d3267f",
   "metadata": {
    "slideshow": {
     "slide_type": "slide"
    }
   },
   "source": [
    "### Operations:\n",
    "\n",
    "- **insert(v,k)** - add an element $v$ with priority $k$\n",
    "- **deleteMin()** - remove the element with the lowest $k$ (highest priority)\n",
    "- **getMin()** - show the element with the lowest $k$ (highest priority), without removing it\n",
    "- **decreaseKey(v,k)** - change the key of item $v$ in the heap to key. The new key must not be\n",
    "greater than $v$'s current key value"
   ]
  },
  {
   "cell_type": "code",
   "execution_count": 31,
   "id": "08b07a11",
   "metadata": {
    "slideshow": {
     "slide_type": "subslide"
    }
   },
   "outputs": [],
   "source": [
    "# We can use the same implementation we used for Arrays\n",
    "import ctypes\n",
    "class PriorityQueue(object):\n",
    "    \"\"\"\n",
    "    Implementation of the queue data structure\n",
    "    \"\"\"\n",
    "\n",
    "    def __init__(self, n):\n",
    "        self.item_count = 0\n",
    "        self.n = n\n",
    "        self.queue = self._create_queue(self.n)        \n",
    "    \n",
    "    def _create_queue(self, n):\n",
    "        \"\"\"\n",
    "        Creates a new stack of capacity n\n",
    "        \"\"\"\n",
    "        return (n * ctypes.py_object)()\n",
    "    \n",
    "    def enqueue(self, item):\n",
    "        \"\"\"\n",
    "        Add new item to the queue\n",
    "        \"\"\"\n",
    "        if self.item_count == self.n:\n",
    "            raise ValueError(\"no more capacity\")\n",
    "        self.queue[self.item_count] = item\n",
    "        self.item_count += 1"
   ]
  },
  {
   "cell_type": "code",
   "execution_count": 39,
   "id": "0f712ef2",
   "metadata": {
    "slideshow": {
     "slide_type": "subslide"
    }
   },
   "outputs": [],
   "source": [
    "q = PriorityQueue(10)"
   ]
  },
  {
   "cell_type": "code",
   "execution_count": 40,
   "id": "0918d7e3",
   "metadata": {
    "slideshow": {
     "slide_type": "subslide"
    }
   },
   "outputs": [],
   "source": [
    "q.enqueue((1,2))\n",
    "q.enqueue((2,4))\n",
    "q.enqueue((0,1))\n",
    "q.enqueue((9,43))\n",
    "q.enqueue((1,21))"
   ]
  },
  {
   "cell_type": "code",
   "execution_count": 51,
   "id": "34fcd05d",
   "metadata": {
    "slideshow": {
     "slide_type": "subslide"
    }
   },
   "outputs": [
    {
     "data": {
      "text/plain": [
       "[(1, 2), (2, 4), (0, 1), (9, 43), (1, 21)]"
      ]
     },
     "execution_count": 51,
     "metadata": {},
     "output_type": "execute_result"
    }
   ],
   "source": [
    "q.queue[0:q.item_count]"
   ]
  },
  {
   "cell_type": "code",
   "execution_count": 54,
   "id": "612d9fd0",
   "metadata": {},
   "outputs": [
    {
     "data": {
      "text/plain": [
       "[(0, 1), (1, 2), (1, 21), (2, 4), (9, 43)]"
      ]
     },
     "execution_count": 54,
     "metadata": {},
     "output_type": "execute_result"
    }
   ],
   "source": [
    "sorted(q.queue[:q.item_count])"
   ]
  },
  {
   "cell_type": "markdown",
   "id": "339d05f4",
   "metadata": {
    "slideshow": {
     "slide_type": "slide"
    }
   },
   "source": [
    "### How do we dequeue?"
   ]
  },
  {
   "cell_type": "markdown",
   "id": "0442f283",
   "metadata": {
    "slideshow": {
     "slide_type": "subslide"
    }
   },
   "source": [
    "**We are going to need to sort the elements before we remove**\n",
    "\n",
    "Complexity?\n",
    "\n",
    "The only sorting algorithm we know (insertion-sort) has complexity $O(n^2)$\n",
    "\n",
    "Python sorts lists in $O(n log(n))$"
   ]
  },
  {
   "cell_type": "markdown",
   "id": "ae04ee18",
   "metadata": {
    "slideshow": {
     "slide_type": "subslide"
    }
   },
   "source": [
    "### Reminder insertion sort\n",
    "\n",
    "![plot](./insertion_sort.png)"
   ]
  },
  {
   "cell_type": "markdown",
   "id": "7eb694a2",
   "metadata": {
    "slideshow": {
     "slide_type": "slide"
    }
   },
   "source": [
    "### Should we change the implementation of enqueue?"
   ]
  },
  {
   "cell_type": "markdown",
   "id": "6731a696",
   "metadata": {
    "slideshow": {
     "slide_type": "subslide"
    }
   },
   "source": [
    "**What if we sort as we insert?**\n",
    "\n",
    "What is the cost if we run insertion sort each time we insert an element"
   ]
  },
  {
   "cell_type": "markdown",
   "id": "92959e12",
   "metadata": {
    "slideshow": {
     "slide_type": "subslide"
    }
   },
   "source": [
    "### Reminder insertion sort\n",
    "\n",
    "![plot](./insertion_sort.png)"
   ]
  }
 ],
 "metadata": {
  "celltoolbar": "Slideshow",
  "kernelspec": {
   "display_name": "Python 3",
   "language": "python",
   "name": "python3"
  },
  "language_info": {
   "codemirror_mode": {
    "name": "ipython",
    "version": 3
   },
   "file_extension": ".py",
   "mimetype": "text/x-python",
   "name": "python",
   "nbconvert_exporter": "python",
   "pygments_lexer": "ipython3",
   "version": "3.8.8"
  }
 },
 "nbformat": 4,
 "nbformat_minor": 5
}
