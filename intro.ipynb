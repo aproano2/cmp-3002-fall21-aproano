{
 "cells": [
  {
   "cell_type": "markdown",
   "id": "d390d413",
   "metadata": {
    "slideshow": {
     "slide_type": "slide"
    }
   },
   "source": [
    "# CMP 3002 \n",
    "## Introduction to algorithms"
   ]
  },
  {
   "cell_type": "markdown",
   "id": "927d7adf",
   "metadata": {
    "slideshow": {
     "slide_type": "slide"
    }
   },
   "source": [
    "## Housekeeping\n",
    "\n",
    "- Download and install Anaconda and Git\n",
    "- Competitive programming "
   ]
  },
  {
   "cell_type": "markdown",
   "id": "18a90cac",
   "metadata": {
    "slideshow": {
     "slide_type": "slide"
    }
   },
   "source": [
    "## Introduction to Algorithms \n",
    "\n",
    "### [Al-Khwarizmi](https://en.wikipedia.org/wiki/Muhammad_ibn_Musa_al-Khwarizmi)\n",
    "\n",
    "- One of the founders of Algebra\n",
    "- Introduced techniques to solve linear and quadratic equations "
   ]
  },
  {
   "cell_type": "markdown",
   "id": "0a4578bc",
   "metadata": {
    "slideshow": {
     "slide_type": "subslide"
    }
   },
   "source": [
    "### What is an Algorithm?\n",
    "\n",
    "```\n",
    "- A procedure for solving a mathematical problem (as of finding the greatest common divisor) \n",
    "in a finite number of steps that frequently involves repetition of an operation\n",
    "```\n",
    "```\n",
    "- Broadly : a step-by-step procedure for solving a problem or accomplishing some end\n",
    "```\n",
    "\n",
    "### In computational terms:\n",
    "\n",
    "- A mathematical abstraction of a computer program\n",
    "- A computational process to solve a problem.\n",
    "\n",
    "input -> algorithm -> output\n",
    "\n",
    "\n"
   ]
  },
  {
   "cell_type": "markdown",
   "id": "5abf1574",
   "metadata": {
    "slideshow": {
     "slide_type": "subslide"
    }
   },
   "source": [
    "### Analogies (Math / computers)\n",
    "\n",
    "program -> algorithm\n",
    "\n",
    "language -> pseudocode\n",
    "\n",
    "computer -> model of computation"
   ]
  },
  {
   "cell_type": "markdown",
   "id": "f0722605",
   "metadata": {
    "slideshow": {
     "slide_type": "slide"
    }
   },
   "source": [
    "## Model of computation\n",
    "\n",
    "- Specifies the operations you can do in an algorithm\n",
    "- How much these operations cost (time, memory, etc). We look how much each operation costs and add them up to get the total cost of the algorithm\n",
    "- Can be thought as styles of programming (ex: object oriented programming)\n",
    "\n",
    "We'll cover two models of computation: random access machine and pointer machine"
   ]
  },
  {
   "cell_type": "markdown",
   "id": "c821ae3b",
   "metadata": {
    "slideshow": {
     "slide_type": "subslide"
    }
   },
   "source": [
    "### Random access machine (RAM) \n",
    "\n",
    "- Single processor (operations are executed one after the other)\n",
    "- Modeled by a big array\n",
    "- It has constant number of registers\n",
    "- Realistic and powerful model\n",
    "![plot](./ram.png)"
   ]
  },
  {
   "cell_type": "markdown",
   "id": "8810d28d",
   "metadata": {
    "slideshow": {
     "slide_type": "subslide"
    }
   },
   "source": [
    "It allows us to compare algorithms on a performance basis. \n",
    "\n",
    "- Each operation takes 1 time steps (write or read)\n",
    "- Needs to know where the words are to access them\n",
    "- A word is an x number of bits\n",
    "\n",
    "\n",
    "*Sometimes code does not use arrays, and there is not dynamic memory allocation*\n"
   ]
  },
  {
   "cell_type": "markdown",
   "id": "5f5bb091",
   "metadata": {
    "slideshow": {
     "slide_type": "subslide"
    }
   },
   "source": [
    "### Pointer machine\n",
    "\n",
    "- Simple version of object oriented programming \n",
    "- Dynamically allocated objects (create and destroy)\n",
    "- Objects have a constant number of fields\n",
    "- Field is either a word or a pointer\n",
    "- Pointer either points to an object or is null (none in Python)\n",
    "- Adding values takes 1 time steps\n",
    "- Following a pointer takes 1 time steps\n",
    "\n",
    "Linked list example:\n",
    "\n",
    "[3] ---> [4] ---> null\n",
    "\n",
    "Weaker model than RAM since you can build this model with RAM (how?)"
   ]
  },
  {
   "cell_type": "markdown",
   "id": "a246e591",
   "metadata": {
    "slideshow": {
     "slide_type": "slide"
    }
   },
   "source": [
    "## Python model\n",
    "\n",
    "Python offers both perspectives (RAM and pointer machine)\n",
    "\n",
    "1. Python lists are arrays (RAM)\n",
    "```\n",
    "L[i] = L[i] + 1\n",
    "```\n",
    "\n",
    "2. Objects with a constant number of attributes (pointer machine)\n",
    "\n",
    "```\n",
    "x.next()\n",
    "```\n",
    "\n",
    "Both operations take constant time (finite number of time steps)"
   ]
  },
  {
   "cell_type": "markdown",
   "id": "fe05beed",
   "metadata": {
    "slideshow": {
     "slide_type": "slide"
    }
   },
   "source": [
    "## Introduction to Python "
   ]
  },
  {
   "cell_type": "markdown",
   "id": "57c0758d",
   "metadata": {
    "slideshow": {
     "slide_type": "slide"
    }
   },
   "source": [
    "### Comments"
   ]
  },
  {
   "cell_type": "code",
   "execution_count": 2,
   "id": "9bcc2990",
   "metadata": {
    "slideshow": {
     "slide_type": "subslide"
    }
   },
   "outputs": [
    {
     "data": {
      "text/plain": [
       "'\\nThis type of comment is used to document the purpose of functions and classes.\\n'"
      ]
     },
     "execution_count": 2,
     "metadata": {},
     "output_type": "execute_result"
    }
   ],
   "source": [
    "# This is a one-line Python comment - code blocks are so useful!\n",
    "\"\"\"\n",
    "This type of comment is used to document the purpose of functions and classes.\n",
    "\"\"\""
   ]
  },
  {
   "cell_type": "markdown",
   "id": "5b597877",
   "metadata": {
    "slideshow": {
     "slide_type": "slide"
    }
   },
   "source": [
    "### Declaration/Initialization"
   ]
  },
  {
   "cell_type": "code",
   "execution_count": 9,
   "id": "a221e5f2",
   "metadata": {
    "slideshow": {
     "slide_type": "subslide"
    }
   },
   "outputs": [],
   "source": [
    "# Values have data types, not variables\n",
    "# A variable can be reassigned to contain a different data type.\n",
    "answer = 42\n",
    "answer = \"The answer is 42.\""
   ]
  },
  {
   "cell_type": "markdown",
   "id": "6d860c54",
   "metadata": {
    "slideshow": {
     "slide_type": "slide"
    }
   },
   "source": [
    "### Data types"
   ]
  },
  {
   "cell_type": "code",
   "execution_count": 10,
   "id": "571becbf",
   "metadata": {
    "slideshow": {
     "slide_type": "subslide"
    }
   },
   "outputs": [],
   "source": [
    "boolean = True\n",
    "number = 1.1\n",
    "string = \"Strings can be declared with single or double quotes.\"\n",
    "list = [\"Lists can have\", 1, 2, 3, 4, \"or more types together!\"]\n",
    "tuple = (\"Tuples\", \"can have\", \"more than\", 2, \"elements!\")\n",
    "dictionary = {'one': 1, 'two': 2, 'three': 3}\n",
    "variable_with_zero_data = None"
   ]
  },
  {
   "cell_type": "code",
   "execution_count": 12,
   "id": "04dbc3d9",
   "metadata": {},
   "outputs": [
    {
     "data": {
      "text/plain": [
       "3"
      ]
     },
     "execution_count": 12,
     "metadata": {},
     "output_type": "execute_result"
    }
   ],
   "source": [
    "dictionary['three']"
   ]
  },
  {
   "cell_type": "code",
   "execution_count": null,
   "id": "5d6f7671",
   "metadata": {},
   "outputs": [],
   "source": [
    "def func(x,y=None):\n",
    "    # do something"
   ]
  },
  {
   "cell_type": "code",
   "execution_count": null,
   "id": "bbb6e93a",
   "metadata": {},
   "outputs": [],
   "source": [
    "python --version"
   ]
  },
  {
   "cell_type": "code",
   "execution_count": 14,
   "id": "e698e2b2",
   "metadata": {},
   "outputs": [
    {
     "name": "stdout",
     "output_type": "stream",
     "text": [
      "Hello\n"
     ]
    }
   ],
   "source": [
    "print(\"Hello\")"
   ]
  },
  {
   "cell_type": "markdown",
   "id": "35135d42",
   "metadata": {
    "slideshow": {
     "slide_type": "slide"
    }
   },
   "source": [
    "### Simple logging"
   ]
  },
  {
   "cell_type": "code",
   "execution_count": 4,
   "id": "efd80fae",
   "metadata": {
    "slideshow": {
     "slide_type": "subslide"
    }
   },
   "outputs": [
    {
     "name": "stdout",
     "output_type": "stream",
     "text": [
      "I was here and this happened\n"
     ]
    }
   ],
   "source": [
    "print(\"I was here and this happened\")"
   ]
  },
  {
   "cell_type": "markdown",
   "id": "0f388719",
   "metadata": {
    "slideshow": {
     "slide_type": "slide"
    }
   },
   "source": [
    "### Conditionals "
   ]
  },
  {
   "cell_type": "code",
   "execution_count": 15,
   "id": "1c02013f",
   "metadata": {
    "slideshow": {
     "slide_type": "subslide"
    }
   },
   "outputs": [
    {
     "name": "stdout",
     "output_type": "stream",
     "text": [
      "MJ 08:30-09:50\n"
     ]
    }
   ],
   "source": [
    "# class_code = \"none\"\n",
    "# class_code = \"cmp-3002\"\n",
    "class_code = \"cmp-5006\"\n",
    "\n",
    "if class_code == \"cmp-3002\":\n",
    "    print(\"MI 10:00-11:20\")\n",
    "elif class_code == \"cmp-5006\":\n",
    "    print(\"MJ 08:30-09:50\")\n",
    "else:\n",
    "    print(\"Don't know\")"
   ]
  },
  {
   "cell_type": "markdown",
   "id": "e542e3f4",
   "metadata": {
    "slideshow": {
     "slide_type": "slide"
    }
   },
   "source": [
    "### Loops"
   ]
  },
  {
   "cell_type": "code",
   "execution_count": 9,
   "id": "d717547c",
   "metadata": {
    "slideshow": {
     "slide_type": "subslide"
    }
   },
   "outputs": [
    {
     "name": "stdout",
     "output_type": "stream",
     "text": [
      "a\n",
      "1\n",
      "b\n",
      "13\n",
      "True\n",
      "total = 10\n"
     ]
    }
   ],
   "source": [
    "for item in ['a', 1, 'b', 13, True]:\n",
    "    print(item)\n",
    "\n",
    "total = 0\n",
    "max_val = 10\n",
    "while (total < max_val):\n",
    "    total += 2\n",
    "print(\"total =\", total)"
   ]
  },
  {
   "cell_type": "markdown",
   "id": "61891bb7",
   "metadata": {
    "slideshow": {
     "slide_type": "slide"
    }
   },
   "source": [
    "### Functions"
   ]
  },
  {
   "cell_type": "code",
   "execution_count": 19,
   "id": "4357fd66",
   "metadata": {
    "slideshow": {
     "slide_type": "subslide"
    }
   },
   "outputs": [
    {
     "name": "stdout",
     "output_type": "stream",
     "text": [
      "Q: 7.0 , R: 0\n",
      "Q: 4.0 , R: 0\n"
     ]
    }
   ],
   "source": [
    "def divide(dividend, divisor=1):\n",
    "    quotient = dividend / divisor\n",
    "    remainder = dividend % divisor\n",
    "    return quotient, remainder\n",
    "\n",
    "def calculate_stuff(x, y=1):\n",
    "    (q, r) = divide(x,y)\n",
    "    print(\"Q:\", q, \", R:\", r)\n",
    "    \n",
    "calculate_stuff(7)\n",
    "calculate_stuff(8,2)"
   ]
  },
  {
   "cell_type": "markdown",
   "id": "56cbbcdc",
   "metadata": {
    "slideshow": {
     "slide_type": "slide"
    }
   },
   "source": [
    "## Git\n",
    "\n",
    "- Distributed version control system\n",
    "- Created by Linus Torvalds (creator of Linux)"
   ]
  },
  {
   "cell_type": "code",
   "execution_count": null,
   "id": "cbd31521",
   "metadata": {},
   "outputs": [],
   "source": [
    "thesis, thesis_1, thesis_1_1, ...., thesis_final, thesis_final_final"
   ]
  },
  {
   "cell_type": "code",
   "execution_count": null,
   "id": "20a60429",
   "metadata": {},
   "outputs": [],
   "source": [
    "cmp-3002-fall21-aproano"
   ]
  },
  {
   "cell_type": "code",
   "execution_count": null,
   "id": "b5c32c55",
   "metadata": {},
   "outputs": [],
   "source": []
  },
  {
   "cell_type": "markdown",
   "id": "347dd301",
   "metadata": {
    "slideshow": {
     "slide_type": "slide"
    }
   },
   "source": [
    "### Version control system\n",
    "\n",
    "- Software that automatically maintains records of all the changes made to a project\n",
    "- Allows teams to work and modify different parts of a project concurrently"
   ]
  },
  {
   "cell_type": "markdown",
   "id": "24b75d2f",
   "metadata": {
    "slideshow": {
     "slide_type": "slide"
    }
   },
   "source": [
    "### Main Git concepts\n",
    "\n",
    "- **Repository:** A folder being tracked by Git\n",
    "- **Cloning:** Downloads a repository on your computer from the server\n",
    "- **Staging area:** It a drafting space, where you can add the version of a file or files you want to commit\n",
    "- **Commit:** Git takes a snapshot of the project once the staging area files are commited\n",
    "- **Push:** Upload the files to the server\n",
    "- **Pull:** Download new files that are modified by someone else"
   ]
  },
  {
   "cell_type": "markdown",
   "id": "672e27db",
   "metadata": {
    "slideshow": {
     "slide_type": "slide"
    }
   },
   "source": [
    "### Git commands\n",
    "\n",
    "```\n",
    "# cloning\n",
    "git clone repo_url\n",
    "\n",
    "# adding to staging area\n",
    "git add file\n",
    "\n",
    "# commit \n",
    "git commit -m \"I did a change\"\n",
    "\n",
    "# push\n",
    "git push\n",
    "\n",
    "# pull\n",
    "git pull\n",
    "```"
   ]
  },
  {
   "cell_type": "markdown",
   "id": "4e6b1962",
   "metadata": {
    "slideshow": {
     "slide_type": "slide"
    }
   },
   "source": [
    "## Exercise 1\n",
    "\n",
    "- Create an account in GitHub\n",
    "- Create a public repo for your class work (repo names are unique)\n",
    "\n"
   ]
  },
  {
   "cell_type": "markdown",
   "id": "2ddfca00",
   "metadata": {
    "slideshow": {
     "slide_type": "slide"
    }
   },
   "source": [
    "### Exercise 2\n",
    "- Write a function that takes calculates the sum of numbers from 1 to *n*, where *n* is the input\n",
    "- Use a loop to do this\n",
    "- Count the number of operations this function takes"
   ]
  },
  {
   "cell_type": "markdown",
   "id": "d483c3fb",
   "metadata": {
    "slideshow": {
     "slide_type": "slide"
    }
   },
   "source": [
    "### Exercise 3\n",
    "- Repeat the exercise using a more efficient way\n",
    "- Count the number of operations this function takes"
   ]
  },
  {
   "cell_type": "markdown",
   "id": "4d74c06a",
   "metadata": {
    "slideshow": {
     "slide_type": "slide"
    }
   },
   "source": [
    "### Exercise 4\n",
    "- Given a list \n",
    "```['a', 'b', 'd', 'g', 'm', 'r']```\n",
    "- Write a function that takes an element as input and returns the index of the element\n",
    "- Use loops and conditionals\n",
    "- Count the number of operations this function takes\n"
   ]
  },
  {
   "cell_type": "markdown",
   "id": "82fb8f1a",
   "metadata": {
    "slideshow": {
     "slide_type": "slide"
    }
   },
   "source": [
    "### Exercise 5\n",
    "- Repeat the exercise using a more efficient way\n",
    "- Count the number of operations this function takes"
   ]
  },
  {
   "cell_type": "code",
   "execution_count": null,
   "id": "545b30d8",
   "metadata": {},
   "outputs": [],
   "source": []
  }
 ],
 "metadata": {
  "celltoolbar": "Slideshow",
  "kernelspec": {
   "display_name": "Python 3",
   "language": "python",
   "name": "python3"
  },
  "language_info": {
   "codemirror_mode": {
    "name": "ipython",
    "version": 3
   },
   "file_extension": ".py",
   "mimetype": "text/x-python",
   "name": "python",
   "nbconvert_exporter": "python",
   "pygments_lexer": "ipython3",
   "version": "3.8.8"
  }
 },
 "nbformat": 4,
 "nbformat_minor": 5
}
