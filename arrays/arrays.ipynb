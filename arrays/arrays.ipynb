{
 "cells": [
  {
   "cell_type": "code",
   "execution_count": 96,
   "id": "5acb4fe5",
   "metadata": {
    "slideshow": {
     "slide_type": "skip"
    }
   },
   "outputs": [],
   "source": [
    "import time\n",
    "import pandas as pd\n",
    "import numpy as np\n",
    "import matplotlib.pyplot as plt\n",
    "%matplotlib inline  "
   ]
  },
  {
   "cell_type": "markdown",
   "id": "a41bb501",
   "metadata": {
    "slideshow": {
     "slide_type": "slide"
    }
   },
   "source": [
    "# CMP 3002 \n",
    "## Arrays"
   ]
  },
  {
   "cell_type": "markdown",
   "id": "3f16eea7",
   "metadata": {
    "slideshow": {
     "slide_type": "slide"
    }
   },
   "source": [
    "## Questions"
   ]
  },
  {
   "cell_type": "markdown",
   "id": "d23f2a16",
   "metadata": {
    "slideshow": {
     "slide_type": "subslide"
    }
   },
   "source": [
    "## Demo"
   ]
  },
  {
   "cell_type": "markdown",
   "id": "c6e57d3b",
   "metadata": {
    "slideshow": {
     "slide_type": "slide"
    }
   },
   "source": [
    "## Arrays\n",
    "\n",
    "```\n",
    "An array is a collection of items. \n",
    "```\n",
    "- The items could be integers, strings, booleans, pointers, etc. \n",
    "- Items are stored in contiguous memory locations\n",
    "- Each item has an associated index (address, register)\n",
    "- Since they are stored together, going through all the items is straightforward"
   ]
  },
  {
   "cell_type": "markdown",
   "id": "0e6c900c",
   "metadata": {
    "slideshow": {
     "slide_type": "slide"
    }
   },
   "source": [
    "### Implementation\n",
    "\n",
    "- In computers, arrays can hold up to `N` items\n",
    "- `N` is defined by the programmer at the time of creation\n",
    "- Python is dynamically typed language, it does not require to define the size before\n",
    "- **Extra point (+1):** How does sizing of list work in Python? "
   ]
  },
  {
   "cell_type": "markdown",
   "id": "6daa27c8",
   "metadata": {
    "slideshow": {
     "slide_type": "subslide"
    }
   },
   "source": [
    "### Example in C\n",
    "\n",
    "- Declaring:\n",
    "```\n",
    "int x[5];\n",
    "```\n",
    "\n",
    "\n",
    "- Initializing:\n",
    "```\n",
    "int x[5] = {1,2,3,5,6};\n",
    "```\n",
    "        "
   ]
  },
  {
   "cell_type": "markdown",
   "id": "a989cca1",
   "metadata": {
    "slideshow": {
     "slide_type": "slide"
    }
   },
   "source": [
    "### Python:\n",
    "\n",
    "In Python we don't have arrays as a native data structure, although there are some implementations in other libraries (e.g., numpy). The closest to arrays are `lists` but there are a few differences:\n",
    "- arrays need to be declared, list don't\n",
    "- arrays can store data more efficiently\n",
    "- arrays are good for numerical analysis and operations"
   ]
  },
  {
   "cell_type": "markdown",
   "id": "7168f95f",
   "metadata": {
    "slideshow": {
     "slide_type": "slide"
    }
   },
   "source": [
    "### Let's define our own Python array class:\n",
    "\n",
    "- Our class creates an array of size `n`"
   ]
  },
  {
   "cell_type": "code",
   "execution_count": 98,
   "id": "5b2ec761",
   "metadata": {
    "slideshow": {
     "slide_type": "subslide"
    }
   },
   "outputs": [],
   "source": [
    "import ctypes\n",
    "\n",
    "class Array(object):\n",
    "    \"\"\"\n",
    "    Implementation of the array data structure\n",
    "    \"\"\"\n",
    "\n",
    "    def __init__(self, n):\n",
    "        self.item_count = 0\n",
    "        self.n = n\n",
    "        self.array = self._create_array(self.n)        \n",
    "    \n",
    "    def _create_array(self, n):\n",
    "        \"\"\"\n",
    "        Creates a new array of capacity n\n",
    "        \"\"\"\n",
    "        return (n * ctypes.py_object)()"
   ]
  },
  {
   "cell_type": "markdown",
   "id": "5b12bcd9",
   "metadata": {
    "slideshow": {
     "slide_type": "slide"
    }
   },
   "source": [
    "### Capacity and length\n",
    "\n",
    "- **Capacity:** The total number of elements that the array can hold (e.g., `n`)\n",
    "- **Length:** The total number of elements currently store in the array (e.g., `item_count`)"
   ]
  },
  {
   "cell_type": "markdown",
   "id": "1a54dc82",
   "metadata": {
    "slideshow": {
     "slide_type": "slide"
    }
   },
   "source": [
    "### Primitive operations:\n",
    "\n",
    "- The most primitive operations are to write items in the arrays, and to read them from the array\n",
    "- All other operations are built on top of these\n",
    "- RAM model"
   ]
  },
  {
   "cell_type": "markdown",
   "id": "b62174f8",
   "metadata": {
    "slideshow": {
     "slide_type": "subslide"
    }
   },
   "source": [
    "### What about the cost?\n",
    "- Both read and write have an execution time of $O(1)$\n",
    "- What does $O(1)$ mean?"
   ]
  },
  {
   "cell_type": "code",
   "execution_count": 114,
   "id": "9b802abe",
   "metadata": {
    "slideshow": {
     "slide_type": "subslide"
    }
   },
   "outputs": [],
   "source": [
    "import ctypes\n",
    "\n",
    "class Array(object):\n",
    "    \"\"\"\n",
    "    Implementation of the array data structure\n",
    "    \"\"\"\n",
    "\n",
    "    def __init__(self, n):\n",
    "        self.item_count = 0\n",
    "        self.n = n\n",
    "        self.array = self._create_array(self.n)\n",
    "    \n",
    "    def _create_array(self, n):\n",
    "        \"\"\"\n",
    "        Creates a new array of capacity n\n",
    "        \"\"\"\n",
    "        return (n * ctypes.py_object)()\n",
    "                \n",
    "        \n",
    "    def __getitem__(self, item_index):\n",
    "        \"\"\"\n",
    "        Return element at item_index\n",
    "        \"\"\"\n",
    "        if (item_index < 0) or (item_index >= self.n):\n",
    "            raise IndexError('index out of range!')\n",
    "        try:\n",
    "            x = self.array[item_index]\n",
    "        except ValueError:\n",
    "            x = None\n",
    "        return x\n",
    "    \n",
    "    def __setitem__(self, item_index, item):\n",
    "        \"\"\"\n",
    "        Set element at item_index\n",
    "        \"\"\"\n",
    "        if (item_index < 0) or (item_index >= self.n):\n",
    "            raise IndexError('index out of range!')\n",
    "        self.array[item_index] = item\n"
   ]
  },
  {
   "cell_type": "code",
   "execution_count": 115,
   "id": "b01586b2",
   "metadata": {
    "slideshow": {
     "slide_type": "subslide"
    }
   },
   "outputs": [],
   "source": [
    "A = Array(4)\n",
    "A[0] = 0\n",
    "A[1] = 2\n",
    "A[2] = 4"
   ]
  },
  {
   "cell_type": "code",
   "execution_count": 111,
   "id": "07c0c7f1",
   "metadata": {
    "slideshow": {
     "slide_type": "subslide"
    }
   },
   "outputs": [
    {
     "data": {
      "text/plain": [
       "(0, 2, 4)"
      ]
     },
     "execution_count": 111,
     "metadata": {},
     "output_type": "execute_result"
    }
   ],
   "source": [
    "A[0], A[1], A[2]"
   ]
  },
  {
   "cell_type": "code",
   "execution_count": 119,
   "id": "006cc97a",
   "metadata": {
    "slideshow": {
     "slide_type": "subslide"
    }
   },
   "outputs": [],
   "source": [
    "A[3]"
   ]
  },
  {
   "cell_type": "code",
   "execution_count": 121,
   "id": "92fbda28",
   "metadata": {
    "slideshow": {
     "slide_type": "subslide"
    }
   },
   "outputs": [
    {
     "data": {
      "text/plain": [
       "(-2, 2, 4)"
      ]
     },
     "execution_count": 121,
     "metadata": {},
     "output_type": "execute_result"
    }
   ],
   "source": [
    "A[0] = -2\n",
    "A[0], A[1], A[2]"
   ]
  },
  {
   "cell_type": "markdown",
   "id": "aadec369",
   "metadata": {
    "slideshow": {
     "slide_type": "slide"
    }
   },
   "source": [
    "### Reading and writing in loops\n",
    "- To initialize the array we need to write with a loop\n",
    "- Similarly to listing the array\n",
    "- Complexity of these operations is $O(n)$"
   ]
  },
  {
   "cell_type": "code",
   "execution_count": 217,
   "id": "18ca2db5",
   "metadata": {
    "slideshow": {
     "slide_type": "subslide"
    }
   },
   "outputs": [],
   "source": [
    "import ctypes\n",
    "\n",
    "class Array(object):\n",
    "    \"\"\"\n",
    "    Implementation of the array data structure\n",
    "    \"\"\"\n",
    "\n",
    "    def __init__(self, n, values=None):\n",
    "        self.item_count = 0\n",
    "        self.n = n\n",
    "        self.array = self._create_array(self.n)\n",
    "        if values:\n",
    "            self.initialize_array(values)  \n",
    "            \n",
    "    def _create_array(self, n):\n",
    "        \"\"\"\n",
    "        Creates a new array of capacity n\n",
    "        \"\"\"\n",
    "        return (n * ctypes.py_object)()\n",
    "                \n",
    "        \n",
    "    def __getitem__(self, item_index):\n",
    "        \"\"\"\n",
    "        Return element at item_index\n",
    "        \"\"\"\n",
    "        if (item_index < 0) or (item_index >= self.n):\n",
    "            raise IndexError('index out of range!')\n",
    "        try:\n",
    "            x = self.array[item_index]\n",
    "        except ValueError:\n",
    "            x = None\n",
    "        return x\n",
    "    \n",
    "    def __setitem__(self, item_index, item):\n",
    "        \"\"\"\n",
    "        Set element at item_index\n",
    "        \"\"\"\n",
    "        if (item_index < 0) or (item_index >= self.n):\n",
    "            raise IndexError('index out of range!')\n",
    "        if not self[item_index]:\n",
    "            self.item_count += 1\n",
    "        self.array[item_index] = item\n",
    "    \n",
    "    def initialize_array(self, values):\n",
    "        \"\"\"\n",
    "        Initialize array\n",
    "        \"\"\"\n",
    "        if self.n != len(values):\n",
    "            raise ValueError(\"element count different than capacity\")\n",
    "        for item in values:\n",
    "            self.array[self.item_count] = item\n",
    "            self.item_count += 1\n",
    "            \n",
    "    def list_array(self):\n",
    "        \"\"\"\n",
    "        List elements of the array\n",
    "        \"\"\"\n",
    "        return \", \".join(str(x) if x is not None else '_' for x in self)\n",
    "    \n",
    "    def _append(self, item):\n",
    "        \"\"\"\n",
    "        Add new item to the beginning of the array\n",
    "        \"\"\"\n",
    "        if self.item_count == self.n:\n",
    "            raise ValueError(\"no more capacity\")\n",
    "            \n",
    "        i = self.item_count\n",
    "        while (i > 0):\n",
    "            self.array[i] = self.array[i-1]\n",
    "            i -= 1\n",
    "        self.array[0] = item\n",
    "        self.item_count += 1\n",
    "            "
   ]
  },
  {
   "cell_type": "code",
   "execution_count": 208,
   "id": "9edc328d",
   "metadata": {
    "slideshow": {
     "slide_type": "subslide"
    }
   },
   "outputs": [],
   "source": [
    "x = Array(5, [0,-2,4,5,3])"
   ]
  },
  {
   "cell_type": "code",
   "execution_count": 209,
   "id": "148a5d48",
   "metadata": {
    "slideshow": {
     "slide_type": "subslide"
    }
   },
   "outputs": [
    {
     "data": {
      "text/plain": [
       "'0, -2, 4, 5, 3'"
      ]
     },
     "execution_count": 209,
     "metadata": {},
     "output_type": "execute_result"
    }
   ],
   "source": [
    "x.list_array()"
   ]
  },
  {
   "cell_type": "markdown",
   "id": "56ba29fe",
   "metadata": {
    "slideshow": {
     "slide_type": "slide"
    }
   },
   "source": [
    "### Array operations\n",
    "- insert\n",
    "- delete\n",
    "- search"
   ]
  },
  {
   "cell_type": "markdown",
   "id": "63e0faf7",
   "metadata": {
    "slideshow": {
     "slide_type": "slide"
    }
   },
   "source": [
    "### Insert\n",
    "- Insert a new element at the end of the Array\n",
    "- Insert it at the beginning of the Array\n",
    "- Insert it at any given index inside the Array"
   ]
  },
  {
   "cell_type": "markdown",
   "id": "bca87dae",
   "metadata": {
    "slideshow": {
     "slide_type": "subslide"
    }
   },
   "source": [
    "### At the end:\n",
    "\n",
    "`A = [0, 3, 4, _, _]`\n",
    "\n",
    "Element to insert: `x=8`\n",
    "\n",
    "`A = [0, 3, 4, 8, _]`\n",
    "\n",
    "**Complexity?**"
   ]
  },
  {
   "cell_type": "code",
   "execution_count": 227,
   "id": "3451d9ee",
   "metadata": {
    "slideshow": {
     "slide_type": "subslide"
    }
   },
   "outputs": [],
   "source": [
    "def insert(array, item):\n",
    "    \"\"\"\n",
    "    Add new item to the tail of the array\n",
    "    \"\"\"\n",
    "    array.array[array.item_count] = item\n",
    "    array.item_count += 1"
   ]
  },
  {
   "cell_type": "markdown",
   "id": "9f340ddc",
   "metadata": {
    "slideshow": {
     "slide_type": "subslide"
    }
   },
   "source": [
    "### At the beginning: \n",
    "\n",
    "`A = [0, 3, 4, _, _]`\n",
    "\n",
    "Element to insert: `x=8`\n",
    "\n",
    "`A = [8, 0, 3, 4, _]`\n",
    "\n",
    "**Complexity?**\n"
   ]
  },
  {
   "cell_type": "code",
   "execution_count": 228,
   "id": "e445aaff",
   "metadata": {
    "slideshow": {
     "slide_type": "subslide"
    }
   },
   "outputs": [],
   "source": [
    "def insert(array, item):\n",
    "    \"\"\"\n",
    "    Add new item to the beginning of the array\n",
    "    \"\"\"\n",
    "    if array.item_count == array.n:\n",
    "        raise ValueError(\"no more capacity\")\n",
    "\n",
    "    i = array.item_count\n",
    "    while (i > 0):\n",
    "        array.array[i] = array.array[i-1]\n",
    "        i -= 1\n",
    "    array.array[0] = item\n",
    "    array.item_count += 1"
   ]
  },
  {
   "cell_type": "markdown",
   "id": "d812039d",
   "metadata": {
    "slideshow": {
     "slide_type": "subslide"
    }
   },
   "source": [
    "### Insert using an index \n",
    "\n",
    "`A = [0, 3, 4, _, _]`\n",
    "\n",
    "Element to insert: `x=8`\n",
    "\n",
    "Index: `1`\n",
    "\n",
    "`A = [0, 8, 3, 4, _]`\n",
    "\n",
    "**Complexity?**"
   ]
  },
  {
   "cell_type": "markdown",
   "id": "fda78b64",
   "metadata": {
    "slideshow": {
     "slide_type": "subslide"
    }
   },
   "source": [
    "### [+1] to the first implementation of the Insert general process "
   ]
  },
  {
   "cell_type": "markdown",
   "id": "516fa3be",
   "metadata": {
    "slideshow": {
     "slide_type": "slide"
    }
   },
   "source": [
    "### Deletion\n",
    "- Deleting the last element\n",
    "- Delete the first element\n",
    "- Delete at any given index"
   ]
  },
  {
   "cell_type": "markdown",
   "id": "0fa2bde5",
   "metadata": {
    "slideshow": {
     "slide_type": "subslide"
    }
   },
   "source": [
    "### Deleting the last element\n",
    "\n",
    "- The length of the array tells us which element needs to be deleted\n",
    "\n",
    "`A = [0, 3, 4, 8, 7]`\n",
    "\n",
    "Delete last item (`7`):\n",
    "\n",
    "`A = [0, 3, 4, 8, _]`"
   ]
  },
  {
   "cell_type": "markdown",
   "id": "54b3b6a5",
   "metadata": {
    "slideshow": {
     "slide_type": "subslide"
    }
   },
   "source": [
    "### Deleting the first element\n",
    "\n",
    "- We need to shift all elements to the left\n",
    "\n",
    "`A = [0, 3, 4, 8, 7]`\n",
    "\n",
    "Delete first item (`0`):\n",
    "\n",
    "`A = [3, 4, 8, 7, _]`"
   ]
  },
  {
   "cell_type": "markdown",
   "id": "2a2cd9e3",
   "metadata": {
    "slideshow": {
     "slide_type": "subslide"
    }
   },
   "source": [
    "### [+1] to the first implementation of the Delete general process "
   ]
  },
  {
   "cell_type": "markdown",
   "id": "d33150bf",
   "metadata": {
    "slideshow": {
     "slide_type": "subslide"
    }
   },
   "source": [
    "### Delete using an index \n",
    "\n",
    "`A = [0, 3, 4, 8, 7]`\n",
    "\n",
    "Index: `2`\n",
    "\n",
    "`A = [0, 3, 8, 7, _]`\n"
   ]
  },
  {
   "cell_type": "markdown",
   "id": "2c8de62d",
   "metadata": {
    "slideshow": {
     "slide_type": "subslide"
    }
   },
   "source": [
    "### [+1] to the first implementation "
   ]
  },
  {
   "cell_type": "markdown",
   "id": "e0f1d793",
   "metadata": {
    "slideshow": {
     "slide_type": "slide"
    }
   },
   "source": [
    "### Search\n",
    "\n",
    "- Most important operation of all\n",
    "- It comes down to how fast the search occurs\n",
    "- It's important to understand the memory requirement imposed by the data structure\n"
   ]
  },
  {
   "cell_type": "markdown",
   "id": "96d0c342",
   "metadata": {
    "slideshow": {
     "slide_type": "subslide"
    }
   },
   "source": [
    "### Linear search\n",
    "- Index not known\n",
    "- Check each element in the Array until we find the element or we reach the end\n",
    "- Complexity is $O(n)$"
   ]
  },
  {
   "cell_type": "code",
   "execution_count": 226,
   "id": "2c54ee4b",
   "metadata": {
    "slideshow": {
     "slide_type": "subslide"
    }
   },
   "outputs": [],
   "source": [
    "def linear_search(array, element):\n",
    "    \"\"\"\n",
    "    Return the index of element\n",
    "    \"\"\"\n",
    "    for i in range(array.item_count):\n",
    "        if array[i] == element:\n",
    "            return i\n",
    "    return None\n",
    "        "
   ]
  },
  {
   "cell_type": "markdown",
   "id": "3473aa1a",
   "metadata": {
    "slideshow": {
     "slide_type": "slide"
    }
   },
   "source": [
    "## Rules for extra points\n",
    "\n",
    "- Fastest 3 submissions get the credit\n",
    "- Maximum of 2 extra points per lecture for each student\n",
    "- Submissions done using GitHub and D2L"
   ]
  },
  {
   "cell_type": "code",
   "execution_count": null,
   "id": "b6e88ae5",
   "metadata": {},
   "outputs": [],
   "source": []
  }
 ],
 "metadata": {
  "celltoolbar": "Slideshow",
  "kernelspec": {
   "display_name": "Python 3",
   "language": "python",
   "name": "python3"
  },
  "language_info": {
   "codemirror_mode": {
    "name": "ipython",
    "version": 3
   },
   "file_extension": ".py",
   "mimetype": "text/x-python",
   "name": "python",
   "nbconvert_exporter": "python",
   "pygments_lexer": "ipython3",
   "version": "3.8.8"
  }
 },
 "nbformat": 4,
 "nbformat_minor": 5
}
