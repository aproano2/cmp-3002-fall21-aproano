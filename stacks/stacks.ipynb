{
 "cells": [
  {
   "cell_type": "code",
   "execution_count": 1,
   "id": "5acb4fe5",
   "metadata": {
    "slideshow": {
     "slide_type": "skip"
    }
   },
   "outputs": [],
   "source": [
    "import time\n",
    "import pandas as pd\n",
    "import numpy as np\n",
    "import matplotlib.pyplot as plt\n",
    "%matplotlib inline  "
   ]
  },
  {
   "cell_type": "markdown",
   "id": "a41bb501",
   "metadata": {
    "slideshow": {
     "slide_type": "slide"
    }
   },
   "source": [
    "# CMP 3002 \n",
    "## Linked List / Stacks"
   ]
  },
  {
   "cell_type": "markdown",
   "id": "d23f2a16",
   "metadata": {
    "slideshow": {
     "slide_type": "slide"
    }
   },
   "source": [
    "## Review"
   ]
  },
  {
   "cell_type": "markdown",
   "id": "a98fdc08",
   "metadata": {
    "slideshow": {
     "slide_type": "subslide"
    }
   },
   "source": [
    "## Linked Lists"
   ]
  },
  {
   "cell_type": "markdown",
   "id": "419c97dc",
   "metadata": {
    "slideshow": {
     "slide_type": "subslide"
    }
   },
   "source": [
    "### Properties\n",
    "\n",
    "- Linked list is a linear data structure\n",
    "- Each element is a separate object\n",
    "- All objects are linked together by a reference field in each element\n",
    "- Two types: \n",
    "    * Singly linked lists\n",
    "    * Doubly linked lists"
   ]
  },
  {
   "cell_type": "markdown",
   "id": "fb64fd01",
   "metadata": {
    "slideshow": {
     "slide_type": "subslide"
    }
   },
   "source": [
    "### Singly linked lists\n",
    "\n",
    "<img src=\"linked_list.png\" alt=\"drawing\" style=\"width:400px;\"/>\n",
    "\n",
    "Each node has two parts:\n",
    "- value\n",
    "- reference field to link to the next node"
   ]
  },
  {
   "cell_type": "code",
   "execution_count": 3,
   "id": "93ae4824",
   "metadata": {
    "slideshow": {
     "slide_type": "subslide"
    }
   },
   "outputs": [],
   "source": [
    "class Node:\n",
    "    \"\"\"\n",
    "    Implementation of a node\n",
    "    \"\"\"\n",
    "    def __init__(self, val=None):\n",
    "        self.val = val\n",
    "        self.next_node = None\n",
    "    \n",
    "    def set_next_node(self, next_node):\n",
    "        self.next_node = next_node\n",
    "        \n",
    "class Singly_linked_list:\n",
    "    \"\"\"\n",
    "    Implementation of a singly linked list\n",
    "    \"\"\"\n",
    "    def __init__(self, head_node=None):\n",
    "        self.head_node = head_node\n",
    "        \n",
    "    def list_traversed(self):\n",
    "        node = self.head_node\n",
    "        while node:\n",
    "            print(node.val)\n",
    "            node = node.next_node"
   ]
  },
  {
   "cell_type": "code",
   "execution_count": 23,
   "id": "d4194006",
   "metadata": {
    "slideshow": {
     "slide_type": "subslide"
    }
   },
   "outputs": [],
   "source": [
    "m1 = Node(\"Jan\")\n",
    "m2 = Node(\"Feb\")\n",
    "m3 = Node(\"March\")\n",
    "\n",
    "# link m2 to m3\n",
    "m1.set_next_node(m2)\n",
    "# link m3 to m4\n",
    "m2.set_next_node(m3)\n",
    "\n",
    "list1 = Singly_linked_list(m1)"
   ]
  },
  {
   "cell_type": "markdown",
   "id": "f2dd374c",
   "metadata": {
    "slideshow": {
     "slide_type": "subslide"
    }
   },
   "source": [
    "<img src=\"example_linked_list.png\" alt=\"drawing\" style=\"width:400px;\"/>"
   ]
  },
  {
   "cell_type": "markdown",
   "id": "0142772c",
   "metadata": {
    "slideshow": {
     "slide_type": "subslide"
    }
   },
   "source": [
    "### Operations\n",
    "\n",
    "- traverse\n",
    "- insert\n",
    "- delete"
   ]
  },
  {
   "cell_type": "markdown",
   "id": "066565e6",
   "metadata": {
    "slideshow": {
     "slide_type": "subslide"
    }
   },
   "source": [
    "### Traverse\n",
    "\n",
    "- Unlike arrays, we can't read a node in singly linked list in $O(1)$\n",
    "- To access an element, we need to traverse from the head to the node one by one\n",
    "- Complexity of getting to a node is $O(n)$, for $n$ being the size of the linked list"
   ]
  },
  {
   "cell_type": "markdown",
   "id": "2d46d647",
   "metadata": {
    "slideshow": {
     "slide_type": "subslide"
    }
   },
   "source": [
    "### Insert at the beginning\n",
    "\n",
    "<img src=\"insert_head1_linked_list.png\" alt=\"drawing\" style=\"width:400px;\"/>\n",
    "\n",
    "- Simply connect the new node to the head of the list\n",
    "- The new node is the head of the list\n",
    "\n",
    "\n",
    "<img src=\"insert_head2_linked_list.png\" alt=\"drawing\" style=\"width:500px;\"/>\n",
    "\n",
    "- Complexity $O(1)$"
   ]
  },
  {
   "cell_type": "markdown",
   "id": "232aea82",
   "metadata": {
    "slideshow": {
     "slide_type": "subslide"
    }
   },
   "source": [
    "### Insert at the end\n",
    "\n",
    "<img src=\"insert_head1_linked_list.png\" alt=\"drawing\" style=\"width:400px;\"/>\n",
    "\n",
    "- Find the tail node\n",
    "- Connect the tail to the new node\n",
    "- The new node is the new tail\n",
    "\n",
    "<img src=\"insert_tail2_linked_list.png\" alt=\"drawing\" style=\"width:500px;\"/>\n",
    "\n",
    "- Complexity $O(n)$"
   ]
  },
  {
   "cell_type": "markdown",
   "id": "91a35ce0",
   "metadata": {
    "slideshow": {
     "slide_type": "subslide"
    }
   },
   "source": [
    "### Insert after a given node\n",
    "\n",
    "<img src=\"insert_head1_linked_list.png\" alt=\"drawing\" style=\"width:400px;\"/>\n",
    "\n",
    "- Find the given node\n",
    "- Connect this node to the new node\n",
    "- Connect the new node to the previous next\n",
    "\n",
    "<img src=\"insert_prev2_linked_list.png\" alt=\"drawing\" style=\"width:500px;\"/>\n",
    "\n",
    "- Complexity $O(n)$"
   ]
  },
  {
   "cell_type": "markdown",
   "id": "9c0608a7",
   "metadata": {
    "slideshow": {
     "slide_type": "slide"
    }
   },
   "source": [
    "## Delete\n",
    "\n",
    "To delete an existing node from the singly linked list, we need to follow two steps:\n",
    "\n",
    "1. Find the previous node and the next node. $O(n)$\n",
    "2. Link the previous node directly to the next node. $O(1)$ \n"
   ]
  },
  {
   "cell_type": "markdown",
   "id": "ebf4fa2d",
   "metadata": {
    "slideshow": {
     "slide_type": "subslide"
    }
   },
   "source": [
    "### Delete\n",
    "\n",
    "<img src=\"insert_tail2_linked_list.png\" alt=\"drawing\" style=\"width:500px;\"/>\n",
    "\n",
    "**Delete March**\n",
    "\n",
    "<img src=\"delete_linked_list.png\" alt=\"drawing\" style=\"width:500px;\"/>\n",
    "\n",
    "- Total time complexity $O(n)$"
   ]
  },
  {
   "cell_type": "code",
   "execution_count": null,
   "id": "800da933",
   "metadata": {
    "slideshow": {
     "slide_type": "subslide"
    }
   },
   "outputs": [],
   "source": [
    "def delete(self, val):\n",
    "    node = self.head_node\n",
    "    prev = None\n",
    "    while node.val != val:\n",
    "        prev = node\n",
    "        node = node.next_node\n",
    "    if prev:\n",
    "        prev.next_node = node.next_node\n",
    "    else:\n",
    "        self.head_node = node.next_node\n",
    "    node.next_node = None\n"
   ]
  },
  {
   "cell_type": "code",
   "execution_count": 25,
   "id": "03228a38",
   "metadata": {},
   "outputs": [],
   "source": [
    "class Singly_linked_list:\n",
    "    \"\"\"\n",
    "    Implementation of a singly linked list\n",
    "    \"\"\"\n",
    "    def __init__(self, head_node=None):\n",
    "        self.head_node = head_node\n",
    "        \n",
    "    def list_traversed(self):\n",
    "        node = self.head_node\n",
    "        while node:\n",
    "            print(node.val)\n",
    "            node = node.next_node\n",
    "    \n",
    "    def delete(self, val):\n",
    "        node = self.head_node\n",
    "        prev = None\n",
    "        while node.val != val:\n",
    "            prev = node\n",
    "            node = node.next_node\n",
    "        \n",
    "        if prev:\n",
    "            prev.next_node = node.next_node\n",
    "        else:\n",
    "            self.head_node = node.next_node\n",
    "        node.next_node = None\n",
    "        "
   ]
  },
  {
   "cell_type": "code",
   "execution_count": 26,
   "id": "86e42dfc",
   "metadata": {
    "slideshow": {
     "slide_type": "subslide"
    }
   },
   "outputs": [],
   "source": [
    "m1 = Node(\"Jan\")\n",
    "m2 = Node(\"Feb\")\n",
    "m3 = Node(\"March\")\n",
    "m4 = Node(\"Dec\")\n",
    "\n",
    "# link m2 to m3\n",
    "m1.set_next_node(m2)\n",
    "# link m3 to m4\n",
    "m2.set_next_node(m3)\n",
    "# link m4 to m5\n",
    "m3.set_next_node(m4)\n",
    "list1 = Singly_linked_list(m1)"
   ]
  },
  {
   "cell_type": "code",
   "execution_count": 27,
   "id": "c41bd627",
   "metadata": {
    "slideshow": {
     "slide_type": "subslide"
    }
   },
   "outputs": [
    {
     "name": "stdout",
     "output_type": "stream",
     "text": [
      "Before delete\n",
      "=============\n",
      "Jan\n",
      "Feb\n",
      "March\n",
      "Dec\n",
      "\n",
      "Result after delete\n",
      "===================\n",
      "Jan\n",
      "Feb\n",
      "Dec\n"
     ]
    }
   ],
   "source": [
    "print(\"Before delete\")\n",
    "print(\"=============\")\n",
    "list1.list_traversed()\n",
    "list1.delete('March')\n",
    "print()\n",
    "print(\"Result after delete\")\n",
    "print(\"===================\")\n",
    "list1.list_traversed()"
   ]
  },
  {
   "cell_type": "markdown",
   "id": "927a904f",
   "metadata": {
    "slideshow": {
     "slide_type": "slide"
    }
   },
   "source": [
    "## Stacks and Queues"
   ]
  },
  {
   "cell_type": "markdown",
   "id": "76c1a46f",
   "metadata": {
    "slideshow": {
     "slide_type": "slide"
    }
   },
   "source": [
    "#### Exercise\n",
    "\n",
    "Input: string `s` containing just the characters `(`, `)`, `{`, `}`, `[` and `]`, determine if `s` follows the rules:\n",
    "\n",
    "- Open brackets must be closed by the same type of brackets.\n",
    "- Open brackets must be closed in the correct order.\n",
    "\n",
    "Ex: `s = '[](){[()]}'`"
   ]
  },
  {
   "cell_type": "markdown",
   "id": "486c0a3b",
   "metadata": {
    "slideshow": {
     "slide_type": "slide"
    }
   },
   "source": [
    "Stacks and queues are linear data structures\n",
    "- Stacks follow the principle Last In First Out (LIFO)\n",
    "- The last element inserted inside the stack is removed first\n",
    "- Example: pile of plates on top of another"
   ]
  },
  {
   "cell_type": "markdown",
   "id": "d6663c97",
   "metadata": {
    "slideshow": {
     "slide_type": "subslide"
    }
   },
   "source": [
    "### How can we implement a `class` stack in Python?"
   ]
  },
  {
   "cell_type": "code",
   "execution_count": 34,
   "id": "7432a015",
   "metadata": {
    "slideshow": {
     "slide_type": "subslide"
    }
   },
   "outputs": [],
   "source": [
    "# We can use the same implementation we used for Arrays\n",
    "import ctypes\n",
    "class Stack(object):\n",
    "    \"\"\"\n",
    "    Implementation of the stack data structure\n",
    "    \"\"\"\n",
    "\n",
    "    def __init__(self, n):\n",
    "        self.item_count = 0\n",
    "        self.n = n\n",
    "        self.stack = self._create_stack(self.n)        \n",
    "    \n",
    "    def _create_stack(self, n):\n",
    "        \"\"\"\n",
    "        Creates a new stack of capacity n\n",
    "        \"\"\"\n",
    "        return (n * ctypes.py_object)()"
   ]
  },
  {
   "cell_type": "markdown",
   "id": "ee33aea5",
   "metadata": {
    "slideshow": {
     "slide_type": "slide"
    }
   },
   "source": [
    "### Operations\n",
    "\n",
    "- **push(item)** - store an element on the stack\n",
    "- **pop()** - remove an element from the stack\n",
    "- **top()** - get the top data element of the stack, without removing it\n",
    "- **full()** - check if stack is full\n",
    "- **empty()** - check if the stack is empty\n",
    "- **size()** - return the size of the stack\n",
    "\n",
    "All operations take $O(1)$\n"
   ]
  },
  {
   "cell_type": "code",
   "execution_count": 30,
   "id": "1396a2b8",
   "metadata": {
    "slideshow": {
     "slide_type": "subslide"
    }
   },
   "outputs": [],
   "source": [
    "def push(self, item):\n",
    "    \"\"\"\n",
    "    Add new item to the stack\n",
    "    \"\"\"\n",
    "    if self.item_count == self.n:\n",
    "        raise ValueError(\"no more capacity\")\n",
    "    self.stack[self.item_count] = item\n",
    "    self.item_count += 1"
   ]
  },
  {
   "cell_type": "code",
   "execution_count": 53,
   "id": "52acf4eb",
   "metadata": {
    "slideshow": {
     "slide_type": "subslide"
    }
   },
   "outputs": [],
   "source": [
    "def pop(self):\n",
    "    \"\"\"\n",
    "    Remove an element from the stack\n",
    "    \"\"\"\n",
    "    c = self.stack[self.item_count-1]\n",
    "    self.stack[self.item_count] = ctypes.py_object\n",
    "    self.item_count -= 1\n",
    "    return c\n",
    "    "
   ]
  },
  {
   "cell_type": "code",
   "execution_count": 46,
   "id": "ab9dd219",
   "metadata": {
    "slideshow": {
     "slide_type": "subslide"
    }
   },
   "outputs": [],
   "source": [
    "def top(self):\n",
    "    \"\"\"\n",
    "    Show the top element of the stack\n",
    "    \"\"\"\n",
    "    return self.stack[self.item_count-1]"
   ]
  },
  {
   "cell_type": "code",
   "execution_count": 32,
   "id": "a85c0fe2",
   "metadata": {
    "slideshow": {
     "slide_type": "subslide"
    }
   },
   "outputs": [],
   "source": [
    "def full(self):\n",
    "    \"\"\"\n",
    "    Is the stack full?\n",
    "    \"\"\"\n",
    "    if self.item_count == self.n:\n",
    "        return True\n",
    "    return False\n",
    "\n",
    "def empty(self):\n",
    "    \"\"\"\n",
    "    Is the stack empty?\n",
    "    \"\"\"\n",
    "    if self.item_count == 0:\n",
    "        return True\n",
    "    return False\n",
    "\n",
    "def size(self):\n",
    "    \"\"\"\n",
    "    Return size of the stack\n",
    "    \"\"\"\n",
    "    return self.item_count"
   ]
  },
  {
   "cell_type": "code",
   "execution_count": 60,
   "id": "e6516fba",
   "metadata": {
    "slideshow": {
     "slide_type": "slide"
    }
   },
   "outputs": [],
   "source": [
    "class Stack(object):\n",
    "    \"\"\"\n",
    "    Implementation of the stack data structure\n",
    "    \"\"\"\n",
    "\n",
    "    def __init__(self, n):\n",
    "        self.item_count = 0\n",
    "        self.n = n\n",
    "        self.stack = self._create_stack(self.n)        \n",
    "    \n",
    "    def _create_stack(self, n):\n",
    "        \"\"\"\n",
    "        Creates a new stack of capacity n\n",
    "        \"\"\"\n",
    "        return (n * ctypes.py_object)()\n",
    "    \n",
    "    def push(self, item):\n",
    "        \"\"\"\n",
    "        Add new item to the stack\n",
    "        \"\"\"\n",
    "        if self.item_count == self.n:\n",
    "            raise ValueError(\"no more capacity\")\n",
    "        self.stack[self.item_count] = item\n",
    "        self.item_count += 1\n",
    "        \n",
    "    def pop(self):\n",
    "        \"\"\"\n",
    "        Remove an element from the stack\n",
    "        \"\"\"\n",
    "        c = self.stack[self.item_count-1]\n",
    "        self.stack[self.item_count] = ctypes.py_object\n",
    "        self.item_count -= 1\n",
    "        return c\n",
    "        \n",
    "    def top(self):\n",
    "        \"\"\"\n",
    "        Show the top element of the stack\n",
    "        \"\"\"\n",
    "        return self.stack[self.item_count-1]\n",
    "\n",
    "    def full(self):\n",
    "        \"\"\"\n",
    "        Is the stack full?\n",
    "        \"\"\"\n",
    "        if self.item_count == self.n:\n",
    "            return True\n",
    "        return False\n",
    "\n",
    "    def empty(self):\n",
    "        \"\"\"\n",
    "        Is the stack empty?\n",
    "        \"\"\"\n",
    "        if self.item_count == 0:\n",
    "            return True\n",
    "        return False\n",
    "\n",
    "    def size(self):\n",
    "        \"\"\"\n",
    "        Return size of the stack\n",
    "        \"\"\"\n",
    "        return self.item_count"
   ]
  },
  {
   "cell_type": "code",
   "execution_count": 61,
   "id": "57f2e062",
   "metadata": {
    "slideshow": {
     "slide_type": "subslide"
    }
   },
   "outputs": [],
   "source": [
    "S = Stack(10)"
   ]
  },
  {
   "cell_type": "code",
   "execution_count": 62,
   "id": "6b133207",
   "metadata": {
    "slideshow": {
     "slide_type": "subslide"
    }
   },
   "outputs": [],
   "source": [
    "S.push(1)\n",
    "S.push(2)\n",
    "S.push(4)\n",
    "S.push(-1)"
   ]
  },
  {
   "cell_type": "code",
   "execution_count": 63,
   "id": "d083a556",
   "metadata": {
    "slideshow": {
     "slide_type": "subslide"
    }
   },
   "outputs": [
    {
     "data": {
      "text/plain": [
       "4"
      ]
     },
     "execution_count": 63,
     "metadata": {},
     "output_type": "execute_result"
    }
   ],
   "source": [
    "\n",
    "S.size()"
   ]
  },
  {
   "cell_type": "code",
   "execution_count": 64,
   "id": "c62a1359",
   "metadata": {
    "slideshow": {
     "slide_type": "subslide"
    }
   },
   "outputs": [
    {
     "data": {
      "text/plain": [
       "-1"
      ]
     },
     "execution_count": 64,
     "metadata": {},
     "output_type": "execute_result"
    }
   ],
   "source": [
    "S.top()"
   ]
  },
  {
   "cell_type": "code",
   "execution_count": 65,
   "id": "ce6e855b",
   "metadata": {
    "slideshow": {
     "slide_type": "subslide"
    }
   },
   "outputs": [
    {
     "data": {
      "text/plain": [
       "-1"
      ]
     },
     "execution_count": 65,
     "metadata": {},
     "output_type": "execute_result"
    }
   ],
   "source": [
    "S.pop()"
   ]
  },
  {
   "cell_type": "code",
   "execution_count": 66,
   "id": "dfac6116",
   "metadata": {
    "slideshow": {
     "slide_type": "subslide"
    }
   },
   "outputs": [
    {
     "data": {
      "text/plain": [
       "False"
      ]
     },
     "execution_count": 66,
     "metadata": {},
     "output_type": "execute_result"
    }
   ],
   "source": [
    "S.full()"
   ]
  },
  {
   "cell_type": "code",
   "execution_count": 67,
   "id": "869509ce",
   "metadata": {
    "slideshow": {
     "slide_type": "subslide"
    }
   },
   "outputs": [
    {
     "data": {
      "text/plain": [
       "False"
      ]
     },
     "execution_count": 67,
     "metadata": {},
     "output_type": "execute_result"
    }
   ],
   "source": [
    "\n",
    "S.empty()"
   ]
  },
  {
   "cell_type": "markdown",
   "id": "91f2a50d",
   "metadata": {
    "slideshow": {
     "slide_type": "slide"
    }
   },
   "source": [
    "#### Exercise\n",
    "\n",
    "Input: string `s` containing just the characters `(`, `)`, `{`, `}`, `[` and `]`, determine if `s` follows the rules:\n",
    "\n",
    "- Open brackets must be closed by the same type of brackets.\n",
    "- Open brackets must be closed in the correct order."
   ]
  },
  {
   "cell_type": "code",
   "execution_count": 73,
   "id": "24299a0f",
   "metadata": {
    "slideshow": {
     "slide_type": "subslide"
    }
   },
   "outputs": [
    {
     "data": {
      "text/plain": [
       "True"
      ]
     },
     "execution_count": 73,
     "metadata": {},
     "output_type": "execute_result"
    }
   ],
   "source": [
    "s = \"()\"\n",
    "check_brackets(s)"
   ]
  },
  {
   "cell_type": "code",
   "execution_count": 74,
   "id": "6f0e6701",
   "metadata": {
    "slideshow": {
     "slide_type": "subslide"
    }
   },
   "outputs": [
    {
     "data": {
      "text/plain": [
       "False"
      ]
     },
     "execution_count": 74,
     "metadata": {},
     "output_type": "execute_result"
    }
   ],
   "source": [
    "s = \"(\"\n",
    "check_brackets(s)"
   ]
  },
  {
   "cell_type": "code",
   "execution_count": 75,
   "id": "00c9e58a",
   "metadata": {
    "slideshow": {
     "slide_type": "subslide"
    }
   },
   "outputs": [
    {
     "data": {
      "text/plain": [
       "True"
      ]
     },
     "execution_count": 75,
     "metadata": {},
     "output_type": "execute_result"
    }
   ],
   "source": [
    "s = \"{{}[]([])}\"\n",
    "check_brackets(s)"
   ]
  },
  {
   "cell_type": "code",
   "execution_count": 76,
   "id": "8aa91466",
   "metadata": {
    "slideshow": {
     "slide_type": "subslide"
    }
   },
   "outputs": [
    {
     "data": {
      "text/plain": [
       "False"
      ]
     },
     "execution_count": 76,
     "metadata": {},
     "output_type": "execute_result"
    }
   ],
   "source": [
    "s = \"{{}[]([)}\"\n",
    "check_brackets(s)"
   ]
  },
  {
   "cell_type": "code",
   "execution_count": 72,
   "id": "709e6a8d",
   "metadata": {
    "slideshow": {
     "slide_type": "slide"
    }
   },
   "outputs": [],
   "source": [
    "def convert(bracket):\n",
    "    if bracket == ')':\n",
    "        return '('\n",
    "    elif bracket == ']':\n",
    "        return '['\n",
    "    elif bracket == '}':\n",
    "        return '{'\n",
    "    else:\n",
    "        return False\n",
    "\n",
    "def check_brackets(s):        \n",
    "    stack = Stack(100)\n",
    "    open_brackets = ['(', '[', '{']\n",
    "    for c in s:\n",
    "        if c in open_brackets:\n",
    "            stack.push(c)\n",
    "        elif (not stack.empty()) and stack.top() == convert(c):\n",
    "            stack.pop();\n",
    "        else:\n",
    "            return False\n",
    "\n",
    "    return stack.empty()"
   ]
  },
  {
   "cell_type": "markdown",
   "id": "f6d77401",
   "metadata": {
    "slideshow": {
     "slide_type": "slide"
    }
   },
   "source": [
    "### [+1] Implement the class Stacks using linked list as we defined in previous classes.\n",
    "**Make sure all operations are $O(1)$**"
   ]
  }
 ],
 "metadata": {
  "celltoolbar": "Slideshow",
  "kernelspec": {
   "display_name": "Python 3",
   "language": "python",
   "name": "python3"
  },
  "language_info": {
   "codemirror_mode": {
    "name": "ipython",
    "version": 3
   },
   "file_extension": ".py",
   "mimetype": "text/x-python",
   "name": "python",
   "nbconvert_exporter": "python",
   "pygments_lexer": "ipython3",
   "version": "3.8.8"
  }
 },
 "nbformat": 4,
 "nbformat_minor": 5
}
