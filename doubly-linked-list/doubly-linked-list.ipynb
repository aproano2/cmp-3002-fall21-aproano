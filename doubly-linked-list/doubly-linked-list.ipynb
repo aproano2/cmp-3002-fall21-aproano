{
 "cells": [
  {
   "cell_type": "code",
   "execution_count": 1,
   "id": "5acb4fe5",
   "metadata": {
    "slideshow": {
     "slide_type": "skip"
    }
   },
   "outputs": [],
   "source": [
    "import time\n",
    "import pandas as pd\n",
    "import numpy as np\n",
    "import matplotlib.pyplot as plt\n",
    "%matplotlib inline  "
   ]
  },
  {
   "cell_type": "markdown",
   "id": "a41bb501",
   "metadata": {
    "slideshow": {
     "slide_type": "slide"
    }
   },
   "source": [
    "# CMP 3002 \n",
    "## Doubly Linked List"
   ]
  },
  {
   "cell_type": "markdown",
   "id": "9a3d7f09",
   "metadata": {
    "slideshow": {
     "slide_type": "slide"
    }
   },
   "source": [
    "## Housekeeping\n",
    "\n",
    "- Homework 2 is posted"
   ]
  },
  {
   "cell_type": "markdown",
   "id": "d23f2a16",
   "metadata": {
    "slideshow": {
     "slide_type": "slide"
    }
   },
   "source": [
    "## Review"
   ]
  },
  {
   "cell_type": "markdown",
   "id": "b45db027",
   "metadata": {
    "slideshow": {
     "slide_type": "subslide"
    }
   },
   "source": [
    "### Queues\n",
    "\n",
    "- Linear data structures\n",
    "- Double ended structure\n",
    "- First-in, first-out (FIFO) structure\n",
    "\n",
    "### Operations:\n",
    "\n",
    "- **enqueue(item)** - add an element to the queue\n",
    "- **dequeue()** - remove an element from the queue\n",
    "- **first()** - show the first element, without removing it\n",
    "- **full()** - check if the queue is full\n",
    "- **empty()** - check if the queue is empty\n",
    "- **size()** - return the size of the queue"
   ]
  },
  {
   "cell_type": "markdown",
   "id": "571c3442",
   "metadata": {
    "slideshow": {
     "slide_type": "subslide"
    }
   },
   "source": [
    "### Priority Queues\n",
    "\n",
    "Extension of queues:\n",
    "- Each element is represented as a key-value pair (e.g., $k, v$)\n",
    "- Each element has a priority\n",
    "- Elements with higher priority are dequeued before lower priority ones\n",
    "- Elements with the same priority are dequeued based on which was enqueued first\n",
    "\n",
    "### Operations:\n",
    "\n",
    "- **insert(v,k)** - add an element $v$ with priority $k$\n",
    "- **deleteMin()** - remove the element with the lowest $k$ (highest priority)\n",
    "- **getMin()** - show the element with the lowest $k$ (highest priority), without removing it\n",
    "- **decreaseKey(v,k)** - change the key of item $v$ in the heap to key. The new key must not be\n",
    "greater than $v$'s current key value"
   ]
  },
  {
   "cell_type": "markdown",
   "id": "a98fdc08",
   "metadata": {
    "slideshow": {
     "slide_type": "subslide"
    }
   },
   "source": [
    "### Singly Linked Lists\n",
    "- Similar to arrays, linked list is a linear data structure\n",
    "- Each element is a separate object\n",
    "- All objects are linked together by a reference field in each element\n",
    "- Two types: \n",
    "    * Singly linked lists\n",
    "    * Doubly linked lists\n",
    "    \n",
    "<img src=\"linked_list.png\" alt=\"drawing\" style=\"width:400px;\"/>\n",
    "\n",
    "Each node has two parts:\n",
    "- value\n",
    "- reference field to link to the next node"
   ]
  },
  {
   "cell_type": "markdown",
   "id": "c7d404a1",
   "metadata": {
    "slideshow": {
     "slide_type": "slide"
    }
   },
   "source": [
    "## Doubly Linked Lists"
   ]
  },
  {
   "cell_type": "markdown",
   "id": "24fd6684",
   "metadata": {
    "slideshow": {
     "slide_type": "slide"
    }
   },
   "source": [
    "## Doubly Linked Lists\n",
    "\n",
    "- Similar to arrays, linked list is a linear data structure\n",
    "- Each element is a separate object\n",
    "- All objects are linked together by a reference field in each element\n",
    "\n",
    "\n",
    "<img src=\"doubly_linked_list.png\" alt=\"drawing\" style=\"width:400px;\"/>\n",
    "\n",
    "Each node has three parts:\n",
    "- value\n",
    "- reference field to link to the next node\n",
    "- reference field to link to the previous node"
   ]
  },
  {
   "cell_type": "markdown",
   "id": "0cc823e0",
   "metadata": {
    "slideshow": {
     "slide_type": "subslide"
    }
   },
   "source": [
    "### Advantages\n",
    "\n",
    "1. It can be traversed in both forward and backward direction\n",
    "2. Delete operation is more efficient if pointer to the node to be deleted is passed \n",
    "3. We can quickly insert a new node before a given node\n"
   ]
  },
  {
   "cell_type": "markdown",
   "id": "6fc6f3ad",
   "metadata": {
    "slideshow": {
     "slide_type": "subslide"
    }
   },
   "source": [
    "### Disadvantages\n",
    "\n",
    "1. Extra space per node\n",
    "2. Extra pointer to be maintained for each operation\n"
   ]
  },
  {
   "cell_type": "code",
   "execution_count": 1,
   "id": "a806ba4b",
   "metadata": {
    "slideshow": {
     "slide_type": "subslide"
    }
   },
   "outputs": [],
   "source": [
    "class Node:\n",
    "    \"\"\"\n",
    "    Implementation of a node\n",
    "    \"\"\"\n",
    "    def __init__(self, val=None):\n",
    "        self.val = val\n",
    "        self.next_node = None\n",
    "        self.prev_node = None\n",
    "        \n",
    "class Doubly_linked_list:\n",
    "    \"\"\"\n",
    "    Implementation of a singly linked list\n",
    "    \"\"\"\n",
    "    def __init__(self, head_node=None):\n",
    "        self.head_node = head_node"
   ]
  },
  {
   "cell_type": "markdown",
   "id": "cb6cdcac",
   "metadata": {
    "slideshow": {
     "slide_type": "slide"
    }
   },
   "source": [
    "### Traverse "
   ]
  },
  {
   "cell_type": "code",
   "execution_count": 6,
   "id": "6bc32901",
   "metadata": {
    "slideshow": {
     "slide_type": "subslide"
    }
   },
   "outputs": [],
   "source": [
    "def list_traversed(self):\n",
    "    node = self.head_node\n",
    "    while node:\n",
    "        print(node.val)\n",
    "        node = node.next_node"
   ]
  },
  {
   "cell_type": "markdown",
   "id": "b88ffd65",
   "metadata": {
    "slideshow": {
     "slide_type": "slide"
    }
   },
   "source": [
    "### Insert\n",
    "\n",
    "1. At the front\n",
    "2. At the end\n",
    "3. After a given node\n",
    "4. Before a given node"
   ]
  },
  {
   "cell_type": "markdown",
   "id": "5c8a47bb",
   "metadata": {
    "slideshow": {
     "slide_type": "subslide"
    }
   },
   "source": [
    "### At the front\n",
    "\n",
    "- Update the head of the list\n",
    "- Add the next reference to the old head\n",
    "- Add the prev reference from the old head to the new head"
   ]
  },
  {
   "cell_type": "code",
   "execution_count": 2,
   "id": "5639f451",
   "metadata": {
    "slideshow": {
     "slide_type": "subslide"
    }
   },
   "outputs": [],
   "source": [
    "def insert_at_start(self, data):\n",
    "    \"\"\"\n",
    "    Insert a node at the start of the list\n",
    "    \"\"\"    \n",
    "    if self.head_node is None:\n",
    "        new_node = Node(data)\n",
    "        self.head_node = new_node\n",
    "        return\n",
    "    new_node = Node(data)\n",
    "    new_node.next_node = self.head_node\n",
    "    self.head_node.prev_node = new_node\n",
    "    self.head_node = new_node"
   ]
  },
  {
   "cell_type": "markdown",
   "id": "1851b9ed",
   "metadata": {
    "slideshow": {
     "slide_type": "subslide"
    }
   },
   "source": [
    "### At the end\n",
    "\n",
    "- Find the tail of the list\n",
    "- Insert the node"
   ]
  },
  {
   "cell_type": "code",
   "execution_count": 3,
   "id": "dc12a714",
   "metadata": {
    "slideshow": {
     "slide_type": "subslide"
    }
   },
   "outputs": [],
   "source": [
    "def insert_at_end(self, data):\n",
    "    \"\"\"\n",
    "    Insert a node at the end of the list\n",
    "    \"\"\"    \n",
    "    if self.head_node is None:\n",
    "        new_node = Node(data)\n",
    "        self.head_node = new_node\n",
    "        return\n",
    "    node = self.head_node\n",
    "    while node:\n",
    "        node = node.next_node\n",
    "    new_node = Node(data)\n",
    "    new_node.prev_node = node\n",
    "    node.next_node = new_node"
   ]
  },
  {
   "cell_type": "markdown",
   "id": "7600b456",
   "metadata": {
    "slideshow": {
     "slide_type": "subslide"
    }
   },
   "source": [
    "### After a given node\n",
    "\n",
    "- Find the node\n",
    "- Insert the new node"
   ]
  },
  {
   "cell_type": "code",
   "execution_count": 4,
   "id": "a295436c",
   "metadata": {
    "slideshow": {
     "slide_type": "subslide"
    }
   },
   "outputs": [],
   "source": [
    "def insert_after_node(self, node, data):\n",
    "    \"\"\"\n",
    "    Insert a node after a given node\n",
    "    \"\"\"        \n",
    "    if self.head_node is None:\n",
    "        new_node = Node(data)\n",
    "        self.head_node = new_node\n",
    "        return\n",
    "    n = self.head_node\n",
    "    while n:\n",
    "        if n == node:\n",
    "            break\n",
    "        n = node.next_node\n",
    "    if not n:\n",
    "        raise ValueError(\"node not found\")\n",
    "        \n",
    "    new_node = Node(data)\n",
    "    new_node.next_node = node.next_node\n",
    "    node.next_node = new_node\n",
    "    new_node.prev_node = node\n",
    "    "
   ]
  },
  {
   "cell_type": "markdown",
   "id": "0a1c80e6",
   "metadata": {
    "slideshow": {
     "slide_type": "subslide"
    }
   },
   "source": [
    "### Before a given node\n",
    "\n",
    "- Find the node\n",
    "- Insert the new node"
   ]
  },
  {
   "cell_type": "code",
   "execution_count": 5,
   "id": "ee6cc782",
   "metadata": {
    "slideshow": {
     "slide_type": "subslide"
    }
   },
   "outputs": [],
   "source": [
    "def insert_before_node(self, node, data):\n",
    "    \"\"\"\n",
    "    Insert a node before a given node\n",
    "    \"\"\"        \n",
    "    if self.head_node is None:\n",
    "        new_node = Node(data)\n",
    "        self.head_node = new_node\n",
    "        return\n",
    "    n = self.head_node\n",
    "    while n:\n",
    "        if n == node:\n",
    "            break\n",
    "        n = node.next_node\n",
    "    if not n:\n",
    "        raise ValueError(\"node not found\")\n",
    "        \n",
    "    new_node = Node(data)\n",
    "    new_node.prev_node = node.prev_node\n",
    "    node.prev_node = new_node\n",
    "    new_node.next_node = node"
   ]
  },
  {
   "cell_type": "markdown",
   "id": "357ecba8",
   "metadata": {
    "slideshow": {
     "slide_type": "slide"
    }
   },
   "source": [
    "### Delete\n",
    "\n",
    "1. Head node\n",
    "2. Tail node\n",
    "3. Middle node by value"
   ]
  },
  {
   "cell_type": "markdown",
   "id": "34ccf86d",
   "metadata": {
    "slideshow": {
     "slide_type": "subslide"
    }
   },
   "source": [
    "### Implement in groups "
   ]
  },
  {
   "cell_type": "markdown",
   "id": "76de5fda",
   "metadata": {
    "slideshow": {
     "slide_type": "subslide"
    }
   },
   "source": [
    "### +1 How de we reverse a singly linked list and a doubly list list "
   ]
  }
 ],
 "metadata": {
  "celltoolbar": "Slideshow",
  "kernelspec": {
   "display_name": "Python 3",
   "language": "python",
   "name": "python3"
  },
  "language_info": {
   "codemirror_mode": {
    "name": "ipython",
    "version": 3
   },
   "file_extension": ".py",
   "mimetype": "text/x-python",
   "name": "python",
   "nbconvert_exporter": "python",
   "pygments_lexer": "ipython3",
   "version": "3.8.8"
  }
 },
 "nbformat": 4,
 "nbformat_minor": 5
}
