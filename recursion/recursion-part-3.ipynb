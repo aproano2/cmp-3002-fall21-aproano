{
 "cells": [
  {
   "cell_type": "code",
   "execution_count": 1,
   "id": "5acb4fe5",
   "metadata": {
    "slideshow": {
     "slide_type": "skip"
    }
   },
   "outputs": [],
   "source": [
    "import time\n",
    "import pandas as pd\n",
    "import numpy as np\n",
    "import matplotlib.pyplot as plt\n",
    "%matplotlib inline  "
   ]
  },
  {
   "cell_type": "markdown",
   "id": "a41bb501",
   "metadata": {
    "slideshow": {
     "slide_type": "slide"
    }
   },
   "source": [
    "# CMP 3002 \n",
    "## Recursion/Trees"
   ]
  },
  {
   "cell_type": "markdown",
   "id": "d23f2a16",
   "metadata": {
    "slideshow": {
     "slide_type": "slide"
    }
   },
   "source": [
    "## Review"
   ]
  },
  {
   "cell_type": "markdown",
   "id": "e77df2b5",
   "metadata": {
    "slideshow": {
     "slide_type": "subslide"
    }
   },
   "source": [
    "## Divide and Conquer\n",
    "\n",
    "1. **Divide** the problem $S$ into a set of subproblems: $\\{S_1, S_2, ... S_n\\}$ for $n \\geq 2$\n",
    "\n",
    "2. **Conquer** Solve each subproblem recursively. \n",
    "\n",
    "3. **Combine** Combine the results of each subproblem.\n"
   ]
  },
  {
   "cell_type": "markdown",
   "id": "ce3429f1",
   "metadata": {
    "slideshow": {
     "slide_type": "subslide"
    }
   },
   "source": [
    "## Example - Merge Sort\n",
    "\n",
    "**Goal:** Sort a list of numbers\n",
    "\n",
    "1. Divide the  unsorted list into several sublists.  (Divide)\n",
    " \n",
    "2. Sort each of the sublists recursively.  (Conquer)\n",
    " \n",
    "3. Merge the sorted sublists to produce new sorted list.  (Combine)\n"
   ]
  },
  {
   "cell_type": "markdown",
   "id": "e3e40bd4",
   "metadata": {
    "slideshow": {
     "slide_type": "subslide"
    }
   },
   "source": [
    "## Example - Merge Sort\n",
    "\n",
    "\n",
    "```\n",
    "L1 = [7, 5, 2, 3, 0, 4, 1, 6]\n",
    "\n",
    "[7, 5, 2, 3]   \n",
    "[7, 5]\n",
    "     [7]\n",
    "          ->       [5, 7]\n",
    "     [5]\n",
    "[2, 3]                      -> [2, 3, 5, 7]\n",
    "     [2]\n",
    "          ->       [2, 3]                       \n",
    "     [3]\n",
    "                                             -> [0, 1, 2, 3, 4, 5, 6, 7]\n",
    "[0, 4, 1, 6]\n",
    "[0, 4]\n",
    "     [0]\n",
    "          ->       [0, 4]\n",
    "     [4]\n",
    "[1, 6]                      -> [0, 1, 4, 6]\n",
    "     [1]\n",
    "          ->       [1, 6]\n",
    "     [6]\n",
    "\n",
    "```\n",
    "\n",
    "Sorting two sorted lists can be done in $O(n)$ time"
   ]
  },
  {
   "cell_type": "markdown",
   "id": "d4da10b4",
   "metadata": {
    "slideshow": {
     "slide_type": "subslide"
    }
   },
   "source": [
    "## Divide and Conquer Pseudocode\n",
    "\n",
    "\n",
    "```\n",
    "def divide_and_conquer( S )\n",
    "\n",
    "    # Split the problem into a set of subproblems.\n",
    "    [S1, S2, ... Sn] = split(S)\n",
    "\n",
    "    # Solve each Si recursively to get Ri\n",
    "    R = []\n",
    "    for Si in [S1, ..., Sn]:\n",
    "        R.append(divide_and_conquer(Si))\n",
    "\n",
    "    # Combine all Ri and return the combined result.\n",
    "    return combine([R1, R2,... Rn])\n",
    "\n",
    "```\n"
   ]
  },
  {
   "cell_type": "markdown",
   "id": "ce8b169d",
   "metadata": {
    "slideshow": {
     "slide_type": "subslide"
    }
   },
   "source": [
    "### Example Quick Sort\n",
    "\n",
    "1. **Divide-** Select a value from the list to use as pivot and divide the list into two sublists. \n",
    "    - One sublist will have the values lower than the pivot and the other the values higher.\n",
    "    - Pick the first value as your pivot\n",
    "2. **Conquer-** Recursively sort the two sublists\n",
    "3. **Combine-** The values in one list lower than the values of the other list, so we simply concatenate for the solution\n"
   ]
  },
  {
   "cell_type": "markdown",
   "id": "4558009e",
   "metadata": {
    "slideshow": {
     "slide_type": "subslide"
    }
   },
   "source": [
    "## Example -  Quick Sort\n",
    "\n",
    "\n",
    "```\n",
    "L1 = [5, 9, 7, 2, 3, 10, 0, 4, 1, 8, 6, 11]\n",
    "\n",
    "## 1st:\n",
    "\n",
    "L11 = [5, 9, 7, 2, 3, 0, 4, 1, 8, 6]\n",
    "pivot = [10]\n",
    "L12 = [11]\n",
    "\n",
    "## 2nd:\n",
    "\n",
    "[5, 7, 2, 3, 0, 4, 1, 6]\n",
    "[8]\n",
    "[9]\n",
    "---\n",
    "[10]\n",
    "---\n",
    "[11]\n",
    "\n",
    "\n",
    "## 3rd:\n",
    "\n",
    "\n",
    "[5, 2, 3, 0, 4, 1]\n",
    "[6]\n",
    "[7]\n",
    "---\n",
    "[8]\n",
    "[9]\n",
    "---\n",
    "[10]\n",
    "---\n",
    "[11]\n",
    "```"
   ]
  },
  {
   "cell_type": "markdown",
   "id": "49822b93",
   "metadata": {
    "slideshow": {
     "slide_type": "subslide"
    }
   },
   "source": [
    "## Example -  Quick Sort\n",
    "\n",
    "\n",
    "```\n",
    "L1 = [5, 9, 7, 2, 3, 10, 0, 4, 1, 8, 6, 11]\n",
    "\n",
    "## 1st:\n",
    "\n",
    "L11 = [5, 2, 3, 0, 4, 1]\n",
    "pivot = [6]\n",
    "L12 = [9, 7, 10, 8, 11]\n",
    "\n",
    "## 2nd:\n",
    "\n",
    "\n",
    "[2, 0, 1]\n",
    "[3]\n",
    "[5, 4]\n",
    "---\n",
    "pivot = [6]\n",
    "---\n",
    "[7, 8]\n",
    "[9]\n",
    "[10, 11]\n",
    "\n",
    "\n",
    "\n",
    "## 3rd:\n",
    "\n",
    "[0]\n",
    "[1]\n",
    "[2]\n",
    "---\n",
    "[3]\n",
    "---\n",
    "[4]\n",
    "[5]\n",
    "\n",
    "---\n",
    "[6]\n",
    "\n",
    "---\n",
    "[7]\n",
    "[8]\n",
    "---\n",
    "[9]\n",
    "---\n",
    "[10]\n",
    "[11]\n",
    "...\n",
    "```"
   ]
  },
  {
   "cell_type": "markdown",
   "id": "cc787789",
   "metadata": {
    "slideshow": {
     "slide_type": "slide"
    }
   },
   "source": [
    "## Backtracking"
   ]
  },
  {
   "cell_type": "markdown",
   "id": "3c0acca0",
   "metadata": {
    "slideshow": {
     "slide_type": "subslide"
    }
   },
   "source": [
    "## Backtracking\n",
    "\n",
    "- Technique that allows us to search all possible solutions\n",
    "- Remove solutions that don't work in groups\n",
    "- It incrementally builds candidate solutions and backtracks  as soon as it is determined the solution is not feasible"
   ]
  },
  {
   "cell_type": "markdown",
   "id": "0b1492fd",
   "metadata": {
    "slideshow": {
     "slide_type": "subslide"
    }
   },
   "source": [
    "### Backtracking pseudocode\n",
    "\n",
    "```\n",
    "def backtrack(candidate):\n",
    "    if find_solution(candidate):\n",
    "        display(candidate)\n",
    "        return\n",
    "    \n",
    "    # iterate all possible candidates.\n",
    "    for next_candidate in list_of_candidates:\n",
    "        if is_valid(next_candidate):\n",
    "            # try this partial candidate solution\n",
    "            apply(next_candidate)\n",
    "            # given the candidate, explore further.\n",
    "            backtrack(next_candidate)\n",
    "            # backtrack\n",
    "            remove(next_candidate)\n",
    "```\n",
    "\n",
    "- Enumeration of canditates done in two parts:\n",
    "    - in the loop, exploring all solutions in the same level\n",
    "    - in the recursion, with each recursion call we get one step closer to the final solution\n",
    "- Recursion happens within the loop\n",
    "- `is_valid` allows to identify candidates not suitable and stop the recursion\n",
    "- `apply` allows us to test the solution\n",
    "- `remove` removes the solutions and its children from the candidates\n",
    "\n",
    "\n",
    "\n"
   ]
  },
  {
   "cell_type": "markdown",
   "id": "5001c0e1",
   "metadata": {
    "slideshow": {
     "slide_type": "slide"
    }
   },
   "source": [
    "### Example - N queens\n",
    "\n",
    "The goal is to place N queens in a N x N chessboard so that no two queens attack each other.\n",
    "\n",
    "Given N, return all the distinct solutions to the problem\n",
    "\n",
    "![plot](./queens.png)"
   ]
  },
  {
   "cell_type": "markdown",
   "id": "2a1ce49b",
   "metadata": {
    "slideshow": {
     "slide_type": "subslide"
    }
   },
   "source": [
    "### How do we do it?\n",
    "\n",
    "First let's condider the brute force approach:\n",
    "\n",
    "- We can place the first queen in $N^2$ positions\n",
    "- The second queen can be in $(N-1)^2$ positions, and so on\n",
    "- So the total number of candidate solutions is $N^2 (N-1)^2 (N-2)^2 \\dots = O(2^{2N})$"
   ]
  },
  {
   "cell_type": "markdown",
   "id": "3348c3e0",
   "metadata": {
    "slideshow": {
     "slide_type": "subslide"
    }
   },
   "source": [
    "### Backtracking\n",
    "Let's check all the potential solutions but we should quickly discard the solutions in which an attack is possible\n",
    "\n",
    "- In the 4x4 board, Q1 is in (0,1) and Q2 is in (0,2) then Q3 and Q4 can still be in $14 \\times 13 = 182$ positions\n",
    "- However, it's pointless to consider them since Q1 and Q2 can attack each other\n",
    "\n",
    "Using backtracking we can place the queens one by one:\n",
    "- when we find that a queen can be attacked, remove it and place it somewhere else\n",
    "\n",
    "Note that to determine that diagonals and anti-diagonals have the properties of constants:\n",
    "- $i - j$\n",
    "- $i + j$\n"
   ]
  },
  {
   "cell_type": "markdown",
   "id": "27bd38a9",
   "metadata": {
    "slideshow": {
     "slide_type": "subslide"
    }
   },
   "source": [
    "### Backtracking\n",
    "\n",
    "Our backtracking function will iterate over the number of rows (2 queens should not be in the same row), and have the following inputs:\n",
    "- row where the next queen is going to be inserted\n",
    "- the columns, diagonals and anti-diagonals where there are queens\n",
    "- state of the board\n",
    "\n",
    "1. the current row is $n$, then we found a solution. Add the board state to the set of solutions. \n",
    "2. Iterate through the columns of the current row, trying to place the queen in each column. Calculate diagonal and anti-diagonal. \n",
    "    - If there is no queen in the current column, diagonal or anti-diagonal we add the queen to the current row. Update the column, diagonal and anti-diagonal state, and call the funtion again for the next row. \n",
    "    - If we can't place the queen, move to the next column\n",
    "3. Once we are done exploring that path, remove the queen from the square and update the states of columns, diagonal and anti-diagonal. \n",
    "\n"
   ]
  },
  {
   "cell_type": "code",
   "execution_count": 1,
   "id": "521d0520",
   "metadata": {
    "slideshow": {
     "slide_type": "skip"
    }
   },
   "outputs": [],
   "source": [
    "def NQueens(n):\n",
    "\n",
    "    def backtrack(row, cols, diagonals, anti_diagonals, state):\n",
    "        # Base case - N queens have been placed\n",
    "        if row == n:\n",
    "            ans.append(create_board(state))\n",
    "            return\n",
    "\n",
    "        for col in range(n):\n",
    "            curr_diagonal = row - col\n",
    "            curr_anti_diagonal = row + col\n",
    "\n",
    "            # Queen can be attacked\n",
    "            if (col in cols \n",
    "                  or curr_diagonal in diagonals \n",
    "                  or curr_anti_diagonal in anti_diagonals):\n",
    "                continue\n",
    "\n",
    "            # \"Add\" queen to the board\n",
    "            cols.add(col)\n",
    "            diagonals.add(curr_diagonal)\n",
    "            anti_diagonals.add(curr_anti_diagonal)\n",
    "            state[row][col] = \"Q\"\n",
    "\n",
    "            # Move on to the next row with the updated board state\n",
    "            backtrack(row + 1, cols, diagonals, anti_diagonals, state)\n",
    "\n",
    "            # \"Remove\" the queen from the board since we have already\n",
    "            # explored all valid paths using the above function call\n",
    "            cols.remove(col)\n",
    "            diagonals.remove(curr_diagonal)\n",
    "            anti_diagonals.remove(curr_anti_diagonal)\n",
    "            state[row][col] = \".\"\n",
    "\n",
    "    ans = []\n",
    "    empty_board = [[\".\"] * n for _ in range(n)]\n",
    "    backtrack(0, set(), set(), set(), empty_board)\n",
    "    return ans\n",
    "    \n",
    "    \n",
    "def create_board(state):\n",
    "    # make each row a string\n",
    "    board = []\n",
    "    for row in state:\n",
    "        board.append(\"\".join(row))\n",
    "    return board"
   ]
  },
  {
   "cell_type": "code",
   "execution_count": null,
   "id": "e9968703",
   "metadata": {},
   "outputs": [],
   "source": [
    "[['.','Q','.','.']['.','Q','.','.'][''][]]\n",
    "\n",
    "['.Q..','.Q..']"
   ]
  },
  {
   "cell_type": "markdown",
   "id": "deab84f4",
   "metadata": {
    "slideshow": {
     "slide_type": "subslide"
    }
   },
   "source": [
    "```\n",
    "def NQueens(n):\n",
    "\n",
    "    def backtrack(row, cols, diagonals, anti_diagonals, state):\n",
    "        # Base case - N queens have been placed\n",
    "        if row == n:\n",
    "            ans.append(create_board(state))\n",
    "            return\n",
    "\n",
    "        for col in range(n):\n",
    "            curr_diagonal = row - col\n",
    "            curr_anti_diagonal = row + col\n",
    "\n",
    "            # Queen can be attacked\n",
    "            if (col in cols \n",
    "                  or curr_diagonal in diagonals \n",
    "                  or curr_anti_diagonal in anti_diagonals):\n",
    "                continue\n",
    "\n",
    "            # \"Add\" queen to the board\n",
    "            cols.add(col)\n",
    "            diagonals.add(curr_diagonal)\n",
    "            anti_diagonals.add(curr_anti_diagonal)\n",
    "            state[row][col] = \"Q\"\n",
    "\n",
    "            # Move on to the next row with the updated board state\n",
    "            backtrack(row + 1, cols, diagonals, anti_diagonals, state)\n",
    "\n",
    "            # \"Remove\" the queen from the board since we have already\n",
    "            # explored all valid paths using the above function call\n",
    "            cols.remove(col)\n",
    "            diagonals.remove(curr_diagonal)\n",
    "            anti_diagonals.remove(curr_anti_diagonal)\n",
    "            state[row][col] = \".\"\n",
    "\n",
    "    ans = []\n",
    "    empty_board = [[\".\"] * n for _ in range(n)]\n",
    "    backtrack(0, set(), set(), set(), empty_board)\n",
    "    return ans\n",
    "    \n",
    "    \n",
    "def create_board(state):\n",
    "    # make each row a string\n",
    "    board = []\n",
    "    for row in state:\n",
    "        board.append(\"\".join(row))\n",
    "    return board\n",
    "```"
   ]
  },
  {
   "cell_type": "code",
   "execution_count": 2,
   "id": "a5ece9f4",
   "metadata": {
    "slideshow": {
     "slide_type": "subslide"
    }
   },
   "outputs": [
    {
     "data": {
      "text/plain": [
       "[['.Q..', '...Q', 'Q...', '..Q.'], ['..Q.', 'Q...', '...Q', '.Q..']]"
      ]
     },
     "execution_count": 2,
     "metadata": {},
     "output_type": "execute_result"
    }
   ],
   "source": [
    "NQueens(4)"
   ]
  },
  {
   "cell_type": "code",
   "execution_count": 27,
   "id": "bdf25aed",
   "metadata": {
    "slideshow": {
     "slide_type": "subslide"
    }
   },
   "outputs": [
    {
     "data": {
      "text/plain": [
       "92"
      ]
     },
     "execution_count": 27,
     "metadata": {},
     "output_type": "execute_result"
    }
   ],
   "source": [
    "len(NQueens(8))"
   ]
  },
  {
   "cell_type": "code",
   "execution_count": 4,
   "id": "95a85e83",
   "metadata": {
    "slideshow": {
     "slide_type": "subslide"
    }
   },
   "outputs": [
    {
     "data": {
      "text/plain": [
       "[]"
      ]
     },
     "execution_count": 4,
     "metadata": {},
     "output_type": "execute_result"
    }
   ],
   "source": [
    "NQueens(2)"
   ]
  },
  {
   "cell_type": "code",
   "execution_count": 5,
   "id": "765cdafa",
   "metadata": {
    "slideshow": {
     "slide_type": "subslide"
    }
   },
   "outputs": [
    {
     "data": {
      "text/plain": [
       "[['Q....', '..Q..', '....Q', '.Q...', '...Q.'],\n",
       " ['Q....', '...Q.', '.Q...', '....Q', '..Q..'],\n",
       " ['.Q...', '...Q.', 'Q....', '..Q..', '....Q'],\n",
       " ['.Q...', '....Q', '..Q..', 'Q....', '...Q.'],\n",
       " ['..Q..', 'Q....', '...Q.', '.Q...', '....Q'],\n",
       " ['..Q..', '....Q', '.Q...', '...Q.', 'Q....'],\n",
       " ['...Q.', 'Q....', '..Q..', '....Q', '.Q...'],\n",
       " ['...Q.', '.Q...', '....Q', '..Q..', 'Q....'],\n",
       " ['....Q', '.Q...', '...Q.', 'Q....', '..Q..'],\n",
       " ['....Q', '..Q..', 'Q....', '...Q.', '.Q...']]"
      ]
     },
     "execution_count": 5,
     "metadata": {},
     "output_type": "execute_result"
    }
   ],
   "source": [
    "NQueens(5)\n"
   ]
  },
  {
   "cell_type": "markdown",
   "id": "4af55045",
   "metadata": {
    "slideshow": {
     "slide_type": "slide"
    }
   },
   "source": [
    "## Trees "
   ]
  },
  {
   "cell_type": "markdown",
   "id": "2910416f",
   "metadata": {
    "slideshow": {
     "slide_type": "subslide"
    }
   },
   "source": [
    "## Trees \n",
    "\n",
    "- A tree is an abstract model of a hierarchical structure\n",
    "- Consists of nodes with a parent-child relation\n",
    "- Applications:\n",
    "    - Organization charts\n",
    "    - File systems\n",
    "    - Programming environments\n",
    "    \n",
    "![](./execution_tree.png)"
   ]
  },
  {
   "cell_type": "markdown",
   "id": "9d343db2",
   "metadata": {
    "slideshow": {
     "slide_type": "subslide"
    }
   },
   "source": [
    "## Terminology\n",
    "\n",
    "- **Root:** node without parent (4)\n",
    "- **Internal node:** node with at least one child (4, 3, 2)\n",
    "- **External node (leaf):** node without children (0, 1)\n",
    "- **Ancestors of a node:** parent, grandparent, grand-grandparent, etc.\n",
    "- **Depth of a node:** number of ancestors\n",
    "- **Height of a tree:** maximum depth of any node (3)\n",
    "- **Descendant of a node:** child, grandchild, grand-grandchild, etc.\n",
    "- **Subtree:** tree consisting of a node and its descendants\n",
    "\n",
    "![](./execution_tree.png)"
   ]
  },
  {
   "cell_type": "markdown",
   "id": "4e56b4fa",
   "metadata": {
    "slideshow": {
     "slide_type": "slide"
    }
   },
   "source": [
    "## Binary Tree\n",
    "\n",
    "- One of the most typical tree structures\n",
    "- Each node has at most two children\n",
    "\n",
    "![](./binary_tree.png)"
   ]
  },
  {
   "cell_type": "code",
   "execution_count": 6,
   "id": "a1eb4dc0",
   "metadata": {
    "slideshow": {
     "slide_type": "subslide"
    }
   },
   "outputs": [],
   "source": [
    "class TreeNode:\n",
    "    def __init__(self, val=0, left=None, right=None):\n",
    "        self.val = val\n",
    "        self.left = left\n",
    "        self.right = right"
   ]
  },
  {
   "cell_type": "markdown",
   "id": "10644076",
   "metadata": {
    "slideshow": {
     "slide_type": "slide"
    }
   },
   "source": [
    "## Tree Traversal\n",
    "\n",
    "- Pre-order\n",
    "- In-order\n",
    "- Post-order\n"
   ]
  },
  {
   "cell_type": "markdown",
   "id": "94d41844",
   "metadata": {
    "slideshow": {
     "slide_type": "subslide"
    }
   },
   "source": [
    "### Pre-order Traversal\n",
    "\n",
    "- Visit the root first\n",
    "- Then traverse the left subtree\n",
    "- Finally, traverse the right subtree\n",
    "\n",
    "![](./binary_tree.png)\n",
    "\n",
    "Result:\n",
    "\n",
    "[A, B, C, D, E, F, G, H, I]"
   ]
  },
  {
   "cell_type": "code",
   "execution_count": 9,
   "id": "0827a941",
   "metadata": {
    "slideshow": {
     "slide_type": "skip"
    }
   },
   "outputs": [],
   "source": [
    "c = TreeNode('c')\n",
    "d = TreeNode('d')\n",
    "b = TreeNode('b', left=c, right=d)\n",
    "\n",
    "h = TreeNode('h')\n",
    "i = TreeNode('i')\n",
    "g = TreeNode('g', left=h, right=i)\n",
    "\n",
    "f = TreeNode('f')\n",
    "e = TreeNode('e', left=f, right=g)\n",
    "\n",
    "a = TreeNode('a', left=b, right=e)"
   ]
  },
  {
   "cell_type": "code",
   "execution_count": 8,
   "id": "50f8ce0f",
   "metadata": {
    "slideshow": {
     "slide_type": "subslide"
    }
   },
   "outputs": [],
   "source": [
    "# Implementation using stacks\n",
    "def preorderTraversal(root):\n",
    "\n",
    "    if root is None:\n",
    "        return []\n",
    "    stack = [root]\n",
    "    out = []\n",
    "\n",
    "    while stack:\n",
    "        node = stack.pop()\n",
    "        if node:\n",
    "            out.append(node.val)\n",
    "            for child in [node.right, node.left]:\n",
    "                if child:\n",
    "                    stack.append(child)\n",
    "    return out"
   ]
  },
  {
   "cell_type": "code",
   "execution_count": 10,
   "id": "e62237d9",
   "metadata": {
    "slideshow": {
     "slide_type": "subslide"
    }
   },
   "outputs": [
    {
     "data": {
      "text/plain": [
       "['a', 'b', 'c', 'd', 'e', 'f', 'g', 'h', 'i']"
      ]
     },
     "execution_count": 10,
     "metadata": {},
     "output_type": "execute_result"
    }
   ],
   "source": [
    "preorderTraversal(a)"
   ]
  },
  {
   "cell_type": "code",
   "execution_count": 13,
   "id": "959912ef",
   "metadata": {
    "slideshow": {
     "slide_type": "subslide"
    }
   },
   "outputs": [],
   "source": [
    "# Implementation using recursion\n",
    "def preorderTraversalrec(root):\n",
    "\n",
    "    if root is None:\n",
    "        return []\n",
    "    \n",
    "    out = [root.val]\n",
    "    out += preorderTraversalrec(root.left)\n",
    "    out += preorderTraversalrec(root.right)\n",
    "\n",
    "    return out"
   ]
  },
  {
   "cell_type": "code",
   "execution_count": 14,
   "id": "b2784bd3",
   "metadata": {
    "slideshow": {
     "slide_type": "subslide"
    }
   },
   "outputs": [
    {
     "data": {
      "text/plain": [
       "['a', 'b', 'c', 'd', 'e', 'f', 'g', 'h', 'i']"
      ]
     },
     "execution_count": 14,
     "metadata": {},
     "output_type": "execute_result"
    }
   ],
   "source": [
    "preorderTraversalrec(a)"
   ]
  },
  {
   "cell_type": "markdown",
   "id": "076fd693",
   "metadata": {
    "slideshow": {
     "slide_type": "fragment"
    }
   },
   "source": [
    "### In-order Traversal\n",
    "\n",
    "- Traverse the left subtree first\n",
    "- Then visit the root\n",
    "- Finally, traverse the right subtree\n",
    "\n",
    "![](./binary_tree.png)\n",
    "\n",
    "Result:\n",
    "\n",
    "[C, B, D, A, F, E, H, G, I]\n",
    "\n",
    "\n",
    "\n"
   ]
  },
  {
   "cell_type": "code",
   "execution_count": 15,
   "id": "0e45d396",
   "metadata": {
    "slideshow": {
     "slide_type": "subslide"
    }
   },
   "outputs": [],
   "source": [
    "# Implementation using recursion\n",
    "def inorderTraversalrec(root):\n",
    "\n",
    "    if root is None:\n",
    "        return []\n",
    "    \n",
    "    out = inorderTraversalrec(root.left)\n",
    "    out += [root.val]\n",
    "    out += inorderTraversalrec(root.right)\n",
    "\n",
    "    return out"
   ]
  },
  {
   "cell_type": "code",
   "execution_count": 16,
   "id": "6b24e306",
   "metadata": {
    "slideshow": {
     "slide_type": "subslide"
    }
   },
   "outputs": [
    {
     "data": {
      "text/plain": [
       "['c', 'b', 'd', 'a', 'f', 'e', 'h', 'g', 'i']"
      ]
     },
     "execution_count": 16,
     "metadata": {},
     "output_type": "execute_result"
    }
   ],
   "source": [
    "inorderTraversalrec(a)"
   ]
  },
  {
   "cell_type": "code",
   "execution_count": 17,
   "id": "3de9913e",
   "metadata": {
    "slideshow": {
     "slide_type": "subslide"
    }
   },
   "outputs": [],
   "source": [
    "# Implementation using stacks\n",
    "def inorderTraversal(root):\n",
    "\n",
    "    if root is None:\n",
    "        return []\n",
    "    \n",
    "    node = root\n",
    "    stack = []\n",
    "    out = []\n",
    "\n",
    "    while node or stack:\n",
    "        while node:\n",
    "            stack.append(node)\n",
    "            node = node.left            \n",
    "        node = stack.pop()\n",
    "        out.append(node.val)\n",
    "        node = node.right          \n",
    "    return out"
   ]
  },
  {
   "cell_type": "code",
   "execution_count": 18,
   "id": "20e511fc",
   "metadata": {
    "slideshow": {
     "slide_type": "subslide"
    }
   },
   "outputs": [
    {
     "data": {
      "text/plain": [
       "['c', 'b', 'd', 'a', 'f', 'e', 'h', 'g', 'i']"
      ]
     },
     "execution_count": 18,
     "metadata": {},
     "output_type": "execute_result"
    }
   ],
   "source": [
    "inorderTraversal(a)"
   ]
  },
  {
   "cell_type": "markdown",
   "id": "a5144831",
   "metadata": {
    "slideshow": {
     "slide_type": "subslide"
    }
   },
   "source": [
    "### Post-order Traversal\n",
    "\n",
    "- Traverse the left subtree first\n",
    "- Then traverse the right subtree\n",
    "- Finally, visit the root\n",
    "\n",
    "![](./binary_tree.png)\n",
    "\n",
    "Result:\n",
    "\n",
    "[C, D, B, F, H, I, G, E, A]\n",
    "\n",
    "\n",
    "\n"
   ]
  },
  {
   "cell_type": "code",
   "execution_count": 21,
   "id": "2b6e2343",
   "metadata": {
    "slideshow": {
     "slide_type": "subslide"
    }
   },
   "outputs": [],
   "source": [
    "# Implementation using recursion\n",
    "def postorderTraversalrec(root):\n",
    "\n",
    "    if root is None:\n",
    "        return []\n",
    "    \n",
    "    out = postorderTraversalrec(root.left)\n",
    "    out += postorderTraversalrec(root.right)\n",
    "    out += [root.val]\n",
    "\n",
    "    return out"
   ]
  },
  {
   "cell_type": "code",
   "execution_count": 22,
   "id": "4b84759a",
   "metadata": {
    "slideshow": {
     "slide_type": "subslide"
    }
   },
   "outputs": [
    {
     "data": {
      "text/plain": [
       "['c', 'd', 'b', 'f', 'h', 'i', 'g', 'e', 'a']"
      ]
     },
     "execution_count": 22,
     "metadata": {},
     "output_type": "execute_result"
    }
   ],
   "source": [
    "postorderTraversalrec(a)"
   ]
  },
  {
   "cell_type": "code",
   "execution_count": 24,
   "id": "08fa7d6c",
   "metadata": {
    "slideshow": {
     "slide_type": "subslide"
    }
   },
   "outputs": [],
   "source": [
    "# Implementation using stacks\n",
    "def postorderTraversal(root):\n",
    "\n",
    "    if root is None:\n",
    "        return []\n",
    "\n",
    "    stack = []\n",
    "    node = root \n",
    "    out = []\n",
    "\n",
    "    while True:            \n",
    "        while node:\n",
    "            if node.right:\n",
    "                stack.append(node.right)\n",
    "            stack.append(node)\n",
    "            node = node.left\n",
    "\n",
    "        node = stack.pop()\n",
    "\n",
    "        if node.right and stack and node.right == stack[-1]:\n",
    "            r = stack.pop()\n",
    "            stack.append(node)\n",
    "            node = r\n",
    "        else:\n",
    "            out.append(node.val)\n",
    "            node = None\n",
    "\n",
    "        if not stack:\n",
    "            break\n",
    "    return out"
   ]
  },
  {
   "cell_type": "code",
   "execution_count": 25,
   "id": "53059f29",
   "metadata": {
    "slideshow": {
     "slide_type": "subslide"
    }
   },
   "outputs": [
    {
     "data": {
      "text/plain": [
       "['c', 'd', 'b', 'f', 'h', 'i', 'g', 'e', 'a']"
      ]
     },
     "execution_count": 25,
     "metadata": {},
     "output_type": "execute_result"
    }
   ],
   "source": [
    "postorderTraversal(a)"
   ]
  }
 ],
 "metadata": {
  "celltoolbar": "Slideshow",
  "kernelspec": {
   "display_name": "Python 3",
   "language": "python",
   "name": "python3"
  },
  "language_info": {
   "codemirror_mode": {
    "name": "ipython",
    "version": 3
   },
   "file_extension": ".py",
   "mimetype": "text/x-python",
   "name": "python",
   "nbconvert_exporter": "python",
   "pygments_lexer": "ipython3",
   "version": "3.8.8"
  }
 },
 "nbformat": 4,
 "nbformat_minor": 5
}
