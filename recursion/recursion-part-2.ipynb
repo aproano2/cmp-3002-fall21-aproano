{
 "cells": [
  {
   "cell_type": "code",
   "execution_count": 1,
   "id": "5acb4fe5",
   "metadata": {
    "slideshow": {
     "slide_type": "skip"
    }
   },
   "outputs": [],
   "source": [
    "import time\n",
    "import pandas as pd\n",
    "import numpy as np\n",
    "import matplotlib.pyplot as plt\n",
    "%matplotlib inline  "
   ]
  },
  {
   "cell_type": "markdown",
   "id": "a41bb501",
   "metadata": {
    "slideshow": {
     "slide_type": "slide"
    }
   },
   "source": [
    "# CMP 3002 \n",
    "## Recursion"
   ]
  },
  {
   "cell_type": "markdown",
   "id": "d23f2a16",
   "metadata": {
    "slideshow": {
     "slide_type": "slide"
    }
   },
   "source": [
    "## Review"
   ]
  },
  {
   "cell_type": "markdown",
   "id": "a0185a83",
   "metadata": {
    "slideshow": {
     "slide_type": "subslide"
    }
   },
   "source": [
    "## Recursion\n",
    "\n",
    "- It is a technique to solve problems by using a function that calls itself as a subroutine\n",
    "- Each time time a recursive function calls itself, it reduces the given problem into subproblems\n",
    "- The recursion continues until it reaches a point where the subproblem can be solved without further recursion"
   ]
  },
  {
   "cell_type": "markdown",
   "id": "06018eeb",
   "metadata": {
    "slideshow": {
     "slide_type": "subslide"
    }
   },
   "source": [
    "## Recursion Function\n",
    "\n",
    "For problems with recursive solutions, it helps to think of the problem as a function $F(X)$, where $X$ is the input that defines the scope of the problem. \n",
    "\n",
    "For the funtion $F(X)$ we need to:\n",
    "\n",
    "- Break the problem down in smalles scopes, subsets of the original scope  ($x_0 \\subset X, x_1 \\subset X, \\dots x_n \\subset X$)\n",
    "\n",
    "-  Call functions $F(x_0), F(x_1), \\ldots, F(x_n)$ recursively to solve the subproblems of $X$\n",
    "\n",
    "- Process the results from the recursive function to solve the problem corresponding to the scope $X$\n"
   ]
  },
  {
   "cell_type": "markdown",
   "id": "89693a4e",
   "metadata": {
    "slideshow": {
     "slide_type": "subslide"
    }
   },
   "source": [
    "## Parts of $F(X)$\n",
    "\n",
    "Before we implement a recursion function we should identify its components:\n",
    "\n",
    "- **Recurrence relation :** Relationship between the result of a problem and the result of its subproblems\n",
    "\n",
    "- **Base case:** Case when the result is calculated directly without any further recurrence calls. \n",
    "\n",
    "Once we identify the two components, we simply call the function according to the **recurrence relation** until we reach the **base case**"
   ]
  },
  {
   "cell_type": "markdown",
   "id": "9372a546",
   "metadata": {
    "slideshow": {
     "slide_type": "subslide"
    }
   },
   "source": [
    "### Example - Fibonacci:\n",
    "\n",
    "A Fibonacci sequence is one of the form:\n",
    "\n",
    "```\n",
    "0, 1, 1, 2, 3, 5, 8, 13, 21, 34, 55, 89, 144, ...\n",
    "```\n",
    "\n",
    "#### Recurrence relation:\n",
    "\n",
    "$F_{n}=F_{n-1}+F_{n-2}$\n",
    "\n",
    "#### Base cases:\n",
    "\n",
    "$F_0 = 0, F_1 = 1$"
   ]
  },
  {
   "cell_type": "code",
   "execution_count": 27,
   "id": "635c17f9",
   "metadata": {
    "slideshow": {
     "slide_type": "subslide"
    }
   },
   "outputs": [],
   "source": [
    "# For n >= 0\n",
    "def Fibonacci(n):\n",
    "    if n == 0:\n",
    "        return 0\n",
    "    elif n == 1:\n",
    "        return 1\n",
    "    else:\n",
    "        return Fibonacci(n-1) + Fibonacci(n-2)"
   ]
  },
  {
   "cell_type": "markdown",
   "id": "0cbd40d7",
   "metadata": {
    "slideshow": {
     "slide_type": "subslide"
    }
   },
   "source": [
    "## Duplicate calculations\n",
    "\n",
    "Recursion if applied naively could lead to a performance penalty. For the Fibonacci example:\n",
    "\n",
    "$F(4) = F(3) + F(2)$\n",
    "\n",
    "$F(4) = (F(2) + F(1)) + F(2)$\n",
    "\n",
    "$F(4) = 2 \\times F(2) + F(1)$\n",
    "\n",
    "Therefore, we run $F(2)$ twice."
   ]
  },
  {
   "cell_type": "markdown",
   "id": "a779488c",
   "metadata": {
    "slideshow": {
     "slide_type": "subslide"
    }
   },
   "source": [
    "## Memoization\n",
    "\n",
    "To avoid the issues with duplicate calculations, we can optimize our problem by caching the intermediate results. This idea is know as **memoization**"
   ]
  },
  {
   "cell_type": "code",
   "execution_count": 32,
   "id": "0d8f70fc",
   "metadata": {
    "slideshow": {
     "slide_type": "subslide"
    }
   },
   "outputs": [],
   "source": [
    "# Memoization - example \n",
    "\n",
    "def Fibonacci(n):\n",
    "    \n",
    "    cache = {}\n",
    "    \n",
    "    def recursive_fibonacci(n):\n",
    "        if n in cache.keys():\n",
    "            return cache[n]\n",
    "        \n",
    "        if n == 0:\n",
    "            res = 0\n",
    "        elif n == 1:\n",
    "            res = 1\n",
    "        else:\n",
    "            res = recursive_fibonacci(n-1) + recursive_fibonacci(n-2)\n",
    "        \n",
    "        cache[n] = res\n",
    "        return res\n",
    "    \n",
    "    return recursive_fibonacci(n)\n",
    "    "
   ]
  },
  {
   "cell_type": "markdown",
   "id": "2cf68b90",
   "metadata": {
    "slideshow": {
     "slide_type": "subslide"
    }
   },
   "source": [
    "## Time complexity\n",
    "\n",
    "The time complexity of a recursion algorithm is usually the product of the number of recursion invocations $R$ and the complexity of each recursion call $O(s)$:\n",
    "\n",
    "$O(T) = R \\times O(s)$\n"
   ]
  },
  {
   "cell_type": "markdown",
   "id": "f2ade81c",
   "metadata": {
    "slideshow": {
     "slide_type": "subslide"
    }
   },
   "source": [
    "### Example - recursion\n",
    "\n",
    "Let's use an execution tree to see figure out the complexity of Fibonacci. Consider $F(4)$\n",
    "\n",
    "![](./execution_tree.png)\n",
    "\n",
    "The recursion tree defines a binary, which has $2^n -1$ nodes. \n",
    "\n",
    "Therefore the complexity of Fibonacci is $O(2^n)$"
   ]
  },
  {
   "cell_type": "markdown",
   "id": "ebc27bff",
   "metadata": {
    "slideshow": {
     "slide_type": "slide"
    }
   },
   "source": [
    "## Divide and Conquer"
   ]
  },
  {
   "cell_type": "markdown",
   "id": "5e51bb9e",
   "metadata": {
    "slideshow": {
     "slide_type": "subslide"
    }
   },
   "source": [
    "## Divide and Conquer\n",
    "\n",
    "It is one of the most important techniques used in algorithm design. \n",
    "\n",
    "The idea is to break down a problem into two or more subproblems od the same type, until we can solve the problem directly in a simple manner. At the end the subproblems are combined to obtain the solution. \n",
    "\n",
    "It is implemented using recursion."
   ]
  },
  {
   "cell_type": "markdown",
   "id": "e77df2b5",
   "metadata": {
    "slideshow": {
     "slide_type": "subslide"
    }
   },
   "source": [
    "## Steps\n",
    "\n",
    "1. **Divide** the problem $S$ into a set of subproblems: $\\{S_1, S_2, ... S_n\\}$ for $n \\geq 2$\n",
    "\n",
    "2. **Conquer** Solve each subproblem recursively. \n",
    "\n",
    "3. **Combine** Combine the results of each subproblem.\n"
   ]
  },
  {
   "cell_type": "markdown",
   "id": "ce3429f1",
   "metadata": {
    "slideshow": {
     "slide_type": "slide"
    }
   },
   "source": [
    "## Example - Merge Sort\n",
    "\n",
    "**Goal:** Sort a list of numbers\n",
    "\n",
    "1. Divide the  unsorted list into several sublists.  (Divide)\n",
    " \n",
    "2. Sort each of the sublists recursively.  (Conquer)\n",
    " \n",
    "3. Merge the sorted sublists to produce new sorted list.  (Combine)\n"
   ]
  },
  {
   "cell_type": "markdown",
   "id": "e3e40bd4",
   "metadata": {
    "slideshow": {
     "slide_type": "subslide"
    }
   },
   "source": [
    "## Example - Merge Sort\n",
    "\n",
    "\n",
    "```\n",
    "L1 = [7, 5, 2, 3, 0, 4, 1, 6]\n",
    "\n",
    "L11 = [7, 5, 2, 3]   \n",
    "L12 = [0, 4, 1, 6]\n",
    "\n",
    "L111 = [7, 5]\n",
    "  [7]\n",
    "       ->       [5, 7]\n",
    "  [5]                      -> [2, 3, 5, 7]\n",
    "L112 =          [2, 3]\n",
    "                               -> [0, 1, 2, 3, 4, 5, 6, 7]\n",
    "L121 = [0, 4]\n",
    "              -> [0, 1, 4, 6]\n",
    "L122 = [1, 6]\n",
    "```\n",
    "\n",
    "Sorting two sorted lists can be done in $O(n)$ time"
   ]
  },
  {
   "cell_type": "code",
   "execution_count": 5,
   "id": "805ef777",
   "metadata": {
    "slideshow": {
     "slide_type": "subslide"
    }
   },
   "outputs": [],
   "source": [
    "def merge_sort(nums):\n",
    "    if len(nums) <= 1:\n",
    "        return nums\n",
    "    pivot = int(len(nums) / 2)\n",
    "    left = merge_sort(nums[0:pivot])\n",
    "    right = merge_sort(nums[pivot:])\n",
    "    return merge(left, right)\n",
    "\n",
    "\n",
    "def merge(left, right):\n",
    "    left_pointer = 0\n",
    "    right_pointer = 0\n",
    "    sorted_list = []\n",
    "    while left_pointer < len(left) and right_pointer < len(right):\n",
    "        if left[left_pointer] < right[right_pointer]:\n",
    "            sorted_list.append(left[left_pointer])\n",
    "            left_pointer += 1\n",
    "        else:\n",
    "            sorted_list.append(right[right_pointer])\n",
    "            right_pointer += 1\n",
    "    \n",
    "    sorted_list.extend(left[left_pointer:])\n",
    "    sorted_list.extend(right[right_pointer:])\n",
    "    \n",
    "    return sorted_list"
   ]
  },
  {
   "cell_type": "code",
   "execution_count": 6,
   "id": "58544a88",
   "metadata": {
    "slideshow": {
     "slide_type": "subslide"
    }
   },
   "outputs": [
    {
     "data": {
      "text/plain": [
       "[0, 1, 2, 3, 4, 5, 8, 9]"
      ]
     },
     "execution_count": 6,
     "metadata": {},
     "output_type": "execute_result"
    }
   ],
   "source": [
    "A = [4,5,8,9,2,0,1,3]\n",
    "merge_sort(A)"
   ]
  },
  {
   "cell_type": "markdown",
   "id": "d4da10b4",
   "metadata": {
    "slideshow": {
     "slide_type": "slide"
    }
   },
   "source": [
    "## Divide and Conquer Pseudocode\n",
    "\n",
    "\n",
    "```\n",
    "def divide_and_conquer( S )\n",
    "\n",
    "    # Split the problem into a set of subproblems.\n",
    "    [S1, S2, ... Sn] = split(S)\n",
    "\n",
    "    # Solve each Si recursively to get Ri\n",
    "    R = []\n",
    "    for Si in [S1, ..., Sn]:\n",
    "        R.append(divide_and_conquer(Si))\n",
    "\n",
    "    # Combine all Ri and return the combined result.\n",
    "    return combine([R1, R2,... Rn])\n",
    "\n",
    "```\n"
   ]
  },
  {
   "cell_type": "markdown",
   "id": "ce8b169d",
   "metadata": {
    "slideshow": {
     "slide_type": "slide"
    }
   },
   "source": [
    "### Example Quick Sort\n",
    "\n",
    "1. **Divide-** Select a value from the list to use as pivot and divide the list into two sublists. \n",
    "    - One sublist will have the values lower than the pivot and the other the values higher.\n",
    "    - Pick the first value as your pivot\n",
    "2. **Conquer-** Recursively sort the two sublists\n",
    "3. **Combine-** The values in one list lower than the values of the other list, so we simply concatenate for the solution\n"
   ]
  },
  {
   "cell_type": "markdown",
   "id": "4558009e",
   "metadata": {
    "slideshow": {
     "slide_type": "subslide"
    }
   },
   "source": [
    "## Example -  Quick Sort\n",
    "\n",
    "\n",
    "```\n",
    "L1 = [5, 9, 7, 2, 3, 10, 0, 4, 1, 8, 6, 11]\n",
    "\n",
    "## 1st:\n",
    "\n",
    "L11 = [5, 9, 7, 2, 3, 0, 4, 1, 8, 6]\n",
    "pivot = [10]\n",
    "L12 = [11]\n",
    "\n",
    "## 2nd:\n",
    "\n",
    "[5, 7, 2, 3, 0, 4, 1, 6]\n",
    "[8]\n",
    "[9]\n",
    "---\n",
    "[10]\n",
    "---\n",
    "[11]\n",
    "\n",
    "\n",
    "## 3rd:\n",
    "\n",
    "\n",
    "[5, 2, 3, 0, 4, 1]\n",
    "[6]\n",
    "[7]\n",
    "---\n",
    "[8]\n",
    "[9]\n",
    "---\n",
    "[10]\n",
    "---\n",
    "[11]\n",
    "```"
   ]
  },
  {
   "cell_type": "markdown",
   "id": "49822b93",
   "metadata": {
    "slideshow": {
     "slide_type": "subslide"
    }
   },
   "source": [
    "## Example -  Quick Sort\n",
    "\n",
    "\n",
    "```\n",
    "L1 = [5, 9, 7, 2, 3, 10, 0, 4, 1, 8, 6, 11]\n",
    "\n",
    "## 1st:\n",
    "\n",
    "L11 = [5, 2, 3, 0, 4, 1]\n",
    "pivot = [6]\n",
    "L12 = [9, 7, 10, 8, 6, 11]\n",
    "\n",
    "## 2nd:\n",
    "\n",
    "\n",
    "[2, 0, 1]\n",
    "[3]\n",
    "L11 = [5, 4]\n",
    "---\n",
    "pivot = [6]\n",
    "---\n",
    "[7, 6]\n",
    "[8]\n",
    "L12 = [9, 10, 11]\n",
    "\n",
    "\n",
    "\n",
    "## 3rd:\n",
    "\n",
    "...\n",
    "```"
   ]
  },
  {
   "cell_type": "markdown",
   "id": "5f8d503c",
   "metadata": {
    "slideshow": {
     "slide_type": "slide"
    }
   },
   "source": [
    "### Example -  find integer in a matrix\n",
    "\n",
    "Given a [m x n] matrix, search for an integer in it. The matrix has the following properties:\n",
    "\n",
    "- Each row of the matrix is sorted in ascending order\n",
    "- Each column is sorted in ascending order from the top"
   ]
  },
  {
   "cell_type": "code",
   "execution_count": 7,
   "id": "0f520dd2",
   "metadata": {
    "slideshow": {
     "slide_type": "subslide"
    }
   },
   "outputs": [],
   "source": [
    "M = [[1,  4,  7,  11,  15],\n",
    "     [2,  5,  8,  12,  19],\n",
    "     [3,  6,  9,  16,  22],\n",
    "     [10, 13, 14, 17,  24],\n",
    "     [18, 21, 23, 26,  30]]\n",
    "\n",
    "target = 13"
   ]
  },
  {
   "cell_type": "markdown",
   "id": "075ce813",
   "metadata": {
    "slideshow": {
     "slide_type": "subslide"
    }
   },
   "source": [
    "### Divide\n",
    "\n",
    "How do we divide the problem?"
   ]
  },
  {
   "cell_type": "markdown",
   "id": "98c94614",
   "metadata": {
    "slideshow": {
     "slide_type": "subslide"
    }
   },
   "source": [
    "### Divide\n",
    "\n",
    "How do we divide the problem?\n",
    "\n",
    "- Divide the matrix into 2 matrices\n",
    "- Use a pivot in one or both axis"
   ]
  },
  {
   "cell_type": "markdown",
   "id": "98822662",
   "metadata": {
    "slideshow": {
     "slide_type": "subslide"
    }
   },
   "source": [
    "### Conquer\n",
    "\n",
    "What do we do?"
   ]
  },
  {
   "cell_type": "markdown",
   "id": "a154abc4",
   "metadata": {
    "slideshow": {
     "slide_type": "subslide"
    }
   },
   "source": [
    "### Conquer\n",
    "\n",
    "What do we do?\n",
    "\n",
    "- Recursevely search in each submatrix for the integer"
   ]
  },
  {
   "cell_type": "markdown",
   "id": "f02be692",
   "metadata": {
    "slideshow": {
     "slide_type": "subslide"
    }
   },
   "source": [
    "### Combine\n",
    "\n",
    "Now what?"
   ]
  },
  {
   "cell_type": "markdown",
   "id": "450d4775",
   "metadata": {
    "slideshow": {
     "slide_type": "subslide"
    }
   },
   "source": [
    "### Combine\n",
    "\n",
    "Now what?\n",
    "\n",
    "- Stop immediately if we find the value"
   ]
  },
  {
   "cell_type": "code",
   "execution_count": 7,
   "id": "3e8fb885",
   "metadata": {
    "slideshow": {
     "slide_type": "subslide"
    }
   },
   "outputs": [],
   "source": [
    "M = [[1,  4,  7,  11,  15],\n",
    "     [2,  5,  8,  12,  19],\n",
    "     [3,  6,  9,  16,  22],\n",
    "     [10, 13, 14, 17,  24],\n",
    "     [18, 21, 23, 26,  30]]\n",
    "\n",
    "target = 13"
   ]
  },
  {
   "cell_type": "code",
   "execution_count": 7,
   "id": "398e0657",
   "metadata": {
    "slideshow": {
     "slide_type": "subslide"
    }
   },
   "outputs": [],
   "source": [
    "M = [[x,  x,  x,  11,  15],\n",
    "     [x,  x,  x,  12,  19],\n",
    "     [x,  x,  x,  16,  22],\n",
    "     [10, 13, x,  x,    x],\n",
    "     [18, 21, x,  x,    x]]\n",
    " \n",
    "target = 13"
   ]
  },
  {
   "cell_type": "code",
   "execution_count": 7,
   "id": "860e2cc6",
   "metadata": {
    "slideshow": {
     "slide_type": "subslide"
    }
   },
   "outputs": [],
   "source": [
    "M2 = [[10, 13],\n",
    "      [18, 21]]\n",
    "\n",
    "M3 = [[11, 15],\n",
    "      [12, 19],\n",
    "      [16, 22]\n",
    "\n",
    "target = 13\n"
   ]
  },
  {
   "cell_type": "code",
   "execution_count": 7,
   "id": "e1f9f1d7",
   "metadata": {
    "slideshow": {
     "slide_type": "subslide"
    }
   },
   "outputs": [],
   "source": [
    "M2 = [[x, 13],\n",
    "      [x,  x]]\n",
    "\n",
    "M3 = [[x, 15],\n",
    "      [x, 19],\n",
    "      [x,  x]\n",
    "\n",
    "target = 13\n"
   ]
  },
  {
   "cell_type": "code",
   "execution_count": 8,
   "id": "c33c2a44",
   "metadata": {
    "slideshow": {
     "slide_type": "subslide"
    }
   },
   "outputs": [],
   "source": [
    "M4 = [[13]]\n",
    "M5 = [[15],[19]]"
   ]
  },
  {
   "cell_type": "code",
   "execution_count": 16,
   "id": "d20931e7",
   "metadata": {
    "slideshow": {
     "slide_type": "subslide"
    }
   },
   "outputs": [],
   "source": [
    "def searchMatrix(M, target):\n",
    "    \n",
    "    if not M:\n",
    "        return False\n",
    "    \n",
    "    return search_sub(M, 0, 0, len(M[0]) - 1, len(M) - 1, target)\n",
    "\n",
    "    \n",
    "def search_sub(M, left, up, right, down, target):\n",
    "    # We are done\n",
    "    if left > right or up > down:\n",
    "        return False\n",
    "    \n",
    "    # target can't be in this matrix or any submatrix of this one\n",
    "    elif target < M[up][left] or target > M[down][right]:\n",
    "        return False\n",
    "    \n",
    "    pivot = left + (right - left) // 2\n",
    "    \n",
    "    row = up\n",
    "    while row <= down and M[row][pivot] <= target:\n",
    "        if M[row][pivot] == target:\n",
    "            return True\n",
    "        row += 1\n",
    "        \n",
    "    return search_sub(M, left, row, pivot - 1, down, target) or search_sub(M, pivot + 1, up, right, row - 1, target)\n",
    "    "
   ]
  },
  {
   "cell_type": "code",
   "execution_count": 17,
   "id": "8e607aa3",
   "metadata": {
    "slideshow": {
     "slide_type": "subslide"
    }
   },
   "outputs": [
    {
     "data": {
      "text/plain": [
       "True"
      ]
     },
     "execution_count": 17,
     "metadata": {},
     "output_type": "execute_result"
    }
   ],
   "source": [
    "searchMatrix(M, 13)"
   ]
  },
  {
   "cell_type": "code",
   "execution_count": 18,
   "id": "a5c0402f",
   "metadata": {
    "slideshow": {
     "slide_type": "subslide"
    }
   },
   "outputs": [
    {
     "data": {
      "text/plain": [
       "False"
      ]
     },
     "execution_count": 18,
     "metadata": {},
     "output_type": "execute_result"
    }
   ],
   "source": [
    "searchMatrix(M, 20)"
   ]
  },
  {
   "cell_type": "markdown",
   "id": "98796658",
   "metadata": {
    "slideshow": {
     "slide_type": "slide"
    }
   },
   "source": [
    "### Exercise - Implement quick sort "
   ]
  },
  {
   "cell_type": "markdown",
   "id": "0f0fed4d",
   "metadata": {
    "slideshow": {
     "slide_type": "slide"
    }
   },
   "source": [
    "### Exercise - Repeat with two pivots, one in each axis"
   ]
  }
 ],
 "metadata": {
  "celltoolbar": "Slideshow",
  "kernelspec": {
   "display_name": "Python 3",
   "language": "python",
   "name": "python3"
  },
  "language_info": {
   "codemirror_mode": {
    "name": "ipython",
    "version": 3
   },
   "file_extension": ".py",
   "mimetype": "text/x-python",
   "name": "python",
   "nbconvert_exporter": "python",
   "pygments_lexer": "ipython3",
   "version": "3.8.8"
  }
 },
 "nbformat": 4,
 "nbformat_minor": 5
}
