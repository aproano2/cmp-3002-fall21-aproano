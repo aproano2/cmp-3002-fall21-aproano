{
 "cells": [
  {
   "cell_type": "code",
   "execution_count": 1,
   "id": "5acb4fe5",
   "metadata": {
    "slideshow": {
     "slide_type": "skip"
    }
   },
   "outputs": [],
   "source": [
    "import time\n",
    "import pandas as pd\n",
    "import numpy as np\n",
    "import matplotlib.pyplot as plt\n",
    "%matplotlib inline  "
   ]
  },
  {
   "cell_type": "markdown",
   "id": "a41bb501",
   "metadata": {
    "slideshow": {
     "slide_type": "slide"
    }
   },
   "source": [
    "# CMP 3002 \n",
    "## Recursion"
   ]
  },
  {
   "cell_type": "markdown",
   "id": "d23f2a16",
   "metadata": {
    "slideshow": {
     "slide_type": "slide"
    }
   },
   "source": [
    "## Review"
   ]
  },
  {
   "cell_type": "markdown",
   "id": "ebe527bf",
   "metadata": {
    "slideshow": {
     "slide_type": "slide"
    }
   },
   "source": [
    "## Doubly Linked Lists\n",
    "\n",
    "- Similar to arrays, linked list is a linear data structure\n",
    "- Each element is a separate object\n",
    "- All objects are linked together by a reference field in each element\n",
    "\n",
    "\n",
    "<img src=\"doubly_linked_list.png\" alt=\"drawing\" style=\"width:400px;\"/>\n",
    "\n",
    "Each node has three parts:\n",
    "- value\n",
    "- reference field to link to the next node\n",
    "- reference field to link to the previous node"
   ]
  },
  {
   "cell_type": "code",
   "execution_count": 1,
   "id": "a806ba4b",
   "metadata": {
    "slideshow": {
     "slide_type": "subslide"
    }
   },
   "outputs": [],
   "source": [
    "class Node:\n",
    "    \"\"\"\n",
    "    Implementation of a node\n",
    "    \"\"\"\n",
    "    def __init__(self, val=None):\n",
    "        self.val = val\n",
    "        self.next_node = None\n",
    "        self.prev_node = None\n",
    "        \n",
    "class Doubly_linked_list:\n",
    "    \"\"\"\n",
    "    Implementation of a singly linked list\n",
    "    \"\"\"\n",
    "    def __init__(self, head_node=None):\n",
    "        self.head_node = head_node\n",
    "        \n",
    "    def list_traversed(self):\n",
    "        node = self.head_node\n",
    "        while node:\n",
    "            print(node.val)\n",
    "            node = node.next_node\n",
    "            \n",
    "    "
   ]
  },
  {
   "cell_type": "code",
   "execution_count": 1,
   "id": "ad641a0b",
   "metadata": {
    "slideshow": {
     "slide_type": "subslide"
    }
   },
   "outputs": [],
   "source": [
    "# Insert\n",
    "\n",
    "def insert_at_start(self, data):\n",
    "    \"\"\"\n",
    "    Insert a node at the start of the list\n",
    "    \"\"\"    \n",
    "    if self.head_node is None:\n",
    "        new_node = Node(data)\n",
    "        self.head_node = new_node\n",
    "        return\n",
    "    new_node = Node(data)\n",
    "    new_node.next_node = self.head_node\n",
    "    self.head_node.prev_node = new_node\n",
    "    self.head_node = new_node\n",
    "    \n",
    "def insert_at_end(self, data):\n",
    "    \"\"\"\n",
    "    Insert a node at the end of the list\n",
    "    \"\"\"    \n",
    "    if self.head_node is None:\n",
    "        new_node = Node(data)\n",
    "        self.head_node = new_node\n",
    "        return\n",
    "    node = self.head_node\n",
    "    while node.next_node:\n",
    "        node = node.next_node\n",
    "    new_node = Node(data)\n",
    "    new_node.prev_node = node\n",
    "    node.next_node = new_node\n",
    "    \n",
    "def insert_after_node(self, node, data):\n",
    "    \"\"\"\n",
    "    Insert a node after a given node\n",
    "    \"\"\"        \n",
    "    if self.head_node is None:\n",
    "        new_node = Node(data)\n",
    "        self.head_node = new_node\n",
    "        return\n",
    "    n = self.head_node\n",
    "    while n.next_node:\n",
    "        if n == node:\n",
    "            break\n",
    "        n = node.next_node\n",
    "    if not n:\n",
    "        raise ValueError(\"node not found\")\n",
    "        \n",
    "    new_node = Node(data)\n",
    "    new_node.next_node = node.next_node\n",
    "    node.next_node.prev_node = new_node\n",
    "    node.next_node = new_node\n",
    "    new_node.prev_node = node"
   ]
  },
  {
   "cell_type": "code",
   "execution_count": 1,
   "id": "e58e9d3b",
   "metadata": {
    "slideshow": {
     "slide_type": "subslide"
    }
   },
   "outputs": [],
   "source": [
    "# Delete\n",
    "\n",
    "def delete_head(self):\n",
    "    \"\"\"\n",
    "    delete head of the list\n",
    "    \"\"\"    \n",
    "    if self.head_node is None:\n",
    "        return    \n",
    "    new_head = self.head_node.next_node\n",
    "    self.head_node.next_node = None\n",
    "    self.head_node = new_head\n",
    "    self.head_node.prev_node = None\n",
    "    \n",
    "def delete_at_end(self, data):\n",
    "    \"\"\"\n",
    "    Delete a node at the end of the list\n",
    "    \"\"\"    \n",
    "    node = self.head_node\n",
    "    while node.next_node:\n",
    "        node = node.next_node\n",
    "    node.prev_node.next_node = None\n",
    "    node.prev_node = None\n",
    "    "
   ]
  },
  {
   "cell_type": "code",
   "execution_count": 2,
   "id": "7e76122c",
   "metadata": {
    "slideshow": {
     "slide_type": "subslide"
    }
   },
   "outputs": [],
   "source": [
    "def delete_after_node(self, node):\n",
    "    \"\"\"\n",
    "    Delete the node after a given node\n",
    "    \"\"\"            \n",
    "    n = self.head_node\n",
    "    while n:\n",
    "        if n == node:\n",
    "            break\n",
    "        n = node.next_node\n",
    "    if not n:\n",
    "        raise ValueError(\"node not found\")\n",
    "    node = n.next_node\n",
    "    node.next_node.prev_node = n\n",
    "    n.next_node = node.next_node\n",
    "    node.prev_node, node.next_node = None, None\n",
    "\n",
    "#   A -> B -> C -> D -> E\n",
    "#     <-   <-   <-   <- "
   ]
  },
  {
   "cell_type": "code",
   "execution_count": 3,
   "id": "c15bf20b",
   "metadata": {
    "slideshow": {
     "slide_type": "subslide"
    }
   },
   "outputs": [],
   "source": [
    "def delete_before_node(self, node):\n",
    "    \"\"\"\n",
    "    Delete the node before a given node\n",
    "    \"\"\"            \n",
    "    n = self.head_node\n",
    "    while n:\n",
    "        if n == node:\n",
    "            break\n",
    "        n = node.next_node\n",
    "    if not n:\n",
    "        raise ValueError(\"node not found\")\n",
    "    node = n.prev_node\n",
    "    node.prev_node.next_node = n\n",
    "    n.prev_node = node.prev_node\n",
    "    node.prev_node, node.next_node = None, None\n",
    "    \n",
    "#   A -> B -> C -> D -> E\n",
    "#     <-   <-   <-   <- "
   ]
  },
  {
   "cell_type": "code",
   "execution_count": 34,
   "id": "a1824871",
   "metadata": {},
   "outputs": [],
   "source": [
    "A = [1, 2, 3, 4 ,5, 6]"
   ]
  },
  {
   "cell_type": "code",
   "execution_count": 35,
   "id": "be68a118",
   "metadata": {},
   "outputs": [
    {
     "data": {
      "text/plain": [
       "1"
      ]
     },
     "execution_count": 35,
     "metadata": {},
     "output_type": "execute_result"
    }
   ],
   "source": [
    "A[0]"
   ]
  },
  {
   "cell_type": "code",
   "execution_count": 36,
   "id": "105a0c02",
   "metadata": {},
   "outputs": [
    {
     "data": {
      "text/plain": [
       "6"
      ]
     },
     "execution_count": 36,
     "metadata": {},
     "output_type": "execute_result"
    }
   ],
   "source": [
    "A[-1]"
   ]
  },
  {
   "cell_type": "code",
   "execution_count": 37,
   "id": "f3aea214",
   "metadata": {},
   "outputs": [
    {
     "data": {
      "text/plain": [
       "5"
      ]
     },
     "execution_count": 37,
     "metadata": {},
     "output_type": "execute_result"
    }
   ],
   "source": [
    "A[-2]"
   ]
  },
  {
   "cell_type": "code",
   "execution_count": 38,
   "id": "cecc8981",
   "metadata": {},
   "outputs": [
    {
     "data": {
      "text/plain": [
       "[1, 2]"
      ]
     },
     "execution_count": 38,
     "metadata": {},
     "output_type": "execute_result"
    }
   ],
   "source": [
    "A[0:2]"
   ]
  },
  {
   "cell_type": "code",
   "execution_count": 39,
   "id": "c8030d6d",
   "metadata": {},
   "outputs": [
    {
     "data": {
      "text/plain": [
       "[1, 2]"
      ]
     },
     "execution_count": 39,
     "metadata": {},
     "output_type": "execute_result"
    }
   ],
   "source": [
    "A[:2]"
   ]
  },
  {
   "cell_type": "code",
   "execution_count": 40,
   "id": "04b8f58b",
   "metadata": {},
   "outputs": [
    {
     "data": {
      "text/plain": [
       "[3, 4, 5, 6]"
      ]
     },
     "execution_count": 40,
     "metadata": {},
     "output_type": "execute_result"
    }
   ],
   "source": [
    "A[2:6]"
   ]
  },
  {
   "cell_type": "code",
   "execution_count": 41,
   "id": "5169f526",
   "metadata": {},
   "outputs": [
    {
     "data": {
      "text/plain": [
       "[3, 4, 5, 6]"
      ]
     },
     "execution_count": 41,
     "metadata": {},
     "output_type": "execute_result"
    }
   ],
   "source": [
    "A[2:]"
   ]
  },
  {
   "cell_type": "code",
   "execution_count": null,
   "id": "2f777538",
   "metadata": {},
   "outputs": [],
   "source": [
    "A -> B -> C -> D -> E -> F -> G -> H"
   ]
  },
  {
   "cell_type": "code",
   "execution_count": null,
   "id": "6cc65a2e",
   "metadata": {},
   "outputs": [],
   "source": [
    "first = A\n",
    "second = B\n",
    "\n",
    "A.next = recursion(B.next - C)\n",
    "B.next = A\n",
    "    \n"
   ]
  },
  {
   "cell_type": "code",
   "execution_count": null,
   "id": "d1def5c8",
   "metadata": {},
   "outputs": [],
   "source": [
    "B -> A -> D -> C -> F -> E -> H -> G"
   ]
  },
  {
   "cell_type": "code",
   "execution_count": null,
   "id": "a99fb3a1",
   "metadata": {},
   "outputs": [],
   "source": [
    "def fib(n):\n",
    "    \n",
    "    if n <= 2:\n",
    "        return n\n",
    "    else:\n",
    "        return fib(n-1) + fib(n-2)\n",
    "    "
   ]
  },
  {
   "cell_type": "code",
   "execution_count": null,
   "id": "a8d45ddf",
   "metadata": {},
   "outputs": [],
   "source": [
    "4! = 4 x 3 x 2 x 1\n",
    "3! = 3 x 2 x 1\n",
    "4! = 4 x 3!"
   ]
  },
  {
   "cell_type": "code",
   "execution_count": null,
   "id": "209620a7",
   "metadata": {},
   "outputs": [],
   "source": [
    "F(n) = n x F(n-1) \n",
    "n >= 0 \n",
    "F(0) = 1"
   ]
  },
  {
   "cell_type": "code",
   "execution_count": 42,
   "id": "163f9a41",
   "metadata": {},
   "outputs": [],
   "source": [
    "def factorial(n):\n",
    "    \n",
    "    if n == 0:\n",
    "        return 1\n",
    "    else:\n",
    "        return n * factorial(n-1)\n",
    "    \n",
    "    "
   ]
  },
  {
   "cell_type": "code",
   "execution_count": 43,
   "id": "ddf980f3",
   "metadata": {},
   "outputs": [
    {
     "data": {
      "text/plain": [
       "1"
      ]
     },
     "execution_count": 43,
     "metadata": {},
     "output_type": "execute_result"
    }
   ],
   "source": [
    "factorial(0)"
   ]
  },
  {
   "cell_type": "code",
   "execution_count": 44,
   "id": "9cda54a0",
   "metadata": {},
   "outputs": [
    {
     "data": {
      "text/plain": [
       "6"
      ]
     },
     "execution_count": 44,
     "metadata": {},
     "output_type": "execute_result"
    }
   ],
   "source": [
    "factorial(3)"
   ]
  },
  {
   "cell_type": "code",
   "execution_count": 45,
   "id": "0bddcc1c",
   "metadata": {},
   "outputs": [
    {
     "data": {
      "text/plain": [
       "24"
      ]
     },
     "execution_count": 45,
     "metadata": {},
     "output_type": "execute_result"
    }
   ],
   "source": [
    "factorial(4)"
   ]
  },
  {
   "cell_type": "code",
   "execution_count": 53,
   "id": "b0797318",
   "metadata": {},
   "outputs": [],
   "source": [
    "f = {0: 1, 1:1, 2:1}"
   ]
  },
  {
   "cell_type": "code",
   "execution_count": 54,
   "id": "ac0f8c3e",
   "metadata": {},
   "outputs": [
    {
     "data": {
      "text/plain": [
       "1"
      ]
     },
     "execution_count": 54,
     "metadata": {},
     "output_type": "execute_result"
    }
   ],
   "source": [
    "f[2]"
   ]
  },
  {
   "cell_type": "code",
   "execution_count": 48,
   "id": "2c5b306a",
   "metadata": {},
   "outputs": [
    {
     "data": {
      "text/plain": [
       "dict_values([2, 4])"
      ]
     },
     "execution_count": 48,
     "metadata": {},
     "output_type": "execute_result"
    }
   ],
   "source": [
    "f.values()"
   ]
  },
  {
   "cell_type": "code",
   "execution_count": 47,
   "id": "015d98a3",
   "metadata": {},
   "outputs": [],
   "source": [
    "fl = [2,4]"
   ]
  },
  {
   "cell_type": "code",
   "execution_count": 51,
   "id": "23b76d19",
   "metadata": {},
   "outputs": [
    {
     "name": "stdout",
     "output_type": "stream",
     "text": [
      "1\n"
     ]
    }
   ],
   "source": [
    "for i in range(len(fl)):\n",
    "    if fl[i] == 4:\n",
    "        print(i)"
   ]
  },
  {
   "cell_type": "code",
   "execution_count": null,
   "id": "97d842ab",
   "metadata": {},
   "outputs": [],
   "source": []
  },
  {
   "cell_type": "code",
   "execution_count": null,
   "id": "f912d429",
   "metadata": {},
   "outputs": [],
   "source": [
    "# Big O\n",
    "g(n) <= c x f(n)"
   ]
  },
  {
   "cell_type": "markdown",
   "id": "20ed7288",
   "metadata": {
    "slideshow": {
     "slide_type": "slide"
    }
   },
   "source": [
    "## Recursion "
   ]
  },
  {
   "cell_type": "markdown",
   "id": "a0185a83",
   "metadata": {
    "slideshow": {
     "slide_type": "subslide"
    }
   },
   "source": [
    "## Recursion\n",
    "\n",
    "- It is a technique to solve problems by using a function that calls itself as a subroutine\n",
    "- Each time time a recursive function calls itself, it reduces the given problem into subproblems\n",
    "- The recursion continues until it reaches a point where the subproblem can be solved without further recursion"
   ]
  },
  {
   "cell_type": "markdown",
   "id": "034b624e",
   "metadata": {
    "slideshow": {
     "slide_type": "subslide"
    }
   },
   "source": [
    "### Parts of a recursive function\n",
    "\n",
    "- **Base case:** the terminating condition that does not call the function itself\n",
    "- **Recurrence relation:** Set of rules that reduce all other cases towards the base case\n",
    "\n",
    "Note: The function can be called itself in multiple cases.\n",
    "\n"
   ]
  },
  {
   "cell_type": "markdown",
   "id": "591f9765",
   "metadata": {
    "slideshow": {
     "slide_type": "subslide"
    }
   },
   "source": [
    "### Example\n",
    "\n",
    "Print a string in reverse car\n"
   ]
  },
  {
   "cell_type": "code",
   "execution_count": 8,
   "id": "a6409beb",
   "metadata": {
    "slideshow": {
     "slide_type": "subslide"
    }
   },
   "outputs": [],
   "source": [
    "def reverse_str(string):\n",
    "    if len(string) == 0:\n",
    "        return     \n",
    "    temp = string[0]\n",
    "    reverse_str(string[1:])\n",
    "    print(temp, end='')\n",
    "    \n",
    "# string_0 = \"ABC\"\n",
    "# temp_0 = \"A\"\n",
    "# string_1 = \"BC\"\n",
    "# temp_1 = \"B\"\n",
    "# string_2 = \"C\"\n",
    "# temp_2 = \"C\"\n",
    "# string_3 = \"\"\n"
   ]
  },
  {
   "cell_type": "code",
   "execution_count": 9,
   "id": "2a7b5add",
   "metadata": {
    "slideshow": {
     "slide_type": "subslide"
    }
   },
   "outputs": [
    {
     "name": "stdout",
     "output_type": "stream",
     "text": [
      "CBA"
     ]
    }
   ],
   "source": [
    "reverse_str(\"ABC\")"
   ]
  },
  {
   "cell_type": "code",
   "execution_count": 11,
   "id": "6f2bc3e6",
   "metadata": {
    "slideshow": {
     "slide_type": "subslide"
    }
   },
   "outputs": [
    {
     "name": "stdout",
     "output_type": "stream",
     "text": [
      "otiuQ ed ocsicnarF naS dadisrevinU"
     ]
    }
   ],
   "source": [
    "reverse_str(\"Universidad San Francisco de Quito\")"
   ]
  },
  {
   "cell_type": "markdown",
   "id": "7164b426",
   "metadata": {
    "slideshow": {
     "slide_type": "subslide"
    }
   },
   "source": [
    "### Complexity of `reverse_str()`\n",
    "\n",
    "\n",
    "```\n",
    "def reverse_str(string):\n",
    "    if len(string) == 0:\n",
    "        return     \n",
    "    temp = string[0]\n",
    "    reverse_str(string[1:])\n",
    "    print(temp, end='')\n",
    "```"
   ]
  },
  {
   "cell_type": "markdown",
   "id": "b40f62d8",
   "metadata": {
    "slideshow": {
     "slide_type": "subslide"
    }
   },
   "source": [
    "### Complexity of `reverse_str()`\n",
    "\n",
    "- Each character in the string is stored in `temp` only once.\n",
    "\n",
    "- This happens for each time `reverse_str` is called\n",
    "\n",
    "- We call `reverse_str` $n+1$ times, therefore $O(n)$"
   ]
  },
  {
   "cell_type": "markdown",
   "id": "06018eeb",
   "metadata": {
    "slideshow": {
     "slide_type": "slide"
    }
   },
   "source": [
    "## Recursion Function\n",
    "\n",
    "For problems with recursive solutions, it helps to think of the problem as a function $F(X)$, where $X$ is the input that defines the scope of the problem. \n",
    "\n",
    "For the funtion $F(X)$ we need to:\n",
    "\n",
    "- Break the problem down in smalles scopes, subsets of the original scope  ($x_0 \\subset X, x_1 \\subset X, \\dots x_n \\subset X$)\n",
    "\n",
    "-  Call functions $F(x_0), F(x_1), \\ldots, F(x_n)$ recursively to solve the subproblems of $X$\n",
    "\n",
    "- Process the results from the recursive function to solve the problem corresponding to the scope $X$\n"
   ]
  },
  {
   "cell_type": "markdown",
   "id": "407b582c",
   "metadata": {
    "slideshow": {
     "slide_type": "subslide"
    }
   },
   "source": [
    "### Example:\n",
    "\n",
    "Swap every two adjacent nodes of a linked list:\n",
    "    \n",
    "Input:    A -> B -> C -> D\n",
    "\n",
    "Output:    B -> A -> D -> C\n"
   ]
  },
  {
   "cell_type": "markdown",
   "id": "4ec538f5",
   "metadata": {
    "slideshow": {
     "slide_type": "subslide"
    }
   },
   "source": [
    "### Example - sub-scope\n",
    "\n",
    "$X$: A -> B -> C -> D -> E -> F -> G -> H -> I -> J\n",
    "\n",
    "$x_1$: A, B\n",
    "\n",
    "$x_2$: C, D\n",
    "\n",
    "$x_3$: E, F\n",
    "\n",
    "$x_4$: G, H\n",
    "\n",
    "$x_5$: I, J"
   ]
  },
  {
   "cell_type": "code",
   "execution_count": 17,
   "id": "edf33273",
   "metadata": {
    "slideshow": {
     "slide_type": "subslide"
    }
   },
   "outputs": [],
   "source": [
    "## Recurrence Relation\n",
    "\n",
    "class Node:\n",
    "    \"\"\"\n",
    "    Implementation of a node\n",
    "    \"\"\"\n",
    "    def __init__(self, val=None):\n",
    "        self.val = val\n",
    "        self.next_node = None\n",
    "    \n",
    "    def set_next_node(self, next_node):\n",
    "        self.next_node = next_node\n",
    "        \n",
    "class Singly_linked_list:\n",
    "    \"\"\"\n",
    "    Implementation of a singly linked list\n",
    "    \"\"\"\n",
    "    def __init__(self, head_node=None):\n",
    "        self.head_node = head_node\n",
    "        \n",
    "    def insert_end(self, val):\n",
    "        node = self.head_node        \n",
    "        while node.next_node:\n",
    "            node = node.next_node           \n",
    "        new_node = Node(val)\n",
    "        node.next_node = new_node\n",
    "        \n",
    "    def list_traversed(self):\n",
    "        node = self.head_node\n",
    "        while node:\n",
    "            print(node.val)\n",
    "            node = node.next_node\n",
    "        \n",
    "\n"
   ]
  },
  {
   "cell_type": "code",
   "execution_count": 18,
   "id": "0a547e99",
   "metadata": {},
   "outputs": [],
   "source": [
    "a = Node('A')\n",
    "L = Singly_linked_list(a)"
   ]
  },
  {
   "cell_type": "code",
   "execution_count": 19,
   "id": "71703963",
   "metadata": {},
   "outputs": [],
   "source": [
    "L.insert_end('B')\n",
    "L.insert_end('C')\n",
    "L.insert_end('D')\n",
    "L.insert_end('E')\n",
    "L.insert_end('F')\n",
    "L.insert_end('G')\n",
    "L.insert_end('H')\n",
    "L.insert_end('I')\n",
    "L.insert_end('J')"
   ]
  },
  {
   "cell_type": "code",
   "execution_count": 20,
   "id": "89783dbc",
   "metadata": {
    "slideshow": {
     "slide_type": "subslide"
    }
   },
   "outputs": [
    {
     "name": "stdout",
     "output_type": "stream",
     "text": [
      "A\n",
      "B\n",
      "C\n",
      "D\n",
      "E\n",
      "F\n",
      "G\n",
      "H\n",
      "I\n",
      "J\n"
     ]
    }
   ],
   "source": [
    "L.list_traversed()"
   ]
  },
  {
   "cell_type": "code",
   "execution_count": 22,
   "id": "a0ca1011",
   "metadata": {
    "slideshow": {
     "slide_type": "subslide"
    }
   },
   "outputs": [],
   "source": [
    "def swap(head_node):\n",
    "    \n",
    "    # Base\n",
    "    "
   ]
  },
  {
   "cell_type": "code",
   "execution_count": 23,
   "id": "85dd7a19",
   "metadata": {
    "slideshow": {
     "slide_type": "subslide"
    }
   },
   "outputs": [],
   "source": [
    "def swap(head_node):\n",
    "    \n",
    "    # Base\n",
    "    # In head is none or we don't have a node to swap with\n",
    "    if not head_node or not head_node.next_node:\n",
    "        return head_node\n",
    "    \n"
   ]
  },
  {
   "cell_type": "code",
   "execution_count": 24,
   "id": "091a9be6",
   "metadata": {
    "slideshow": {
     "slide_type": "subslide"
    }
   },
   "outputs": [],
   "source": [
    "def swap(head_node):\n",
    "    \n",
    "    # Base\n",
    "    # In head is none or we don't have a node to swap with\n",
    "    if not head_node or not head_node.next_node:\n",
    "        return head_node\n",
    "    \n",
    "    # Reduce scope\n",
    "    # Nodes to be swapped\n",
    "    first = head_node\n",
    "    second = head_node.next_node\n",
    "    \n",
    "    # Call the function with the reduce scope and recursion\n",
    "\n",
    "    "
   ]
  },
  {
   "cell_type": "code",
   "execution_count": 25,
   "id": "c46ffd79",
   "metadata": {
    "slideshow": {
     "slide_type": "subslide"
    }
   },
   "outputs": [],
   "source": [
    "def swap(head_node):\n",
    "    \n",
    "    # Base\n",
    "    # In head is none or we don't have a node to swap with\n",
    "    if not head_node or not head_node.next_node:\n",
    "        return head_node\n",
    "    \n",
    "    # Nodes to be swapped\n",
    "    first = head_node\n",
    "    second = head_node.next_node\n",
    "    \n",
    "    # Call the function with the reduce scope and recursion\n",
    "    first.next_node  = self.swap(second.next_node)\n",
    "    second.next_node = first\n",
    "\n",
    "    # What do we return? (New head)\n"
   ]
  },
  {
   "cell_type": "code",
   "execution_count": 26,
   "id": "b2e0a7a6",
   "metadata": {
    "slideshow": {
     "slide_type": "subslide"
    }
   },
   "outputs": [],
   "source": [
    "def swap(head_node):\n",
    "    \n",
    "    # Base\n",
    "    # In head is none or we don't have a node to swap with\n",
    "    if not head_node or not head_node.next_node:\n",
    "        return head_node\n",
    "    \n",
    "    # Nodes to be swapped\n",
    "    first = head_node\n",
    "    second = head_node.next_node\n",
    "    \n",
    "    # Call the function with the reduce scope and recursion\n",
    "    first.next_node  = self.swap(second.next_node)\n",
    "    second.next_node = first\n",
    "\n",
    "    # What do we return? (New head)\n",
    "    # Now the head is the second node\n",
    "    return second"
   ]
  },
  {
   "cell_type": "markdown",
   "id": "89693a4e",
   "metadata": {
    "slideshow": {
     "slide_type": "slide"
    }
   },
   "source": [
    "## Parts of $F(X)$\n",
    "\n",
    "Before we implement a recursion function we should identify its components:\n",
    "\n",
    "- **Recurrence relation :** Relationship between the result of a problem and the result of its subproblems\n",
    "\n",
    "- **Base case:** Case when the result is calculated directly without any further recurrence calls. \n",
    "\n",
    "Once we identify the two components, we simply call the function according to the **recurrence relation** until we reach the **base case**"
   ]
  },
  {
   "cell_type": "markdown",
   "id": "9372a546",
   "metadata": {
    "slideshow": {
     "slide_type": "subslide"
    }
   },
   "source": [
    "### Example - Fibonacci:\n",
    "\n",
    "A Fibonacci sequence is one of the form:\n",
    "\n",
    "```\n",
    "0, 1, 1, 2, 3, 5, 8, 13, 21, 34, 55, 89, 144, ...\n",
    "```\n",
    "\n",
    "#### Recurrence relation:\n",
    "\n",
    "$F_{n}=F_{n-1}+F_{n-2}$\n",
    "\n",
    "#### Base cases:\n",
    "\n",
    "$F_0 = 0, F_1 = 1$"
   ]
  },
  {
   "cell_type": "markdown",
   "id": "bcdd3015",
   "metadata": {
    "slideshow": {
     "slide_type": "subslide"
    }
   },
   "source": [
    "### Exercise:\n",
    "\n",
    "1. Implement Fibonacci using recursion\n",
    "\n",
    "2. Implement the factorial function using recursion"
   ]
  },
  {
   "cell_type": "code",
   "execution_count": 27,
   "id": "635c17f9",
   "metadata": {
    "slideshow": {
     "slide_type": "subslide"
    }
   },
   "outputs": [],
   "source": [
    "# For n >= 0\n",
    "def Fibonacci(n):\n",
    "    if n == 0:\n",
    "        return 0\n",
    "    elif n == 1:\n",
    "        return 1\n",
    "    else:\n",
    "        return Fibonacci(n-1) + Fibonacci(n-2)"
   ]
  },
  {
   "cell_type": "code",
   "execution_count": 29,
   "id": "0cef8197",
   "metadata": {
    "slideshow": {
     "slide_type": "subslide"
    }
   },
   "outputs": [
    {
     "data": {
      "text/plain": [
       "0"
      ]
     },
     "execution_count": 29,
     "metadata": {},
     "output_type": "execute_result"
    }
   ],
   "source": [
    "Fibonacci(0)"
   ]
  },
  {
   "cell_type": "code",
   "execution_count": 33,
   "id": "c26965ec",
   "metadata": {
    "slideshow": {
     "slide_type": "subslide"
    }
   },
   "outputs": [
    {
     "data": {
      "text/plain": [
       "3"
      ]
     },
     "execution_count": 33,
     "metadata": {},
     "output_type": "execute_result"
    }
   ],
   "source": [
    "Fibonacci(4)"
   ]
  },
  {
   "cell_type": "code",
   "execution_count": 31,
   "id": "5c22b983",
   "metadata": {
    "slideshow": {
     "slide_type": "subslide"
    }
   },
   "outputs": [
    {
     "data": {
      "text/plain": [
       "55"
      ]
     },
     "execution_count": 31,
     "metadata": {},
     "output_type": "execute_result"
    }
   ],
   "source": [
    "Fibonacci(10)"
   ]
  },
  {
   "cell_type": "markdown",
   "id": "0cbd40d7",
   "metadata": {
    "slideshow": {
     "slide_type": "subslide"
    }
   },
   "source": [
    "## Duplicate calculations\n",
    "\n",
    "Recursion if applied naively could lead to a performance penalty. For the Fibonacci example:\n",
    "\n",
    "$F(4) = F(3) + F(2)$\n",
    "\n",
    "$F(4) = (F(2) + F(1)) + F(2)$\n",
    "\n",
    "$F(4) = 2 \\times F(2) + F(1)$\n",
    "\n",
    "Therefore, we run $F(2)$ twice."
   ]
  },
  {
   "cell_type": "markdown",
   "id": "a779488c",
   "metadata": {
    "slideshow": {
     "slide_type": "slide"
    }
   },
   "source": [
    "## Memoization\n",
    "\n",
    "To avoid the issues with duplicate calculations, we can optimize our problem by caching the intermediate results. This idea is know as **memoization**"
   ]
  },
  {
   "cell_type": "code",
   "execution_count": 32,
   "id": "0d8f70fc",
   "metadata": {
    "slideshow": {
     "slide_type": "subslide"
    }
   },
   "outputs": [],
   "source": [
    "# Memoization - example \n",
    "\n",
    "def Fibonacci(n):\n",
    "    \n",
    "    cache = {}\n",
    "    \n",
    "    def recursive_fibonacci(n):\n",
    "        if n in cache.keys():\n",
    "            return cache[n]\n",
    "        \n",
    "        if n == 0:\n",
    "            res = 0\n",
    "        elif n == 1:\n",
    "            res = 1\n",
    "        else:\n",
    "            res = recursive_fibonacci(n-1) + recursive_fibonacci(n-2)\n",
    "        \n",
    "        cache[n] = res\n",
    "        return res\n",
    "    \n",
    "    return recursive_fibonacci(n)\n",
    "    "
   ]
  },
  {
   "cell_type": "markdown",
   "id": "2cf68b90",
   "metadata": {
    "slideshow": {
     "slide_type": "slide"
    }
   },
   "source": [
    "## Time complexity\n",
    "\n",
    "The time complexity of a recursion algorithm is usually the product of the number of recursion invocations $R$ and the complexity of each recursion call $O(s)$:\n",
    "\n",
    "$O(T) = R \\times O(s)$\n"
   ]
  },
  {
   "cell_type": "markdown",
   "id": "c53f0d3e",
   "metadata": {
    "slideshow": {
     "slide_type": "subslide"
    }
   },
   "source": [
    "### Example -  list swapping\n",
    "\n",
    "```\n",
    "def swap(head_node):\n",
    "    \n",
    "    # Base\n",
    "    # In head is none or we don't have a node to swap with\n",
    "    if not head_node or not head_node.next_node:\n",
    "        return head_node\n",
    "    \n",
    "    # Nodes to be swapped\n",
    "    first = head_node\n",
    "    second = head_node.next_node\n",
    "    \n",
    "    # Call the function with the reduce scope and recursion\n",
    "    first.next_node  = self.swap(second.next_node)\n",
    "    second.next_node = first\n",
    "\n",
    "    # What do we return? (New head)\n",
    "    # Now the head is the second node\n",
    "    return second\n",
    "```\n",
    "\n",
    "- $R = \\frac{n}{2}$\n",
    "- $O(s) = O(1)$\n",
    "\n",
    "Therefore:\n",
    "\n",
    "$O(T) = O(n)$\n"
   ]
  },
  {
   "cell_type": "markdown",
   "id": "f2ade81c",
   "metadata": {
    "slideshow": {
     "slide_type": "subslide"
    }
   },
   "source": [
    "### Example - recursion\n",
    "\n",
    "Let's use an execution tree to see figure out the complexity of Fibonacci. Consider $F(4)$\n",
    "\n",
    "![](./execution_tree.png)\n",
    "\n",
    "The recursion tree defines a binary, which has $2^n -1$ nodes. \n",
    "\n",
    "Therefore the complexity of Fibonacci is $O(2^n)$"
   ]
  },
  {
   "cell_type": "code",
   "execution_count": null,
   "id": "04008dcd",
   "metadata": {},
   "outputs": [],
   "source": []
  },
  {
   "cell_type": "markdown",
   "id": "1dd51e61",
   "metadata": {
    "slideshow": {
     "slide_type": "subslide"
    }
   },
   "source": [
    "### Exercise\n",
    "\n",
    "What's the complexity of Fibonacci if we use memoization"
   ]
  },
  {
   "cell_type": "code",
   "execution_count": null,
   "id": "065c74ae",
   "metadata": {},
   "outputs": [],
   "source": []
  }
 ],
 "metadata": {
  "celltoolbar": "Slideshow",
  "kernelspec": {
   "display_name": "Python 3",
   "language": "python",
   "name": "python3"
  },
  "language_info": {
   "codemirror_mode": {
    "name": "ipython",
    "version": 3
   },
   "file_extension": ".py",
   "mimetype": "text/x-python",
   "name": "python",
   "nbconvert_exporter": "python",
   "pygments_lexer": "ipython3",
   "version": "3.8.8"
  }
 },
 "nbformat": 4,
 "nbformat_minor": 5
}
